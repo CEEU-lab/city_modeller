{
 "cells": [
  {
   "cell_type": "code",
   "execution_count": null,
   "id": "274ad7a8-cb4a-4d1c-895b-0c4d80b11839",
   "metadata": {
    "tags": []
   },
   "outputs": [],
   "source": []
  },
  {
   "cell_type": "code",
   "execution_count": null,
   "id": "58865057-f400-4e1f-b296-511caecffdc8",
   "metadata": {},
   "outputs": [],
   "source": []
  },
  {
   "cell_type": "code",
   "execution_count": 80,
   "id": "c4841884-2129-44c8-8841-82ba8596de17",
   "metadata": {
    "tags": []
   },
   "outputs": [],
   "source": [
    "def get_census_data() -> gpd.GeoDataFrame:\n",
    "    # \"\"\"Obtiene data de radios censales.\"\"\"\n",
    "    # # # descargar shp de https://precensodeviviendas.indec.gob.ar/descargas#\n",
    "    # data_dir = os.path.join(PROJECT_DIR, \"data\")\n",
    "    radios = gpd.read_file(\"data/radios.zip\")\n",
    "    # leemos la informacion censal de poblacion por radio\n",
    "    radios = (\n",
    "        radios.reindex(columns=[\"ind01\", \"nomdepto\", \"geometry\"])\n",
    "        .reset_index()\n",
    "        .iloc[:, 1:]\n",
    "    )\n",
    "    radios.columns = [\"TOTAL_VIV\", \"COMUNA\", \"geometry\"]\n",
    "    radios[\"TOTAL_VIV\"] = radios.apply(lambda x: int(x[\"TOTAL_VIV\"]), axis=1)\n",
    "    return radios"
   ]
  },
  {
   "cell_type": "code",
   "execution_count": 81,
   "id": "2338c7c1-5b6c-4395-b6ed-df3b5de38d0d",
   "metadata": {
    "tags": []
   },
   "outputs": [],
   "source": [
    "def filter_census_data(radios: pd.DataFrame, numero_comuna: int) -> pd.DataFrame:\n",
    "    \"\"\"Filtra el gdf por numero de comuna.\n",
    "\n",
    "    Parameters\n",
    "    ----------\n",
    "    radios : pd.DataFrame\n",
    "        DataFrame con informacion geometrica de radios censales.\n",
    "    numero_comuna : int\n",
    "        int indicando numero de comuna.\n",
    "\n",
    "    Returns\n",
    "    -------\n",
    "    pd.DataFrame\n",
    "        DataFrame con informacion geometrica de radios censales para la comuna dada.\n",
    "    \"\"\"\n",
    "    radios_filt = radios[radios[\"COMUNA\"] == \"Comuna \" + str(numero_comuna)].copy()\n",
    "    return radios_filt"
   ]
  },
  {
   "cell_type": "code",
   "execution_count": 82,
   "id": "3eeaec47-8ace-4ec8-b952-4a046f8bdfff",
   "metadata": {
    "tags": []
   },
   "outputs": [],
   "source": [
    "def get_public_space():\n",
    "#     path: str = f\"{PROJECT_DIR}/data/public_space.geojson\",\n",
    "# ) -> gpd.GeoDataFrame:\n",
    "    \"\"\"Obtiene un GeoDataFrame de Espacio Verde Público de un path dado, o lo descarga.\n",
    "\n",
    "    Parameters\n",
    "    ----------\n",
    "    path : str, optional\n",
    "        Ubicación deseada del archivo. Si no se encuentra, se lo creará.\n",
    "        por default \"./data/public_space.geojson\".\n",
    "\n",
    "    Returns\n",
    "    -------\n",
    "    gpd.GeoDataFrame\n",
    "        GeoDataFrame de espacio verde público.\n",
    "    \"\"\"\n",
    "    # init_package(PROJECT_DIR)\n",
    "    # if not os.path.exists(path):\n",
    "    #     url_home = \"https://cdn.buenosaires.gob.ar/\"\n",
    "    #     print(f\"{path} no contiene un geojson, descargando de {url_home}...\")\n",
    "    #     url = (\n",
    "    #         f\"{url_home}datosabiertos/datasets/\"\n",
    "    #         \"secretaria-de-desarrollo-urbano/espacios-verdes/\"\n",
    "    #         \"espacio_verde_publico.geojson\"\n",
    "    #     )\n",
    "    #     resp = requests.get(url)\n",
    "    #     with open(path, \"w\") as f:\n",
    "    #         f.write(resp.text)\n",
    "    gdf = gpd.read_file(\"data/public_space.geojson\")\n",
    "    # a partir del csv y data frame, convertimos en GeoDataFrame con un crs\n",
    "    gdf = gpd.GeoDataFrame(gdf, geometry=\"geometry\", crs=\"epsg:4326\")\n",
    "    gdf = gdf.reindex(columns=[\"nombre\", \"clasificac\", \"area\", \"geometry\"])\n",
    "    return gdf"
   ]
  },
  {
   "cell_type": "code",
   "execution_count": 84,
   "id": "d811cdc4-5ddc-4788-85a4-f9af1666b7f5",
   "metadata": {
    "tags": []
   },
   "outputs": [],
   "source": [
    "def get_bbox(comunas_idx: List[int]) -> gpd.GeoDataFrame:\n",
    "    \"\"\"Devuelve el bounding box para un conjunto de comunas.\n",
    "\n",
    "    Parameters\n",
    "    ----------\n",
    "    comunas_idx : List[int]\n",
    "        int indicando comuna idx\n",
    "\n",
    "    Returns\n",
    "    -------\n",
    "    gpd.GeoDataFrame\n",
    "        Lista de enteros indicando números de comuna\n",
    "    \"\"\"\n",
    "    gdf = gpd.read_file(\n",
    "        \"https://storage.googleapis.com/python_mdg/carto_cursos/comunas.zip\"\n",
    "    )\n",
    "    filtered_gdf = gdf[gdf[\"COMUNAS\"].isin(comunas_idx)].copy().to_crs(4326)\n",
    "\n",
    "    # limite exterior comunas\n",
    "    filtered_gdf[\"cons\"] = 0\n",
    "    box = filtered_gdf.dissolve(by=\"cons\")\n",
    "    return box.total_bounds"
   ]
  },
  {
   "cell_type": "code",
   "execution_count": 340,
   "id": "44e21da1-bf26-45c2-b6de-6a154d762d16",
   "metadata": {
    "tags": []
   },
   "outputs": [],
   "source": [
    "radios=filter_census_data(get_census_data(), 8)"
   ]
  },
  {
   "cell_type": "code",
   "execution_count": 166,
   "id": "ef5c97a9-d9f5-4a67-b291-4bfbd4010e28",
   "metadata": {
    "tags": []
   },
   "outputs": [
    {
     "name": "stderr",
     "output_type": "stream",
     "text": [
      "<ipython-input-62-7c249a7a86de>:3: UserWarning: Geometry is in a geographic CRS. Results from 'centroid' are likely incorrect. Use 'GeoSeries.to_crs()' to re-project geometries to a projected CRS before this operation.\n",
      "\n",
      "  return gdf[\"geometry\"].centroid\n"
     ]
    }
   ],
   "source": [
    "radios_p = radios.copy().to_crs(4326)  # FIXME: el crs rompe el Kepler\n",
    "radios_p[\"geometry\"] = geometry_centroid(radios_p)"
   ]
  },
  {
   "cell_type": "code",
   "execution_count": 89,
   "id": "46ad3b9a-d206-482e-ab7a-8f3e1dc966e1",
   "metadata": {
    "tags": []
   },
   "outputs": [],
   "source": [
    "def bound_multipol_by_bbox(gdf, bbox):\n",
    "    \"\"\"Devuelve la interseccion entre un bounding box (bbox) y la columna\n",
    "    geometry de un GeoDataFrame.\n",
    "\n",
    "    Parameters\n",
    "    ----------\n",
    "    gdf : gpd.GeoDataFrame\n",
    "        GeoDataFrame con informacion geometrica.\n",
    "    bbox : ndarray[float]\n",
    "        Array indicando los vértices de una bbox.\n",
    "\n",
    "    Returns\n",
    "    -------\n",
    "    gpd.GeoDataFrame\n",
    "        GeoDataFrame con la intersección entre el input y la bbox.\n",
    "    \"\"\"\n",
    "    bb_polygon = Polygon(\n",
    "        [\n",
    "            (bbox[0], bbox[3]),\n",
    "            (bbox[2], bbox[3]),\n",
    "            (bbox[2], bbox[1]),\n",
    "            (bbox[0], bbox[1]),\n",
    "        ]\n",
    "    )\n",
    "\n",
    "    gdf2 = gpd.GeoDataFrame(gpd.GeoSeries(bb_polygon), columns=[\"geometry\"])\n",
    "    intersections = gpd.overlay(gdf2, gdf, how=\"intersection\")\n",
    "    return intersections"
   ]
  },
  {
   "cell_type": "code",
   "execution_count": 90,
   "id": "ee3c13cf-618a-492c-849a-066ea8302548",
   "metadata": {
    "tags": []
   },
   "outputs": [
    {
     "name": "stderr",
     "output_type": "stream",
     "text": [
      "<ipython-input-89-fe92019172b4>:27: UserWarning: CRS mismatch between the CRS of left geometries and the CRS of right geometries.\n",
      "Use `to_crs()` to reproject one of the input geometries to match the CRS of the other.\n",
      "\n",
      "Left CRS: None\n",
      "Right CRS: EPSG:4326\n",
      "\n",
      "  intersections = gpd.overlay(gdf2, gdf, how=\"intersection\")\n"
     ]
    }
   ],
   "source": [
    "parques_p = bound_multipol_by_bbox(get_public_space(), get_bbox([8]))\n",
    "parques_p[\"geometry\"] = geometry_centroid(parques_p)"
   ]
  },
  {
   "cell_type": "code",
   "execution_count": 341,
   "id": "7bf1b792-3f44-45df-9c86-d7fc71936148",
   "metadata": {
    "tags": []
   },
   "outputs": [
    {
     "name": "stderr",
     "output_type": "stream",
     "text": [
      "<ipython-input-89-fe92019172b4>:27: UserWarning: CRS mismatch between the CRS of left geometries and the CRS of right geometries.\n",
      "Use `to_crs()` to reproject one of the input geometries to match the CRS of the other.\n",
      "\n",
      "Left CRS: None\n",
      "Right CRS: EPSG:4326\n",
      "\n",
      "  intersections = gpd.overlay(gdf2, gdf, how=\"intersection\")\n"
     ]
    }
   ],
   "source": [
    "parques = bound_multipol_by_bbox(get_public_space(), get_bbox([8]))"
   ]
  },
  {
   "cell_type": "code",
   "execution_count": 342,
   "id": "7e81e922-07a1-47da-b5a4-2f164f75e92c",
   "metadata": {
    "tags": []
   },
   "outputs": [
    {
     "data": {
      "text/html": [
       "<div>\n",
       "<style scoped>\n",
       "    .dataframe tbody tr th:only-of-type {\n",
       "        vertical-align: middle;\n",
       "    }\n",
       "\n",
       "    .dataframe tbody tr th {\n",
       "        vertical-align: top;\n",
       "    }\n",
       "\n",
       "    .dataframe thead th {\n",
       "        text-align: right;\n",
       "    }\n",
       "</style>\n",
       "<table border=\"1\" class=\"dataframe\">\n",
       "  <thead>\n",
       "    <tr style=\"text-align: right;\">\n",
       "      <th></th>\n",
       "      <th>nombre</th>\n",
       "      <th>clasificac</th>\n",
       "      <th>area</th>\n",
       "      <th>geometry</th>\n",
       "    </tr>\n",
       "  </thead>\n",
       "  <tbody>\n",
       "    <tr>\n",
       "      <th>0</th>\n",
       "      <td>NaN</td>\n",
       "      <td>CANTERO CENTRAL</td>\n",
       "      <td>858.057</td>\n",
       "      <td>POLYGON ((-58.47669 -34.65452, -58.47661 -34.6...</td>\n",
       "    </tr>\n",
       "    <tr>\n",
       "      <th>1</th>\n",
       "      <td>Irma Carrica</td>\n",
       "      <td>CANTERO CENTRAL</td>\n",
       "      <td>1126.353</td>\n",
       "      <td>POLYGON ((-58.47567 -34.65481, -58.47568 -34.6...</td>\n",
       "    </tr>\n",
       "    <tr>\n",
       "      <th>2</th>\n",
       "      <td>NaN</td>\n",
       "      <td>CANTERO CENTRAL</td>\n",
       "      <td>11259.719</td>\n",
       "      <td>MULTIPOLYGON (((-58.44278 -34.66878, -58.44281...</td>\n",
       "    </tr>\n",
       "    <tr>\n",
       "      <th>3</th>\n",
       "      <td>NaN</td>\n",
       "      <td>CANTERO CENTRAL</td>\n",
       "      <td>2790.612</td>\n",
       "      <td>MULTIPOLYGON (((-58.44089 -34.66691, -58.44089...</td>\n",
       "    </tr>\n",
       "    <tr>\n",
       "      <th>4</th>\n",
       "      <td>Martín Boneo y Villalonga</td>\n",
       "      <td>CANTERO CENTRAL</td>\n",
       "      <td>2043.584</td>\n",
       "      <td>MULTIPOLYGON (((-58.47162 -34.65536, -58.47159...</td>\n",
       "    </tr>\n",
       "    <tr>\n",
       "      <th>...</th>\n",
       "      <td>...</td>\n",
       "      <td>...</td>\n",
       "      <td>...</td>\n",
       "      <td>...</td>\n",
       "    </tr>\n",
       "    <tr>\n",
       "      <th>439</th>\n",
       "      <td>Cancha de Lorenza</td>\n",
       "      <td>PLAZA</td>\n",
       "      <td>438.317</td>\n",
       "      <td>POLYGON ((-58.46240 -34.67229, -58.46233 -34.6...</td>\n",
       "    </tr>\n",
       "    <tr>\n",
       "      <th>440</th>\n",
       "      <td>NaN</td>\n",
       "      <td>PLAZOLETA</td>\n",
       "      <td>515.709</td>\n",
       "      <td>MULTIPOLYGON (((-58.47351 -34.66013, -58.47349...</td>\n",
       "    </tr>\n",
       "    <tr>\n",
       "      <th>441</th>\n",
       "      <td>NaN</td>\n",
       "      <td>CANTERO CENTRAL</td>\n",
       "      <td>6080.637</td>\n",
       "      <td>POLYGON ((-58.47245 -34.66264, -58.47247 -34.6...</td>\n",
       "    </tr>\n",
       "    <tr>\n",
       "      <th>442</th>\n",
       "      <td>NaN</td>\n",
       "      <td>PLAZOLETA</td>\n",
       "      <td>1045.094</td>\n",
       "      <td>MULTIPOLYGON (((-58.45295 -34.65082, -58.45295...</td>\n",
       "    </tr>\n",
       "    <tr>\n",
       "      <th>443</th>\n",
       "      <td>NaN</td>\n",
       "      <td>PLAZOLETA</td>\n",
       "      <td>4686.439</td>\n",
       "      <td>MULTIPOLYGON (((-58.46584 -34.65148, -58.46583...</td>\n",
       "    </tr>\n",
       "  </tbody>\n",
       "</table>\n",
       "<p>444 rows × 4 columns</p>\n",
       "</div>"
      ],
      "text/plain": [
       "                        nombre       clasificac       area  \\\n",
       "0                          NaN  CANTERO CENTRAL    858.057   \n",
       "1                 Irma Carrica  CANTERO CENTRAL   1126.353   \n",
       "2                          NaN  CANTERO CENTRAL  11259.719   \n",
       "3                          NaN  CANTERO CENTRAL   2790.612   \n",
       "4    Martín Boneo y Villalonga  CANTERO CENTRAL   2043.584   \n",
       "..                         ...              ...        ...   \n",
       "439          Cancha de Lorenza            PLAZA    438.317   \n",
       "440                        NaN        PLAZOLETA    515.709   \n",
       "441                        NaN  CANTERO CENTRAL   6080.637   \n",
       "442                        NaN        PLAZOLETA   1045.094   \n",
       "443                        NaN        PLAZOLETA   4686.439   \n",
       "\n",
       "                                              geometry  \n",
       "0    POLYGON ((-58.47669 -34.65452, -58.47661 -34.6...  \n",
       "1    POLYGON ((-58.47567 -34.65481, -58.47568 -34.6...  \n",
       "2    MULTIPOLYGON (((-58.44278 -34.66878, -58.44281...  \n",
       "3    MULTIPOLYGON (((-58.44089 -34.66691, -58.44089...  \n",
       "4    MULTIPOLYGON (((-58.47162 -34.65536, -58.47159...  \n",
       "..                                                 ...  \n",
       "439  POLYGON ((-58.46240 -34.67229, -58.46233 -34.6...  \n",
       "440  MULTIPOLYGON (((-58.47351 -34.66013, -58.47349...  \n",
       "441  POLYGON ((-58.47245 -34.66264, -58.47247 -34.6...  \n",
       "442  MULTIPOLYGON (((-58.45295 -34.65082, -58.45295...  \n",
       "443  MULTIPOLYGON (((-58.46584 -34.65148, -58.46583...  \n",
       "\n",
       "[444 rows x 4 columns]"
      ]
     },
     "execution_count": 342,
     "metadata": {},
     "output_type": "execute_result"
    }
   ],
   "source": [
    "parques"
   ]
  },
  {
   "cell_type": "code",
   "execution_count": 235,
   "id": "f9b9c79d-9b94-4e25-b1b2-543ee5a677c2",
   "metadata": {
    "tags": []
   },
   "outputs": [
    {
     "data": {
      "text/html": [
       "<div>\n",
       "<style scoped>\n",
       "    .dataframe tbody tr th:only-of-type {\n",
       "        vertical-align: middle;\n",
       "    }\n",
       "\n",
       "    .dataframe tbody tr th {\n",
       "        vertical-align: top;\n",
       "    }\n",
       "\n",
       "    .dataframe thead th {\n",
       "        text-align: right;\n",
       "    }\n",
       "</style>\n",
       "<table border=\"1\" class=\"dataframe\">\n",
       "  <thead>\n",
       "    <tr style=\"text-align: right;\">\n",
       "      <th></th>\n",
       "      <th>nombre</th>\n",
       "      <th>clasificac</th>\n",
       "      <th>area</th>\n",
       "      <th>geometry</th>\n",
       "    </tr>\n",
       "  </thead>\n",
       "  <tbody>\n",
       "    <tr>\n",
       "      <th>0</th>\n",
       "      <td>NaN</td>\n",
       "      <td>CANTERO CENTRAL</td>\n",
       "      <td>858.057</td>\n",
       "      <td>POINT (-58.47677 -34.65455)</td>\n",
       "    </tr>\n",
       "    <tr>\n",
       "      <th>1</th>\n",
       "      <td>Irma Carrica</td>\n",
       "      <td>CANTERO CENTRAL</td>\n",
       "      <td>1126.353</td>\n",
       "      <td>POINT (-58.47584 -34.65468)</td>\n",
       "    </tr>\n",
       "    <tr>\n",
       "      <th>2</th>\n",
       "      <td>NaN</td>\n",
       "      <td>CANTERO CENTRAL</td>\n",
       "      <td>11259.719</td>\n",
       "      <td>POINT (-58.44408 -34.67019)</td>\n",
       "    </tr>\n",
       "    <tr>\n",
       "      <th>3</th>\n",
       "      <td>NaN</td>\n",
       "      <td>CANTERO CENTRAL</td>\n",
       "      <td>2790.612</td>\n",
       "      <td>POINT (-58.44173 -34.66763)</td>\n",
       "    </tr>\n",
       "    <tr>\n",
       "      <th>4</th>\n",
       "      <td>Martín Boneo y Villalonga</td>\n",
       "      <td>CANTERO CENTRAL</td>\n",
       "      <td>2043.584</td>\n",
       "      <td>POINT (-58.47217 -34.65537)</td>\n",
       "    </tr>\n",
       "    <tr>\n",
       "      <th>...</th>\n",
       "      <td>...</td>\n",
       "      <td>...</td>\n",
       "      <td>...</td>\n",
       "      <td>...</td>\n",
       "    </tr>\n",
       "    <tr>\n",
       "      <th>439</th>\n",
       "      <td>Cancha de Lorenza</td>\n",
       "      <td>PLAZA</td>\n",
       "      <td>438.317</td>\n",
       "      <td>POINT (-58.46233 -34.67234)</td>\n",
       "    </tr>\n",
       "    <tr>\n",
       "      <th>440</th>\n",
       "      <td>NaN</td>\n",
       "      <td>PLAZOLETA</td>\n",
       "      <td>515.709</td>\n",
       "      <td>POINT (-58.47355 -34.66030)</td>\n",
       "    </tr>\n",
       "    <tr>\n",
       "      <th>441</th>\n",
       "      <td>NaN</td>\n",
       "      <td>CANTERO CENTRAL</td>\n",
       "      <td>6080.637</td>\n",
       "      <td>POINT (-58.47080 -34.65891)</td>\n",
       "    </tr>\n",
       "    <tr>\n",
       "      <th>442</th>\n",
       "      <td>NaN</td>\n",
       "      <td>PLAZOLETA</td>\n",
       "      <td>1045.094</td>\n",
       "      <td>POINT (-58.45305 -34.65085)</td>\n",
       "    </tr>\n",
       "    <tr>\n",
       "      <th>443</th>\n",
       "      <td>NaN</td>\n",
       "      <td>PLAZOLETA</td>\n",
       "      <td>4686.439</td>\n",
       "      <td>POINT (-58.46574 -34.65204)</td>\n",
       "    </tr>\n",
       "  </tbody>\n",
       "</table>\n",
       "<p>444 rows × 4 columns</p>\n",
       "</div>"
      ],
      "text/plain": [
       "                        nombre       clasificac       area  \\\n",
       "0                          NaN  CANTERO CENTRAL    858.057   \n",
       "1                 Irma Carrica  CANTERO CENTRAL   1126.353   \n",
       "2                          NaN  CANTERO CENTRAL  11259.719   \n",
       "3                          NaN  CANTERO CENTRAL   2790.612   \n",
       "4    Martín Boneo y Villalonga  CANTERO CENTRAL   2043.584   \n",
       "..                         ...              ...        ...   \n",
       "439          Cancha de Lorenza            PLAZA    438.317   \n",
       "440                        NaN        PLAZOLETA    515.709   \n",
       "441                        NaN  CANTERO CENTRAL   6080.637   \n",
       "442                        NaN        PLAZOLETA   1045.094   \n",
       "443                        NaN        PLAZOLETA   4686.439   \n",
       "\n",
       "                        geometry  \n",
       "0    POINT (-58.47677 -34.65455)  \n",
       "1    POINT (-58.47584 -34.65468)  \n",
       "2    POINT (-58.44408 -34.67019)  \n",
       "3    POINT (-58.44173 -34.66763)  \n",
       "4    POINT (-58.47217 -34.65537)  \n",
       "..                           ...  \n",
       "439  POINT (-58.46233 -34.67234)  \n",
       "440  POINT (-58.47355 -34.66030)  \n",
       "441  POINT (-58.47080 -34.65891)  \n",
       "442  POINT (-58.45305 -34.65085)  \n",
       "443  POINT (-58.46574 -34.65204)  \n",
       "\n",
       "[444 rows x 4 columns]"
      ]
     },
     "execution_count": 235,
     "metadata": {},
     "output_type": "execute_result"
    }
   ],
   "source": [
    "parques_p"
   ]
  },
  {
   "cell_type": "code",
   "execution_count": 95,
   "id": "23ea3cab-6e68-42a8-be2f-a204eeb2a189",
   "metadata": {
    "tags": []
   },
   "outputs": [
    {
     "data": {
      "text/plain": [
       "clasificac\n",
       "BARRIO/COMPLEJO               91923.954000\n",
       "CANTERO CENTRAL                2659.509837\n",
       "PARQUE                       333870.962778\n",
       "PATIO DE JUEGOS INCLUSIVO       218.057000\n",
       "PATIO RECREATIVO               2516.185000\n",
       "PLAZA                          5435.111226\n",
       "PLAZOLETA                     10524.210160\n",
       "Name: area, dtype: float64"
      ]
     },
     "execution_count": 95,
     "metadata": {},
     "output_type": "execute_result"
    }
   ],
   "source": [
    "parques_p.groupby('clasificac')['area'].mean()"
   ]
  },
  {
   "cell_type": "code",
   "execution_count": 177,
   "id": "7bf04f42-a2f1-4002-932a-ec49a2e73676",
   "metadata": {
    "tags": []
   },
   "outputs": [
    {
     "data": {
      "text/plain": [
       "Cancha auxiliar abierta - Club Atl. Boca Juniors       2\n",
       "Plaza José Martí                                       2\n",
       "Escuela Scalabrini Ortiz                               1\n",
       "Bosque Alegre (Depvo. M. Belgrano)                     1\n",
       "Av. 9 de Julio                                         1\n",
       "                                                      ..\n",
       "Alejandro Petión                                       1\n",
       "Orencio P. Rodríguez                                   1\n",
       "Plazoleta Gelly y Obes                                 1\n",
       "C. González Pecotche                                   1\n",
       "Paseo del Ballet Argentino (e/ Gutenberg y Mistral)    1\n",
       "Name: nombre, Length: 1002, dtype: int64"
      ]
     },
     "execution_count": 177,
     "metadata": {},
     "output_type": "execute_result"
    }
   ],
   "source": [
    "get_public_space().nombre.value_counts()"
   ]
  },
  {
   "cell_type": "code",
   "execution_count": 175,
   "id": "bcfdabf3-5246-4ae8-b29f-a3f6afadde8a",
   "metadata": {
    "tags": []
   },
   "outputs": [
    {
     "data": {
      "text/html": [
       "<div>\n",
       "<style scoped>\n",
       "    .dataframe tbody tr th:only-of-type {\n",
       "        vertical-align: middle;\n",
       "    }\n",
       "\n",
       "    .dataframe tbody tr th {\n",
       "        vertical-align: top;\n",
       "    }\n",
       "\n",
       "    .dataframe thead th {\n",
       "        text-align: right;\n",
       "    }\n",
       "</style>\n",
       "<table border=\"1\" class=\"dataframe\">\n",
       "  <thead>\n",
       "    <tr style=\"text-align: right;\">\n",
       "      <th></th>\n",
       "      <th>TOTAL_VIV</th>\n",
       "      <th>COMUNA</th>\n",
       "      <th>geometry</th>\n",
       "    </tr>\n",
       "  </thead>\n",
       "  <tbody>\n",
       "    <tr>\n",
       "      <th>10525</th>\n",
       "      <td>193</td>\n",
       "      <td>Comuna 8</td>\n",
       "      <td>POLYGON ((-58.49171 -34.67420, -58.49128 -34.6...</td>\n",
       "    </tr>\n",
       "    <tr>\n",
       "      <th>15423</th>\n",
       "      <td>369</td>\n",
       "      <td>Comuna 8</td>\n",
       "      <td>POLYGON ((-58.47987 -34.67288, -58.48108 -34.6...</td>\n",
       "    </tr>\n",
       "    <tr>\n",
       "      <th>15561</th>\n",
       "      <td>310</td>\n",
       "      <td>Comuna 8</td>\n",
       "      <td>POLYGON ((-58.47849 -34.67172, -58.47946 -34.6...</td>\n",
       "    </tr>\n",
       "    <tr>\n",
       "      <th>19394</th>\n",
       "      <td>234</td>\n",
       "      <td>Comuna 8</td>\n",
       "      <td>POLYGON ((-58.46650 -34.67597, -58.46677 -34.6...</td>\n",
       "    </tr>\n",
       "    <tr>\n",
       "      <th>20274</th>\n",
       "      <td>374</td>\n",
       "      <td>Comuna 8</td>\n",
       "      <td>POLYGON ((-58.47223 -34.68096, -58.47288 -34.6...</td>\n",
       "    </tr>\n",
       "    <tr>\n",
       "      <th>...</th>\n",
       "      <td>...</td>\n",
       "      <td>...</td>\n",
       "      <td>...</td>\n",
       "    </tr>\n",
       "    <tr>\n",
       "      <th>38657</th>\n",
       "      <td>260</td>\n",
       "      <td>Comuna 8</td>\n",
       "      <td>POLYGON ((-58.45356 -34.65832, -58.45393 -34.6...</td>\n",
       "    </tr>\n",
       "    <tr>\n",
       "      <th>38686</th>\n",
       "      <td>236</td>\n",
       "      <td>Comuna 8</td>\n",
       "      <td>POLYGON ((-58.45306 -34.65875, -58.45327 -34.6...</td>\n",
       "    </tr>\n",
       "    <tr>\n",
       "      <th>38700</th>\n",
       "      <td>364</td>\n",
       "      <td>Comuna 8</td>\n",
       "      <td>POLYGON ((-58.45448 -34.66241, -58.45441 -34.6...</td>\n",
       "    </tr>\n",
       "    <tr>\n",
       "      <th>38715</th>\n",
       "      <td>270</td>\n",
       "      <td>Comuna 8</td>\n",
       "      <td>POLYGON ((-58.45531 -34.66494, -58.45511 -34.6...</td>\n",
       "    </tr>\n",
       "    <tr>\n",
       "      <th>38731</th>\n",
       "      <td>310</td>\n",
       "      <td>Comuna 8</td>\n",
       "      <td>POLYGON ((-58.45618 -34.66109, -58.45604 -34.6...</td>\n",
       "    </tr>\n",
       "  </tbody>\n",
       "</table>\n",
       "<p>191 rows × 3 columns</p>\n",
       "</div>"
      ],
      "text/plain": [
       "       TOTAL_VIV    COMUNA                                           geometry\n",
       "10525        193  Comuna 8  POLYGON ((-58.49171 -34.67420, -58.49128 -34.6...\n",
       "15423        369  Comuna 8  POLYGON ((-58.47987 -34.67288, -58.48108 -34.6...\n",
       "15561        310  Comuna 8  POLYGON ((-58.47849 -34.67172, -58.47946 -34.6...\n",
       "19394        234  Comuna 8  POLYGON ((-58.46650 -34.67597, -58.46677 -34.6...\n",
       "20274        374  Comuna 8  POLYGON ((-58.47223 -34.68096, -58.47288 -34.6...\n",
       "...          ...       ...                                                ...\n",
       "38657        260  Comuna 8  POLYGON ((-58.45356 -34.65832, -58.45393 -34.6...\n",
       "38686        236  Comuna 8  POLYGON ((-58.45306 -34.65875, -58.45327 -34.6...\n",
       "38700        364  Comuna 8  POLYGON ((-58.45448 -34.66241, -58.45441 -34.6...\n",
       "38715        270  Comuna 8  POLYGON ((-58.45531 -34.66494, -58.45511 -34.6...\n",
       "38731        310  Comuna 8  POLYGON ((-58.45618 -34.66109, -58.45604 -34.6...\n",
       "\n",
       "[191 rows x 3 columns]"
      ]
     },
     "execution_count": 175,
     "metadata": {},
     "output_type": "execute_result"
    }
   ],
   "source": [
    "radios"
   ]
  },
  {
   "cell_type": "code",
   "execution_count": 226,
   "id": "c400dfb5-bc5e-42ca-bbd6-1d1d791006bd",
   "metadata": {
    "tags": []
   },
   "outputs": [],
   "source": [
    "from shapely.geometry import MultiPolygon"
   ]
  },
  {
   "cell_type": "code",
   "execution_count": 170,
   "id": "2077cee6-3800-403f-af0b-2cb8eec89e53",
   "metadata": {
    "tags": []
   },
   "outputs": [
    {
     "data": {
      "text/plain": [
       "shapely.geometry.multipolygon.MultiPolygon"
      ]
     },
     "execution_count": 170,
     "metadata": {},
     "output_type": "execute_result"
    }
   ],
   "source": [
    "type(get_public_space().iloc[0,-1])"
   ]
  },
  {
   "cell_type": "code",
   "execution_count": 109,
   "id": "e8a52b33-e6ff-4371-8d61-b098fbf6f7ea",
   "metadata": {
    "tags": []
   },
   "outputs": [
    {
     "data": {
      "text/plain": [
       "shapely.geometry.multipolygon.MultiPolygon"
      ]
     },
     "execution_count": 109,
     "metadata": {},
     "output_type": "execute_result"
    }
   ],
   "source": [
    "type(get_public_space().iloc[1,-1])"
   ]
  },
  {
   "cell_type": "code",
   "execution_count": 224,
   "id": "563b2480-d2f2-4b76-8089-ad2e5e745ea8",
   "metadata": {
    "tags": []
   },
   "outputs": [],
   "source": [
    "list_polygons=list(get_public_space().iloc[:,-1])"
   ]
  },
  {
   "cell_type": "code",
   "execution_count": 231,
   "id": "474cc174-b28f-4ecb-b434-a0c00b9caa72",
   "metadata": {
    "tags": []
   },
   "outputs": [
    {
     "data": {
      "text/plain": [
       "1765"
      ]
     },
     "execution_count": 231,
     "metadata": {},
     "output_type": "execute_result"
    }
   ],
   "source": [
    "len(list(get_public_space().iloc[:,-1]))"
   ]
  },
  {
   "cell_type": "code",
   "execution_count": 229,
   "id": "0f20c8c0-950e-4b82-93ac-7bbf65d65cee",
   "metadata": {
    "tags": []
   },
   "outputs": [
    {
     "data": {
      "image/svg+xml": [
       "<svg xmlns=\"http://www.w3.org/2000/svg\" xmlns:xlink=\"http://www.w3.org/1999/xlink\" width=\"100.0\" height=\"100.0\" viewBox=\"-58.4458898471064 -34.57982018564508 0.0012519166779654256 0.0010265159603690677\" preserveAspectRatio=\"xMinYMin meet\"><g transform=\"matrix(1,0,0,-1,0,-69.1586138553298)\"><g><path fill-rule=\"evenodd\" fill=\"#66cc99\" stroke=\"#555555\" stroke-width=\"2.503833355930851e-05\" opacity=\"0.6\" d=\"M -58.44535560170446,-34.57924873718938 L -58.44488826398561,-34.57960121523792 L -58.445075780708514,-34.579773818360714 L -58.445134591467585,-34.57973000662567 L -58.44497952601532,-34.57958734310427 L -58.44533104099439,-34.5793221280508 L -58.44570014302246,-34.57966083994945 L -58.445757334730324,-34.579618289998656 L -58.44535560170446,-34.57924873718938 z\" /><path fill-rule=\"evenodd\" fill=\"#66cc99\" stroke=\"#555555\" stroke-width=\"2.503833355930851e-05\" opacity=\"0.6\" d=\"M -58.44515559049805,-34.5790647718892 L -58.444684297712804,-34.579413551831706 L -58.44473616565052,-34.57946125678893 L -58.44474704651927,-34.579453233700306 L -58.444742282458016,-34.57944773293132 L -58.4447396759526,-34.579443584955406 L -58.44473769889676,-34.579439076411894 L -58.444736531033385,-34.57943456798743 L -58.44473599258062,-34.579429879325495 L -58.44473626333947,-34.5794251006176 L -58.444737253341316,-34.57942050234565 L -58.44473896260547,-34.57941599434458 L -58.444741391093075,-34.57941175694448 L -58.444744448893736,-34.57940779013204 L -58.444748135988085,-34.579404184072295 L -58.44475461049243,-34.57939967677178 L -58.44476198388507,-34.579396161418614 L -58.44476737882659,-34.57939462940547 L -58.444775740765884,-34.57939327815796 L -58.44478428221576,-34.579393369577055 L -58.44479264355521,-34.579394813444935 L -58.44480046514377,-34.57939760970884 L -58.444807477270466,-34.57940166816434 L -58.44481170233568,-34.57940500489057 L -58.44484794187779,-34.57937823117585 L -58.44484506554235,-34.579374533987924 L -58.444843807262565,-34.579372369842616 L -58.44484290864285,-34.57937011558485 L -58.44484245959332,-34.57936777122775 L -58.44484228029365,-34.579365336745084 L -58.444842550544806,-34.5793629023282 L -58.44484318041732,-34.57936055812896 L -58.44484408000105,-34.57935830413429 L -58.44484542909698,-34.5793562305354 L -58.44484704790402,-34.579354247141026 L -58.444849026313065,-34.579352444129334 L -58.44485127439469,-34.57935091165219 L -58.444853702257994,-34.57934955953142 L -58.44485630986446,-34.5793485680971 L -58.444859097233376,-34.579347847184096 L -58.444861974454604,-34.57934739677938 L -58.444864851618014,-34.579347216869756 L -58.44486772868515,-34.579347487785284 L -58.444870605713774,-34.57934793903084 L -58.444873302845146,-34.57934875091026 L -58.444875910008655,-34.57934983327166 L -58.444878247364784,-34.579351276253824 L -58.44488130384834,-34.57935344066134 L -58.44491754338414,-34.5793264865956 L -58.444913947804814,-34.57932260897443 L -58.44491089172493,-34.579318551101665 L -58.44490846507383,-34.57931422282534 L -58.4449067577615,-34.579309624158746 L -58.44490585965958,-34.579304935445045 L -58.444905680876985,-34.57930006650607 L -58.44490622135593,-34.57929528783701 L -58.444907570987276,-34.579290689615995 L -58.44490954996982,-34.579286181651774 L -58.444912338085324,-34.579281944300604 L -58.444915665584155,-34.579278067688165 L -58.44491962237644,-34.57927455182749 L -58.44492411853279,-34.57927148687057 L -58.44492906412403,-34.579268962969195 L -58.444934369240116,-34.5792669801103 L -58.444939854041856,-34.57926562843269 L -58.44494560845858,-34.57926481778438 L -58.444954329734784,-34.57926481905268 L -58.44496278097438,-34.57926626292198 L -58.44497087230597,-34.57926896904919 L -58.44497806426945,-34.57927293735606 L -58.44498363775655,-34.579277356252824 L -58.445031387525106,-34.57924183814293 L -58.44500370062175,-34.579216407586394 L -58.44506152184484,-34.579173407224495 L -58.44508732100308,-34.57919712435965 L -58.44509946075248,-34.5791881096053 L -58.44507366159359,-34.579164392472684 L -58.44513193235113,-34.579121121646814 L -58.445157911276254,-34.5791451092883 L -58.445204941502524,-34.57911013199665 L -58.44515559049805,-34.5790647718892 z\" /><path fill-rule=\"evenodd\" fill=\"#66cc99\" stroke=\"#555555\" stroke-width=\"2.503833355930851e-05\" opacity=\"0.6\" d=\"M -58.44544757243325,-34.578848687863314 L -58.44527824647634,-34.578973993244794 L -58.445289662796284,-34.57898463435072 L -58.44529209082983,-34.578982380570565 L -58.44529433910009,-34.57897985626956 L -58.445301803075395,-34.57897282445915 L -58.445312953611676,-34.57896453086268 L -58.44532536263813,-34.57895740959003 L -58.445338760369474,-34.57895173109776 L -58.44535296698678,-34.578947495359934 L -58.44536393642223,-34.57894533295701 L -58.44537148902586,-34.57894443237891 L -58.44538650407986,-34.578943803354306 L -58.44540151877877,-34.5789448874639 L -58.44541626343158,-34.57894750433942 L -58.445430468291306,-34.578951744107876 L -58.44544386366676,-34.57895742640114 L -58.44545626973896,-34.57896455119414 L -58.4454674168349,-34.57897284795385 L -58.4454772150263,-34.57898240683307 L -58.44548332730975,-34.57899007172537 L -58.44560258844421,-34.57923001770558 L -58.44560357682683,-34.57923308345589 L -58.44560429544247,-34.57923632949852 L -58.44560492346512,-34.57924291163547 L -58.445604562477364,-34.579249493633924 L -58.445603122587336,-34.57925598531616 L -58.44560069374181,-34.579262206364675 L -58.44559727594053,-34.57926815677941 L -58.44559295911194,-34.57927374640781 L -58.44558783320292,-34.57927879493234 L -58.44558189823189,-34.57928321218773 L -58.44557542394768,-34.579286908046804 L -58.44556832042172,-34.57928997266177 L -58.44556076752984,-34.579292135562724 L -58.445553034965506,-34.57929357711749 L -58.44554907886572,-34.57929384705687 L -58.44556373154668,-34.57930683288267 L -58.44556795789537,-34.57930403835933 L -58.44557703962969,-34.579300072371346 L -58.445582434531595,-34.57929863048721 L -58.44559007709342,-34.57929763974319 L -58.44559933774136,-34.579298091866264 L -58.44560608074046,-34.57929935512159 L -58.44561453168119,-34.57930233175162 L -58.445621364037706,-34.57930629997022 L -58.445627117326005,-34.57931098935793 L -58.44563143197934,-34.57931603920436 L -58.445635386568846,-34.57932316279657 L -58.44563754277209,-34.57933118778776 L -58.445637721579,-34.579336146890704 L -58.445636461289254,-34.57934372057902 L -58.44563457216257,-34.57934867939281 L -58.44563142427498,-34.57935372819562 L -58.44562629825275,-34.579359317711976 L -58.44562396020119,-34.579361210851 L -58.4456337586035,-34.57937004839664 L -58.445638794255146,-34.579366712993696 L -58.44564239101206,-34.57936500036038 L -58.44564850536412,-34.57936274708838 L -58.44565821601213,-34.57936103530862 L -58.44566693728004,-34.57936112669107 L -58.445674579386946,-34.579362390068034 L -58.44568563751104,-34.579366449037416 L -58.44569390812684,-34.579371950258285 L -58.44570100948912,-34.579379525111946 L -58.44570523359794,-34.57938773071999 L -58.44570703002194,-34.57939647698022 L -58.44570639907234,-34.579404231086876 L -58.44570352033037,-34.57941216521063 L -58.44569911342599,-34.57941856631558 L -58.44569335808773,-34.579423885251884 L -58.44584347982203,-34.579564383226526 L -58.445703097154095,-34.579282597970185 L -58.445664811168065,-34.579205591675866 L -58.44562652517891,-34.57912894602881 L -58.44558976715446,-34.579055095699715 L -58.44548263896847,-34.57884003696908 L -58.44544757243325,-34.578848687863314 z\" /></g></g></svg>"
      ],
      "text/plain": [
       "<MULTIPOLYGON (((-58.445 -34.579, -58.445 -34.58, -58.445 -34.58, -58.445 -3...>"
      ]
     },
     "execution_count": 229,
     "metadata": {},
     "output_type": "execute_result"
    }
   ],
   "source": [
    "list_polygons[0]"
   ]
  },
  {
   "cell_type": "code",
   "execution_count": 343,
   "id": "a18f3f36-3536-416c-8b33-bc763755aa78",
   "metadata": {
    "tags": []
   },
   "outputs": [
    {
     "data": {
      "image/png": "[encoded data removed]",
      "text/plain": [
       "<Figure size 432x288 with 1 Axes>"
      ]
     },
     "metadata": {
      "needs_background": "light"
     },
     "output_type": "display_data"
    }
   ],
   "source": [
    "from shapely.ops import unary_union\n",
    "polygons = list(parques.iloc[:,-1])\n",
    "boundary = gpd.GeoSeries(unary_union(polygons))\n",
    "boundary.plot(color = 'red')\n",
    "plt.show()"
   ]
  },
  {
   "cell_type": "code",
   "execution_count": 239,
   "id": "fd1130bf-f229-4724-a1c0-aea4562c6879",
   "metadata": {
    "tags": []
   },
   "outputs": [
    {
     "data": {
      "text/plain": [
       "0    MULTIPOLYGON (((-58.49730 -34.67781, -58.49348...\n",
       "dtype: geometry"
      ]
     },
     "execution_count": 239,
     "metadata": {},
     "output_type": "execute_result"
    }
   ],
   "source": [
    "boundary"
   ]
  },
  {
   "cell_type": "code",
   "execution_count": 242,
   "id": "de061a24-19b6-45af-98a8-1b65b3fe8cb9",
   "metadata": {
    "tags": []
   },
   "outputs": [
    {
     "data": {
      "text/plain": [
       "191"
      ]
     },
     "execution_count": 242,
     "metadata": {},
     "output_type": "execute_result"
    }
   ],
   "source": [
    "radios.geometry.shape[0]"
   ]
  },
  {
   "cell_type": "code",
   "execution_count": 255,
   "id": "38ae0b1a-7920-4ed1-acf0-7a7eb6fe603d",
   "metadata": {
    "tags": []
   },
   "outputs": [
    {
     "data": {
      "text/plain": [
       "geopandas.geoseries.GeoSeries"
      ]
     },
     "execution_count": 255,
     "metadata": {},
     "output_type": "execute_result"
    }
   ],
   "source": [
    "type(boundary)"
   ]
  },
  {
   "cell_type": "code",
   "execution_count": 257,
   "id": "2bbac2b2-0cd1-4e90-9d8e-67c289c225d6",
   "metadata": {
    "tags": []
   },
   "outputs": [],
   "source": [
    "\n"
   ]
  },
  {
   "cell_type": "code",
   "execution_count": 274,
   "id": "99424dd4-643b-451d-a50e-31bc9ffc4443",
   "metadata": {
    "tags": []
   },
   "outputs": [
    {
     "data": {
      "text/html": [
       "<div>\n",
       "<style scoped>\n",
       "    .dataframe tbody tr th:only-of-type {\n",
       "        vertical-align: middle;\n",
       "    }\n",
       "\n",
       "    .dataframe tbody tr th {\n",
       "        vertical-align: top;\n",
       "    }\n",
       "\n",
       "    .dataframe thead th {\n",
       "        text-align: right;\n",
       "    }\n",
       "</style>\n",
       "<table border=\"1\" class=\"dataframe\">\n",
       "  <thead>\n",
       "    <tr style=\"text-align: right;\">\n",
       "      <th></th>\n",
       "      <th>geometry</th>\n",
       "    </tr>\n",
       "  </thead>\n",
       "  <tbody>\n",
       "    <tr>\n",
       "      <th>0</th>\n",
       "      <td>MULTIPOLYGON (((-58.49730 -34.67781, -58.49348...</td>\n",
       "    </tr>\n",
       "  </tbody>\n",
       "</table>\n",
       "</div>"
      ],
      "text/plain": [
       "                                            geometry\n",
       "0  MULTIPOLYGON (((-58.49730 -34.67781, -58.49348..."
      ]
     },
     "execution_count": 274,
     "metadata": {},
     "output_type": "execute_result"
    }
   ],
   "source": [
    "boundary"
   ]
  },
  {
   "cell_type": "code",
   "execution_count": 283,
   "id": "4bee9bf6-cf20-4003-b17c-e913e1b74297",
   "metadata": {
    "tags": []
   },
   "outputs": [
    {
     "data": {
      "text/html": [
       "<div>\n",
       "<style scoped>\n",
       "    .dataframe tbody tr th:only-of-type {\n",
       "        vertical-align: middle;\n",
       "    }\n",
       "\n",
       "    .dataframe tbody tr th {\n",
       "        vertical-align: top;\n",
       "    }\n",
       "\n",
       "    .dataframe thead th {\n",
       "        text-align: right;\n",
       "    }\n",
       "</style>\n",
       "<table border=\"1\" class=\"dataframe\">\n",
       "  <thead>\n",
       "    <tr style=\"text-align: right;\">\n",
       "      <th></th>\n",
       "      <th>TOTAL_VIV</th>\n",
       "      <th>COMUNA</th>\n",
       "      <th>geometry</th>\n",
       "    </tr>\n",
       "  </thead>\n",
       "  <tbody>\n",
       "    <tr>\n",
       "      <th>10525</th>\n",
       "      <td>193</td>\n",
       "      <td>Comuna 8</td>\n",
       "      <td>POLYGON ((-58.49171 -34.67420, -58.49128 -34.6...</td>\n",
       "    </tr>\n",
       "  </tbody>\n",
       "</table>\n",
       "</div>"
      ],
      "text/plain": [
       "       TOTAL_VIV    COMUNA                                           geometry\n",
       "10525        193  Comuna 8  POLYGON ((-58.49171 -34.67420, -58.49128 -34.6..."
      ]
     },
     "execution_count": 283,
     "metadata": {},
     "output_type": "execute_result"
    }
   ],
   "source": [
    "radios.iloc[:1,]"
   ]
  },
  {
   "cell_type": "code",
   "execution_count": 289,
   "id": "f6e62e02-df3f-4ca5-b643-7bfed06c2018",
   "metadata": {
    "tags": []
   },
   "outputs": [
    {
     "data": {
      "text/plain": [
       "191"
      ]
     },
     "execution_count": 289,
     "metadata": {},
     "output_type": "execute_result"
    }
   ],
   "source": [
    "radios.shape[0]"
   ]
  },
  {
   "cell_type": "code",
   "execution_count": 292,
   "id": "994e7bff-3e1c-4ecb-9e73-53e8d4f5f422",
   "metadata": {
    "collapsed": true,
    "jupyter": {
     "outputs_hidden": true
    },
    "tags": []
   },
   "outputs": [
    {
     "name": "stderr",
     "output_type": "stream",
     "text": [
      "<ipython-input-292-4425a615d356>:2: UserWarning: CRS mismatch between the CRS of left geometries and the CRS of right geometries.\n",
      "Use `to_crs()` to reproject one of the input geometries to match the CRS of the other.\n",
      "\n",
      "Left CRS: GEOGCS[\"WGS 84\",DATUM[\"WGS_1984\",SPHEROID[\"WGS 84\" ...\n",
      "Right CRS: None\n",
      "\n",
      "  gpd.overlay(radios.iloc[i:i+1,], boundary, how=\"intersection\")\n",
      "<ipython-input-292-4425a615d356>:2: UserWarning: CRS mismatch between the CRS of left geometries and the CRS of right geometries.\n",
      "Use `to_crs()` to reproject one of the input geometries to match the CRS of the other.\n",
      "\n",
      "Left CRS: GEOGCS[\"WGS 84\",DATUM[\"WGS_1984\",SPHEROID[\"WGS 84\" ...\n",
      "Right CRS: None\n",
      "\n",
      "  gpd.overlay(radios.iloc[i:i+1,], boundary, how=\"intersection\")\n",
      "<ipython-input-292-4425a615d356>:2: UserWarning: CRS mismatch between the CRS of left geometries and the CRS of right geometries.\n",
      "Use `to_crs()` to reproject one of the input geometries to match the CRS of the other.\n",
      "\n",
      "Left CRS: GEOGCS[\"WGS 84\",DATUM[\"WGS_1984\",SPHEROID[\"WGS 84\" ...\n",
      "Right CRS: None\n",
      "\n",
      "  gpd.overlay(radios.iloc[i:i+1,], boundary, how=\"intersection\")\n",
      "<ipython-input-292-4425a615d356>:2: UserWarning: CRS mismatch between the CRS of left geometries and the CRS of right geometries.\n",
      "Use `to_crs()` to reproject one of the input geometries to match the CRS of the other.\n",
      "\n",
      "Left CRS: GEOGCS[\"WGS 84\",DATUM[\"WGS_1984\",SPHEROID[\"WGS 84\" ...\n",
      "Right CRS: None\n",
      "\n",
      "  gpd.overlay(radios.iloc[i:i+1,], boundary, how=\"intersection\")\n",
      "<ipython-input-292-4425a615d356>:2: UserWarning: CRS mismatch between the CRS of left geometries and the CRS of right geometries.\n",
      "Use `to_crs()` to reproject one of the input geometries to match the CRS of the other.\n",
      "\n",
      "Left CRS: GEOGCS[\"WGS 84\",DATUM[\"WGS_1984\",SPHEROID[\"WGS 84\" ...\n",
      "Right CRS: None\n",
      "\n",
      "  gpd.overlay(radios.iloc[i:i+1,], boundary, how=\"intersection\")\n",
      "<ipython-input-292-4425a615d356>:2: UserWarning: CRS mismatch between the CRS of left geometries and the CRS of right geometries.\n",
      "Use `to_crs()` to reproject one of the input geometries to match the CRS of the other.\n",
      "\n",
      "Left CRS: GEOGCS[\"WGS 84\",DATUM[\"WGS_1984\",SPHEROID[\"WGS 84\" ...\n",
      "Right CRS: None\n",
      "\n",
      "  gpd.overlay(radios.iloc[i:i+1,], boundary, how=\"intersection\")\n",
      "<ipython-input-292-4425a615d356>:2: UserWarning: CRS mismatch between the CRS of left geometries and the CRS of right geometries.\n",
      "Use `to_crs()` to reproject one of the input geometries to match the CRS of the other.\n",
      "\n",
      "Left CRS: GEOGCS[\"WGS 84\",DATUM[\"WGS_1984\",SPHEROID[\"WGS 84\" ...\n",
      "Right CRS: None\n",
      "\n",
      "  gpd.overlay(radios.iloc[i:i+1,], boundary, how=\"intersection\")\n",
      "<ipython-input-292-4425a615d356>:2: UserWarning: CRS mismatch between the CRS of left geometries and the CRS of right geometries.\n",
      "Use `to_crs()` to reproject one of the input geometries to match the CRS of the other.\n",
      "\n",
      "Left CRS: GEOGCS[\"WGS 84\",DATUM[\"WGS_1984\",SPHEROID[\"WGS 84\" ...\n",
      "Right CRS: None\n",
      "\n",
      "  gpd.overlay(radios.iloc[i:i+1,], boundary, how=\"intersection\")\n",
      "<ipython-input-292-4425a615d356>:2: UserWarning: CRS mismatch between the CRS of left geometries and the CRS of right geometries.\n",
      "Use `to_crs()` to reproject one of the input geometries to match the CRS of the other.\n",
      "\n",
      "Left CRS: GEOGCS[\"WGS 84\",DATUM[\"WGS_1984\",SPHEROID[\"WGS 84\" ...\n",
      "Right CRS: None\n",
      "\n",
      "  gpd.overlay(radios.iloc[i:i+1,], boundary, how=\"intersection\")\n",
      "<ipython-input-292-4425a615d356>:2: UserWarning: CRS mismatch between the CRS of left geometries and the CRS of right geometries.\n",
      "Use `to_crs()` to reproject one of the input geometries to match the CRS of the other.\n",
      "\n",
      "Left CRS: GEOGCS[\"WGS 84\",DATUM[\"WGS_1984\",SPHEROID[\"WGS 84\" ...\n",
      "Right CRS: None\n",
      "\n",
      "  gpd.overlay(radios.iloc[i:i+1,], boundary, how=\"intersection\")\n",
      "<ipython-input-292-4425a615d356>:2: UserWarning: CRS mismatch between the CRS of left geometries and the CRS of right geometries.\n",
      "Use `to_crs()` to reproject one of the input geometries to match the CRS of the other.\n",
      "\n",
      "Left CRS: GEOGCS[\"WGS 84\",DATUM[\"WGS_1984\",SPHEROID[\"WGS 84\" ...\n",
      "Right CRS: None\n",
      "\n",
      "  gpd.overlay(radios.iloc[i:i+1,], boundary, how=\"intersection\")\n",
      "<ipython-input-292-4425a615d356>:2: UserWarning: CRS mismatch between the CRS of left geometries and the CRS of right geometries.\n",
      "Use `to_crs()` to reproject one of the input geometries to match the CRS of the other.\n",
      "\n",
      "Left CRS: GEOGCS[\"WGS 84\",DATUM[\"WGS_1984\",SPHEROID[\"WGS 84\" ...\n",
      "Right CRS: None\n",
      "\n",
      "  gpd.overlay(radios.iloc[i:i+1,], boundary, how=\"intersection\")\n",
      "<ipython-input-292-4425a615d356>:2: UserWarning: CRS mismatch between the CRS of left geometries and the CRS of right geometries.\n",
      "Use `to_crs()` to reproject one of the input geometries to match the CRS of the other.\n",
      "\n",
      "Left CRS: GEOGCS[\"WGS 84\",DATUM[\"WGS_1984\",SPHEROID[\"WGS 84\" ...\n",
      "Right CRS: None\n",
      "\n",
      "  gpd.overlay(radios.iloc[i:i+1,], boundary, how=\"intersection\")\n",
      "<ipython-input-292-4425a615d356>:2: UserWarning: CRS mismatch between the CRS of left geometries and the CRS of right geometries.\n",
      "Use `to_crs()` to reproject one of the input geometries to match the CRS of the other.\n",
      "\n",
      "Left CRS: GEOGCS[\"WGS 84\",DATUM[\"WGS_1984\",SPHEROID[\"WGS 84\" ...\n",
      "Right CRS: None\n",
      "\n",
      "  gpd.overlay(radios.iloc[i:i+1,], boundary, how=\"intersection\")\n",
      "<ipython-input-292-4425a615d356>:2: UserWarning: CRS mismatch between the CRS of left geometries and the CRS of right geometries.\n",
      "Use `to_crs()` to reproject one of the input geometries to match the CRS of the other.\n",
      "\n",
      "Left CRS: GEOGCS[\"WGS 84\",DATUM[\"WGS_1984\",SPHEROID[\"WGS 84\" ...\n",
      "Right CRS: None\n",
      "\n",
      "  gpd.overlay(radios.iloc[i:i+1,], boundary, how=\"intersection\")\n",
      "<ipython-input-292-4425a615d356>:2: UserWarning: CRS mismatch between the CRS of left geometries and the CRS of right geometries.\n",
      "Use `to_crs()` to reproject one of the input geometries to match the CRS of the other.\n",
      "\n",
      "Left CRS: GEOGCS[\"WGS 84\",DATUM[\"WGS_1984\",SPHEROID[\"WGS 84\" ...\n",
      "Right CRS: None\n",
      "\n",
      "  gpd.overlay(radios.iloc[i:i+1,], boundary, how=\"intersection\")\n",
      "<ipython-input-292-4425a615d356>:2: UserWarning: CRS mismatch between the CRS of left geometries and the CRS of right geometries.\n",
      "Use `to_crs()` to reproject one of the input geometries to match the CRS of the other.\n",
      "\n",
      "Left CRS: GEOGCS[\"WGS 84\",DATUM[\"WGS_1984\",SPHEROID[\"WGS 84\" ...\n",
      "Right CRS: None\n",
      "\n",
      "  gpd.overlay(radios.iloc[i:i+1,], boundary, how=\"intersection\")\n",
      "<ipython-input-292-4425a615d356>:2: UserWarning: CRS mismatch between the CRS of left geometries and the CRS of right geometries.\n",
      "Use `to_crs()` to reproject one of the input geometries to match the CRS of the other.\n",
      "\n",
      "Left CRS: GEOGCS[\"WGS 84\",DATUM[\"WGS_1984\",SPHEROID[\"WGS 84\" ...\n",
      "Right CRS: None\n",
      "\n",
      "  gpd.overlay(radios.iloc[i:i+1,], boundary, how=\"intersection\")\n",
      "<ipython-input-292-4425a615d356>:2: UserWarning: CRS mismatch between the CRS of left geometries and the CRS of right geometries.\n",
      "Use `to_crs()` to reproject one of the input geometries to match the CRS of the other.\n",
      "\n",
      "Left CRS: GEOGCS[\"WGS 84\",DATUM[\"WGS_1984\",SPHEROID[\"WGS 84\" ...\n",
      "Right CRS: None\n",
      "\n",
      "  gpd.overlay(radios.iloc[i:i+1,], boundary, how=\"intersection\")\n",
      "<ipython-input-292-4425a615d356>:2: UserWarning: CRS mismatch between the CRS of left geometries and the CRS of right geometries.\n",
      "Use `to_crs()` to reproject one of the input geometries to match the CRS of the other.\n",
      "\n",
      "Left CRS: GEOGCS[\"WGS 84\",DATUM[\"WGS_1984\",SPHEROID[\"WGS 84\" ...\n",
      "Right CRS: None\n",
      "\n",
      "  gpd.overlay(radios.iloc[i:i+1,], boundary, how=\"intersection\")\n",
      "<ipython-input-292-4425a615d356>:2: UserWarning: CRS mismatch between the CRS of left geometries and the CRS of right geometries.\n",
      "Use `to_crs()` to reproject one of the input geometries to match the CRS of the other.\n",
      "\n",
      "Left CRS: GEOGCS[\"WGS 84\",DATUM[\"WGS_1984\",SPHEROID[\"WGS 84\" ...\n",
      "Right CRS: None\n",
      "\n",
      "  gpd.overlay(radios.iloc[i:i+1,], boundary, how=\"intersection\")\n",
      "<ipython-input-292-4425a615d356>:2: UserWarning: CRS mismatch between the CRS of left geometries and the CRS of right geometries.\n",
      "Use `to_crs()` to reproject one of the input geometries to match the CRS of the other.\n",
      "\n",
      "Left CRS: GEOGCS[\"WGS 84\",DATUM[\"WGS_1984\",SPHEROID[\"WGS 84\" ...\n",
      "Right CRS: None\n",
      "\n",
      "  gpd.overlay(radios.iloc[i:i+1,], boundary, how=\"intersection\")\n",
      "<ipython-input-292-4425a615d356>:2: UserWarning: CRS mismatch between the CRS of left geometries and the CRS of right geometries.\n",
      "Use `to_crs()` to reproject one of the input geometries to match the CRS of the other.\n",
      "\n",
      "Left CRS: GEOGCS[\"WGS 84\",DATUM[\"WGS_1984\",SPHEROID[\"WGS 84\" ...\n",
      "Right CRS: None\n",
      "\n",
      "  gpd.overlay(radios.iloc[i:i+1,], boundary, how=\"intersection\")\n",
      "<ipython-input-292-4425a615d356>:2: UserWarning: CRS mismatch between the CRS of left geometries and the CRS of right geometries.\n",
      "Use `to_crs()` to reproject one of the input geometries to match the CRS of the other.\n",
      "\n",
      "Left CRS: GEOGCS[\"WGS 84\",DATUM[\"WGS_1984\",SPHEROID[\"WGS 84\" ...\n",
      "Right CRS: None\n",
      "\n",
      "  gpd.overlay(radios.iloc[i:i+1,], boundary, how=\"intersection\")\n",
      "<ipython-input-292-4425a615d356>:2: UserWarning: CRS mismatch between the CRS of left geometries and the CRS of right geometries.\n",
      "Use `to_crs()` to reproject one of the input geometries to match the CRS of the other.\n",
      "\n",
      "Left CRS: GEOGCS[\"WGS 84\",DATUM[\"WGS_1984\",SPHEROID[\"WGS 84\" ...\n",
      "Right CRS: None\n",
      "\n",
      "  gpd.overlay(radios.iloc[i:i+1,], boundary, how=\"intersection\")\n",
      "<ipython-input-292-4425a615d356>:2: UserWarning: CRS mismatch between the CRS of left geometries and the CRS of right geometries.\n",
      "Use `to_crs()` to reproject one of the input geometries to match the CRS of the other.\n",
      "\n",
      "Left CRS: GEOGCS[\"WGS 84\",DATUM[\"WGS_1984\",SPHEROID[\"WGS 84\" ...\n",
      "Right CRS: None\n",
      "\n",
      "  gpd.overlay(radios.iloc[i:i+1,], boundary, how=\"intersection\")\n",
      "<ipython-input-292-4425a615d356>:2: UserWarning: CRS mismatch between the CRS of left geometries and the CRS of right geometries.\n",
      "Use `to_crs()` to reproject one of the input geometries to match the CRS of the other.\n",
      "\n",
      "Left CRS: GEOGCS[\"WGS 84\",DATUM[\"WGS_1984\",SPHEROID[\"WGS 84\" ...\n",
      "Right CRS: None\n",
      "\n",
      "  gpd.overlay(radios.iloc[i:i+1,], boundary, how=\"intersection\")\n",
      "<ipython-input-292-4425a615d356>:2: UserWarning: CRS mismatch between the CRS of left geometries and the CRS of right geometries.\n",
      "Use `to_crs()` to reproject one of the input geometries to match the CRS of the other.\n",
      "\n",
      "Left CRS: GEOGCS[\"WGS 84\",DATUM[\"WGS_1984\",SPHEROID[\"WGS 84\" ...\n",
      "Right CRS: None\n",
      "\n",
      "  gpd.overlay(radios.iloc[i:i+1,], boundary, how=\"intersection\")\n",
      "<ipython-input-292-4425a615d356>:2: UserWarning: CRS mismatch between the CRS of left geometries and the CRS of right geometries.\n",
      "Use `to_crs()` to reproject one of the input geometries to match the CRS of the other.\n",
      "\n",
      "Left CRS: GEOGCS[\"WGS 84\",DATUM[\"WGS_1984\",SPHEROID[\"WGS 84\" ...\n",
      "Right CRS: None\n",
      "\n",
      "  gpd.overlay(radios.iloc[i:i+1,], boundary, how=\"intersection\")\n",
      "<ipython-input-292-4425a615d356>:2: UserWarning: CRS mismatch between the CRS of left geometries and the CRS of right geometries.\n",
      "Use `to_crs()` to reproject one of the input geometries to match the CRS of the other.\n",
      "\n",
      "Left CRS: GEOGCS[\"WGS 84\",DATUM[\"WGS_1984\",SPHEROID[\"WGS 84\" ...\n",
      "Right CRS: None\n",
      "\n",
      "  gpd.overlay(radios.iloc[i:i+1,], boundary, how=\"intersection\")\n",
      "<ipython-input-292-4425a615d356>:2: UserWarning: CRS mismatch between the CRS of left geometries and the CRS of right geometries.\n",
      "Use `to_crs()` to reproject one of the input geometries to match the CRS of the other.\n",
      "\n",
      "Left CRS: GEOGCS[\"WGS 84\",DATUM[\"WGS_1984\",SPHEROID[\"WGS 84\" ...\n",
      "Right CRS: None\n",
      "\n",
      "  gpd.overlay(radios.iloc[i:i+1,], boundary, how=\"intersection\")\n",
      "<ipython-input-292-4425a615d356>:2: UserWarning: CRS mismatch between the CRS of left geometries and the CRS of right geometries.\n",
      "Use `to_crs()` to reproject one of the input geometries to match the CRS of the other.\n",
      "\n",
      "Left CRS: GEOGCS[\"WGS 84\",DATUM[\"WGS_1984\",SPHEROID[\"WGS 84\" ...\n",
      "Right CRS: None\n",
      "\n",
      "  gpd.overlay(radios.iloc[i:i+1,], boundary, how=\"intersection\")\n",
      "<ipython-input-292-4425a615d356>:2: UserWarning: CRS mismatch between the CRS of left geometries and the CRS of right geometries.\n",
      "Use `to_crs()` to reproject one of the input geometries to match the CRS of the other.\n",
      "\n",
      "Left CRS: GEOGCS[\"WGS 84\",DATUM[\"WGS_1984\",SPHEROID[\"WGS 84\" ...\n",
      "Right CRS: None\n",
      "\n",
      "  gpd.overlay(radios.iloc[i:i+1,], boundary, how=\"intersection\")\n",
      "<ipython-input-292-4425a615d356>:2: UserWarning: CRS mismatch between the CRS of left geometries and the CRS of right geometries.\n",
      "Use `to_crs()` to reproject one of the input geometries to match the CRS of the other.\n",
      "\n",
      "Left CRS: GEOGCS[\"WGS 84\",DATUM[\"WGS_1984\",SPHEROID[\"WGS 84\" ...\n",
      "Right CRS: None\n",
      "\n",
      "  gpd.overlay(radios.iloc[i:i+1,], boundary, how=\"intersection\")\n",
      "<ipython-input-292-4425a615d356>:2: UserWarning: CRS mismatch between the CRS of left geometries and the CRS of right geometries.\n",
      "Use `to_crs()` to reproject one of the input geometries to match the CRS of the other.\n",
      "\n",
      "Left CRS: GEOGCS[\"WGS 84\",DATUM[\"WGS_1984\",SPHEROID[\"WGS 84\" ...\n",
      "Right CRS: None\n",
      "\n",
      "  gpd.overlay(radios.iloc[i:i+1,], boundary, how=\"intersection\")\n",
      "<ipython-input-292-4425a615d356>:2: UserWarning: CRS mismatch between the CRS of left geometries and the CRS of right geometries.\n",
      "Use `to_crs()` to reproject one of the input geometries to match the CRS of the other.\n",
      "\n",
      "Left CRS: GEOGCS[\"WGS 84\",DATUM[\"WGS_1984\",SPHEROID[\"WGS 84\" ...\n",
      "Right CRS: None\n",
      "\n",
      "  gpd.overlay(radios.iloc[i:i+1,], boundary, how=\"intersection\")\n",
      "<ipython-input-292-4425a615d356>:2: UserWarning: CRS mismatch between the CRS of left geometries and the CRS of right geometries.\n",
      "Use `to_crs()` to reproject one of the input geometries to match the CRS of the other.\n",
      "\n",
      "Left CRS: GEOGCS[\"WGS 84\",DATUM[\"WGS_1984\",SPHEROID[\"WGS 84\" ...\n",
      "Right CRS: None\n",
      "\n",
      "  gpd.overlay(radios.iloc[i:i+1,], boundary, how=\"intersection\")\n",
      "<ipython-input-292-4425a615d356>:2: UserWarning: CRS mismatch between the CRS of left geometries and the CRS of right geometries.\n",
      "Use `to_crs()` to reproject one of the input geometries to match the CRS of the other.\n",
      "\n",
      "Left CRS: GEOGCS[\"WGS 84\",DATUM[\"WGS_1984\",SPHEROID[\"WGS 84\" ...\n",
      "Right CRS: None\n",
      "\n",
      "  gpd.overlay(radios.iloc[i:i+1,], boundary, how=\"intersection\")\n",
      "<ipython-input-292-4425a615d356>:2: UserWarning: CRS mismatch between the CRS of left geometries and the CRS of right geometries.\n",
      "Use `to_crs()` to reproject one of the input geometries to match the CRS of the other.\n",
      "\n",
      "Left CRS: GEOGCS[\"WGS 84\",DATUM[\"WGS_1984\",SPHEROID[\"WGS 84\" ...\n",
      "Right CRS: None\n",
      "\n",
      "  gpd.overlay(radios.iloc[i:i+1,], boundary, how=\"intersection\")\n",
      "<ipython-input-292-4425a615d356>:2: UserWarning: CRS mismatch between the CRS of left geometries and the CRS of right geometries.\n",
      "Use `to_crs()` to reproject one of the input geometries to match the CRS of the other.\n",
      "\n",
      "Left CRS: GEOGCS[\"WGS 84\",DATUM[\"WGS_1984\",SPHEROID[\"WGS 84\" ...\n",
      "Right CRS: None\n",
      "\n",
      "  gpd.overlay(radios.iloc[i:i+1,], boundary, how=\"intersection\")\n",
      "<ipython-input-292-4425a615d356>:2: UserWarning: CRS mismatch between the CRS of left geometries and the CRS of right geometries.\n",
      "Use `to_crs()` to reproject one of the input geometries to match the CRS of the other.\n",
      "\n",
      "Left CRS: GEOGCS[\"WGS 84\",DATUM[\"WGS_1984\",SPHEROID[\"WGS 84\" ...\n",
      "Right CRS: None\n",
      "\n",
      "  gpd.overlay(radios.iloc[i:i+1,], boundary, how=\"intersection\")\n",
      "<ipython-input-292-4425a615d356>:2: UserWarning: CRS mismatch between the CRS of left geometries and the CRS of right geometries.\n",
      "Use `to_crs()` to reproject one of the input geometries to match the CRS of the other.\n",
      "\n",
      "Left CRS: GEOGCS[\"WGS 84\",DATUM[\"WGS_1984\",SPHEROID[\"WGS 84\" ...\n",
      "Right CRS: None\n",
      "\n",
      "  gpd.overlay(radios.iloc[i:i+1,], boundary, how=\"intersection\")\n",
      "<ipython-input-292-4425a615d356>:2: UserWarning: CRS mismatch between the CRS of left geometries and the CRS of right geometries.\n",
      "Use `to_crs()` to reproject one of the input geometries to match the CRS of the other.\n",
      "\n",
      "Left CRS: GEOGCS[\"WGS 84\",DATUM[\"WGS_1984\",SPHEROID[\"WGS 84\" ...\n",
      "Right CRS: None\n",
      "\n",
      "  gpd.overlay(radios.iloc[i:i+1,], boundary, how=\"intersection\")\n",
      "<ipython-input-292-4425a615d356>:2: UserWarning: CRS mismatch between the CRS of left geometries and the CRS of right geometries.\n",
      "Use `to_crs()` to reproject one of the input geometries to match the CRS of the other.\n",
      "\n",
      "Left CRS: GEOGCS[\"WGS 84\",DATUM[\"WGS_1984\",SPHEROID[\"WGS 84\" ...\n",
      "Right CRS: None\n",
      "\n",
      "  gpd.overlay(radios.iloc[i:i+1,], boundary, how=\"intersection\")\n",
      "<ipython-input-292-4425a615d356>:2: UserWarning: CRS mismatch between the CRS of left geometries and the CRS of right geometries.\n",
      "Use `to_crs()` to reproject one of the input geometries to match the CRS of the other.\n",
      "\n",
      "Left CRS: GEOGCS[\"WGS 84\",DATUM[\"WGS_1984\",SPHEROID[\"WGS 84\" ...\n",
      "Right CRS: None\n",
      "\n",
      "  gpd.overlay(radios.iloc[i:i+1,], boundary, how=\"intersection\")\n",
      "<ipython-input-292-4425a615d356>:2: UserWarning: CRS mismatch between the CRS of left geometries and the CRS of right geometries.\n",
      "Use `to_crs()` to reproject one of the input geometries to match the CRS of the other.\n",
      "\n",
      "Left CRS: GEOGCS[\"WGS 84\",DATUM[\"WGS_1984\",SPHEROID[\"WGS 84\" ...\n",
      "Right CRS: None\n",
      "\n",
      "  gpd.overlay(radios.iloc[i:i+1,], boundary, how=\"intersection\")\n",
      "<ipython-input-292-4425a615d356>:2: UserWarning: CRS mismatch between the CRS of left geometries and the CRS of right geometries.\n",
      "Use `to_crs()` to reproject one of the input geometries to match the CRS of the other.\n",
      "\n",
      "Left CRS: GEOGCS[\"WGS 84\",DATUM[\"WGS_1984\",SPHEROID[\"WGS 84\" ...\n",
      "Right CRS: None\n",
      "\n",
      "  gpd.overlay(radios.iloc[i:i+1,], boundary, how=\"intersection\")\n",
      "<ipython-input-292-4425a615d356>:2: UserWarning: CRS mismatch between the CRS of left geometries and the CRS of right geometries.\n",
      "Use `to_crs()` to reproject one of the input geometries to match the CRS of the other.\n",
      "\n",
      "Left CRS: GEOGCS[\"WGS 84\",DATUM[\"WGS_1984\",SPHEROID[\"WGS 84\" ...\n",
      "Right CRS: None\n",
      "\n",
      "  gpd.overlay(radios.iloc[i:i+1,], boundary, how=\"intersection\")\n",
      "<ipython-input-292-4425a615d356>:2: UserWarning: CRS mismatch between the CRS of left geometries and the CRS of right geometries.\n",
      "Use `to_crs()` to reproject one of the input geometries to match the CRS of the other.\n",
      "\n",
      "Left CRS: GEOGCS[\"WGS 84\",DATUM[\"WGS_1984\",SPHEROID[\"WGS 84\" ...\n",
      "Right CRS: None\n",
      "\n",
      "  gpd.overlay(radios.iloc[i:i+1,], boundary, how=\"intersection\")\n",
      "<ipython-input-292-4425a615d356>:2: UserWarning: CRS mismatch between the CRS of left geometries and the CRS of right geometries.\n",
      "Use `to_crs()` to reproject one of the input geometries to match the CRS of the other.\n",
      "\n",
      "Left CRS: GEOGCS[\"WGS 84\",DATUM[\"WGS_1984\",SPHEROID[\"WGS 84\" ...\n",
      "Right CRS: None\n",
      "\n",
      "  gpd.overlay(radios.iloc[i:i+1,], boundary, how=\"intersection\")\n",
      "<ipython-input-292-4425a615d356>:2: UserWarning: CRS mismatch between the CRS of left geometries and the CRS of right geometries.\n",
      "Use `to_crs()` to reproject one of the input geometries to match the CRS of the other.\n",
      "\n",
      "Left CRS: GEOGCS[\"WGS 84\",DATUM[\"WGS_1984\",SPHEROID[\"WGS 84\" ...\n",
      "Right CRS: None\n",
      "\n",
      "  gpd.overlay(radios.iloc[i:i+1,], boundary, how=\"intersection\")\n",
      "<ipython-input-292-4425a615d356>:2: UserWarning: CRS mismatch between the CRS of left geometries and the CRS of right geometries.\n",
      "Use `to_crs()` to reproject one of the input geometries to match the CRS of the other.\n",
      "\n",
      "Left CRS: GEOGCS[\"WGS 84\",DATUM[\"WGS_1984\",SPHEROID[\"WGS 84\" ...\n",
      "Right CRS: None\n",
      "\n",
      "  gpd.overlay(radios.iloc[i:i+1,], boundary, how=\"intersection\")\n",
      "<ipython-input-292-4425a615d356>:2: UserWarning: CRS mismatch between the CRS of left geometries and the CRS of right geometries.\n",
      "Use `to_crs()` to reproject one of the input geometries to match the CRS of the other.\n",
      "\n",
      "Left CRS: GEOGCS[\"WGS 84\",DATUM[\"WGS_1984\",SPHEROID[\"WGS 84\" ...\n",
      "Right CRS: None\n",
      "\n",
      "  gpd.overlay(radios.iloc[i:i+1,], boundary, how=\"intersection\")\n",
      "<ipython-input-292-4425a615d356>:2: UserWarning: CRS mismatch between the CRS of left geometries and the CRS of right geometries.\n",
      "Use `to_crs()` to reproject one of the input geometries to match the CRS of the other.\n",
      "\n",
      "Left CRS: GEOGCS[\"WGS 84\",DATUM[\"WGS_1984\",SPHEROID[\"WGS 84\" ...\n",
      "Right CRS: None\n",
      "\n",
      "  gpd.overlay(radios.iloc[i:i+1,], boundary, how=\"intersection\")\n",
      "<ipython-input-292-4425a615d356>:2: UserWarning: CRS mismatch between the CRS of left geometries and the CRS of right geometries.\n",
      "Use `to_crs()` to reproject one of the input geometries to match the CRS of the other.\n",
      "\n",
      "Left CRS: GEOGCS[\"WGS 84\",DATUM[\"WGS_1984\",SPHEROID[\"WGS 84\" ...\n",
      "Right CRS: None\n",
      "\n",
      "  gpd.overlay(radios.iloc[i:i+1,], boundary, how=\"intersection\")\n",
      "<ipython-input-292-4425a615d356>:2: UserWarning: CRS mismatch between the CRS of left geometries and the CRS of right geometries.\n",
      "Use `to_crs()` to reproject one of the input geometries to match the CRS of the other.\n",
      "\n",
      "Left CRS: GEOGCS[\"WGS 84\",DATUM[\"WGS_1984\",SPHEROID[\"WGS 84\" ...\n",
      "Right CRS: None\n",
      "\n",
      "  gpd.overlay(radios.iloc[i:i+1,], boundary, how=\"intersection\")\n",
      "<ipython-input-292-4425a615d356>:2: UserWarning: CRS mismatch between the CRS of left geometries and the CRS of right geometries.\n",
      "Use `to_crs()` to reproject one of the input geometries to match the CRS of the other.\n",
      "\n",
      "Left CRS: GEOGCS[\"WGS 84\",DATUM[\"WGS_1984\",SPHEROID[\"WGS 84\" ...\n",
      "Right CRS: None\n",
      "\n",
      "  gpd.overlay(radios.iloc[i:i+1,], boundary, how=\"intersection\")\n",
      "<ipython-input-292-4425a615d356>:2: UserWarning: CRS mismatch between the CRS of left geometries and the CRS of right geometries.\n",
      "Use `to_crs()` to reproject one of the input geometries to match the CRS of the other.\n",
      "\n",
      "Left CRS: GEOGCS[\"WGS 84\",DATUM[\"WGS_1984\",SPHEROID[\"WGS 84\" ...\n",
      "Right CRS: None\n",
      "\n",
      "  gpd.overlay(radios.iloc[i:i+1,], boundary, how=\"intersection\")\n",
      "<ipython-input-292-4425a615d356>:2: UserWarning: CRS mismatch between the CRS of left geometries and the CRS of right geometries.\n",
      "Use `to_crs()` to reproject one of the input geometries to match the CRS of the other.\n",
      "\n",
      "Left CRS: GEOGCS[\"WGS 84\",DATUM[\"WGS_1984\",SPHEROID[\"WGS 84\" ...\n",
      "Right CRS: None\n",
      "\n",
      "  gpd.overlay(radios.iloc[i:i+1,], boundary, how=\"intersection\")\n",
      "<ipython-input-292-4425a615d356>:2: UserWarning: CRS mismatch between the CRS of left geometries and the CRS of right geometries.\n",
      "Use `to_crs()` to reproject one of the input geometries to match the CRS of the other.\n",
      "\n",
      "Left CRS: GEOGCS[\"WGS 84\",DATUM[\"WGS_1984\",SPHEROID[\"WGS 84\" ...\n",
      "Right CRS: None\n",
      "\n",
      "  gpd.overlay(radios.iloc[i:i+1,], boundary, how=\"intersection\")\n",
      "<ipython-input-292-4425a615d356>:2: UserWarning: CRS mismatch between the CRS of left geometries and the CRS of right geometries.\n",
      "Use `to_crs()` to reproject one of the input geometries to match the CRS of the other.\n",
      "\n",
      "Left CRS: GEOGCS[\"WGS 84\",DATUM[\"WGS_1984\",SPHEROID[\"WGS 84\" ...\n",
      "Right CRS: None\n",
      "\n",
      "  gpd.overlay(radios.iloc[i:i+1,], boundary, how=\"intersection\")\n",
      "<ipython-input-292-4425a615d356>:2: UserWarning: CRS mismatch between the CRS of left geometries and the CRS of right geometries.\n",
      "Use `to_crs()` to reproject one of the input geometries to match the CRS of the other.\n",
      "\n",
      "Left CRS: GEOGCS[\"WGS 84\",DATUM[\"WGS_1984\",SPHEROID[\"WGS 84\" ...\n",
      "Right CRS: None\n",
      "\n",
      "  gpd.overlay(radios.iloc[i:i+1,], boundary, how=\"intersection\")\n",
      "<ipython-input-292-4425a615d356>:2: UserWarning: CRS mismatch between the CRS of left geometries and the CRS of right geometries.\n",
      "Use `to_crs()` to reproject one of the input geometries to match the CRS of the other.\n",
      "\n",
      "Left CRS: GEOGCS[\"WGS 84\",DATUM[\"WGS_1984\",SPHEROID[\"WGS 84\" ...\n",
      "Right CRS: None\n",
      "\n",
      "  gpd.overlay(radios.iloc[i:i+1,], boundary, how=\"intersection\")\n",
      "<ipython-input-292-4425a615d356>:2: UserWarning: CRS mismatch between the CRS of left geometries and the CRS of right geometries.\n",
      "Use `to_crs()` to reproject one of the input geometries to match the CRS of the other.\n",
      "\n",
      "Left CRS: GEOGCS[\"WGS 84\",DATUM[\"WGS_1984\",SPHEROID[\"WGS 84\" ...\n",
      "Right CRS: None\n",
      "\n",
      "  gpd.overlay(radios.iloc[i:i+1,], boundary, how=\"intersection\")\n",
      "<ipython-input-292-4425a615d356>:2: UserWarning: CRS mismatch between the CRS of left geometries and the CRS of right geometries.\n",
      "Use `to_crs()` to reproject one of the input geometries to match the CRS of the other.\n",
      "\n",
      "Left CRS: GEOGCS[\"WGS 84\",DATUM[\"WGS_1984\",SPHEROID[\"WGS 84\" ...\n",
      "Right CRS: None\n",
      "\n",
      "  gpd.overlay(radios.iloc[i:i+1,], boundary, how=\"intersection\")\n",
      "<ipython-input-292-4425a615d356>:2: UserWarning: CRS mismatch between the CRS of left geometries and the CRS of right geometries.\n",
      "Use `to_crs()` to reproject one of the input geometries to match the CRS of the other.\n",
      "\n",
      "Left CRS: GEOGCS[\"WGS 84\",DATUM[\"WGS_1984\",SPHEROID[\"WGS 84\" ...\n",
      "Right CRS: None\n",
      "\n",
      "  gpd.overlay(radios.iloc[i:i+1,], boundary, how=\"intersection\")\n",
      "<ipython-input-292-4425a615d356>:2: UserWarning: CRS mismatch between the CRS of left geometries and the CRS of right geometries.\n",
      "Use `to_crs()` to reproject one of the input geometries to match the CRS of the other.\n",
      "\n",
      "Left CRS: GEOGCS[\"WGS 84\",DATUM[\"WGS_1984\",SPHEROID[\"WGS 84\" ...\n",
      "Right CRS: None\n",
      "\n",
      "  gpd.overlay(radios.iloc[i:i+1,], boundary, how=\"intersection\")\n",
      "<ipython-input-292-4425a615d356>:2: UserWarning: CRS mismatch between the CRS of left geometries and the CRS of right geometries.\n",
      "Use `to_crs()` to reproject one of the input geometries to match the CRS of the other.\n",
      "\n",
      "Left CRS: GEOGCS[\"WGS 84\",DATUM[\"WGS_1984\",SPHEROID[\"WGS 84\" ...\n",
      "Right CRS: None\n",
      "\n",
      "  gpd.overlay(radios.iloc[i:i+1,], boundary, how=\"intersection\")\n",
      "<ipython-input-292-4425a615d356>:2: UserWarning: CRS mismatch between the CRS of left geometries and the CRS of right geometries.\n",
      "Use `to_crs()` to reproject one of the input geometries to match the CRS of the other.\n",
      "\n",
      "Left CRS: GEOGCS[\"WGS 84\",DATUM[\"WGS_1984\",SPHEROID[\"WGS 84\" ...\n",
      "Right CRS: None\n",
      "\n",
      "  gpd.overlay(radios.iloc[i:i+1,], boundary, how=\"intersection\")\n",
      "<ipython-input-292-4425a615d356>:2: UserWarning: CRS mismatch between the CRS of left geometries and the CRS of right geometries.\n",
      "Use `to_crs()` to reproject one of the input geometries to match the CRS of the other.\n",
      "\n",
      "Left CRS: GEOGCS[\"WGS 84\",DATUM[\"WGS_1984\",SPHEROID[\"WGS 84\" ...\n",
      "Right CRS: None\n",
      "\n",
      "  gpd.overlay(radios.iloc[i:i+1,], boundary, how=\"intersection\")\n",
      "<ipython-input-292-4425a615d356>:2: UserWarning: CRS mismatch between the CRS of left geometries and the CRS of right geometries.\n",
      "Use `to_crs()` to reproject one of the input geometries to match the CRS of the other.\n",
      "\n",
      "Left CRS: GEOGCS[\"WGS 84\",DATUM[\"WGS_1984\",SPHEROID[\"WGS 84\" ...\n",
      "Right CRS: None\n",
      "\n",
      "  gpd.overlay(radios.iloc[i:i+1,], boundary, how=\"intersection\")\n",
      "<ipython-input-292-4425a615d356>:2: UserWarning: CRS mismatch between the CRS of left geometries and the CRS of right geometries.\n",
      "Use `to_crs()` to reproject one of the input geometries to match the CRS of the other.\n",
      "\n",
      "Left CRS: GEOGCS[\"WGS 84\",DATUM[\"WGS_1984\",SPHEROID[\"WGS 84\" ...\n",
      "Right CRS: None\n",
      "\n",
      "  gpd.overlay(radios.iloc[i:i+1,], boundary, how=\"intersection\")\n",
      "<ipython-input-292-4425a615d356>:2: UserWarning: CRS mismatch between the CRS of left geometries and the CRS of right geometries.\n",
      "Use `to_crs()` to reproject one of the input geometries to match the CRS of the other.\n",
      "\n",
      "Left CRS: GEOGCS[\"WGS 84\",DATUM[\"WGS_1984\",SPHEROID[\"WGS 84\" ...\n",
      "Right CRS: None\n",
      "\n",
      "  gpd.overlay(radios.iloc[i:i+1,], boundary, how=\"intersection\")\n",
      "<ipython-input-292-4425a615d356>:2: UserWarning: CRS mismatch between the CRS of left geometries and the CRS of right geometries.\n",
      "Use `to_crs()` to reproject one of the input geometries to match the CRS of the other.\n",
      "\n",
      "Left CRS: GEOGCS[\"WGS 84\",DATUM[\"WGS_1984\",SPHEROID[\"WGS 84\" ...\n",
      "Right CRS: None\n",
      "\n",
      "  gpd.overlay(radios.iloc[i:i+1,], boundary, how=\"intersection\")\n",
      "<ipython-input-292-4425a615d356>:2: UserWarning: CRS mismatch between the CRS of left geometries and the CRS of right geometries.\n",
      "Use `to_crs()` to reproject one of the input geometries to match the CRS of the other.\n",
      "\n",
      "Left CRS: GEOGCS[\"WGS 84\",DATUM[\"WGS_1984\",SPHEROID[\"WGS 84\" ...\n",
      "Right CRS: None\n",
      "\n",
      "  gpd.overlay(radios.iloc[i:i+1,], boundary, how=\"intersection\")\n",
      "<ipython-input-292-4425a615d356>:2: UserWarning: CRS mismatch between the CRS of left geometries and the CRS of right geometries.\n",
      "Use `to_crs()` to reproject one of the input geometries to match the CRS of the other.\n",
      "\n",
      "Left CRS: GEOGCS[\"WGS 84\",DATUM[\"WGS_1984\",SPHEROID[\"WGS 84\" ...\n",
      "Right CRS: None\n",
      "\n",
      "  gpd.overlay(radios.iloc[i:i+1,], boundary, how=\"intersection\")\n",
      "<ipython-input-292-4425a615d356>:2: UserWarning: CRS mismatch between the CRS of left geometries and the CRS of right geometries.\n",
      "Use `to_crs()` to reproject one of the input geometries to match the CRS of the other.\n",
      "\n",
      "Left CRS: GEOGCS[\"WGS 84\",DATUM[\"WGS_1984\",SPHEROID[\"WGS 84\" ...\n",
      "Right CRS: None\n",
      "\n",
      "  gpd.overlay(radios.iloc[i:i+1,], boundary, how=\"intersection\")\n",
      "<ipython-input-292-4425a615d356>:2: UserWarning: CRS mismatch between the CRS of left geometries and the CRS of right geometries.\n",
      "Use `to_crs()` to reproject one of the input geometries to match the CRS of the other.\n",
      "\n",
      "Left CRS: GEOGCS[\"WGS 84\",DATUM[\"WGS_1984\",SPHEROID[\"WGS 84\" ...\n",
      "Right CRS: None\n",
      "\n",
      "  gpd.overlay(radios.iloc[i:i+1,], boundary, how=\"intersection\")\n",
      "<ipython-input-292-4425a615d356>:2: UserWarning: CRS mismatch between the CRS of left geometries and the CRS of right geometries.\n",
      "Use `to_crs()` to reproject one of the input geometries to match the CRS of the other.\n",
      "\n",
      "Left CRS: GEOGCS[\"WGS 84\",DATUM[\"WGS_1984\",SPHEROID[\"WGS 84\" ...\n",
      "Right CRS: None\n",
      "\n",
      "  gpd.overlay(radios.iloc[i:i+1,], boundary, how=\"intersection\")\n",
      "<ipython-input-292-4425a615d356>:2: UserWarning: CRS mismatch between the CRS of left geometries and the CRS of right geometries.\n",
      "Use `to_crs()` to reproject one of the input geometries to match the CRS of the other.\n",
      "\n",
      "Left CRS: GEOGCS[\"WGS 84\",DATUM[\"WGS_1984\",SPHEROID[\"WGS 84\" ...\n",
      "Right CRS: None\n",
      "\n",
      "  gpd.overlay(radios.iloc[i:i+1,], boundary, how=\"intersection\")\n",
      "<ipython-input-292-4425a615d356>:2: UserWarning: CRS mismatch between the CRS of left geometries and the CRS of right geometries.\n",
      "Use `to_crs()` to reproject one of the input geometries to match the CRS of the other.\n",
      "\n",
      "Left CRS: GEOGCS[\"WGS 84\",DATUM[\"WGS_1984\",SPHEROID[\"WGS 84\" ...\n",
      "Right CRS: None\n",
      "\n",
      "  gpd.overlay(radios.iloc[i:i+1,], boundary, how=\"intersection\")\n",
      "<ipython-input-292-4425a615d356>:2: UserWarning: CRS mismatch between the CRS of left geometries and the CRS of right geometries.\n",
      "Use `to_crs()` to reproject one of the input geometries to match the CRS of the other.\n",
      "\n",
      "Left CRS: GEOGCS[\"WGS 84\",DATUM[\"WGS_1984\",SPHEROID[\"WGS 84\" ...\n",
      "Right CRS: None\n",
      "\n",
      "  gpd.overlay(radios.iloc[i:i+1,], boundary, how=\"intersection\")\n",
      "<ipython-input-292-4425a615d356>:2: UserWarning: CRS mismatch between the CRS of left geometries and the CRS of right geometries.\n",
      "Use `to_crs()` to reproject one of the input geometries to match the CRS of the other.\n",
      "\n",
      "Left CRS: GEOGCS[\"WGS 84\",DATUM[\"WGS_1984\",SPHEROID[\"WGS 84\" ...\n",
      "Right CRS: None\n",
      "\n",
      "  gpd.overlay(radios.iloc[i:i+1,], boundary, how=\"intersection\")\n",
      "<ipython-input-292-4425a615d356>:2: UserWarning: CRS mismatch between the CRS of left geometries and the CRS of right geometries.\n",
      "Use `to_crs()` to reproject one of the input geometries to match the CRS of the other.\n",
      "\n",
      "Left CRS: GEOGCS[\"WGS 84\",DATUM[\"WGS_1984\",SPHEROID[\"WGS 84\" ...\n",
      "Right CRS: None\n",
      "\n",
      "  gpd.overlay(radios.iloc[i:i+1,], boundary, how=\"intersection\")\n",
      "<ipython-input-292-4425a615d356>:2: UserWarning: CRS mismatch between the CRS of left geometries and the CRS of right geometries.\n",
      "Use `to_crs()` to reproject one of the input geometries to match the CRS of the other.\n",
      "\n",
      "Left CRS: GEOGCS[\"WGS 84\",DATUM[\"WGS_1984\",SPHEROID[\"WGS 84\" ...\n",
      "Right CRS: None\n",
      "\n",
      "  gpd.overlay(radios.iloc[i:i+1,], boundary, how=\"intersection\")\n",
      "<ipython-input-292-4425a615d356>:2: UserWarning: CRS mismatch between the CRS of left geometries and the CRS of right geometries.\n",
      "Use `to_crs()` to reproject one of the input geometries to match the CRS of the other.\n",
      "\n",
      "Left CRS: GEOGCS[\"WGS 84\",DATUM[\"WGS_1984\",SPHEROID[\"WGS 84\" ...\n",
      "Right CRS: None\n",
      "\n",
      "  gpd.overlay(radios.iloc[i:i+1,], boundary, how=\"intersection\")\n",
      "<ipython-input-292-4425a615d356>:2: UserWarning: CRS mismatch between the CRS of left geometries and the CRS of right geometries.\n",
      "Use `to_crs()` to reproject one of the input geometries to match the CRS of the other.\n",
      "\n",
      "Left CRS: GEOGCS[\"WGS 84\",DATUM[\"WGS_1984\",SPHEROID[\"WGS 84\" ...\n",
      "Right CRS: None\n",
      "\n",
      "  gpd.overlay(radios.iloc[i:i+1,], boundary, how=\"intersection\")\n",
      "<ipython-input-292-4425a615d356>:2: UserWarning: CRS mismatch between the CRS of left geometries and the CRS of right geometries.\n",
      "Use `to_crs()` to reproject one of the input geometries to match the CRS of the other.\n",
      "\n",
      "Left CRS: GEOGCS[\"WGS 84\",DATUM[\"WGS_1984\",SPHEROID[\"WGS 84\" ...\n",
      "Right CRS: None\n",
      "\n",
      "  gpd.overlay(radios.iloc[i:i+1,], boundary, how=\"intersection\")\n",
      "<ipython-input-292-4425a615d356>:2: UserWarning: CRS mismatch between the CRS of left geometries and the CRS of right geometries.\n",
      "Use `to_crs()` to reproject one of the input geometries to match the CRS of the other.\n",
      "\n",
      "Left CRS: GEOGCS[\"WGS 84\",DATUM[\"WGS_1984\",SPHEROID[\"WGS 84\" ...\n",
      "Right CRS: None\n",
      "\n",
      "  gpd.overlay(radios.iloc[i:i+1,], boundary, how=\"intersection\")\n",
      "<ipython-input-292-4425a615d356>:2: UserWarning: CRS mismatch between the CRS of left geometries and the CRS of right geometries.\n",
      "Use `to_crs()` to reproject one of the input geometries to match the CRS of the other.\n",
      "\n",
      "Left CRS: GEOGCS[\"WGS 84\",DATUM[\"WGS_1984\",SPHEROID[\"WGS 84\" ...\n",
      "Right CRS: None\n",
      "\n",
      "  gpd.overlay(radios.iloc[i:i+1,], boundary, how=\"intersection\")\n",
      "<ipython-input-292-4425a615d356>:2: UserWarning: CRS mismatch between the CRS of left geometries and the CRS of right geometries.\n",
      "Use `to_crs()` to reproject one of the input geometries to match the CRS of the other.\n",
      "\n",
      "Left CRS: GEOGCS[\"WGS 84\",DATUM[\"WGS_1984\",SPHEROID[\"WGS 84\" ...\n",
      "Right CRS: None\n",
      "\n",
      "  gpd.overlay(radios.iloc[i:i+1,], boundary, how=\"intersection\")\n",
      "<ipython-input-292-4425a615d356>:2: UserWarning: CRS mismatch between the CRS of left geometries and the CRS of right geometries.\n",
      "Use `to_crs()` to reproject one of the input geometries to match the CRS of the other.\n",
      "\n",
      "Left CRS: GEOGCS[\"WGS 84\",DATUM[\"WGS_1984\",SPHEROID[\"WGS 84\" ...\n",
      "Right CRS: None\n",
      "\n",
      "  gpd.overlay(radios.iloc[i:i+1,], boundary, how=\"intersection\")\n",
      "<ipython-input-292-4425a615d356>:2: UserWarning: CRS mismatch between the CRS of left geometries and the CRS of right geometries.\n",
      "Use `to_crs()` to reproject one of the input geometries to match the CRS of the other.\n",
      "\n",
      "Left CRS: GEOGCS[\"WGS 84\",DATUM[\"WGS_1984\",SPHEROID[\"WGS 84\" ...\n",
      "Right CRS: None\n",
      "\n",
      "  gpd.overlay(radios.iloc[i:i+1,], boundary, how=\"intersection\")\n",
      "<ipython-input-292-4425a615d356>:2: UserWarning: CRS mismatch between the CRS of left geometries and the CRS of right geometries.\n",
      "Use `to_crs()` to reproject one of the input geometries to match the CRS of the other.\n",
      "\n",
      "Left CRS: GEOGCS[\"WGS 84\",DATUM[\"WGS_1984\",SPHEROID[\"WGS 84\" ...\n",
      "Right CRS: None\n",
      "\n",
      "  gpd.overlay(radios.iloc[i:i+1,], boundary, how=\"intersection\")\n",
      "<ipython-input-292-4425a615d356>:2: UserWarning: CRS mismatch between the CRS of left geometries and the CRS of right geometries.\n",
      "Use `to_crs()` to reproject one of the input geometries to match the CRS of the other.\n",
      "\n",
      "Left CRS: GEOGCS[\"WGS 84\",DATUM[\"WGS_1984\",SPHEROID[\"WGS 84\" ...\n",
      "Right CRS: None\n",
      "\n",
      "  gpd.overlay(radios.iloc[i:i+1,], boundary, how=\"intersection\")\n",
      "<ipython-input-292-4425a615d356>:2: UserWarning: CRS mismatch between the CRS of left geometries and the CRS of right geometries.\n",
      "Use `to_crs()` to reproject one of the input geometries to match the CRS of the other.\n",
      "\n",
      "Left CRS: GEOGCS[\"WGS 84\",DATUM[\"WGS_1984\",SPHEROID[\"WGS 84\" ...\n",
      "Right CRS: None\n",
      "\n",
      "  gpd.overlay(radios.iloc[i:i+1,], boundary, how=\"intersection\")\n",
      "<ipython-input-292-4425a615d356>:2: UserWarning: CRS mismatch between the CRS of left geometries and the CRS of right geometries.\n",
      "Use `to_crs()` to reproject one of the input geometries to match the CRS of the other.\n",
      "\n",
      "Left CRS: GEOGCS[\"WGS 84\",DATUM[\"WGS_1984\",SPHEROID[\"WGS 84\" ...\n",
      "Right CRS: None\n",
      "\n",
      "  gpd.overlay(radios.iloc[i:i+1,], boundary, how=\"intersection\")\n",
      "<ipython-input-292-4425a615d356>:2: UserWarning: CRS mismatch between the CRS of left geometries and the CRS of right geometries.\n",
      "Use `to_crs()` to reproject one of the input geometries to match the CRS of the other.\n",
      "\n",
      "Left CRS: GEOGCS[\"WGS 84\",DATUM[\"WGS_1984\",SPHEROID[\"WGS 84\" ...\n",
      "Right CRS: None\n",
      "\n",
      "  gpd.overlay(radios.iloc[i:i+1,], boundary, how=\"intersection\")\n",
      "<ipython-input-292-4425a615d356>:2: UserWarning: CRS mismatch between the CRS of left geometries and the CRS of right geometries.\n",
      "Use `to_crs()` to reproject one of the input geometries to match the CRS of the other.\n",
      "\n",
      "Left CRS: GEOGCS[\"WGS 84\",DATUM[\"WGS_1984\",SPHEROID[\"WGS 84\" ...\n",
      "Right CRS: None\n",
      "\n",
      "  gpd.overlay(radios.iloc[i:i+1,], boundary, how=\"intersection\")\n",
      "<ipython-input-292-4425a615d356>:2: UserWarning: CRS mismatch between the CRS of left geometries and the CRS of right geometries.\n",
      "Use `to_crs()` to reproject one of the input geometries to match the CRS of the other.\n",
      "\n",
      "Left CRS: GEOGCS[\"WGS 84\",DATUM[\"WGS_1984\",SPHEROID[\"WGS 84\" ...\n",
      "Right CRS: None\n",
      "\n",
      "  gpd.overlay(radios.iloc[i:i+1,], boundary, how=\"intersection\")\n",
      "<ipython-input-292-4425a615d356>:2: UserWarning: CRS mismatch between the CRS of left geometries and the CRS of right geometries.\n",
      "Use `to_crs()` to reproject one of the input geometries to match the CRS of the other.\n",
      "\n",
      "Left CRS: GEOGCS[\"WGS 84\",DATUM[\"WGS_1984\",SPHEROID[\"WGS 84\" ...\n",
      "Right CRS: None\n",
      "\n",
      "  gpd.overlay(radios.iloc[i:i+1,], boundary, how=\"intersection\")\n",
      "<ipython-input-292-4425a615d356>:2: UserWarning: CRS mismatch between the CRS of left geometries and the CRS of right geometries.\n",
      "Use `to_crs()` to reproject one of the input geometries to match the CRS of the other.\n",
      "\n",
      "Left CRS: GEOGCS[\"WGS 84\",DATUM[\"WGS_1984\",SPHEROID[\"WGS 84\" ...\n",
      "Right CRS: None\n",
      "\n",
      "  gpd.overlay(radios.iloc[i:i+1,], boundary, how=\"intersection\")\n",
      "<ipython-input-292-4425a615d356>:2: UserWarning: CRS mismatch between the CRS of left geometries and the CRS of right geometries.\n",
      "Use `to_crs()` to reproject one of the input geometries to match the CRS of the other.\n",
      "\n",
      "Left CRS: GEOGCS[\"WGS 84\",DATUM[\"WGS_1984\",SPHEROID[\"WGS 84\" ...\n",
      "Right CRS: None\n",
      "\n",
      "  gpd.overlay(radios.iloc[i:i+1,], boundary, how=\"intersection\")\n",
      "<ipython-input-292-4425a615d356>:2: UserWarning: CRS mismatch between the CRS of left geometries and the CRS of right geometries.\n",
      "Use `to_crs()` to reproject one of the input geometries to match the CRS of the other.\n",
      "\n",
      "Left CRS: GEOGCS[\"WGS 84\",DATUM[\"WGS_1984\",SPHEROID[\"WGS 84\" ...\n",
      "Right CRS: None\n",
      "\n",
      "  gpd.overlay(radios.iloc[i:i+1,], boundary, how=\"intersection\")\n",
      "<ipython-input-292-4425a615d356>:2: UserWarning: CRS mismatch between the CRS of left geometries and the CRS of right geometries.\n",
      "Use `to_crs()` to reproject one of the input geometries to match the CRS of the other.\n",
      "\n",
      "Left CRS: GEOGCS[\"WGS 84\",DATUM[\"WGS_1984\",SPHEROID[\"WGS 84\" ...\n",
      "Right CRS: None\n",
      "\n",
      "  gpd.overlay(radios.iloc[i:i+1,], boundary, how=\"intersection\")\n",
      "<ipython-input-292-4425a615d356>:2: UserWarning: CRS mismatch between the CRS of left geometries and the CRS of right geometries.\n",
      "Use `to_crs()` to reproject one of the input geometries to match the CRS of the other.\n",
      "\n",
      "Left CRS: GEOGCS[\"WGS 84\",DATUM[\"WGS_1984\",SPHEROID[\"WGS 84\" ...\n",
      "Right CRS: None\n",
      "\n",
      "  gpd.overlay(radios.iloc[i:i+1,], boundary, how=\"intersection\")\n",
      "<ipython-input-292-4425a615d356>:2: UserWarning: CRS mismatch between the CRS of left geometries and the CRS of right geometries.\n",
      "Use `to_crs()` to reproject one of the input geometries to match the CRS of the other.\n",
      "\n",
      "Left CRS: GEOGCS[\"WGS 84\",DATUM[\"WGS_1984\",SPHEROID[\"WGS 84\" ...\n",
      "Right CRS: None\n",
      "\n",
      "  gpd.overlay(radios.iloc[i:i+1,], boundary, how=\"intersection\")\n",
      "<ipython-input-292-4425a615d356>:2: UserWarning: CRS mismatch between the CRS of left geometries and the CRS of right geometries.\n",
      "Use `to_crs()` to reproject one of the input geometries to match the CRS of the other.\n",
      "\n",
      "Left CRS: GEOGCS[\"WGS 84\",DATUM[\"WGS_1984\",SPHEROID[\"WGS 84\" ...\n",
      "Right CRS: None\n",
      "\n",
      "  gpd.overlay(radios.iloc[i:i+1,], boundary, how=\"intersection\")\n",
      "<ipython-input-292-4425a615d356>:2: UserWarning: CRS mismatch between the CRS of left geometries and the CRS of right geometries.\n",
      "Use `to_crs()` to reproject one of the input geometries to match the CRS of the other.\n",
      "\n",
      "Left CRS: GEOGCS[\"WGS 84\",DATUM[\"WGS_1984\",SPHEROID[\"WGS 84\" ...\n",
      "Right CRS: None\n",
      "\n",
      "  gpd.overlay(radios.iloc[i:i+1,], boundary, how=\"intersection\")\n",
      "<ipython-input-292-4425a615d356>:2: UserWarning: CRS mismatch between the CRS of left geometries and the CRS of right geometries.\n",
      "Use `to_crs()` to reproject one of the input geometries to match the CRS of the other.\n",
      "\n",
      "Left CRS: GEOGCS[\"WGS 84\",DATUM[\"WGS_1984\",SPHEROID[\"WGS 84\" ...\n",
      "Right CRS: None\n",
      "\n",
      "  gpd.overlay(radios.iloc[i:i+1,], boundary, how=\"intersection\")\n",
      "<ipython-input-292-4425a615d356>:2: UserWarning: CRS mismatch between the CRS of left geometries and the CRS of right geometries.\n",
      "Use `to_crs()` to reproject one of the input geometries to match the CRS of the other.\n",
      "\n",
      "Left CRS: GEOGCS[\"WGS 84\",DATUM[\"WGS_1984\",SPHEROID[\"WGS 84\" ...\n",
      "Right CRS: None\n",
      "\n",
      "  gpd.overlay(radios.iloc[i:i+1,], boundary, how=\"intersection\")\n",
      "<ipython-input-292-4425a615d356>:2: UserWarning: CRS mismatch between the CRS of left geometries and the CRS of right geometries.\n",
      "Use `to_crs()` to reproject one of the input geometries to match the CRS of the other.\n",
      "\n",
      "Left CRS: GEOGCS[\"WGS 84\",DATUM[\"WGS_1984\",SPHEROID[\"WGS 84\" ...\n",
      "Right CRS: None\n",
      "\n",
      "  gpd.overlay(radios.iloc[i:i+1,], boundary, how=\"intersection\")\n",
      "<ipython-input-292-4425a615d356>:2: UserWarning: CRS mismatch between the CRS of left geometries and the CRS of right geometries.\n",
      "Use `to_crs()` to reproject one of the input geometries to match the CRS of the other.\n",
      "\n",
      "Left CRS: GEOGCS[\"WGS 84\",DATUM[\"WGS_1984\",SPHEROID[\"WGS 84\" ...\n",
      "Right CRS: None\n",
      "\n",
      "  gpd.overlay(radios.iloc[i:i+1,], boundary, how=\"intersection\")\n",
      "<ipython-input-292-4425a615d356>:2: UserWarning: CRS mismatch between the CRS of left geometries and the CRS of right geometries.\n",
      "Use `to_crs()` to reproject one of the input geometries to match the CRS of the other.\n",
      "\n",
      "Left CRS: GEOGCS[\"WGS 84\",DATUM[\"WGS_1984\",SPHEROID[\"WGS 84\" ...\n",
      "Right CRS: None\n",
      "\n",
      "  gpd.overlay(radios.iloc[i:i+1,], boundary, how=\"intersection\")\n",
      "<ipython-input-292-4425a615d356>:2: UserWarning: CRS mismatch between the CRS of left geometries and the CRS of right geometries.\n",
      "Use `to_crs()` to reproject one of the input geometries to match the CRS of the other.\n",
      "\n",
      "Left CRS: GEOGCS[\"WGS 84\",DATUM[\"WGS_1984\",SPHEROID[\"WGS 84\" ...\n",
      "Right CRS: None\n",
      "\n",
      "  gpd.overlay(radios.iloc[i:i+1,], boundary, how=\"intersection\")\n",
      "<ipython-input-292-4425a615d356>:2: UserWarning: CRS mismatch between the CRS of left geometries and the CRS of right geometries.\n",
      "Use `to_crs()` to reproject one of the input geometries to match the CRS of the other.\n",
      "\n",
      "Left CRS: GEOGCS[\"WGS 84\",DATUM[\"WGS_1984\",SPHEROID[\"WGS 84\" ...\n",
      "Right CRS: None\n",
      "\n",
      "  gpd.overlay(radios.iloc[i:i+1,], boundary, how=\"intersection\")\n",
      "<ipython-input-292-4425a615d356>:2: UserWarning: CRS mismatch between the CRS of left geometries and the CRS of right geometries.\n",
      "Use `to_crs()` to reproject one of the input geometries to match the CRS of the other.\n",
      "\n",
      "Left CRS: GEOGCS[\"WGS 84\",DATUM[\"WGS_1984\",SPHEROID[\"WGS 84\" ...\n",
      "Right CRS: None\n",
      "\n",
      "  gpd.overlay(radios.iloc[i:i+1,], boundary, how=\"intersection\")\n",
      "<ipython-input-292-4425a615d356>:2: UserWarning: CRS mismatch between the CRS of left geometries and the CRS of right geometries.\n",
      "Use `to_crs()` to reproject one of the input geometries to match the CRS of the other.\n",
      "\n",
      "Left CRS: GEOGCS[\"WGS 84\",DATUM[\"WGS_1984\",SPHEROID[\"WGS 84\" ...\n",
      "Right CRS: None\n",
      "\n",
      "  gpd.overlay(radios.iloc[i:i+1,], boundary, how=\"intersection\")\n",
      "<ipython-input-292-4425a615d356>:2: UserWarning: CRS mismatch between the CRS of left geometries and the CRS of right geometries.\n",
      "Use `to_crs()` to reproject one of the input geometries to match the CRS of the other.\n",
      "\n",
      "Left CRS: GEOGCS[\"WGS 84\",DATUM[\"WGS_1984\",SPHEROID[\"WGS 84\" ...\n",
      "Right CRS: None\n",
      "\n",
      "  gpd.overlay(radios.iloc[i:i+1,], boundary, how=\"intersection\")\n",
      "<ipython-input-292-4425a615d356>:2: UserWarning: CRS mismatch between the CRS of left geometries and the CRS of right geometries.\n",
      "Use `to_crs()` to reproject one of the input geometries to match the CRS of the other.\n",
      "\n",
      "Left CRS: GEOGCS[\"WGS 84\",DATUM[\"WGS_1984\",SPHEROID[\"WGS 84\" ...\n",
      "Right CRS: None\n",
      "\n",
      "  gpd.overlay(radios.iloc[i:i+1,], boundary, how=\"intersection\")\n",
      "<ipython-input-292-4425a615d356>:2: UserWarning: CRS mismatch between the CRS of left geometries and the CRS of right geometries.\n",
      "Use `to_crs()` to reproject one of the input geometries to match the CRS of the other.\n",
      "\n",
      "Left CRS: GEOGCS[\"WGS 84\",DATUM[\"WGS_1984\",SPHEROID[\"WGS 84\" ...\n",
      "Right CRS: None\n",
      "\n",
      "  gpd.overlay(radios.iloc[i:i+1,], boundary, how=\"intersection\")\n",
      "<ipython-input-292-4425a615d356>:2: UserWarning: CRS mismatch between the CRS of left geometries and the CRS of right geometries.\n",
      "Use `to_crs()` to reproject one of the input geometries to match the CRS of the other.\n",
      "\n",
      "Left CRS: GEOGCS[\"WGS 84\",DATUM[\"WGS_1984\",SPHEROID[\"WGS 84\" ...\n",
      "Right CRS: None\n",
      "\n",
      "  gpd.overlay(radios.iloc[i:i+1,], boundary, how=\"intersection\")\n",
      "<ipython-input-292-4425a615d356>:2: UserWarning: CRS mismatch between the CRS of left geometries and the CRS of right geometries.\n",
      "Use `to_crs()` to reproject one of the input geometries to match the CRS of the other.\n",
      "\n",
      "Left CRS: GEOGCS[\"WGS 84\",DATUM[\"WGS_1984\",SPHEROID[\"WGS 84\" ...\n",
      "Right CRS: None\n",
      "\n",
      "  gpd.overlay(radios.iloc[i:i+1,], boundary, how=\"intersection\")\n",
      "<ipython-input-292-4425a615d356>:2: UserWarning: CRS mismatch between the CRS of left geometries and the CRS of right geometries.\n",
      "Use `to_crs()` to reproject one of the input geometries to match the CRS of the other.\n",
      "\n",
      "Left CRS: GEOGCS[\"WGS 84\",DATUM[\"WGS_1984\",SPHEROID[\"WGS 84\" ...\n",
      "Right CRS: None\n",
      "\n",
      "  gpd.overlay(radios.iloc[i:i+1,], boundary, how=\"intersection\")\n",
      "<ipython-input-292-4425a615d356>:2: UserWarning: CRS mismatch between the CRS of left geometries and the CRS of right geometries.\n",
      "Use `to_crs()` to reproject one of the input geometries to match the CRS of the other.\n",
      "\n",
      "Left CRS: GEOGCS[\"WGS 84\",DATUM[\"WGS_1984\",SPHEROID[\"WGS 84\" ...\n",
      "Right CRS: None\n",
      "\n",
      "  gpd.overlay(radios.iloc[i:i+1,], boundary, how=\"intersection\")\n",
      "<ipython-input-292-4425a615d356>:2: UserWarning: CRS mismatch between the CRS of left geometries and the CRS of right geometries.\n",
      "Use `to_crs()` to reproject one of the input geometries to match the CRS of the other.\n",
      "\n",
      "Left CRS: GEOGCS[\"WGS 84\",DATUM[\"WGS_1984\",SPHEROID[\"WGS 84\" ...\n",
      "Right CRS: None\n",
      "\n",
      "  gpd.overlay(radios.iloc[i:i+1,], boundary, how=\"intersection\")\n",
      "<ipython-input-292-4425a615d356>:2: UserWarning: CRS mismatch between the CRS of left geometries and the CRS of right geometries.\n",
      "Use `to_crs()` to reproject one of the input geometries to match the CRS of the other.\n",
      "\n",
      "Left CRS: GEOGCS[\"WGS 84\",DATUM[\"WGS_1984\",SPHEROID[\"WGS 84\" ...\n",
      "Right CRS: None\n",
      "\n",
      "  gpd.overlay(radios.iloc[i:i+1,], boundary, how=\"intersection\")\n",
      "<ipython-input-292-4425a615d356>:2: UserWarning: CRS mismatch between the CRS of left geometries and the CRS of right geometries.\n",
      "Use `to_crs()` to reproject one of the input geometries to match the CRS of the other.\n",
      "\n",
      "Left CRS: GEOGCS[\"WGS 84\",DATUM[\"WGS_1984\",SPHEROID[\"WGS 84\" ...\n",
      "Right CRS: None\n",
      "\n",
      "  gpd.overlay(radios.iloc[i:i+1,], boundary, how=\"intersection\")\n",
      "<ipython-input-292-4425a615d356>:2: UserWarning: CRS mismatch between the CRS of left geometries and the CRS of right geometries.\n",
      "Use `to_crs()` to reproject one of the input geometries to match the CRS of the other.\n",
      "\n",
      "Left CRS: GEOGCS[\"WGS 84\",DATUM[\"WGS_1984\",SPHEROID[\"WGS 84\" ...\n",
      "Right CRS: None\n",
      "\n",
      "  gpd.overlay(radios.iloc[i:i+1,], boundary, how=\"intersection\")\n",
      "<ipython-input-292-4425a615d356>:2: UserWarning: CRS mismatch between the CRS of left geometries and the CRS of right geometries.\n",
      "Use `to_crs()` to reproject one of the input geometries to match the CRS of the other.\n",
      "\n",
      "Left CRS: GEOGCS[\"WGS 84\",DATUM[\"WGS_1984\",SPHEROID[\"WGS 84\" ...\n",
      "Right CRS: None\n",
      "\n",
      "  gpd.overlay(radios.iloc[i:i+1,], boundary, how=\"intersection\")\n",
      "<ipython-input-292-4425a615d356>:2: UserWarning: CRS mismatch between the CRS of left geometries and the CRS of right geometries.\n",
      "Use `to_crs()` to reproject one of the input geometries to match the CRS of the other.\n",
      "\n",
      "Left CRS: GEOGCS[\"WGS 84\",DATUM[\"WGS_1984\",SPHEROID[\"WGS 84\" ...\n",
      "Right CRS: None\n",
      "\n",
      "  gpd.overlay(radios.iloc[i:i+1,], boundary, how=\"intersection\")\n",
      "<ipython-input-292-4425a615d356>:2: UserWarning: CRS mismatch between the CRS of left geometries and the CRS of right geometries.\n",
      "Use `to_crs()` to reproject one of the input geometries to match the CRS of the other.\n",
      "\n",
      "Left CRS: GEOGCS[\"WGS 84\",DATUM[\"WGS_1984\",SPHEROID[\"WGS 84\" ...\n",
      "Right CRS: None\n",
      "\n",
      "  gpd.overlay(radios.iloc[i:i+1,], boundary, how=\"intersection\")\n",
      "<ipython-input-292-4425a615d356>:2: UserWarning: CRS mismatch between the CRS of left geometries and the CRS of right geometries.\n",
      "Use `to_crs()` to reproject one of the input geometries to match the CRS of the other.\n",
      "\n",
      "Left CRS: GEOGCS[\"WGS 84\",DATUM[\"WGS_1984\",SPHEROID[\"WGS 84\" ...\n",
      "Right CRS: None\n",
      "\n",
      "  gpd.overlay(radios.iloc[i:i+1,], boundary, how=\"intersection\")\n",
      "<ipython-input-292-4425a615d356>:2: UserWarning: CRS mismatch between the CRS of left geometries and the CRS of right geometries.\n",
      "Use `to_crs()` to reproject one of the input geometries to match the CRS of the other.\n",
      "\n",
      "Left CRS: GEOGCS[\"WGS 84\",DATUM[\"WGS_1984\",SPHEROID[\"WGS 84\" ...\n",
      "Right CRS: None\n",
      "\n",
      "  gpd.overlay(radios.iloc[i:i+1,], boundary, how=\"intersection\")\n",
      "<ipython-input-292-4425a615d356>:2: UserWarning: CRS mismatch between the CRS of left geometries and the CRS of right geometries.\n",
      "Use `to_crs()` to reproject one of the input geometries to match the CRS of the other.\n",
      "\n",
      "Left CRS: GEOGCS[\"WGS 84\",DATUM[\"WGS_1984\",SPHEROID[\"WGS 84\" ...\n",
      "Right CRS: None\n",
      "\n",
      "  gpd.overlay(radios.iloc[i:i+1,], boundary, how=\"intersection\")\n",
      "<ipython-input-292-4425a615d356>:2: UserWarning: CRS mismatch between the CRS of left geometries and the CRS of right geometries.\n",
      "Use `to_crs()` to reproject one of the input geometries to match the CRS of the other.\n",
      "\n",
      "Left CRS: GEOGCS[\"WGS 84\",DATUM[\"WGS_1984\",SPHEROID[\"WGS 84\" ...\n",
      "Right CRS: None\n",
      "\n",
      "  gpd.overlay(radios.iloc[i:i+1,], boundary, how=\"intersection\")\n",
      "<ipython-input-292-4425a615d356>:2: UserWarning: CRS mismatch between the CRS of left geometries and the CRS of right geometries.\n",
      "Use `to_crs()` to reproject one of the input geometries to match the CRS of the other.\n",
      "\n",
      "Left CRS: GEOGCS[\"WGS 84\",DATUM[\"WGS_1984\",SPHEROID[\"WGS 84\" ...\n",
      "Right CRS: None\n",
      "\n",
      "  gpd.overlay(radios.iloc[i:i+1,], boundary, how=\"intersection\")\n",
      "<ipython-input-292-4425a615d356>:2: UserWarning: CRS mismatch between the CRS of left geometries and the CRS of right geometries.\n",
      "Use `to_crs()` to reproject one of the input geometries to match the CRS of the other.\n",
      "\n",
      "Left CRS: GEOGCS[\"WGS 84\",DATUM[\"WGS_1984\",SPHEROID[\"WGS 84\" ...\n",
      "Right CRS: None\n",
      "\n",
      "  gpd.overlay(radios.iloc[i:i+1,], boundary, how=\"intersection\")\n",
      "<ipython-input-292-4425a615d356>:2: UserWarning: CRS mismatch between the CRS of left geometries and the CRS of right geometries.\n",
      "Use `to_crs()` to reproject one of the input geometries to match the CRS of the other.\n",
      "\n",
      "Left CRS: GEOGCS[\"WGS 84\",DATUM[\"WGS_1984\",SPHEROID[\"WGS 84\" ...\n",
      "Right CRS: None\n",
      "\n",
      "  gpd.overlay(radios.iloc[i:i+1,], boundary, how=\"intersection\")\n",
      "<ipython-input-292-4425a615d356>:2: UserWarning: CRS mismatch between the CRS of left geometries and the CRS of right geometries.\n",
      "Use `to_crs()` to reproject one of the input geometries to match the CRS of the other.\n",
      "\n",
      "Left CRS: GEOGCS[\"WGS 84\",DATUM[\"WGS_1984\",SPHEROID[\"WGS 84\" ...\n",
      "Right CRS: None\n",
      "\n",
      "  gpd.overlay(radios.iloc[i:i+1,], boundary, how=\"intersection\")\n",
      "<ipython-input-292-4425a615d356>:2: UserWarning: CRS mismatch between the CRS of left geometries and the CRS of right geometries.\n",
      "Use `to_crs()` to reproject one of the input geometries to match the CRS of the other.\n",
      "\n",
      "Left CRS: GEOGCS[\"WGS 84\",DATUM[\"WGS_1984\",SPHEROID[\"WGS 84\" ...\n",
      "Right CRS: None\n",
      "\n",
      "  gpd.overlay(radios.iloc[i:i+1,], boundary, how=\"intersection\")\n",
      "<ipython-input-292-4425a615d356>:2: UserWarning: CRS mismatch between the CRS of left geometries and the CRS of right geometries.\n",
      "Use `to_crs()` to reproject one of the input geometries to match the CRS of the other.\n",
      "\n",
      "Left CRS: GEOGCS[\"WGS 84\",DATUM[\"WGS_1984\",SPHEROID[\"WGS 84\" ...\n",
      "Right CRS: None\n",
      "\n",
      "  gpd.overlay(radios.iloc[i:i+1,], boundary, how=\"intersection\")\n",
      "<ipython-input-292-4425a615d356>:2: UserWarning: CRS mismatch between the CRS of left geometries and the CRS of right geometries.\n",
      "Use `to_crs()` to reproject one of the input geometries to match the CRS of the other.\n",
      "\n",
      "Left CRS: GEOGCS[\"WGS 84\",DATUM[\"WGS_1984\",SPHEROID[\"WGS 84\" ...\n",
      "Right CRS: None\n",
      "\n",
      "  gpd.overlay(radios.iloc[i:i+1,], boundary, how=\"intersection\")\n",
      "<ipython-input-292-4425a615d356>:2: UserWarning: CRS mismatch between the CRS of left geometries and the CRS of right geometries.\n",
      "Use `to_crs()` to reproject one of the input geometries to match the CRS of the other.\n",
      "\n",
      "Left CRS: GEOGCS[\"WGS 84\",DATUM[\"WGS_1984\",SPHEROID[\"WGS 84\" ...\n",
      "Right CRS: None\n",
      "\n",
      "  gpd.overlay(radios.iloc[i:i+1,], boundary, how=\"intersection\")\n",
      "<ipython-input-292-4425a615d356>:2: UserWarning: CRS mismatch between the CRS of left geometries and the CRS of right geometries.\n",
      "Use `to_crs()` to reproject one of the input geometries to match the CRS of the other.\n",
      "\n",
      "Left CRS: GEOGCS[\"WGS 84\",DATUM[\"WGS_1984\",SPHEROID[\"WGS 84\" ...\n",
      "Right CRS: None\n",
      "\n",
      "  gpd.overlay(radios.iloc[i:i+1,], boundary, how=\"intersection\")\n",
      "<ipython-input-292-4425a615d356>:2: UserWarning: CRS mismatch between the CRS of left geometries and the CRS of right geometries.\n",
      "Use `to_crs()` to reproject one of the input geometries to match the CRS of the other.\n",
      "\n",
      "Left CRS: GEOGCS[\"WGS 84\",DATUM[\"WGS_1984\",SPHEROID[\"WGS 84\" ...\n",
      "Right CRS: None\n",
      "\n",
      "  gpd.overlay(radios.iloc[i:i+1,], boundary, how=\"intersection\")\n",
      "<ipython-input-292-4425a615d356>:2: UserWarning: CRS mismatch between the CRS of left geometries and the CRS of right geometries.\n",
      "Use `to_crs()` to reproject one of the input geometries to match the CRS of the other.\n",
      "\n",
      "Left CRS: GEOGCS[\"WGS 84\",DATUM[\"WGS_1984\",SPHEROID[\"WGS 84\" ...\n",
      "Right CRS: None\n",
      "\n",
      "  gpd.overlay(radios.iloc[i:i+1,], boundary, how=\"intersection\")\n",
      "<ipython-input-292-4425a615d356>:2: UserWarning: CRS mismatch between the CRS of left geometries and the CRS of right geometries.\n",
      "Use `to_crs()` to reproject one of the input geometries to match the CRS of the other.\n",
      "\n",
      "Left CRS: GEOGCS[\"WGS 84\",DATUM[\"WGS_1984\",SPHEROID[\"WGS 84\" ...\n",
      "Right CRS: None\n",
      "\n",
      "  gpd.overlay(radios.iloc[i:i+1,], boundary, how=\"intersection\")\n",
      "<ipython-input-292-4425a615d356>:2: UserWarning: CRS mismatch between the CRS of left geometries and the CRS of right geometries.\n",
      "Use `to_crs()` to reproject one of the input geometries to match the CRS of the other.\n",
      "\n",
      "Left CRS: GEOGCS[\"WGS 84\",DATUM[\"WGS_1984\",SPHEROID[\"WGS 84\" ...\n",
      "Right CRS: None\n",
      "\n",
      "  gpd.overlay(radios.iloc[i:i+1,], boundary, how=\"intersection\")\n",
      "<ipython-input-292-4425a615d356>:2: UserWarning: CRS mismatch between the CRS of left geometries and the CRS of right geometries.\n",
      "Use `to_crs()` to reproject one of the input geometries to match the CRS of the other.\n",
      "\n",
      "Left CRS: GEOGCS[\"WGS 84\",DATUM[\"WGS_1984\",SPHEROID[\"WGS 84\" ...\n",
      "Right CRS: None\n",
      "\n",
      "  gpd.overlay(radios.iloc[i:i+1,], boundary, how=\"intersection\")\n",
      "<ipython-input-292-4425a615d356>:2: UserWarning: CRS mismatch between the CRS of left geometries and the CRS of right geometries.\n",
      "Use `to_crs()` to reproject one of the input geometries to match the CRS of the other.\n",
      "\n",
      "Left CRS: GEOGCS[\"WGS 84\",DATUM[\"WGS_1984\",SPHEROID[\"WGS 84\" ...\n",
      "Right CRS: None\n",
      "\n",
      "  gpd.overlay(radios.iloc[i:i+1,], boundary, how=\"intersection\")\n",
      "<ipython-input-292-4425a615d356>:2: UserWarning: CRS mismatch between the CRS of left geometries and the CRS of right geometries.\n",
      "Use `to_crs()` to reproject one of the input geometries to match the CRS of the other.\n",
      "\n",
      "Left CRS: GEOGCS[\"WGS 84\",DATUM[\"WGS_1984\",SPHEROID[\"WGS 84\" ...\n",
      "Right CRS: None\n",
      "\n",
      "  gpd.overlay(radios.iloc[i:i+1,], boundary, how=\"intersection\")\n",
      "<ipython-input-292-4425a615d356>:2: UserWarning: CRS mismatch between the CRS of left geometries and the CRS of right geometries.\n",
      "Use `to_crs()` to reproject one of the input geometries to match the CRS of the other.\n",
      "\n",
      "Left CRS: GEOGCS[\"WGS 84\",DATUM[\"WGS_1984\",SPHEROID[\"WGS 84\" ...\n",
      "Right CRS: None\n",
      "\n",
      "  gpd.overlay(radios.iloc[i:i+1,], boundary, how=\"intersection\")\n",
      "<ipython-input-292-4425a615d356>:2: UserWarning: CRS mismatch between the CRS of left geometries and the CRS of right geometries.\n",
      "Use `to_crs()` to reproject one of the input geometries to match the CRS of the other.\n",
      "\n",
      "Left CRS: GEOGCS[\"WGS 84\",DATUM[\"WGS_1984\",SPHEROID[\"WGS 84\" ...\n",
      "Right CRS: None\n",
      "\n",
      "  gpd.overlay(radios.iloc[i:i+1,], boundary, how=\"intersection\")\n",
      "<ipython-input-292-4425a615d356>:2: UserWarning: CRS mismatch between the CRS of left geometries and the CRS of right geometries.\n",
      "Use `to_crs()` to reproject one of the input geometries to match the CRS of the other.\n",
      "\n",
      "Left CRS: GEOGCS[\"WGS 84\",DATUM[\"WGS_1984\",SPHEROID[\"WGS 84\" ...\n",
      "Right CRS: None\n",
      "\n",
      "  gpd.overlay(radios.iloc[i:i+1,], boundary, how=\"intersection\")\n",
      "<ipython-input-292-4425a615d356>:2: UserWarning: CRS mismatch between the CRS of left geometries and the CRS of right geometries.\n",
      "Use `to_crs()` to reproject one of the input geometries to match the CRS of the other.\n",
      "\n",
      "Left CRS: GEOGCS[\"WGS 84\",DATUM[\"WGS_1984\",SPHEROID[\"WGS 84\" ...\n",
      "Right CRS: None\n",
      "\n",
      "  gpd.overlay(radios.iloc[i:i+1,], boundary, how=\"intersection\")\n",
      "<ipython-input-292-4425a615d356>:2: UserWarning: CRS mismatch between the CRS of left geometries and the CRS of right geometries.\n",
      "Use `to_crs()` to reproject one of the input geometries to match the CRS of the other.\n",
      "\n",
      "Left CRS: GEOGCS[\"WGS 84\",DATUM[\"WGS_1984\",SPHEROID[\"WGS 84\" ...\n",
      "Right CRS: None\n",
      "\n",
      "  gpd.overlay(radios.iloc[i:i+1,], boundary, how=\"intersection\")\n",
      "<ipython-input-292-4425a615d356>:2: UserWarning: CRS mismatch between the CRS of left geometries and the CRS of right geometries.\n",
      "Use `to_crs()` to reproject one of the input geometries to match the CRS of the other.\n",
      "\n",
      "Left CRS: GEOGCS[\"WGS 84\",DATUM[\"WGS_1984\",SPHEROID[\"WGS 84\" ...\n",
      "Right CRS: None\n",
      "\n",
      "  gpd.overlay(radios.iloc[i:i+1,], boundary, how=\"intersection\")\n",
      "<ipython-input-292-4425a615d356>:2: UserWarning: CRS mismatch between the CRS of left geometries and the CRS of right geometries.\n",
      "Use `to_crs()` to reproject one of the input geometries to match the CRS of the other.\n",
      "\n",
      "Left CRS: GEOGCS[\"WGS 84\",DATUM[\"WGS_1984\",SPHEROID[\"WGS 84\" ...\n",
      "Right CRS: None\n",
      "\n",
      "  gpd.overlay(radios.iloc[i:i+1,], boundary, how=\"intersection\")\n",
      "<ipython-input-292-4425a615d356>:2: UserWarning: CRS mismatch between the CRS of left geometries and the CRS of right geometries.\n",
      "Use `to_crs()` to reproject one of the input geometries to match the CRS of the other.\n",
      "\n",
      "Left CRS: GEOGCS[\"WGS 84\",DATUM[\"WGS_1984\",SPHEROID[\"WGS 84\" ...\n",
      "Right CRS: None\n",
      "\n",
      "  gpd.overlay(radios.iloc[i:i+1,], boundary, how=\"intersection\")\n",
      "<ipython-input-292-4425a615d356>:2: UserWarning: CRS mismatch between the CRS of left geometries and the CRS of right geometries.\n",
      "Use `to_crs()` to reproject one of the input geometries to match the CRS of the other.\n",
      "\n",
      "Left CRS: GEOGCS[\"WGS 84\",DATUM[\"WGS_1984\",SPHEROID[\"WGS 84\" ...\n",
      "Right CRS: None\n",
      "\n",
      "  gpd.overlay(radios.iloc[i:i+1,], boundary, how=\"intersection\")\n",
      "<ipython-input-292-4425a615d356>:2: UserWarning: CRS mismatch between the CRS of left geometries and the CRS of right geometries.\n",
      "Use `to_crs()` to reproject one of the input geometries to match the CRS of the other.\n",
      "\n",
      "Left CRS: GEOGCS[\"WGS 84\",DATUM[\"WGS_1984\",SPHEROID[\"WGS 84\" ...\n",
      "Right CRS: None\n",
      "\n",
      "  gpd.overlay(radios.iloc[i:i+1,], boundary, how=\"intersection\")\n",
      "<ipython-input-292-4425a615d356>:2: UserWarning: CRS mismatch between the CRS of left geometries and the CRS of right geometries.\n",
      "Use `to_crs()` to reproject one of the input geometries to match the CRS of the other.\n",
      "\n",
      "Left CRS: GEOGCS[\"WGS 84\",DATUM[\"WGS_1984\",SPHEROID[\"WGS 84\" ...\n",
      "Right CRS: None\n",
      "\n",
      "  gpd.overlay(radios.iloc[i:i+1,], boundary, how=\"intersection\")\n",
      "<ipython-input-292-4425a615d356>:2: UserWarning: CRS mismatch between the CRS of left geometries and the CRS of right geometries.\n",
      "Use `to_crs()` to reproject one of the input geometries to match the CRS of the other.\n",
      "\n",
      "Left CRS: GEOGCS[\"WGS 84\",DATUM[\"WGS_1984\",SPHEROID[\"WGS 84\" ...\n",
      "Right CRS: None\n",
      "\n",
      "  gpd.overlay(radios.iloc[i:i+1,], boundary, how=\"intersection\")\n",
      "<ipython-input-292-4425a615d356>:2: UserWarning: CRS mismatch between the CRS of left geometries and the CRS of right geometries.\n",
      "Use `to_crs()` to reproject one of the input geometries to match the CRS of the other.\n",
      "\n",
      "Left CRS: GEOGCS[\"WGS 84\",DATUM[\"WGS_1984\",SPHEROID[\"WGS 84\" ...\n",
      "Right CRS: None\n",
      "\n",
      "  gpd.overlay(radios.iloc[i:i+1,], boundary, how=\"intersection\")\n",
      "<ipython-input-292-4425a615d356>:2: UserWarning: CRS mismatch between the CRS of left geometries and the CRS of right geometries.\n",
      "Use `to_crs()` to reproject one of the input geometries to match the CRS of the other.\n",
      "\n",
      "Left CRS: GEOGCS[\"WGS 84\",DATUM[\"WGS_1984\",SPHEROID[\"WGS 84\" ...\n",
      "Right CRS: None\n",
      "\n",
      "  gpd.overlay(radios.iloc[i:i+1,], boundary, how=\"intersection\")\n",
      "<ipython-input-292-4425a615d356>:2: UserWarning: CRS mismatch between the CRS of left geometries and the CRS of right geometries.\n",
      "Use `to_crs()` to reproject one of the input geometries to match the CRS of the other.\n",
      "\n",
      "Left CRS: GEOGCS[\"WGS 84\",DATUM[\"WGS_1984\",SPHEROID[\"WGS 84\" ...\n",
      "Right CRS: None\n",
      "\n",
      "  gpd.overlay(radios.iloc[i:i+1,], boundary, how=\"intersection\")\n",
      "<ipython-input-292-4425a615d356>:2: UserWarning: CRS mismatch between the CRS of left geometries and the CRS of right geometries.\n",
      "Use `to_crs()` to reproject one of the input geometries to match the CRS of the other.\n",
      "\n",
      "Left CRS: GEOGCS[\"WGS 84\",DATUM[\"WGS_1984\",SPHEROID[\"WGS 84\" ...\n",
      "Right CRS: None\n",
      "\n",
      "  gpd.overlay(radios.iloc[i:i+1,], boundary, how=\"intersection\")\n",
      "<ipython-input-292-4425a615d356>:2: UserWarning: CRS mismatch between the CRS of left geometries and the CRS of right geometries.\n",
      "Use `to_crs()` to reproject one of the input geometries to match the CRS of the other.\n",
      "\n",
      "Left CRS: GEOGCS[\"WGS 84\",DATUM[\"WGS_1984\",SPHEROID[\"WGS 84\" ...\n",
      "Right CRS: None\n",
      "\n",
      "  gpd.overlay(radios.iloc[i:i+1,], boundary, how=\"intersection\")\n",
      "<ipython-input-292-4425a615d356>:2: UserWarning: CRS mismatch between the CRS of left geometries and the CRS of right geometries.\n",
      "Use `to_crs()` to reproject one of the input geometries to match the CRS of the other.\n",
      "\n",
      "Left CRS: GEOGCS[\"WGS 84\",DATUM[\"WGS_1984\",SPHEROID[\"WGS 84\" ...\n",
      "Right CRS: None\n",
      "\n",
      "  gpd.overlay(radios.iloc[i:i+1,], boundary, how=\"intersection\")\n",
      "<ipython-input-292-4425a615d356>:2: UserWarning: CRS mismatch between the CRS of left geometries and the CRS of right geometries.\n",
      "Use `to_crs()` to reproject one of the input geometries to match the CRS of the other.\n",
      "\n",
      "Left CRS: GEOGCS[\"WGS 84\",DATUM[\"WGS_1984\",SPHEROID[\"WGS 84\" ...\n",
      "Right CRS: None\n",
      "\n",
      "  gpd.overlay(radios.iloc[i:i+1,], boundary, how=\"intersection\")\n",
      "<ipython-input-292-4425a615d356>:2: UserWarning: CRS mismatch between the CRS of left geometries and the CRS of right geometries.\n",
      "Use `to_crs()` to reproject one of the input geometries to match the CRS of the other.\n",
      "\n",
      "Left CRS: GEOGCS[\"WGS 84\",DATUM[\"WGS_1984\",SPHEROID[\"WGS 84\" ...\n",
      "Right CRS: None\n",
      "\n",
      "  gpd.overlay(radios.iloc[i:i+1,], boundary, how=\"intersection\")\n",
      "<ipython-input-292-4425a615d356>:2: UserWarning: CRS mismatch between the CRS of left geometries and the CRS of right geometries.\n",
      "Use `to_crs()` to reproject one of the input geometries to match the CRS of the other.\n",
      "\n",
      "Left CRS: GEOGCS[\"WGS 84\",DATUM[\"WGS_1984\",SPHEROID[\"WGS 84\" ...\n",
      "Right CRS: None\n",
      "\n",
      "  gpd.overlay(radios.iloc[i:i+1,], boundary, how=\"intersection\")\n",
      "<ipython-input-292-4425a615d356>:2: UserWarning: CRS mismatch between the CRS of left geometries and the CRS of right geometries.\n",
      "Use `to_crs()` to reproject one of the input geometries to match the CRS of the other.\n",
      "\n",
      "Left CRS: GEOGCS[\"WGS 84\",DATUM[\"WGS_1984\",SPHEROID[\"WGS 84\" ...\n",
      "Right CRS: None\n",
      "\n",
      "  gpd.overlay(radios.iloc[i:i+1,], boundary, how=\"intersection\")\n",
      "<ipython-input-292-4425a615d356>:2: UserWarning: CRS mismatch between the CRS of left geometries and the CRS of right geometries.\n",
      "Use `to_crs()` to reproject one of the input geometries to match the CRS of the other.\n",
      "\n",
      "Left CRS: GEOGCS[\"WGS 84\",DATUM[\"WGS_1984\",SPHEROID[\"WGS 84\" ...\n",
      "Right CRS: None\n",
      "\n",
      "  gpd.overlay(radios.iloc[i:i+1,], boundary, how=\"intersection\")\n",
      "<ipython-input-292-4425a615d356>:2: UserWarning: CRS mismatch between the CRS of left geometries and the CRS of right geometries.\n",
      "Use `to_crs()` to reproject one of the input geometries to match the CRS of the other.\n",
      "\n",
      "Left CRS: GEOGCS[\"WGS 84\",DATUM[\"WGS_1984\",SPHEROID[\"WGS 84\" ...\n",
      "Right CRS: None\n",
      "\n",
      "  gpd.overlay(radios.iloc[i:i+1,], boundary, how=\"intersection\")\n",
      "<ipython-input-292-4425a615d356>:2: UserWarning: CRS mismatch between the CRS of left geometries and the CRS of right geometries.\n",
      "Use `to_crs()` to reproject one of the input geometries to match the CRS of the other.\n",
      "\n",
      "Left CRS: GEOGCS[\"WGS 84\",DATUM[\"WGS_1984\",SPHEROID[\"WGS 84\" ...\n",
      "Right CRS: None\n",
      "\n",
      "  gpd.overlay(radios.iloc[i:i+1,], boundary, how=\"intersection\")\n",
      "<ipython-input-292-4425a615d356>:2: UserWarning: CRS mismatch between the CRS of left geometries and the CRS of right geometries.\n",
      "Use `to_crs()` to reproject one of the input geometries to match the CRS of the other.\n",
      "\n",
      "Left CRS: GEOGCS[\"WGS 84\",DATUM[\"WGS_1984\",SPHEROID[\"WGS 84\" ...\n",
      "Right CRS: None\n",
      "\n",
      "  gpd.overlay(radios.iloc[i:i+1,], boundary, how=\"intersection\")\n",
      "<ipython-input-292-4425a615d356>:2: UserWarning: CRS mismatch between the CRS of left geometries and the CRS of right geometries.\n",
      "Use `to_crs()` to reproject one of the input geometries to match the CRS of the other.\n",
      "\n",
      "Left CRS: GEOGCS[\"WGS 84\",DATUM[\"WGS_1984\",SPHEROID[\"WGS 84\" ...\n",
      "Right CRS: None\n",
      "\n",
      "  gpd.overlay(radios.iloc[i:i+1,], boundary, how=\"intersection\")\n",
      "<ipython-input-292-4425a615d356>:2: UserWarning: CRS mismatch between the CRS of left geometries and the CRS of right geometries.\n",
      "Use `to_crs()` to reproject one of the input geometries to match the CRS of the other.\n",
      "\n",
      "Left CRS: GEOGCS[\"WGS 84\",DATUM[\"WGS_1984\",SPHEROID[\"WGS 84\" ...\n",
      "Right CRS: None\n",
      "\n",
      "  gpd.overlay(radios.iloc[i:i+1,], boundary, how=\"intersection\")\n",
      "<ipython-input-292-4425a615d356>:2: UserWarning: CRS mismatch between the CRS of left geometries and the CRS of right geometries.\n",
      "Use `to_crs()` to reproject one of the input geometries to match the CRS of the other.\n",
      "\n",
      "Left CRS: GEOGCS[\"WGS 84\",DATUM[\"WGS_1984\",SPHEROID[\"WGS 84\" ...\n",
      "Right CRS: None\n",
      "\n",
      "  gpd.overlay(radios.iloc[i:i+1,], boundary, how=\"intersection\")\n",
      "<ipython-input-292-4425a615d356>:2: UserWarning: CRS mismatch between the CRS of left geometries and the CRS of right geometries.\n",
      "Use `to_crs()` to reproject one of the input geometries to match the CRS of the other.\n",
      "\n",
      "Left CRS: GEOGCS[\"WGS 84\",DATUM[\"WGS_1984\",SPHEROID[\"WGS 84\" ...\n",
      "Right CRS: None\n",
      "\n",
      "  gpd.overlay(radios.iloc[i:i+1,], boundary, how=\"intersection\")\n",
      "<ipython-input-292-4425a615d356>:2: UserWarning: CRS mismatch between the CRS of left geometries and the CRS of right geometries.\n",
      "Use `to_crs()` to reproject one of the input geometries to match the CRS of the other.\n",
      "\n",
      "Left CRS: GEOGCS[\"WGS 84\",DATUM[\"WGS_1984\",SPHEROID[\"WGS 84\" ...\n",
      "Right CRS: None\n",
      "\n",
      "  gpd.overlay(radios.iloc[i:i+1,], boundary, how=\"intersection\")\n",
      "<ipython-input-292-4425a615d356>:2: UserWarning: CRS mismatch between the CRS of left geometries and the CRS of right geometries.\n",
      "Use `to_crs()` to reproject one of the input geometries to match the CRS of the other.\n",
      "\n",
      "Left CRS: GEOGCS[\"WGS 84\",DATUM[\"WGS_1984\",SPHEROID[\"WGS 84\" ...\n",
      "Right CRS: None\n",
      "\n",
      "  gpd.overlay(radios.iloc[i:i+1,], boundary, how=\"intersection\")\n",
      "<ipython-input-292-4425a615d356>:2: UserWarning: CRS mismatch between the CRS of left geometries and the CRS of right geometries.\n",
      "Use `to_crs()` to reproject one of the input geometries to match the CRS of the other.\n",
      "\n",
      "Left CRS: GEOGCS[\"WGS 84\",DATUM[\"WGS_1984\",SPHEROID[\"WGS 84\" ...\n",
      "Right CRS: None\n",
      "\n",
      "  gpd.overlay(radios.iloc[i:i+1,], boundary, how=\"intersection\")\n",
      "<ipython-input-292-4425a615d356>:2: UserWarning: CRS mismatch between the CRS of left geometries and the CRS of right geometries.\n",
      "Use `to_crs()` to reproject one of the input geometries to match the CRS of the other.\n",
      "\n",
      "Left CRS: GEOGCS[\"WGS 84\",DATUM[\"WGS_1984\",SPHEROID[\"WGS 84\" ...\n",
      "Right CRS: None\n",
      "\n",
      "  gpd.overlay(radios.iloc[i:i+1,], boundary, how=\"intersection\")\n",
      "<ipython-input-292-4425a615d356>:2: UserWarning: CRS mismatch between the CRS of left geometries and the CRS of right geometries.\n",
      "Use `to_crs()` to reproject one of the input geometries to match the CRS of the other.\n",
      "\n",
      "Left CRS: GEOGCS[\"WGS 84\",DATUM[\"WGS_1984\",SPHEROID[\"WGS 84\" ...\n",
      "Right CRS: None\n",
      "\n",
      "  gpd.overlay(radios.iloc[i:i+1,], boundary, how=\"intersection\")\n",
      "<ipython-input-292-4425a615d356>:2: UserWarning: CRS mismatch between the CRS of left geometries and the CRS of right geometries.\n",
      "Use `to_crs()` to reproject one of the input geometries to match the CRS of the other.\n",
      "\n",
      "Left CRS: GEOGCS[\"WGS 84\",DATUM[\"WGS_1984\",SPHEROID[\"WGS 84\" ...\n",
      "Right CRS: None\n",
      "\n",
      "  gpd.overlay(radios.iloc[i:i+1,], boundary, how=\"intersection\")\n",
      "<ipython-input-292-4425a615d356>:2: UserWarning: CRS mismatch between the CRS of left geometries and the CRS of right geometries.\n",
      "Use `to_crs()` to reproject one of the input geometries to match the CRS of the other.\n",
      "\n",
      "Left CRS: GEOGCS[\"WGS 84\",DATUM[\"WGS_1984\",SPHEROID[\"WGS 84\" ...\n",
      "Right CRS: None\n",
      "\n",
      "  gpd.overlay(radios.iloc[i:i+1,], boundary, how=\"intersection\")\n",
      "<ipython-input-292-4425a615d356>:2: UserWarning: CRS mismatch between the CRS of left geometries and the CRS of right geometries.\n",
      "Use `to_crs()` to reproject one of the input geometries to match the CRS of the other.\n",
      "\n",
      "Left CRS: GEOGCS[\"WGS 84\",DATUM[\"WGS_1984\",SPHEROID[\"WGS 84\" ...\n",
      "Right CRS: None\n",
      "\n",
      "  gpd.overlay(radios.iloc[i:i+1,], boundary, how=\"intersection\")\n"
     ]
    }
   ],
   "source": [
    "for i in range(1,radios.shape[0]):\n",
    "    gpd.overlay(radios.iloc[i:i+1,], boundary, how=\"intersection\")"
   ]
  },
  {
   "cell_type": "code",
   "execution_count": 307,
   "id": "79840e2e-8010-4cc4-abcf-f3b48cfcbe76",
   "metadata": {
    "tags": []
   },
   "outputs": [
    {
     "data": {
      "text/html": [
       "<div>\n",
       "<style scoped>\n",
       "    .dataframe tbody tr th:only-of-type {\n",
       "        vertical-align: middle;\n",
       "    }\n",
       "\n",
       "    .dataframe tbody tr th {\n",
       "        vertical-align: top;\n",
       "    }\n",
       "\n",
       "    .dataframe thead th {\n",
       "        text-align: right;\n",
       "    }\n",
       "</style>\n",
       "<table border=\"1\" class=\"dataframe\">\n",
       "  <thead>\n",
       "    <tr style=\"text-align: right;\">\n",
       "      <th></th>\n",
       "      <th>index</th>\n",
       "      <th>TOTAL_VIV</th>\n",
       "      <th>COMUNA</th>\n",
       "      <th>geometry</th>\n",
       "    </tr>\n",
       "  </thead>\n",
       "  <tbody>\n",
       "    <tr>\n",
       "      <th>0</th>\n",
       "      <td>10525</td>\n",
       "      <td>193</td>\n",
       "      <td>Comuna 8</td>\n",
       "      <td>POLYGON ((-58.49171 -34.67420, -58.49128 -34.6...</td>\n",
       "    </tr>\n",
       "    <tr>\n",
       "      <th>1</th>\n",
       "      <td>15423</td>\n",
       "      <td>369</td>\n",
       "      <td>Comuna 8</td>\n",
       "      <td>POLYGON ((-58.47987 -34.67288, -58.48108 -34.6...</td>\n",
       "    </tr>\n",
       "    <tr>\n",
       "      <th>2</th>\n",
       "      <td>15561</td>\n",
       "      <td>310</td>\n",
       "      <td>Comuna 8</td>\n",
       "      <td>POLYGON ((-58.47849 -34.67172, -58.47946 -34.6...</td>\n",
       "    </tr>\n",
       "    <tr>\n",
       "      <th>3</th>\n",
       "      <td>19394</td>\n",
       "      <td>234</td>\n",
       "      <td>Comuna 8</td>\n",
       "      <td>POLYGON ((-58.46650 -34.67597, -58.46677 -34.6...</td>\n",
       "    </tr>\n",
       "    <tr>\n",
       "      <th>4</th>\n",
       "      <td>20274</td>\n",
       "      <td>374</td>\n",
       "      <td>Comuna 8</td>\n",
       "      <td>POLYGON ((-58.47223 -34.68096, -58.47288 -34.6...</td>\n",
       "    </tr>\n",
       "    <tr>\n",
       "      <th>...</th>\n",
       "      <td>...</td>\n",
       "      <td>...</td>\n",
       "      <td>...</td>\n",
       "      <td>...</td>\n",
       "    </tr>\n",
       "    <tr>\n",
       "      <th>186</th>\n",
       "      <td>38657</td>\n",
       "      <td>260</td>\n",
       "      <td>Comuna 8</td>\n",
       "      <td>POLYGON ((-58.45356 -34.65832, -58.45393 -34.6...</td>\n",
       "    </tr>\n",
       "    <tr>\n",
       "      <th>187</th>\n",
       "      <td>38686</td>\n",
       "      <td>236</td>\n",
       "      <td>Comuna 8</td>\n",
       "      <td>POLYGON ((-58.45306 -34.65875, -58.45327 -34.6...</td>\n",
       "    </tr>\n",
       "    <tr>\n",
       "      <th>188</th>\n",
       "      <td>38700</td>\n",
       "      <td>364</td>\n",
       "      <td>Comuna 8</td>\n",
       "      <td>POLYGON ((-58.45448 -34.66241, -58.45441 -34.6...</td>\n",
       "    </tr>\n",
       "    <tr>\n",
       "      <th>189</th>\n",
       "      <td>38715</td>\n",
       "      <td>270</td>\n",
       "      <td>Comuna 8</td>\n",
       "      <td>POLYGON ((-58.45531 -34.66494, -58.45511 -34.6...</td>\n",
       "    </tr>\n",
       "    <tr>\n",
       "      <th>190</th>\n",
       "      <td>38731</td>\n",
       "      <td>310</td>\n",
       "      <td>Comuna 8</td>\n",
       "      <td>POLYGON ((-58.45618 -34.66109, -58.45604 -34.6...</td>\n",
       "    </tr>\n",
       "  </tbody>\n",
       "</table>\n",
       "<p>191 rows × 4 columns</p>\n",
       "</div>"
      ],
      "text/plain": [
       "     index  TOTAL_VIV    COMUNA  \\\n",
       "0    10525        193  Comuna 8   \n",
       "1    15423        369  Comuna 8   \n",
       "2    15561        310  Comuna 8   \n",
       "3    19394        234  Comuna 8   \n",
       "4    20274        374  Comuna 8   \n",
       "..     ...        ...       ...   \n",
       "186  38657        260  Comuna 8   \n",
       "187  38686        236  Comuna 8   \n",
       "188  38700        364  Comuna 8   \n",
       "189  38715        270  Comuna 8   \n",
       "190  38731        310  Comuna 8   \n",
       "\n",
       "                                              geometry  \n",
       "0    POLYGON ((-58.49171 -34.67420, -58.49128 -34.6...  \n",
       "1    POLYGON ((-58.47987 -34.67288, -58.48108 -34.6...  \n",
       "2    POLYGON ((-58.47849 -34.67172, -58.47946 -34.6...  \n",
       "3    POLYGON ((-58.46650 -34.67597, -58.46677 -34.6...  \n",
       "4    POLYGON ((-58.47223 -34.68096, -58.47288 -34.6...  \n",
       "..                                                 ...  \n",
       "186  POLYGON ((-58.45356 -34.65832, -58.45393 -34.6...  \n",
       "187  POLYGON ((-58.45306 -34.65875, -58.45327 -34.6...  \n",
       "188  POLYGON ((-58.45448 -34.66241, -58.45441 -34.6...  \n",
       "189  POLYGON ((-58.45531 -34.66494, -58.45511 -34.6...  \n",
       "190  POLYGON ((-58.45618 -34.66109, -58.45604 -34.6...  \n",
       "\n",
       "[191 rows x 4 columns]"
      ]
     },
     "execution_count": 307,
     "metadata": {},
     "output_type": "execute_result"
    }
   ],
   "source": [
    "radios.reset_index()"
   ]
  },
  {
   "cell_type": "code",
   "execution_count": null,
   "id": "092ec8ce-20b1-46ec-80ef-3df05dcbf48a",
   "metadata": {},
   "outputs": [],
   "source": []
  },
  {
   "cell_type": "code",
   "execution_count": 310,
   "id": "c1261e72-039a-46eb-a9c9-9f9cb26c5188",
   "metadata": {
    "tags": []
   },
   "outputs": [
    {
     "name": "stderr",
     "output_type": "stream",
     "text": [
      "<ipython-input-310-bcce37c105bf>:1: UserWarning: CRS mismatch between the CRS of left geometries and the CRS of right geometries.\n",
      "Use `to_crs()` to reproject one of the input geometries to match the CRS of the other.\n",
      "\n",
      "Left CRS: GEOGCS[\"WGS 84\",DATUM[\"WGS_1984\",SPHEROID[\"WGS 84\" ...\n",
      "Right CRS: None\n",
      "\n",
      "  df=pd.merge(radios.reset_index(),gpd.overlay(radios.reset_index().iloc[:,], boundary, how=\"intersection\"),on='index',how='left')\n"
     ]
    }
   ],
   "source": [
    "         \n",
    "         "
   ]
  },
  {
   "cell_type": "code",
   "execution_count": 316,
   "id": "4be89de8-dc04-4465-a39a-fdfb7ed56d0c",
   "metadata": {
    "tags": []
   },
   "outputs": [
    {
     "data": {
      "text/html": [
       "<div>\n",
       "<style scoped>\n",
       "    .dataframe tbody tr th:only-of-type {\n",
       "        vertical-align: middle;\n",
       "    }\n",
       "\n",
       "    .dataframe tbody tr th {\n",
       "        vertical-align: top;\n",
       "    }\n",
       "\n",
       "    .dataframe thead th {\n",
       "        text-align: right;\n",
       "    }\n",
       "</style>\n",
       "<table border=\"1\" class=\"dataframe\">\n",
       "  <thead>\n",
       "    <tr style=\"text-align: right;\">\n",
       "      <th></th>\n",
       "      <th>index</th>\n",
       "      <th>TOTAL_VIV_x</th>\n",
       "      <th>COMUNA_x</th>\n",
       "      <th>geometry_x</th>\n",
       "      <th>TOTAL_VIV_y</th>\n",
       "      <th>COMUNA_y</th>\n",
       "      <th>geometry_y</th>\n",
       "    </tr>\n",
       "  </thead>\n",
       "  <tbody>\n",
       "    <tr>\n",
       "      <th>0</th>\n",
       "      <td>10525</td>\n",
       "      <td>193</td>\n",
       "      <td>Comuna 8</td>\n",
       "      <td>POLYGON ((-58.49171 -34.67420, -58.49128 -34.6...</td>\n",
       "      <td>NaN</td>\n",
       "      <td>NaN</td>\n",
       "      <td>None</td>\n",
       "    </tr>\n",
       "    <tr>\n",
       "      <th>1</th>\n",
       "      <td>15423</td>\n",
       "      <td>369</td>\n",
       "      <td>Comuna 8</td>\n",
       "      <td>POLYGON ((-58.47987 -34.67288, -58.48108 -34.6...</td>\n",
       "      <td>NaN</td>\n",
       "      <td>NaN</td>\n",
       "      <td>None</td>\n",
       "    </tr>\n",
       "    <tr>\n",
       "      <th>2</th>\n",
       "      <td>15561</td>\n",
       "      <td>310</td>\n",
       "      <td>Comuna 8</td>\n",
       "      <td>POLYGON ((-58.47849 -34.67172, -58.47946 -34.6...</td>\n",
       "      <td>310.0</td>\n",
       "      <td>Comuna 8</td>\n",
       "      <td>MULTIPOLYGON (((-58.47849 -34.67071, -58.47849...</td>\n",
       "    </tr>\n",
       "    <tr>\n",
       "      <th>3</th>\n",
       "      <td>19394</td>\n",
       "      <td>234</td>\n",
       "      <td>Comuna 8</td>\n",
       "      <td>POLYGON ((-58.46650 -34.67597, -58.46677 -34.6...</td>\n",
       "      <td>NaN</td>\n",
       "      <td>NaN</td>\n",
       "      <td>None</td>\n",
       "    </tr>\n",
       "    <tr>\n",
       "      <th>4</th>\n",
       "      <td>20274</td>\n",
       "      <td>374</td>\n",
       "      <td>Comuna 8</td>\n",
       "      <td>POLYGON ((-58.47223 -34.68096, -58.47288 -34.6...</td>\n",
       "      <td>NaN</td>\n",
       "      <td>NaN</td>\n",
       "      <td>None</td>\n",
       "    </tr>\n",
       "  </tbody>\n",
       "</table>\n",
       "</div>"
      ],
      "text/plain": [
       "   index  TOTAL_VIV_x  COMUNA_x  \\\n",
       "0  10525          193  Comuna 8   \n",
       "1  15423          369  Comuna 8   \n",
       "2  15561          310  Comuna 8   \n",
       "3  19394          234  Comuna 8   \n",
       "4  20274          374  Comuna 8   \n",
       "\n",
       "                                          geometry_x  TOTAL_VIV_y  COMUNA_y  \\\n",
       "0  POLYGON ((-58.49171 -34.67420, -58.49128 -34.6...          NaN       NaN   \n",
       "1  POLYGON ((-58.47987 -34.67288, -58.48108 -34.6...          NaN       NaN   \n",
       "2  POLYGON ((-58.47849 -34.67172, -58.47946 -34.6...        310.0  Comuna 8   \n",
       "3  POLYGON ((-58.46650 -34.67597, -58.46677 -34.6...          NaN       NaN   \n",
       "4  POLYGON ((-58.47223 -34.68096, -58.47288 -34.6...          NaN       NaN   \n",
       "\n",
       "                                          geometry_y  \n",
       "0                                               None  \n",
       "1                                               None  \n",
       "2  MULTIPOLYGON (((-58.47849 -34.67071, -58.47849...  \n",
       "3                                               None  \n",
       "4                                               None  "
      ]
     },
     "execution_count": 316,
     "metadata": {},
     "output_type": "execute_result"
    }
   ],
   "source": [
    "df.head()"
   ]
  },
  {
   "cell_type": "code",
   "execution_count": 318,
   "id": "fddb0df8-9a8f-497a-81d7-c3676e08fc61",
   "metadata": {
    "tags": []
   },
   "outputs": [],
   "source": []
  },
  {
   "cell_type": "code",
   "execution_count": 321,
   "id": "e312271d-578e-4322-8229-9a59da6b71b7",
   "metadata": {
    "tags": []
   },
   "outputs": [],
   "source": []
  },
  {
   "cell_type": "code",
   "execution_count": 324,
   "id": "590de064-3431-4a61-8e7d-8b8e1785b632",
   "metadata": {
    "tags": []
   },
   "outputs": [
    {
     "name": "stderr",
     "output_type": "stream",
     "text": [
      "<ipython-input-324-3b6e6f8bb8b7>:1: UserWarning: Geometry is in a geographic CRS. Results from 'area' are likely incorrect. Use 'GeoSeries.to_crs()' to re-project geometries to a projected CRS before this operation.\n",
      "\n",
      "  df['area_ps_rc']=df.geometry_ps_rc.area\n"
     ]
    }
   ],
   "source": []
  },
  {
   "cell_type": "code",
   "execution_count": 380,
   "id": "45d499fe-9d92-4088-9ebf-989e849bf5bc",
   "metadata": {
    "tags": []
   },
   "outputs": [
    {
     "name": "stderr",
     "output_type": "stream",
     "text": [
      "<ipython-input-89-fe92019172b4>:27: UserWarning: CRS mismatch between the CRS of left geometries and the CRS of right geometries.\n",
      "Use `to_crs()` to reproject one of the input geometries to match the CRS of the other.\n",
      "\n",
      "Left CRS: None\n",
      "Right CRS: EPSG:4326\n",
      "\n",
      "  intersections = gpd.overlay(gdf2, gdf, how=\"intersection\")\n"
     ]
    },
    {
     "data": {
      "image/png": "[encoded data removed]",
      "text/plain": [
       "<Figure size 432x288 with 1 Axes>"
      ]
     },
     "metadata": {
      "needs_background": "light"
     },
     "output_type": "display_data"
    },
    {
     "name": "stderr",
     "output_type": "stream",
     "text": [
      "<ipython-input-380-da302e7d164e>:9: UserWarning: CRS mismatch between the CRS of left geometries and the CRS of right geometries.\n",
      "Use `to_crs()` to reproject one of the input geometries to match the CRS of the other.\n",
      "\n",
      "Left CRS: GEOGCS[\"WGS 84\",DATUM[\"WGS_1984\",SPHEROID[\"WGS 84\" ...\n",
      "Right CRS: None\n",
      "\n",
      "  df=pd.merge(radios.reset_index(),gpd.overlay(radios.reset_index().iloc[:,], boundary, how=\"intersection\"),on='index',how='left')\n",
      "<ipython-input-380-da302e7d164e>:13: UserWarning: Geometry is in a geographic CRS. Results from 'area' are likely incorrect. Use 'GeoSeries.to_crs()' to re-project geometries to a projected CRS before this operation.\n",
      "\n",
      "  df['area_ps_rc']=df.geometry_ps_rc.area\n"
     ]
    }
   ],
   "source": [
    "radios=filter_census_data(get_census_data(), 8)\n",
    "parques = bound_multipol_by_bbox(get_public_space(), get_bbox([8]))\n",
    "from shapely.ops import unary_union\n",
    "polygons = list(parques.iloc[:,-1])\n",
    "boundary = gpd.GeoSeries(unary_union(polygons))\n",
    "boundary.plot(color = 'red')\n",
    "plt.show()\n",
    "boundary=gpd.GeoDataFrame(geometry=gpd.GeoSeries(boundary))\n",
    "df=pd.merge(radios.reset_index(),gpd.overlay(radios.reset_index().iloc[:,], boundary, how=\"intersection\"),on='index',how='left')\n",
    "df=df.loc[:,['index', 'TOTAL_VIV_x', 'COMUNA_x', 'geometry_x','geometry_y']]\n",
    "df.columns=['index', 'TOTAL_VIV', 'COMUNA', 'geometry_radio', 'geometry_ps_rc']\n",
    "df['TOTAL_VIV']=df['TOTAL_VIV']+1\n",
    "df['area_ps_rc']=df.geometry_ps_rc.area\n",
    "df['area_ps_rc'].fillna(0,inplace=True)\n",
    "df['ratio']=df['area_ps_rc']/df['TOTAL_VIV']"
   ]
  },
  {
   "cell_type": "code",
   "execution_count": 355,
   "id": "55c4b4be-99de-4d77-919b-0af4bc1553bb",
   "metadata": {
    "tags": []
   },
   "outputs": [
    {
     "data": {
      "text/plain": [
       "<Axes: >"
      ]
     },
     "execution_count": 355,
     "metadata": {},
     "output_type": "execute_result"
    },
    {
     "data": {
      "image/png": "[encoded data removed]",
      "text/plain": [
       "<Figure size 432x288 with 1 Axes>"
      ]
     },
     "metadata": {
      "needs_background": "light"
     },
     "output_type": "display_data"
    }
   ],
   "source": [
    "df['ratio'].hist()"
   ]
  },
  {
   "cell_type": "code",
   "execution_count": 356,
   "id": "1e20ba13-dbc0-4afc-963e-e5a1da77ea7a",
   "metadata": {
    "tags": []
   },
   "outputs": [
    {
     "data": {
      "text/plain": [
       "0      0.000000e+00\n",
       "1      0.000000e+00\n",
       "2      6.754135e-10\n",
       "3      0.000000e+00\n",
       "4      0.000000e+00\n",
       "           ...     \n",
       "186    0.000000e+00\n",
       "187    2.893112e-10\n",
       "188    2.202571e-11\n",
       "189    0.000000e+00\n",
       "190    1.223529e-10\n",
       "Name: ratio, Length: 191, dtype: float64"
      ]
     },
     "execution_count": 356,
     "metadata": {},
     "output_type": "execute_result"
    }
   ],
   "source": [
    "df['ratio'][df['ratio']<2]"
   ]
  },
  {
   "cell_type": "code",
   "execution_count": 269,
   "id": "56c05741-5ef3-41bf-9109-bc14c303e7e6",
   "metadata": {
    "tags": []
   },
   "outputs": [
    {
     "name": "stderr",
     "output_type": "stream",
     "text": [
      "<ipython-input-269-6d4dc7a3ce28>:1: UserWarning: CRS mismatch between the CRS of left geometries and the CRS of right geometries.\n",
      "Use `to_crs()` to reproject one of the input geometries to match the CRS of the other.\n",
      "\n",
      "Left CRS: GEOGCS[\"WGS 84\",DATUM[\"WGS_1984\",SPHEROID[\"WGS 84\" ...\n",
      "Right CRS: None\n",
      "\n",
      "  gpd.overlay(radios, boundary, how=\"intersection\").plot()\n"
     ]
    },
    {
     "data": {
      "text/plain": [
       "<Axes: >"
      ]
     },
     "execution_count": 269,
     "metadata": {},
     "output_type": "execute_result"
    },
    {
     "data": {
      "image/png": "[encoded data removed]",
      "text/plain": [
       "<Figure size 432x288 with 1 Axes>"
      ]
     },
     "metadata": {
      "needs_background": "light"
     },
     "output_type": "display_data"
    }
   ],
   "source": [
    " gpd.overlay(radios, boundary, how=\"intersection\").plot()"
   ]
  },
  {
   "cell_type": "code",
   "execution_count": 268,
   "id": "7e754e12-c0a4-464c-b92e-b755059507fa",
   "metadata": {
    "tags": []
   },
   "outputs": [
    {
     "data": {
      "text/html": [
       "<div>\n",
       "<style scoped>\n",
       "    .dataframe tbody tr th:only-of-type {\n",
       "        vertical-align: middle;\n",
       "    }\n",
       "\n",
       "    .dataframe tbody tr th {\n",
       "        vertical-align: top;\n",
       "    }\n",
       "\n",
       "    .dataframe thead th {\n",
       "        text-align: right;\n",
       "    }\n",
       "</style>\n",
       "<table border=\"1\" class=\"dataframe\">\n",
       "  <thead>\n",
       "    <tr style=\"text-align: right;\">\n",
       "      <th></th>\n",
       "      <th>TOTAL_VIV</th>\n",
       "      <th>COMUNA</th>\n",
       "      <th>geometry</th>\n",
       "    </tr>\n",
       "  </thead>\n",
       "  <tbody>\n",
       "    <tr>\n",
       "      <th>10525</th>\n",
       "      <td>193</td>\n",
       "      <td>Comuna 8</td>\n",
       "      <td>POLYGON ((-58.49171 -34.67420, -58.49128 -34.6...</td>\n",
       "    </tr>\n",
       "    <tr>\n",
       "      <th>15423</th>\n",
       "      <td>369</td>\n",
       "      <td>Comuna 8</td>\n",
       "      <td>POLYGON ((-58.47987 -34.67288, -58.48108 -34.6...</td>\n",
       "    </tr>\n",
       "    <tr>\n",
       "      <th>15561</th>\n",
       "      <td>310</td>\n",
       "      <td>Comuna 8</td>\n",
       "      <td>POLYGON ((-58.47849 -34.67172, -58.47946 -34.6...</td>\n",
       "    </tr>\n",
       "    <tr>\n",
       "      <th>19394</th>\n",
       "      <td>234</td>\n",
       "      <td>Comuna 8</td>\n",
       "      <td>POLYGON ((-58.46650 -34.67597, -58.46677 -34.6...</td>\n",
       "    </tr>\n",
       "    <tr>\n",
       "      <th>20274</th>\n",
       "      <td>374</td>\n",
       "      <td>Comuna 8</td>\n",
       "      <td>POLYGON ((-58.47223 -34.68096, -58.47288 -34.6...</td>\n",
       "    </tr>\n",
       "    <tr>\n",
       "      <th>...</th>\n",
       "      <td>...</td>\n",
       "      <td>...</td>\n",
       "      <td>...</td>\n",
       "    </tr>\n",
       "    <tr>\n",
       "      <th>38657</th>\n",
       "      <td>260</td>\n",
       "      <td>Comuna 8</td>\n",
       "      <td>POLYGON ((-58.45356 -34.65832, -58.45393 -34.6...</td>\n",
       "    </tr>\n",
       "    <tr>\n",
       "      <th>38686</th>\n",
       "      <td>236</td>\n",
       "      <td>Comuna 8</td>\n",
       "      <td>POLYGON ((-58.45306 -34.65875, -58.45327 -34.6...</td>\n",
       "    </tr>\n",
       "    <tr>\n",
       "      <th>38700</th>\n",
       "      <td>364</td>\n",
       "      <td>Comuna 8</td>\n",
       "      <td>POLYGON ((-58.45448 -34.66241, -58.45441 -34.6...</td>\n",
       "    </tr>\n",
       "    <tr>\n",
       "      <th>38715</th>\n",
       "      <td>270</td>\n",
       "      <td>Comuna 8</td>\n",
       "      <td>POLYGON ((-58.45531 -34.66494, -58.45511 -34.6...</td>\n",
       "    </tr>\n",
       "    <tr>\n",
       "      <th>38731</th>\n",
       "      <td>310</td>\n",
       "      <td>Comuna 8</td>\n",
       "      <td>POLYGON ((-58.45618 -34.66109, -58.45604 -34.6...</td>\n",
       "    </tr>\n",
       "  </tbody>\n",
       "</table>\n",
       "<p>191 rows × 3 columns</p>\n",
       "</div>"
      ],
      "text/plain": [
       "       TOTAL_VIV    COMUNA                                           geometry\n",
       "10525        193  Comuna 8  POLYGON ((-58.49171 -34.67420, -58.49128 -34.6...\n",
       "15423        369  Comuna 8  POLYGON ((-58.47987 -34.67288, -58.48108 -34.6...\n",
       "15561        310  Comuna 8  POLYGON ((-58.47849 -34.67172, -58.47946 -34.6...\n",
       "19394        234  Comuna 8  POLYGON ((-58.46650 -34.67597, -58.46677 -34.6...\n",
       "20274        374  Comuna 8  POLYGON ((-58.47223 -34.68096, -58.47288 -34.6...\n",
       "...          ...       ...                                                ...\n",
       "38657        260  Comuna 8  POLYGON ((-58.45356 -34.65832, -58.45393 -34.6...\n",
       "38686        236  Comuna 8  POLYGON ((-58.45306 -34.65875, -58.45327 -34.6...\n",
       "38700        364  Comuna 8  POLYGON ((-58.45448 -34.66241, -58.45441 -34.6...\n",
       "38715        270  Comuna 8  POLYGON ((-58.45531 -34.66494, -58.45511 -34.6...\n",
       "38731        310  Comuna 8  POLYGON ((-58.45618 -34.66109, -58.45604 -34.6...\n",
       "\n",
       "[191 rows x 3 columns]"
      ]
     },
     "execution_count": 268,
     "metadata": {},
     "output_type": "execute_result"
    }
   ],
   "source": [
    "radios"
   ]
  },
  {
   "cell_type": "code",
   "execution_count": 250,
   "id": "e7a29a2d-4db5-42c9-8b16-d8be9be10bf1",
   "metadata": {
    "tags": []
   },
   "outputs": [
    {
     "ename": "NameError",
     "evalue": "name 'GeoDataFrame' is not defined",
     "output_type": "error",
     "traceback": [
      "\u001b[0;31m---------------------------------------------------------------------------\u001b[0m",
      "\u001b[0;31mNameError\u001b[0m                                 Traceback (most recent call last)",
      "\u001b[0;32m<ipython-input-250-6956d81d4644>\u001b[0m in \u001b[0;36m<module>\u001b[0;34m\u001b[0m\n\u001b[0;32m----> 1\u001b[0;31m \u001b[0mGeoDataFrame\u001b[0m\u001b[0;34m(\u001b[0m\u001b[0mradios\u001b[0m\u001b[0;34m)\u001b[0m\u001b[0;34m\u001b[0m\u001b[0;34m\u001b[0m\u001b[0m\n\u001b[0m",
      "\u001b[0;31mNameError\u001b[0m: name 'GeoDataFrame' is not defined"
     ]
    }
   ],
   "source": [
    "GeoDataFrame(radios)"
   ]
  },
  {
   "cell_type": "code",
   "execution_count": 249,
   "id": "224d9f69-9b53-479e-93ce-b4feb4a7b750",
   "metadata": {
    "tags": []
   },
   "outputs": [
    {
     "ename": "NotImplementedError",
     "evalue": "overlay currently only implemented for GeoDataFrames",
     "output_type": "error",
     "traceback": [
      "\u001b[0;31m---------------------------------------------------------------------------\u001b[0m",
      "\u001b[0;31mNotImplementedError\u001b[0m                       Traceback (most recent call last)",
      "\u001b[0;32m<ipython-input-249-4a4a82d63883>\u001b[0m in \u001b[0;36m<module>\u001b[0;34m\u001b[0m\n\u001b[0;32m----> 1\u001b[0;31m \u001b[0mgpd\u001b[0m\u001b[0;34m.\u001b[0m\u001b[0moverlay\u001b[0m\u001b[0;34m(\u001b[0m\u001b[0mradios\u001b[0m\u001b[0;34m.\u001b[0m\u001b[0miloc\u001b[0m\u001b[0;34m[\u001b[0m\u001b[0;36m1\u001b[0m\u001b[0;34m,\u001b[0m\u001b[0;34m]\u001b[0m\u001b[0;34m,\u001b[0m \u001b[0mboundary\u001b[0m\u001b[0;34m,\u001b[0m \u001b[0mhow\u001b[0m\u001b[0;34m=\u001b[0m\u001b[0;34m\"intersection\"\u001b[0m\u001b[0;34m)\u001b[0m\u001b[0;34m\u001b[0m\u001b[0;34m\u001b[0m\u001b[0m\n\u001b[0m",
      "\u001b[0;32m~/opt/anaconda3/lib/python3.8/site-packages/geopandas/tools/overlay.py\u001b[0m in \u001b[0;36moverlay\u001b[0;34m(df1, df2, how, keep_geom_type, make_valid)\u001b[0m\n\u001b[1;32m    247\u001b[0m \u001b[0;34m\u001b[0m\u001b[0m\n\u001b[1;32m    248\u001b[0m     \u001b[0;32mif\u001b[0m \u001b[0misinstance\u001b[0m\u001b[0;34m(\u001b[0m\u001b[0mdf1\u001b[0m\u001b[0;34m,\u001b[0m \u001b[0mGeoSeries\u001b[0m\u001b[0;34m)\u001b[0m \u001b[0;32mor\u001b[0m \u001b[0misinstance\u001b[0m\u001b[0;34m(\u001b[0m\u001b[0mdf2\u001b[0m\u001b[0;34m,\u001b[0m \u001b[0mGeoSeries\u001b[0m\u001b[0;34m)\u001b[0m\u001b[0;34m:\u001b[0m\u001b[0;34m\u001b[0m\u001b[0;34m\u001b[0m\u001b[0m\n\u001b[0;32m--> 249\u001b[0;31m         raise NotImplementedError(\n\u001b[0m\u001b[1;32m    250\u001b[0m             \u001b[0;34m\"overlay currently only implemented for \"\u001b[0m \u001b[0;34m\"GeoDataFrames\"\u001b[0m\u001b[0;34m\u001b[0m\u001b[0;34m\u001b[0m\u001b[0m\n\u001b[1;32m    251\u001b[0m         )\n",
      "\u001b[0;31mNotImplementedError\u001b[0m: overlay currently only implemented for GeoDataFrames"
     ]
    }
   ],
   "source": [
    " gpd.overlay(radios.iloc[1,], boundary, how=\"intersection\")"
   ]
  },
  {
   "cell_type": "code",
   "execution_count": 248,
   "id": "e1835690-fb85-4037-9fe9-71af829469a8",
   "metadata": {
    "tags": []
   },
   "outputs": [
    {
     "ename": "TypeError",
     "evalue": "'int' object is not iterable",
     "output_type": "error",
     "traceback": [
      "\u001b[0;31m---------------------------------------------------------------------------\u001b[0m",
      "\u001b[0;31mTypeError\u001b[0m                                 Traceback (most recent call last)",
      "\u001b[0;32m<ipython-input-248-dde7c15ed2af>\u001b[0m in \u001b[0;36m<module>\u001b[0;34m\u001b[0m\n\u001b[0;32m----> 1\u001b[0;31m \u001b[0;32mfor\u001b[0m \u001b[0mi\u001b[0m \u001b[0;32min\u001b[0m \u001b[0mradios\u001b[0m\u001b[0;34m.\u001b[0m\u001b[0mgeometry\u001b[0m\u001b[0;34m.\u001b[0m\u001b[0mshape\u001b[0m\u001b[0;34m[\u001b[0m\u001b[0;36m0\u001b[0m\u001b[0;34m]\u001b[0m\u001b[0;34m:\u001b[0m\u001b[0;34m\u001b[0m\u001b[0;34m\u001b[0m\u001b[0m\n\u001b[0m\u001b[1;32m      2\u001b[0m     \u001b[0mgpd\u001b[0m\u001b[0;34m.\u001b[0m\u001b[0moverlay\u001b[0m\u001b[0;34m(\u001b[0m\u001b[0mradios\u001b[0m\u001b[0;34m.\u001b[0m\u001b[0miloc\u001b[0m\u001b[0;34m[\u001b[0m\u001b[0;36m1\u001b[0m\u001b[0;34m,\u001b[0m\u001b[0;34m]\u001b[0m\u001b[0;34m,\u001b[0m \u001b[0mboundary\u001b[0m\u001b[0;34m,\u001b[0m \u001b[0mhow\u001b[0m\u001b[0;34m=\u001b[0m\u001b[0;34m\"intersection\"\u001b[0m\u001b[0;34m)\u001b[0m\u001b[0;34m\u001b[0m\u001b[0;34m\u001b[0m\u001b[0m\n\u001b[1;32m      3\u001b[0m \u001b[0;34m\u001b[0m\u001b[0m\n",
      "\u001b[0;31mTypeError\u001b[0m: 'int' object is not iterable"
     ]
    }
   ],
   "source": [
    "for i in radios.geometry.shape[0]:\n",
    "    gpd.overlay(radios.iloc[1,], boundary, how=\"intersection\")\n",
    "    "
   ]
  },
  {
   "cell_type": "code",
   "execution_count": null,
   "id": "95c3f54d-0d55-47b7-ab8d-cdea9ee5c400",
   "metadata": {},
   "outputs": [],
   "source": [
    "intersections = gpd.overlay(gdf2, gdf, how=\"intersection\")"
   ]
  },
  {
   "cell_type": "code",
   "execution_count": 227,
   "id": "ac60f3ea-1bc7-4bb5-8428-9fe3fc21ec2f",
   "metadata": {
    "tags": []
   },
   "outputs": [
    {
     "ename": "TypeError",
     "evalue": "Expected bytes or string, got MultiPolygon",
     "output_type": "error",
     "traceback": [
      "\u001b[0;31m---------------------------------------------------------------------------\u001b[0m",
      "\u001b[0;31mTypeError\u001b[0m                                 Traceback (most recent call last)",
      "\u001b[0;32m<ipython-input-227-df01c6e6bc00>\u001b[0m in \u001b[0;36m<module>\u001b[0;34m\u001b[0m\n\u001b[1;32m      1\u001b[0m \u001b[0;32mimport\u001b[0m \u001b[0mshapely\u001b[0m\u001b[0;34m.\u001b[0m\u001b[0mgeometry\u001b[0m \u001b[0;32mas\u001b[0m \u001b[0mgeom\u001b[0m\u001b[0;34m\u001b[0m\u001b[0;34m\u001b[0m\u001b[0m\n\u001b[0;32m----> 2\u001b[0;31m \u001b[0mpolygons\u001b[0m \u001b[0;34m=\u001b[0m \u001b[0;34m[\u001b[0m\u001b[0mwkt\u001b[0m\u001b[0;34m.\u001b[0m\u001b[0mloads\u001b[0m\u001b[0;34m(\u001b[0m\u001b[0mwkt_string\u001b[0m\u001b[0;34m)\u001b[0m \u001b[0;32mfor\u001b[0m \u001b[0mwkt_string\u001b[0m \u001b[0;32min\u001b[0m \u001b[0mlist_polygons\u001b[0m\u001b[0;34m]\u001b[0m\u001b[0;34m\u001b[0m\u001b[0;34m\u001b[0m\u001b[0m\n\u001b[0m\u001b[1;32m      3\u001b[0m \u001b[0mmulti_polygon\u001b[0m \u001b[0;34m=\u001b[0m \u001b[0mgeom\u001b[0m\u001b[0;34m.\u001b[0m\u001b[0mMultiPolygon\u001b[0m\u001b[0;34m(\u001b[0m\u001b[0mpolygons\u001b[0m\u001b[0;34m)\u001b[0m\u001b[0;34m\u001b[0m\u001b[0;34m\u001b[0m\u001b[0m\n",
      "\u001b[0;32m<ipython-input-227-df01c6e6bc00>\u001b[0m in \u001b[0;36m<listcomp>\u001b[0;34m(.0)\u001b[0m\n\u001b[1;32m      1\u001b[0m \u001b[0;32mimport\u001b[0m \u001b[0mshapely\u001b[0m\u001b[0;34m.\u001b[0m\u001b[0mgeometry\u001b[0m \u001b[0;32mas\u001b[0m \u001b[0mgeom\u001b[0m\u001b[0;34m\u001b[0m\u001b[0;34m\u001b[0m\u001b[0m\n\u001b[0;32m----> 2\u001b[0;31m \u001b[0mpolygons\u001b[0m \u001b[0;34m=\u001b[0m \u001b[0;34m[\u001b[0m\u001b[0mwkt\u001b[0m\u001b[0;34m.\u001b[0m\u001b[0mloads\u001b[0m\u001b[0;34m(\u001b[0m\u001b[0mwkt_string\u001b[0m\u001b[0;34m)\u001b[0m \u001b[0;32mfor\u001b[0m \u001b[0mwkt_string\u001b[0m \u001b[0;32min\u001b[0m \u001b[0mlist_polygons\u001b[0m\u001b[0;34m]\u001b[0m\u001b[0;34m\u001b[0m\u001b[0;34m\u001b[0m\u001b[0m\n\u001b[0m\u001b[1;32m      3\u001b[0m \u001b[0mmulti_polygon\u001b[0m \u001b[0;34m=\u001b[0m \u001b[0mgeom\u001b[0m\u001b[0;34m.\u001b[0m\u001b[0mMultiPolygon\u001b[0m\u001b[0;34m(\u001b[0m\u001b[0mpolygons\u001b[0m\u001b[0;34m)\u001b[0m\u001b[0;34m\u001b[0m\u001b[0;34m\u001b[0m\u001b[0m\n",
      "\u001b[0;32m~/opt/anaconda3/lib/python3.8/site-packages/shapely/wkt.py\u001b[0m in \u001b[0;36mloads\u001b[0;34m(data)\u001b[0m\n\u001b[1;32m     20\u001b[0m     \u001b[0mShapely\u001b[0m \u001b[0mgeometry\u001b[0m \u001b[0mobject\u001b[0m\u001b[0;34m\u001b[0m\u001b[0;34m\u001b[0m\u001b[0m\n\u001b[1;32m     21\u001b[0m     \"\"\"\n\u001b[0;32m---> 22\u001b[0;31m     \u001b[0;32mreturn\u001b[0m \u001b[0mshapely\u001b[0m\u001b[0;34m.\u001b[0m\u001b[0mfrom_wkt\u001b[0m\u001b[0;34m(\u001b[0m\u001b[0mdata\u001b[0m\u001b[0;34m)\u001b[0m\u001b[0;34m\u001b[0m\u001b[0;34m\u001b[0m\u001b[0m\n\u001b[0m\u001b[1;32m     23\u001b[0m \u001b[0;34m\u001b[0m\u001b[0m\n\u001b[1;32m     24\u001b[0m \u001b[0;34m\u001b[0m\u001b[0m\n",
      "\u001b[0;32m~/opt/anaconda3/lib/python3.8/site-packages/shapely/io.py\u001b[0m in \u001b[0;36mfrom_wkt\u001b[0;34m(geometry, on_invalid, **kwargs)\u001b[0m\n\u001b[1;32m    284\u001b[0m     \u001b[0minvalid_handler\u001b[0m \u001b[0;34m=\u001b[0m \u001b[0mnp\u001b[0m\u001b[0;34m.\u001b[0m\u001b[0muint8\u001b[0m\u001b[0;34m(\u001b[0m\u001b[0mDecodingErrorOptions\u001b[0m\u001b[0;34m.\u001b[0m\u001b[0mget_value\u001b[0m\u001b[0;34m(\u001b[0m\u001b[0mon_invalid\u001b[0m\u001b[0;34m)\u001b[0m\u001b[0;34m)\u001b[0m\u001b[0;34m\u001b[0m\u001b[0;34m\u001b[0m\u001b[0m\n\u001b[1;32m    285\u001b[0m \u001b[0;34m\u001b[0m\u001b[0m\n\u001b[0;32m--> 286\u001b[0;31m     \u001b[0;32mreturn\u001b[0m \u001b[0mlib\u001b[0m\u001b[0;34m.\u001b[0m\u001b[0mfrom_wkt\u001b[0m\u001b[0;34m(\u001b[0m\u001b[0mgeometry\u001b[0m\u001b[0;34m,\u001b[0m \u001b[0minvalid_handler\u001b[0m\u001b[0;34m,\u001b[0m \u001b[0;34m**\u001b[0m\u001b[0mkwargs\u001b[0m\u001b[0;34m)\u001b[0m\u001b[0;34m\u001b[0m\u001b[0;34m\u001b[0m\u001b[0m\n\u001b[0m\u001b[1;32m    287\u001b[0m \u001b[0;34m\u001b[0m\u001b[0m\n\u001b[1;32m    288\u001b[0m \u001b[0;34m\u001b[0m\u001b[0m\n",
      "\u001b[0;31mTypeError\u001b[0m: Expected bytes or string, got MultiPolygon"
     ]
    }
   ],
   "source": [
    "import shapely.geometry as geom\n",
    "polygons = [wkt.loads(wkt_string) for wkt_string in list_polygons]\n",
    "multi_polygon = geom.MultiPolygon(polygons)"
   ]
  },
  {
   "cell_type": "code",
   "execution_count": 223,
   "id": "d0f12914-b23d-4507-92d6-33ce764aa695",
   "metadata": {
    "tags": []
   },
   "outputs": [
    {
     "ename": "ValueError",
     "evalue": "Sequences of multi-polygons are not valid arguments",
     "output_type": "error",
     "traceback": [
      "\u001b[0;31m---------------------------------------------------------------------------\u001b[0m",
      "\u001b[0;31mValueError\u001b[0m                                Traceback (most recent call last)",
      "\u001b[0;32m<ipython-input-223-fca1ebe473e5>\u001b[0m in \u001b[0;36m<module>\u001b[0;34m\u001b[0m\n\u001b[0;32m----> 1\u001b[0;31m \u001b[0mmultipolygon\u001b[0m \u001b[0;34m=\u001b[0m \u001b[0mMultiPolygon\u001b[0m\u001b[0;34m(\u001b[0m\u001b[0mlist\u001b[0m\u001b[0;34m(\u001b[0m\u001b[0mget_public_space\u001b[0m\u001b[0;34m(\u001b[0m\u001b[0;34m)\u001b[0m\u001b[0;34m.\u001b[0m\u001b[0mgeometry\u001b[0m\u001b[0;34m)\u001b[0m\u001b[0;34m)\u001b[0m\u001b[0;34m\u001b[0m\u001b[0;34m\u001b[0m\u001b[0m\n\u001b[0m\u001b[1;32m      2\u001b[0m \u001b[0;34m\u001b[0m\u001b[0m\n\u001b[1;32m      3\u001b[0m \u001b[0;31m# create a new GeoDataFrame with a single row containing the multipolygon\u001b[0m\u001b[0;34m\u001b[0m\u001b[0;34m\u001b[0m\u001b[0;34m\u001b[0m\u001b[0m\n\u001b[1;32m      4\u001b[0m \u001b[0mnew_gdf\u001b[0m \u001b[0;34m=\u001b[0m \u001b[0mgpd\u001b[0m\u001b[0;34m.\u001b[0m\u001b[0mGeoDataFrame\u001b[0m\u001b[0;34m(\u001b[0m\u001b[0mgeometry\u001b[0m\u001b[0;34m=\u001b[0m\u001b[0;34m[\u001b[0m\u001b[0mmultipolygon\u001b[0m\u001b[0;34m]\u001b[0m\u001b[0;34m)\u001b[0m\u001b[0;34m\u001b[0m\u001b[0;34m\u001b[0m\u001b[0m\n",
      "\u001b[0;32m~/opt/anaconda3/lib/python3.8/site-packages/shapely/geometry/multipolygon.py\u001b[0m in \u001b[0;36m__new__\u001b[0;34m(self, polygons)\u001b[0m\n\u001b[1;32m     71\u001b[0m         \u001b[0;31m# no implicit flattening.\u001b[0m\u001b[0;34m\u001b[0m\u001b[0;34m\u001b[0m\u001b[0;34m\u001b[0m\u001b[0m\n\u001b[1;32m     72\u001b[0m         \u001b[0;32mif\u001b[0m \u001b[0misinstance\u001b[0m\u001b[0;34m(\u001b[0m\u001b[0mpolygons\u001b[0m\u001b[0;34m[\u001b[0m\u001b[0;36m0\u001b[0m\u001b[0;34m]\u001b[0m\u001b[0;34m,\u001b[0m \u001b[0mMultiPolygon\u001b[0m\u001b[0;34m)\u001b[0m\u001b[0;34m:\u001b[0m\u001b[0;34m\u001b[0m\u001b[0;34m\u001b[0m\u001b[0m\n\u001b[0;32m---> 73\u001b[0;31m             \u001b[0;32mraise\u001b[0m \u001b[0mValueError\u001b[0m\u001b[0;34m(\u001b[0m\u001b[0;34m\"Sequences of multi-polygons are not valid arguments\"\u001b[0m\u001b[0;34m)\u001b[0m\u001b[0;34m\u001b[0m\u001b[0;34m\u001b[0m\u001b[0m\n\u001b[0m\u001b[1;32m     74\u001b[0m \u001b[0;34m\u001b[0m\u001b[0m\n\u001b[1;32m     75\u001b[0m         \u001b[0msubs\u001b[0m \u001b[0;34m=\u001b[0m \u001b[0;34m[\u001b[0m\u001b[0;34m]\u001b[0m\u001b[0;34m\u001b[0m\u001b[0;34m\u001b[0m\u001b[0m\n",
      "\u001b[0;31mValueError\u001b[0m: Sequences of multi-polygons are not valid arguments"
     ]
    }
   ],
   "source": [
    "multipolygon = MultiPolygon(list(get_public_space().geometry))\n",
    "\n",
    "# create a new GeoDataFrame with a single row containing the multipolygon\n",
    "new_gdf = gpd.GeoDataFrame(geometry=[multipolygon])\n"
   ]
  },
  {
   "cell_type": "code",
   "execution_count": 173,
   "id": "6549c714-ee8c-4f08-895c-8a5e3617316e",
   "metadata": {
    "tags": []
   },
   "outputs": [
    {
     "name": "stderr",
     "output_type": "stream",
     "text": [
      "<ipython-input-173-12c641326d50>:1: UserWarning: CRS mismatch between the CRS of left geometries and the CRS of right geometries.\n",
      "Use `to_crs()` to reproject one of the input geometries to match the CRS of the other.\n",
      "\n",
      "Left CRS: EPSG:4326\n",
      "Right CRS: GEOGCS[\"WGS 84\",DATUM[\"WGS_1984\",SPHEROID[\"WGS 84\" ...\n",
      "\n",
      "  intersection_gdf = gpd.overlay(get_public_space(), radios, how='intersection')\n"
     ]
    }
   ],
   "source": [
    "intersection_gdf = gpd.overlay(get_public_space(), radios, how='intersection')\n"
   ]
  },
  {
   "cell_type": "code",
   "execution_count": 181,
   "id": "7b9efb32-32a0-4d6a-9857-a16ad3801902",
   "metadata": {
    "tags": []
   },
   "outputs": [
    {
     "name": "stderr",
     "output_type": "stream",
     "text": [
      "/Users/fabriciodiana/opt/anaconda3/lib/python3.8/site-packages/IPython/core/interactiveshell.py:3338: FutureWarning: The `op` parameter is deprecated and will be removed in a future release. Please use the `predicate` parameter instead.\n",
      "  if (await self.run_code(code, result,  async_=asy)):\n",
      "<ipython-input-181-1fc71d2aa2a9>:1: UserWarning: CRS mismatch between the CRS of left geometries and the CRS of right geometries.\n",
      "Use `to_crs()` to reproject one of the input geometries to match the CRS of the other.\n",
      "\n",
      "Left CRS: EPSG:4326\n",
      "Right CRS: GEOGCS[\"WGS 84\",DATUM[\"WGS_1984\",SPHEROID[\"WGS 84\" ...\n",
      "\n",
      "  joined_gdf = gpd.sjoin(get_public_space(), radios, how='inner', op='within')\n"
     ]
    }
   ],
   "source": [
    "joined_gdf = gpd.sjoin(get_public_space(), radios, how='inner', op='within')"
   ]
  },
  {
   "cell_type": "code",
   "execution_count": 186,
   "id": "0f10d3f8-b196-4046-8992-b5ae2b405c45",
   "metadata": {
    "tags": []
   },
   "outputs": [],
   "source": [
    "gb_joined_gdf=joined_gdf.groupby('index_right')[\"area\"].sum()"
   ]
  },
  {
   "cell_type": "code",
   "execution_count": 192,
   "id": "5faae65a-1970-4d3f-affb-c37a69e1144c",
   "metadata": {
    "tags": []
   },
   "outputs": [],
   "source": [
    "gb_joined_gdf=pd.DataFrame(gb_joined_gdf).reset_index()"
   ]
  },
  {
   "cell_type": "code",
   "execution_count": 195,
   "id": "8a66602e-dc5c-4757-8ff6-be2265b1c032",
   "metadata": {
    "tags": []
   },
   "outputs": [],
   "source": [
    "gb_joined_gdf.columns=['index', 'area']"
   ]
  },
  {
   "cell_type": "code",
   "execution_count": 197,
   "id": "77daba17-e556-466f-be96-a99184531751",
   "metadata": {
    "tags": []
   },
   "outputs": [],
   "source": [
    "public_sp_cens=pd.merge(radios.reset_index(),gb_joined_gdf, on=\"index\",how='outer')"
   ]
  },
  {
   "cell_type": "code",
   "execution_count": 200,
   "id": "bf3ca8cd-e038-41b2-ae10-fdaa21cb8b6f",
   "metadata": {
    "tags": []
   },
   "outputs": [],
   "source": [
    "public_sp_cens.fillna(0,inplace=True)"
   ]
  },
  {
   "cell_type": "code",
   "execution_count": 204,
   "id": "1f16efc6-6ce0-4eb3-8e5e-bca91d3553e7",
   "metadata": {
    "tags": []
   },
   "outputs": [],
   "source": [
    "public_sp_cens['m2_hab']=public_sp_cens['area']/public_sp_cens['TOTAL_VIV']"
   ]
  },
  {
   "cell_type": "code",
   "execution_count": 208,
   "id": "1b04dbec-2784-4b34-aa17-b664ade572e3",
   "metadata": {
    "tags": []
   },
   "outputs": [],
   "source": [
    "from keplergl import KeplerGl"
   ]
  },
  {
   "cell_type": "code",
   "execution_count": 209,
   "id": "63fc84cb-0acd-45af-85b2-f1880a1934be",
   "metadata": {
    "tags": []
   },
   "outputs": [],
   "source": [
    "from streamlit_keplergl import keplergl_static"
   ]
  },
  {
   "cell_type": "code",
   "execution_count": 206,
   "id": "8ac3f5c1-c4da-47e0-8ace-f551da59d166",
   "metadata": {
    "tags": []
   },
   "outputs": [],
   "source": [
    "def plot_kepler(self, data: gpd.GeoDataFrame) -> None:\n",
    "        map_1 = KeplerGl(height=500, data={\"data\": data}, config=self.config)\n",
    "        keplergl_static(map_1)\n",
    "        map_1.add_data(data=data, name=\"radios\")"
   ]
  },
  {
   "cell_type": "code",
   "execution_count": 218,
   "id": "912d191d-cac2-4961-9076-44f15cbc3d1b",
   "metadata": {
    "tags": []
   },
   "outputs": [],
   "source": [
    "from matplotlib import pyplot as plt"
   ]
  },
  {
   "cell_type": "code",
   "execution_count": 220,
   "id": "4bff4dc0-6b7a-4bee-9b86-902b6c4a82e6",
   "metadata": {
    "tags": []
   },
   "outputs": [
    {
     "data": {
      "text/plain": [
       "count    185.000000\n",
       "mean            inf\n",
       "std             NaN\n",
       "min        0.000000\n",
       "25%        0.000000\n",
       "50%        0.000000\n",
       "75%        1.507664\n",
       "max             inf\n",
       "Name: m2_hab, dtype: float64"
      ]
     },
     "execution_count": 220,
     "metadata": {},
     "output_type": "execute_result"
    }
   ],
   "source": [
    "public_sp_cens.m2_hab.describe()"
   ]
  },
  {
   "cell_type": "code",
   "execution_count": 379,
   "id": "b5316b9a-b3e8-43ef-873c-20e1cba897df",
   "metadata": {
    "tags": []
   },
   "outputs": [
    {
     "ename": "ValueError",
     "evalue": "The truth value of a GeoDataFrame is ambiguous. Use a.empty, a.bool(), a.item(), a.any() or a.all().",
     "output_type": "error",
     "traceback": [
      "\u001b[0;31m---------------------------------------------------------------------------\u001b[0m",
      "\u001b[0;31mValueError\u001b[0m                                Traceback (most recent call last)",
      "\u001b[0;32m<ipython-input-379-bd94140f8704>\u001b[0m in \u001b[0;36m<module>\u001b[0;34m\u001b[0m\n\u001b[0;32m----> 1\u001b[0;31m \u001b[0mboundary\u001b[0m\u001b[0;34m=\u001b[0m\u001b[0mgpd\u001b[0m\u001b[0;34m.\u001b[0m\u001b[0mGeoDataFrame\u001b[0m\u001b[0;34m(\u001b[0m\u001b[0mgeometry\u001b[0m\u001b[0;34m=\u001b[0m\u001b[0mgpd\u001b[0m\u001b[0;34m.\u001b[0m\u001b[0mGeoSeries\u001b[0m\u001b[0;34m(\u001b[0m\u001b[0mboundary\u001b[0m\u001b[0;34m)\u001b[0m\u001b[0;34m)\u001b[0m\u001b[0;34m\u001b[0m\u001b[0;34m\u001b[0m\u001b[0m\n\u001b[0m\u001b[1;32m      2\u001b[0m \u001b[0mdf\u001b[0m\u001b[0;34m=\u001b[0m\u001b[0mpd\u001b[0m\u001b[0;34m.\u001b[0m\u001b[0mmerge\u001b[0m\u001b[0;34m(\u001b[0m\u001b[0mradios\u001b[0m\u001b[0;34m.\u001b[0m\u001b[0mreset_index\u001b[0m\u001b[0;34m(\u001b[0m\u001b[0;34m)\u001b[0m\u001b[0;34m,\u001b[0m\u001b[0mgpd\u001b[0m\u001b[0;34m.\u001b[0m\u001b[0moverlay\u001b[0m\u001b[0;34m(\u001b[0m\u001b[0mradios\u001b[0m\u001b[0;34m.\u001b[0m\u001b[0mreset_index\u001b[0m\u001b[0;34m(\u001b[0m\u001b[0;34m)\u001b[0m\u001b[0;34m.\u001b[0m\u001b[0miloc\u001b[0m\u001b[0;34m[\u001b[0m\u001b[0;34m:\u001b[0m\u001b[0;34m,\u001b[0m\u001b[0;34m]\u001b[0m\u001b[0;34m,\u001b[0m \u001b[0mboundary\u001b[0m\u001b[0;34m,\u001b[0m \u001b[0mhow\u001b[0m\u001b[0;34m=\u001b[0m\u001b[0;34m\"intersection\"\u001b[0m\u001b[0;34m)\u001b[0m\u001b[0;34m,\u001b[0m\u001b[0mon\u001b[0m\u001b[0;34m=\u001b[0m\u001b[0;34m'index'\u001b[0m\u001b[0;34m,\u001b[0m\u001b[0mhow\u001b[0m\u001b[0;34m=\u001b[0m\u001b[0;34m'left'\u001b[0m\u001b[0;34m)\u001b[0m\u001b[0;34m\u001b[0m\u001b[0;34m\u001b[0m\u001b[0m\n\u001b[1;32m      3\u001b[0m \u001b[0mdf\u001b[0m\u001b[0;34m=\u001b[0m\u001b[0mdf\u001b[0m\u001b[0;34m.\u001b[0m\u001b[0mloc\u001b[0m\u001b[0;34m[\u001b[0m\u001b[0;34m:\u001b[0m\u001b[0;34m,\u001b[0m\u001b[0;34m[\u001b[0m\u001b[0;34m'index'\u001b[0m\u001b[0;34m,\u001b[0m \u001b[0;34m'TOTAL_VIV_x'\u001b[0m\u001b[0;34m,\u001b[0m \u001b[0;34m'COMUNA_x'\u001b[0m\u001b[0;34m,\u001b[0m \u001b[0;34m'geometry_x'\u001b[0m\u001b[0;34m,\u001b[0m\u001b[0;34m'geometry_y'\u001b[0m\u001b[0;34m]\u001b[0m\u001b[0;34m]\u001b[0m\u001b[0;34m\u001b[0m\u001b[0;34m\u001b[0m\u001b[0m\n\u001b[1;32m      4\u001b[0m \u001b[0mdf\u001b[0m\u001b[0;34m.\u001b[0m\u001b[0mcolumns\u001b[0m\u001b[0;34m=\u001b[0m\u001b[0;34m[\u001b[0m\u001b[0;34m'index'\u001b[0m\u001b[0;34m,\u001b[0m \u001b[0;34m'TOTAL_VIV'\u001b[0m\u001b[0;34m,\u001b[0m \u001b[0;34m'COMUNA'\u001b[0m\u001b[0;34m,\u001b[0m \u001b[0;34m'geometry_radio'\u001b[0m\u001b[0;34m,\u001b[0m \u001b[0;34m'geometry_ps_rc'\u001b[0m\u001b[0;34m]\u001b[0m\u001b[0;34m\u001b[0m\u001b[0;34m\u001b[0m\u001b[0m\n\u001b[1;32m      5\u001b[0m \u001b[0mdf\u001b[0m\u001b[0;34m[\u001b[0m\u001b[0;34m'area_ps_rc'\u001b[0m\u001b[0;34m]\u001b[0m\u001b[0;34m=\u001b[0m\u001b[0mdf\u001b[0m\u001b[0;34m.\u001b[0m\u001b[0mgeometry_ps_rc\u001b[0m\u001b[0;34m.\u001b[0m\u001b[0marea\u001b[0m\u001b[0;34m\u001b[0m\u001b[0;34m\u001b[0m\u001b[0m\n",
      "\u001b[0;32m~/opt/anaconda3/lib/python3.8/site-packages/geopandas/geoseries.py\u001b[0m in \u001b[0;36m__init__\u001b[0;34m(self, data, index, crs, **kwargs)\u001b[0m\n\u001b[1;32m    206\u001b[0m                 \u001b[0mwarnings\u001b[0m\u001b[0;34m.\u001b[0m\u001b[0mfilterwarnings\u001b[0m\u001b[0;34m(\u001b[0m\u001b[0;34m\"ignore\"\u001b[0m\u001b[0;34m,\u001b[0m \u001b[0mempty_msg\u001b[0m\u001b[0;34m,\u001b[0m \u001b[0mDeprecationWarning\u001b[0m\u001b[0;34m)\u001b[0m\u001b[0;34m\u001b[0m\u001b[0;34m\u001b[0m\u001b[0m\n\u001b[1;32m    207\u001b[0m                 \u001b[0mwarnings\u001b[0m\u001b[0;34m.\u001b[0m\u001b[0mfilterwarnings\u001b[0m\u001b[0;34m(\u001b[0m\u001b[0;34m\"ignore\"\u001b[0m\u001b[0;34m,\u001b[0m \u001b[0mempty_msg\u001b[0m\u001b[0;34m,\u001b[0m \u001b[0mFutureWarning\u001b[0m\u001b[0;34m)\u001b[0m\u001b[0;34m\u001b[0m\u001b[0;34m\u001b[0m\u001b[0m\n\u001b[0;32m--> 208\u001b[0;31m                 \u001b[0ms\u001b[0m \u001b[0;34m=\u001b[0m \u001b[0mpd\u001b[0m\u001b[0;34m.\u001b[0m\u001b[0mSeries\u001b[0m\u001b[0;34m(\u001b[0m\u001b[0mdata\u001b[0m\u001b[0;34m,\u001b[0m \u001b[0mindex\u001b[0m\u001b[0;34m=\u001b[0m\u001b[0mindex\u001b[0m\u001b[0;34m,\u001b[0m \u001b[0mname\u001b[0m\u001b[0;34m=\u001b[0m\u001b[0mname\u001b[0m\u001b[0;34m,\u001b[0m \u001b[0;34m**\u001b[0m\u001b[0mkwargs\u001b[0m\u001b[0;34m)\u001b[0m\u001b[0;34m\u001b[0m\u001b[0;34m\u001b[0m\u001b[0m\n\u001b[0m\u001b[1;32m    209\u001b[0m             \u001b[0;31m# prevent trying to convert non-geometry objects\u001b[0m\u001b[0;34m\u001b[0m\u001b[0;34m\u001b[0m\u001b[0;34m\u001b[0m\u001b[0m\n\u001b[1;32m    210\u001b[0m             \u001b[0;32mif\u001b[0m \u001b[0ms\u001b[0m\u001b[0;34m.\u001b[0m\u001b[0mdtype\u001b[0m \u001b[0;34m!=\u001b[0m \u001b[0mobject\u001b[0m\u001b[0;34m:\u001b[0m\u001b[0;34m\u001b[0m\u001b[0;34m\u001b[0m\u001b[0m\n",
      "\u001b[0;32m~/opt/anaconda3/lib/python3.8/site-packages/pandas/core/series.py\u001b[0m in \u001b[0;36m__init__\u001b[0;34m(self, data, index, dtype, name, copy, fastpath)\u001b[0m\n\u001b[1;32m    384\u001b[0m             \u001b[0mname\u001b[0m \u001b[0;34m=\u001b[0m \u001b[0mibase\u001b[0m\u001b[0;34m.\u001b[0m\u001b[0mmaybe_extract_name\u001b[0m\u001b[0;34m(\u001b[0m\u001b[0mname\u001b[0m\u001b[0;34m,\u001b[0m \u001b[0mdata\u001b[0m\u001b[0;34m,\u001b[0m \u001b[0mtype\u001b[0m\u001b[0;34m(\u001b[0m\u001b[0mself\u001b[0m\u001b[0;34m)\u001b[0m\u001b[0;34m)\u001b[0m\u001b[0;34m\u001b[0m\u001b[0;34m\u001b[0m\u001b[0m\n\u001b[1;32m    385\u001b[0m \u001b[0;34m\u001b[0m\u001b[0m\n\u001b[0;32m--> 386\u001b[0;31m             \u001b[0;32mif\u001b[0m \u001b[0mis_empty_data\u001b[0m\u001b[0;34m(\u001b[0m\u001b[0mdata\u001b[0m\u001b[0;34m)\u001b[0m \u001b[0;32mand\u001b[0m \u001b[0mdtype\u001b[0m \u001b[0;32mis\u001b[0m \u001b[0;32mNone\u001b[0m\u001b[0;34m:\u001b[0m\u001b[0;34m\u001b[0m\u001b[0;34m\u001b[0m\u001b[0m\n\u001b[0m\u001b[1;32m    387\u001b[0m                 \u001b[0;31m# gh-17261\u001b[0m\u001b[0;34m\u001b[0m\u001b[0;34m\u001b[0m\u001b[0;34m\u001b[0m\u001b[0m\n\u001b[1;32m    388\u001b[0m                 warnings.warn(\n",
      "\u001b[0;32m~/opt/anaconda3/lib/python3.8/site-packages/pandas/core/construction.py\u001b[0m in \u001b[0;36mis_empty_data\u001b[0;34m(data)\u001b[0m\n\u001b[1;32m    875\u001b[0m     \u001b[0mis_none\u001b[0m \u001b[0;34m=\u001b[0m \u001b[0mdata\u001b[0m \u001b[0;32mis\u001b[0m \u001b[0;32mNone\u001b[0m\u001b[0;34m\u001b[0m\u001b[0;34m\u001b[0m\u001b[0m\n\u001b[1;32m    876\u001b[0m     \u001b[0mis_list_like_without_dtype\u001b[0m \u001b[0;34m=\u001b[0m \u001b[0mis_list_like\u001b[0m\u001b[0;34m(\u001b[0m\u001b[0mdata\u001b[0m\u001b[0;34m)\u001b[0m \u001b[0;32mand\u001b[0m \u001b[0;32mnot\u001b[0m \u001b[0mhasattr\u001b[0m\u001b[0;34m(\u001b[0m\u001b[0mdata\u001b[0m\u001b[0;34m,\u001b[0m \u001b[0;34m\"dtype\"\u001b[0m\u001b[0;34m)\u001b[0m\u001b[0;34m\u001b[0m\u001b[0;34m\u001b[0m\u001b[0m\n\u001b[0;32m--> 877\u001b[0;31m     \u001b[0mis_simple_empty\u001b[0m \u001b[0;34m=\u001b[0m \u001b[0mis_list_like_without_dtype\u001b[0m \u001b[0;32mand\u001b[0m \u001b[0;32mnot\u001b[0m \u001b[0mdata\u001b[0m\u001b[0;34m\u001b[0m\u001b[0;34m\u001b[0m\u001b[0m\n\u001b[0m\u001b[1;32m    878\u001b[0m     \u001b[0;32mreturn\u001b[0m \u001b[0mis_none\u001b[0m \u001b[0;32mor\u001b[0m \u001b[0mis_simple_empty\u001b[0m\u001b[0;34m\u001b[0m\u001b[0;34m\u001b[0m\u001b[0m\n\u001b[1;32m    879\u001b[0m \u001b[0;34m\u001b[0m\u001b[0m\n",
      "\u001b[0;32m~/opt/anaconda3/lib/python3.8/site-packages/pandas/core/generic.py\u001b[0m in \u001b[0;36m__nonzero__\u001b[0;34m(self)\u001b[0m\n\u001b[1;32m   1525\u001b[0m     \u001b[0;34m@\u001b[0m\u001b[0mfinal\u001b[0m\u001b[0;34m\u001b[0m\u001b[0;34m\u001b[0m\u001b[0m\n\u001b[1;32m   1526\u001b[0m     \u001b[0;32mdef\u001b[0m \u001b[0m__nonzero__\u001b[0m\u001b[0;34m(\u001b[0m\u001b[0mself\u001b[0m\u001b[0;34m)\u001b[0m \u001b[0;34m->\u001b[0m \u001b[0mNoReturn\u001b[0m\u001b[0;34m:\u001b[0m\u001b[0;34m\u001b[0m\u001b[0;34m\u001b[0m\u001b[0m\n\u001b[0;32m-> 1527\u001b[0;31m         raise ValueError(\n\u001b[0m\u001b[1;32m   1528\u001b[0m             \u001b[0;34mf\"The truth value of a {type(self).__name__} is ambiguous. \"\u001b[0m\u001b[0;34m\u001b[0m\u001b[0;34m\u001b[0m\u001b[0m\n\u001b[1;32m   1529\u001b[0m             \u001b[0;34m\"Use a.empty, a.bool(), a.item(), a.any() or a.all().\"\u001b[0m\u001b[0;34m\u001b[0m\u001b[0;34m\u001b[0m\u001b[0m\n",
      "\u001b[0;31mValueError\u001b[0m: The truth value of a GeoDataFrame is ambiguous. Use a.empty, a.bool(), a.item(), a.any() or a.all()."
     ]
    }
   ],
   "source": [
    "\n",
    "boundary=gpd.GeoDataFrame(geometry=gpd.GeoSeries(boundary))\n",
    "df=pd.merge(radios.reset_index(),gpd.overlay(radios.reset_index().iloc[:,], boundary, how=\"intersection\"),on='index',how='left')\n",
    "df=df.loc[:,['index', 'TOTAL_VIV_x', 'COMUNA_x', 'geometry_x','geometry_y']]\n",
    "df.columns=['index', 'TOTAL_VIV', 'COMUNA', 'geometry_radio', 'geometry_ps_rc']\n",
    "df['area_ps_rc']=df.geometry_ps_rc.area\n",
    "df['area_ps_rc'].fillna(0,inplace=True)\n",
    "df['ratio']=df['area_ps_rc']/df['TOTAL_VIV']"
   ]
  },
  {
   "cell_type": "code",
   "execution_count": 381,
   "id": "62c1a57a-85a4-4221-b7df-3c74e9b053bf",
   "metadata": {
    "tags": []
   },
   "outputs": [],
   "source": [
    "df.TOTAL_VIV=df.TOTAL_VIV+1"
   ]
  },
  {
   "cell_type": "code",
   "execution_count": 382,
   "id": "3a96e8ed-3bcd-48d5-9ed2-a696fbcd96c6",
   "metadata": {
    "tags": []
   },
   "outputs": [],
   "source": [
    "df['geometry']=df['geometry_radio']"
   ]
  },
  {
   "cell_type": "code",
   "execution_count": 383,
   "id": "ea12b3d5-de3b-4743-94dd-a8b91cb70083",
   "metadata": {
    "tags": []
   },
   "outputs": [],
   "source": [
    "import numpy as np"
   ]
  },
  {
   "cell_type": "code",
   "execution_count": 389,
   "id": "7b477657-dcb5-430b-b447-c8db9d516273",
   "metadata": {
    "tags": []
   },
   "outputs": [
    {
     "data": {
      "text/html": [
       "<div>\n",
       "<style scoped>\n",
       "    .dataframe tbody tr th:only-of-type {\n",
       "        vertical-align: middle;\n",
       "    }\n",
       "\n",
       "    .dataframe tbody tr th {\n",
       "        vertical-align: top;\n",
       "    }\n",
       "\n",
       "    .dataframe thead th {\n",
       "        text-align: right;\n",
       "    }\n",
       "</style>\n",
       "<table border=\"1\" class=\"dataframe\">\n",
       "  <thead>\n",
       "    <tr style=\"text-align: right;\">\n",
       "      <th></th>\n",
       "      <th>index</th>\n",
       "      <th>TOTAL_VIV</th>\n",
       "      <th>COMUNA</th>\n",
       "      <th>geometry_radio</th>\n",
       "      <th>geometry_ps_rc</th>\n",
       "      <th>area_ps_rc</th>\n",
       "      <th>ratio</th>\n",
       "      <th>geometry</th>\n",
       "    </tr>\n",
       "  </thead>\n",
       "  <tbody>\n",
       "    <tr>\n",
       "      <th>0</th>\n",
       "      <td>10525</td>\n",
       "      <td>195</td>\n",
       "      <td>Comuna 8</td>\n",
       "      <td>POLYGON ((-58.49171 -34.67420, -58.49128 -34.6...</td>\n",
       "      <td>None</td>\n",
       "      <td>0.000000e+00</td>\n",
       "      <td>0.000000e+00</td>\n",
       "      <td>POLYGON ((-58.49171 -34.67420, -58.49128 -34.6...</td>\n",
       "    </tr>\n",
       "    <tr>\n",
       "      <th>1</th>\n",
       "      <td>15423</td>\n",
       "      <td>371</td>\n",
       "      <td>Comuna 8</td>\n",
       "      <td>POLYGON ((-58.47987 -34.67288, -58.48108 -34.6...</td>\n",
       "      <td>None</td>\n",
       "      <td>0.000000e+00</td>\n",
       "      <td>0.000000e+00</td>\n",
       "      <td>POLYGON ((-58.47987 -34.67288, -58.48108 -34.6...</td>\n",
       "    </tr>\n",
       "    <tr>\n",
       "      <th>2</th>\n",
       "      <td>15561</td>\n",
       "      <td>312</td>\n",
       "      <td>Comuna 8</td>\n",
       "      <td>POLYGON ((-58.47849 -34.67172, -58.47946 -34.6...</td>\n",
       "      <td>MULTIPOLYGON (((-58.47849 -34.67071, -58.47849...</td>\n",
       "      <td>2.100536e-07</td>\n",
       "      <td>6.754135e-10</td>\n",
       "      <td>POLYGON ((-58.47849 -34.67172, -58.47946 -34.6...</td>\n",
       "    </tr>\n",
       "    <tr>\n",
       "      <th>3</th>\n",
       "      <td>19394</td>\n",
       "      <td>236</td>\n",
       "      <td>Comuna 8</td>\n",
       "      <td>POLYGON ((-58.46650 -34.67597, -58.46677 -34.6...</td>\n",
       "      <td>None</td>\n",
       "      <td>0.000000e+00</td>\n",
       "      <td>0.000000e+00</td>\n",
       "      <td>POLYGON ((-58.46650 -34.67597, -58.46677 -34.6...</td>\n",
       "    </tr>\n",
       "    <tr>\n",
       "      <th>4</th>\n",
       "      <td>20274</td>\n",
       "      <td>376</td>\n",
       "      <td>Comuna 8</td>\n",
       "      <td>POLYGON ((-58.47223 -34.68096, -58.47288 -34.6...</td>\n",
       "      <td>None</td>\n",
       "      <td>0.000000e+00</td>\n",
       "      <td>0.000000e+00</td>\n",
       "      <td>POLYGON ((-58.47223 -34.68096, -58.47288 -34.6...</td>\n",
       "    </tr>\n",
       "  </tbody>\n",
       "</table>\n",
       "</div>"
      ],
      "text/plain": [
       "   index  TOTAL_VIV    COMUNA  \\\n",
       "0  10525        195  Comuna 8   \n",
       "1  15423        371  Comuna 8   \n",
       "2  15561        312  Comuna 8   \n",
       "3  19394        236  Comuna 8   \n",
       "4  20274        376  Comuna 8   \n",
       "\n",
       "                                      geometry_radio  \\\n",
       "0  POLYGON ((-58.49171 -34.67420, -58.49128 -34.6...   \n",
       "1  POLYGON ((-58.47987 -34.67288, -58.48108 -34.6...   \n",
       "2  POLYGON ((-58.47849 -34.67172, -58.47946 -34.6...   \n",
       "3  POLYGON ((-58.46650 -34.67597, -58.46677 -34.6...   \n",
       "4  POLYGON ((-58.47223 -34.68096, -58.47288 -34.6...   \n",
       "\n",
       "                                      geometry_ps_rc    area_ps_rc  \\\n",
       "0                                               None  0.000000e+00   \n",
       "1                                               None  0.000000e+00   \n",
       "2  MULTIPOLYGON (((-58.47849 -34.67071, -58.47849...  2.100536e-07   \n",
       "3                                               None  0.000000e+00   \n",
       "4                                               None  0.000000e+00   \n",
       "\n",
       "          ratio                                           geometry  \n",
       "0  0.000000e+00  POLYGON ((-58.49171 -34.67420, -58.49128 -34.6...  \n",
       "1  0.000000e+00  POLYGON ((-58.47987 -34.67288, -58.48108 -34.6...  \n",
       "2  6.754135e-10  POLYGON ((-58.47849 -34.67172, -58.47946 -34.6...  \n",
       "3  0.000000e+00  POLYGON ((-58.46650 -34.67597, -58.46677 -34.6...  \n",
       "4  0.000000e+00  POLYGON ((-58.47223 -34.68096, -58.47288 -34.6...  "
      ]
     },
     "execution_count": 389,
     "metadata": {},
     "output_type": "execute_result"
    }
   ],
   "source": [
    "df.head()"
   ]
  },
  {
   "cell_type": "code",
   "execution_count": 391,
   "id": "9aa0b229-4c06-442e-b680-b5d108ab4159",
   "metadata": {
    "tags": []
   },
   "outputs": [
    {
     "data": {
      "text/plain": [
       "<Axes: >"
      ]
     },
     "execution_count": 391,
     "metadata": {},
     "output_type": "execute_result"
    },
    {
     "data": {
      "image/png": "[encoded data removed]",
      "text/plain": [
       "<Figure size 432x288 with 1 Axes>"
      ]
     },
     "metadata": {
      "needs_background": "light"
     },
     "output_type": "display_data"
    }
   ],
   "source": [
    "df.ratio.hist()"
   ]
  },
  {
   "cell_type": "code",
   "execution_count": 399,
   "id": "02c61ad9-931f-439c-b160-bd3fb28c385d",
   "metadata": {
    "tags": []
   },
   "outputs": [],
   "source": [
    "df_red=(df[(df['ratio']<2*10**(-5))&(df['ratio']>0)])"
   ]
  },
  {
   "cell_type": "code",
   "execution_count": 400,
   "id": "b7195a42-e33c-4d26-9b83-452578b3fb53",
   "metadata": {
    "tags": []
   },
   "outputs": [
    {
     "data": {
      "text/plain": [
       "<Axes: >"
      ]
     },
     "execution_count": 400,
     "metadata": {},
     "output_type": "execute_result"
    },
    {
     "data": {
      "image/png": "[encoded data removed]",
      "text/plain": [
       "<Figure size 432x288 with 1 Axes>"
      ]
     },
     "metadata": {
      "needs_background": "light"
     },
     "output_type": "display_data"
    }
   ],
   "source": [
    "df_red.ratio.hist()"
   ]
  },
  {
   "cell_type": "code",
   "execution_count": 401,
   "id": "e9cb4009-133a-45d7-a7df-8262dc3a331a",
   "metadata": {
    "tags": []
   },
   "outputs": [
    {
     "name": "stderr",
     "output_type": "stream",
     "text": [
      "/Users/fabriciodiana/opt/anaconda3/lib/python3.8/site-packages/geopandas/geodataframe.py:1443: SettingWithCopyWarning: \n",
      "A value is trying to be set on a copy of a slice from a DataFrame.\n",
      "Try using .loc[row_indexer,col_indexer] = value instead\n",
      "\n",
      "See the caveats in the documentation: https://pandas.pydata.org/pandas-docs/stable/user_guide/indexing.html#returning-a-view-versus-a-copy\n",
      "  super().__setitem__(key, value)\n"
     ]
    }
   ],
   "source": [
    "df_red['log_ratio']=np.log(df_red['ratio'])"
   ]
  },
  {
   "cell_type": "code",
   "execution_count": 402,
   "id": "82b77a17-43f8-4a24-890c-cf3cf43ab161",
   "metadata": {
    "tags": []
   },
   "outputs": [
    {
     "data": {
      "text/plain": [
       "<Axes: >"
      ]
     },
     "execution_count": 402,
     "metadata": {},
     "output_type": "execute_result"
    },
    {
     "data": {
      "image/png": "[encoded data removed]",
      "text/plain": [
       "<Figure size 432x288 with 1 Axes>"
      ]
     },
     "metadata": {
      "needs_background": "light"
     },
     "output_type": "display_data"
    }
   ],
   "source": [
    "df_red['log_ratio'].hist()"
   ]
  },
  {
   "cell_type": "code",
   "execution_count": 403,
   "id": "70239da3-01de-45c0-a0a1-01b63d89c8fd",
   "metadata": {
    "tags": []
   },
   "outputs": [
    {
     "data": {
      "text/plain": [
       "<Axes: >"
      ]
     },
     "execution_count": 403,
     "metadata": {},
     "output_type": "execute_result"
    },
    {
     "data": {
      "image/png": "[encoded data removed]",
      "text/plain": [
       "<Figure size 576x576 with 1 Axes>"
      ]
     },
     "metadata": {
      "needs_background": "light"
     },
     "output_type": "display_data"
    }
   ],
   "source": [
    "f, ax = plt.subplots(1,figsize=(8,8))\n",
    "df_red.plot(column='log_ratio',cmap='Greens_r', ax=ax)"
   ]
  },
  {
   "cell_type": "code",
   "execution_count": 215,
   "id": "638e0e05-39b2-434f-a7cc-b29a27828ddf",
   "metadata": {
    "collapsed": true,
    "jupyter": {
     "outputs_hidden": true
    },
    "tags": []
   },
   "outputs": [
    {
     "name": "stdout",
     "output_type": "stream",
     "text": [
      "User Guide: https://docs.kepler.gl/docs/keplergl-jupyter\n"
     ]
    },
    {
     "ename": "TraitError",
     "evalue": "The 'data' trait of a KeplerGl instance expected a dict, not the GeoDataFrame      index  TOTAL_VIV    COMUNA  \\\n0    10525        193  Comuna 8   \n1    15423        369  Comuna 8   \n2    15561        310  Comuna 8   \n3    19394        234  Comuna 8   \n4    20274        374  Comuna 8   \n..     ...        ...       ...   \n186  38657        260  Comuna 8   \n187  38686        236  Comuna 8   \n188  38700        364  Comuna 8   \n189  38715        270  Comuna 8   \n190  38731        310  Comuna 8   \n\n                                              geometry      area    m2_hab  \n0    POLYGON ((-58.49171 -34.67420, -58.49128 -34.6...     0.000  0.000000  \n1    POLYGON ((-58.47987 -34.67288, -58.48108 -34.6...     0.000  0.000000  \n2    POLYGON ((-58.47849 -34.67172, -58.47946 -34.6...  2135.738  6.889477  \n3    POLYGON ((-58.46650 -34.67597, -58.46677 -34.6...     0.000  0.000000  \n4    POLYGON ((-58.47223 -34.68096, -58.47288 -34.6...     0.000  0.000000  \n..                                                 ...       ...       ...  \n186  POLYGON ((-58.45356 -34.65832, -58.45393 -34.6...     0.000  0.000000  \n187  POLYGON ((-58.45306 -34.65875, -58.45327 -34.6...     0.000  0.000000  \n188  POLYGON ((-58.45448 -34.66241, -58.45441 -34.6...     0.000  0.000000  \n189  POLYGON ((-58.45531 -34.66494, -58.45511 -34.6...     0.000  0.000000  \n190  POLYGON ((-58.45618 -34.66109, -58.45604 -34.6...     0.000  0.000000  \n\n[191 rows x 6 columns].",
     "output_type": "error",
     "traceback": [
      "\u001b[0;31m---------------------------------------------------------------------------\u001b[0m",
      "\u001b[0;31mTraitError\u001b[0m                                Traceback (most recent call last)",
      "\u001b[0;32m<ipython-input-215-b21bda1333df>\u001b[0m in \u001b[0;36m<module>\u001b[0;34m\u001b[0m\n\u001b[0;32m----> 1\u001b[0;31m \u001b[0mmap_1\u001b[0m \u001b[0;34m=\u001b[0m \u001b[0mKeplerGl\u001b[0m\u001b[0;34m(\u001b[0m\u001b[0mheight\u001b[0m\u001b[0;34m=\u001b[0m\u001b[0;36m500\u001b[0m\u001b[0;34m,\u001b[0m \u001b[0mdata\u001b[0m\u001b[0;34m=\u001b[0m\u001b[0mpublic_sp_cens\u001b[0m\u001b[0;34m)\u001b[0m\u001b[0;34m\u001b[0m\u001b[0;34m\u001b[0m\u001b[0m\n\u001b[0m",
      "\u001b[0;32m~/opt/anaconda3/lib/python3.8/site-packages/keplergl/keplergl.py\u001b[0m in \u001b[0;36m__init__\u001b[0;34m(self, **kwargs)\u001b[0m\n\u001b[1;32m    107\u001b[0m             \u001b[0mprint\u001b[0m\u001b[0;34m(\u001b[0m\u001b[0;34m'User Guide: {}'\u001b[0m\u001b[0;34m.\u001b[0m\u001b[0mformat\u001b[0m\u001b[0;34m(\u001b[0m\u001b[0mdocumentation\u001b[0m\u001b[0;34m)\u001b[0m\u001b[0;34m)\u001b[0m\u001b[0;34m\u001b[0m\u001b[0;34m\u001b[0m\u001b[0m\n\u001b[1;32m    108\u001b[0m         \u001b[0mkwargs\u001b[0m\u001b[0;34m.\u001b[0m\u001b[0mpop\u001b[0m\u001b[0;34m(\u001b[0m\u001b[0;34m'show_docs'\u001b[0m\u001b[0;34m)\u001b[0m\u001b[0;34m\u001b[0m\u001b[0;34m\u001b[0m\u001b[0m\n\u001b[0;32m--> 109\u001b[0;31m         \u001b[0msuper\u001b[0m\u001b[0;34m(\u001b[0m\u001b[0mKeplerGl\u001b[0m\u001b[0;34m,\u001b[0m \u001b[0mself\u001b[0m\u001b[0;34m)\u001b[0m\u001b[0;34m.\u001b[0m\u001b[0m__init__\u001b[0m\u001b[0;34m(\u001b[0m\u001b[0;34m**\u001b[0m\u001b[0mkwargs\u001b[0m\u001b[0;34m)\u001b[0m\u001b[0;34m\u001b[0m\u001b[0;34m\u001b[0m\u001b[0m\n\u001b[0m\u001b[1;32m    110\u001b[0m \u001b[0;34m\u001b[0m\u001b[0m\n\u001b[1;32m    111\u001b[0m     \u001b[0;34m@\u001b[0m\u001b[0mvalidate\u001b[0m\u001b[0;34m(\u001b[0m\u001b[0;34m'data'\u001b[0m\u001b[0;34m)\u001b[0m\u001b[0;34m\u001b[0m\u001b[0;34m\u001b[0m\u001b[0m\n",
      "\u001b[0;32m~/opt/anaconda3/lib/python3.8/site-packages/ipywidgets/widgets/widget.py\u001b[0m in \u001b[0;36m__init__\u001b[0;34m(self, **kwargs)\u001b[0m\n\u001b[1;32m    410\u001b[0m         \u001b[0;34m\"\"\"Public constructor\"\"\"\u001b[0m\u001b[0;34m\u001b[0m\u001b[0;34m\u001b[0m\u001b[0m\n\u001b[1;32m    411\u001b[0m         \u001b[0mself\u001b[0m\u001b[0;34m.\u001b[0m\u001b[0m_model_id\u001b[0m \u001b[0;34m=\u001b[0m \u001b[0mkwargs\u001b[0m\u001b[0;34m.\u001b[0m\u001b[0mpop\u001b[0m\u001b[0;34m(\u001b[0m\u001b[0;34m'model_id'\u001b[0m\u001b[0;34m,\u001b[0m \u001b[0;32mNone\u001b[0m\u001b[0;34m)\u001b[0m\u001b[0;34m\u001b[0m\u001b[0;34m\u001b[0m\u001b[0m\n\u001b[0;32m--> 412\u001b[0;31m         \u001b[0msuper\u001b[0m\u001b[0;34m(\u001b[0m\u001b[0mWidget\u001b[0m\u001b[0;34m,\u001b[0m \u001b[0mself\u001b[0m\u001b[0;34m)\u001b[0m\u001b[0;34m.\u001b[0m\u001b[0m__init__\u001b[0m\u001b[0;34m(\u001b[0m\u001b[0;34m**\u001b[0m\u001b[0mkwargs\u001b[0m\u001b[0;34m)\u001b[0m\u001b[0;34m\u001b[0m\u001b[0;34m\u001b[0m\u001b[0m\n\u001b[0m\u001b[1;32m    413\u001b[0m \u001b[0;34m\u001b[0m\u001b[0m\n\u001b[1;32m    414\u001b[0m         \u001b[0mWidget\u001b[0m\u001b[0;34m.\u001b[0m\u001b[0m_call_widget_constructed\u001b[0m\u001b[0;34m(\u001b[0m\u001b[0mself\u001b[0m\u001b[0;34m)\u001b[0m\u001b[0;34m\u001b[0m\u001b[0;34m\u001b[0m\u001b[0m\n",
      "\u001b[0;32m~/opt/anaconda3/lib/python3.8/site-packages/traitlets/traitlets.py\u001b[0m in \u001b[0;36m__init__\u001b[0;34m(self, *args, **kwargs)\u001b[0m\n\u001b[1;32m   1075\u001b[0m             \u001b[0;32mfor\u001b[0m \u001b[0mkey\u001b[0m\u001b[0;34m,\u001b[0m \u001b[0mvalue\u001b[0m \u001b[0;32min\u001b[0m \u001b[0mkwargs\u001b[0m\u001b[0;34m.\u001b[0m\u001b[0mitems\u001b[0m\u001b[0;34m(\u001b[0m\u001b[0;34m)\u001b[0m\u001b[0;34m:\u001b[0m\u001b[0;34m\u001b[0m\u001b[0;34m\u001b[0m\u001b[0m\n\u001b[1;32m   1076\u001b[0m                 \u001b[0;32mif\u001b[0m \u001b[0mself\u001b[0m\u001b[0;34m.\u001b[0m\u001b[0mhas_trait\u001b[0m\u001b[0;34m(\u001b[0m\u001b[0mkey\u001b[0m\u001b[0;34m)\u001b[0m\u001b[0;34m:\u001b[0m\u001b[0;34m\u001b[0m\u001b[0;34m\u001b[0m\u001b[0m\n\u001b[0;32m-> 1077\u001b[0;31m                     \u001b[0msetattr\u001b[0m\u001b[0;34m(\u001b[0m\u001b[0mself\u001b[0m\u001b[0;34m,\u001b[0m \u001b[0mkey\u001b[0m\u001b[0;34m,\u001b[0m \u001b[0mvalue\u001b[0m\u001b[0;34m)\u001b[0m\u001b[0;34m\u001b[0m\u001b[0;34m\u001b[0m\u001b[0m\n\u001b[0m\u001b[1;32m   1078\u001b[0m                 \u001b[0;32melse\u001b[0m\u001b[0;34m:\u001b[0m\u001b[0;34m\u001b[0m\u001b[0;34m\u001b[0m\u001b[0m\n\u001b[1;32m   1079\u001b[0m                     \u001b[0;31m# passthrough args that don't set traits to super\u001b[0m\u001b[0;34m\u001b[0m\u001b[0;34m\u001b[0m\u001b[0;34m\u001b[0m\u001b[0m\n",
      "\u001b[0;32m~/opt/anaconda3/lib/python3.8/site-packages/traitlets/traitlets.py\u001b[0m in \u001b[0;36m__set__\u001b[0;34m(self, obj, value)\u001b[0m\n\u001b[1;32m    602\u001b[0m             \u001b[0;32mraise\u001b[0m \u001b[0mTraitError\u001b[0m\u001b[0;34m(\u001b[0m\u001b[0;34m'The \"%s\" trait is read-only.'\u001b[0m \u001b[0;34m%\u001b[0m \u001b[0mself\u001b[0m\u001b[0;34m.\u001b[0m\u001b[0mname\u001b[0m\u001b[0;34m)\u001b[0m\u001b[0;34m\u001b[0m\u001b[0;34m\u001b[0m\u001b[0m\n\u001b[1;32m    603\u001b[0m         \u001b[0;32melse\u001b[0m\u001b[0;34m:\u001b[0m\u001b[0;34m\u001b[0m\u001b[0;34m\u001b[0m\u001b[0m\n\u001b[0;32m--> 604\u001b[0;31m             \u001b[0mself\u001b[0m\u001b[0;34m.\u001b[0m\u001b[0mset\u001b[0m\u001b[0;34m(\u001b[0m\u001b[0mobj\u001b[0m\u001b[0;34m,\u001b[0m \u001b[0mvalue\u001b[0m\u001b[0;34m)\u001b[0m\u001b[0;34m\u001b[0m\u001b[0;34m\u001b[0m\u001b[0m\n\u001b[0m\u001b[1;32m    605\u001b[0m \u001b[0;34m\u001b[0m\u001b[0m\n\u001b[1;32m    606\u001b[0m     \u001b[0;32mdef\u001b[0m \u001b[0m_validate\u001b[0m\u001b[0;34m(\u001b[0m\u001b[0mself\u001b[0m\u001b[0;34m,\u001b[0m \u001b[0mobj\u001b[0m\u001b[0;34m,\u001b[0m \u001b[0mvalue\u001b[0m\u001b[0;34m)\u001b[0m\u001b[0;34m:\u001b[0m\u001b[0;34m\u001b[0m\u001b[0;34m\u001b[0m\u001b[0m\n",
      "\u001b[0;32m~/opt/anaconda3/lib/python3.8/site-packages/traitlets/traitlets.py\u001b[0m in \u001b[0;36mset\u001b[0;34m(self, obj, value)\u001b[0m\n\u001b[1;32m    576\u001b[0m \u001b[0;34m\u001b[0m\u001b[0m\n\u001b[1;32m    577\u001b[0m     \u001b[0;32mdef\u001b[0m \u001b[0mset\u001b[0m\u001b[0;34m(\u001b[0m\u001b[0mself\u001b[0m\u001b[0;34m,\u001b[0m \u001b[0mobj\u001b[0m\u001b[0;34m,\u001b[0m \u001b[0mvalue\u001b[0m\u001b[0;34m)\u001b[0m\u001b[0;34m:\u001b[0m\u001b[0;34m\u001b[0m\u001b[0;34m\u001b[0m\u001b[0m\n\u001b[0;32m--> 578\u001b[0;31m         \u001b[0mnew_value\u001b[0m \u001b[0;34m=\u001b[0m \u001b[0mself\u001b[0m\u001b[0;34m.\u001b[0m\u001b[0m_validate\u001b[0m\u001b[0;34m(\u001b[0m\u001b[0mobj\u001b[0m\u001b[0;34m,\u001b[0m \u001b[0mvalue\u001b[0m\u001b[0;34m)\u001b[0m\u001b[0;34m\u001b[0m\u001b[0;34m\u001b[0m\u001b[0m\n\u001b[0m\u001b[1;32m    579\u001b[0m         \u001b[0;32mtry\u001b[0m\u001b[0;34m:\u001b[0m\u001b[0;34m\u001b[0m\u001b[0;34m\u001b[0m\u001b[0m\n\u001b[1;32m    580\u001b[0m             \u001b[0mold_value\u001b[0m \u001b[0;34m=\u001b[0m \u001b[0mobj\u001b[0m\u001b[0;34m.\u001b[0m\u001b[0m_trait_values\u001b[0m\u001b[0;34m[\u001b[0m\u001b[0mself\u001b[0m\u001b[0;34m.\u001b[0m\u001b[0mname\u001b[0m\u001b[0;34m]\u001b[0m\u001b[0;34m\u001b[0m\u001b[0;34m\u001b[0m\u001b[0m\n",
      "\u001b[0;32m~/opt/anaconda3/lib/python3.8/site-packages/traitlets/traitlets.py\u001b[0m in \u001b[0;36m_validate\u001b[0;34m(self, obj, value)\u001b[0m\n\u001b[1;32m    608\u001b[0m             \u001b[0;32mreturn\u001b[0m \u001b[0mvalue\u001b[0m\u001b[0;34m\u001b[0m\u001b[0;34m\u001b[0m\u001b[0m\n\u001b[1;32m    609\u001b[0m         \u001b[0;32mif\u001b[0m \u001b[0mhasattr\u001b[0m\u001b[0;34m(\u001b[0m\u001b[0mself\u001b[0m\u001b[0;34m,\u001b[0m \u001b[0;34m'validate'\u001b[0m\u001b[0;34m)\u001b[0m\u001b[0;34m:\u001b[0m\u001b[0;34m\u001b[0m\u001b[0;34m\u001b[0m\u001b[0m\n\u001b[0;32m--> 610\u001b[0;31m             \u001b[0mvalue\u001b[0m \u001b[0;34m=\u001b[0m \u001b[0mself\u001b[0m\u001b[0;34m.\u001b[0m\u001b[0mvalidate\u001b[0m\u001b[0;34m(\u001b[0m\u001b[0mobj\u001b[0m\u001b[0;34m,\u001b[0m \u001b[0mvalue\u001b[0m\u001b[0;34m)\u001b[0m\u001b[0;34m\u001b[0m\u001b[0;34m\u001b[0m\u001b[0m\n\u001b[0m\u001b[1;32m    611\u001b[0m         \u001b[0;32mif\u001b[0m \u001b[0mobj\u001b[0m\u001b[0;34m.\u001b[0m\u001b[0m_cross_validation_lock\u001b[0m \u001b[0;32mis\u001b[0m \u001b[0;32mFalse\u001b[0m\u001b[0;34m:\u001b[0m\u001b[0;34m\u001b[0m\u001b[0;34m\u001b[0m\u001b[0m\n\u001b[1;32m    612\u001b[0m             \u001b[0mvalue\u001b[0m \u001b[0;34m=\u001b[0m \u001b[0mself\u001b[0m\u001b[0;34m.\u001b[0m\u001b[0m_cross_validate\u001b[0m\u001b[0;34m(\u001b[0m\u001b[0mobj\u001b[0m\u001b[0;34m,\u001b[0m \u001b[0mvalue\u001b[0m\u001b[0;34m)\u001b[0m\u001b[0;34m\u001b[0m\u001b[0;34m\u001b[0m\u001b[0m\n",
      "\u001b[0;32m~/opt/anaconda3/lib/python3.8/site-packages/traitlets/traitlets.py\u001b[0m in \u001b[0;36mvalidate\u001b[0;34m(self, obj, value)\u001b[0m\n\u001b[1;32m   2949\u001b[0m \u001b[0;34m\u001b[0m\u001b[0m\n\u001b[1;32m   2950\u001b[0m     \u001b[0;32mdef\u001b[0m \u001b[0mvalidate\u001b[0m\u001b[0;34m(\u001b[0m\u001b[0mself\u001b[0m\u001b[0;34m,\u001b[0m \u001b[0mobj\u001b[0m\u001b[0;34m,\u001b[0m \u001b[0mvalue\u001b[0m\u001b[0;34m)\u001b[0m\u001b[0;34m:\u001b[0m\u001b[0;34m\u001b[0m\u001b[0;34m\u001b[0m\u001b[0m\n\u001b[0;32m-> 2951\u001b[0;31m         \u001b[0mvalue\u001b[0m \u001b[0;34m=\u001b[0m \u001b[0msuper\u001b[0m\u001b[0;34m(\u001b[0m\u001b[0mDict\u001b[0m\u001b[0;34m,\u001b[0m \u001b[0mself\u001b[0m\u001b[0;34m)\u001b[0m\u001b[0;34m.\u001b[0m\u001b[0mvalidate\u001b[0m\u001b[0;34m(\u001b[0m\u001b[0mobj\u001b[0m\u001b[0;34m,\u001b[0m \u001b[0mvalue\u001b[0m\u001b[0;34m)\u001b[0m\u001b[0;34m\u001b[0m\u001b[0;34m\u001b[0m\u001b[0m\n\u001b[0m\u001b[1;32m   2952\u001b[0m         \u001b[0;32mif\u001b[0m \u001b[0mvalue\u001b[0m \u001b[0;32mis\u001b[0m \u001b[0;32mNone\u001b[0m\u001b[0;34m:\u001b[0m\u001b[0;34m\u001b[0m\u001b[0;34m\u001b[0m\u001b[0m\n\u001b[1;32m   2953\u001b[0m             \u001b[0;32mreturn\u001b[0m \u001b[0mvalue\u001b[0m\u001b[0;34m\u001b[0m\u001b[0;34m\u001b[0m\u001b[0m\n",
      "\u001b[0;32m~/opt/anaconda3/lib/python3.8/site-packages/traitlets/traitlets.py\u001b[0m in \u001b[0;36mvalidate\u001b[0;34m(self, obj, value)\u001b[0m\n\u001b[1;32m   1843\u001b[0m             \u001b[0;32mreturn\u001b[0m \u001b[0mvalue\u001b[0m\u001b[0;34m\u001b[0m\u001b[0;34m\u001b[0m\u001b[0m\n\u001b[1;32m   1844\u001b[0m         \u001b[0;32melse\u001b[0m\u001b[0;34m:\u001b[0m\u001b[0;34m\u001b[0m\u001b[0;34m\u001b[0m\u001b[0m\n\u001b[0;32m-> 1845\u001b[0;31m             \u001b[0mself\u001b[0m\u001b[0;34m.\u001b[0m\u001b[0merror\u001b[0m\u001b[0;34m(\u001b[0m\u001b[0mobj\u001b[0m\u001b[0;34m,\u001b[0m \u001b[0mvalue\u001b[0m\u001b[0;34m)\u001b[0m\u001b[0;34m\u001b[0m\u001b[0;34m\u001b[0m\u001b[0m\n\u001b[0m\u001b[1;32m   1846\u001b[0m \u001b[0;34m\u001b[0m\u001b[0m\n\u001b[1;32m   1847\u001b[0m     \u001b[0;32mdef\u001b[0m \u001b[0minfo\u001b[0m\u001b[0;34m(\u001b[0m\u001b[0mself\u001b[0m\u001b[0;34m)\u001b[0m\u001b[0;34m:\u001b[0m\u001b[0;34m\u001b[0m\u001b[0;34m\u001b[0m\u001b[0m\n",
      "\u001b[0;32m~/opt/anaconda3/lib/python3.8/site-packages/traitlets/traitlets.py\u001b[0m in \u001b[0;36merror\u001b[0;34m(self, obj, value, error, info)\u001b[0m\n\u001b[1;32m    688\u001b[0m                     e = \"The '%s' trait expected %s, not %s.\" % (\n\u001b[1;32m    689\u001b[0m                         self.name, self.info(), describe(\"the\", value))\n\u001b[0;32m--> 690\u001b[0;31m                 \u001b[0;32mraise\u001b[0m \u001b[0mTraitError\u001b[0m\u001b[0;34m(\u001b[0m\u001b[0me\u001b[0m\u001b[0;34m)\u001b[0m\u001b[0;34m\u001b[0m\u001b[0;34m\u001b[0m\u001b[0m\n\u001b[0m\u001b[1;32m    691\u001b[0m \u001b[0;34m\u001b[0m\u001b[0m\n\u001b[1;32m    692\u001b[0m     \u001b[0;32mdef\u001b[0m \u001b[0mget_metadata\u001b[0m\u001b[0;34m(\u001b[0m\u001b[0mself\u001b[0m\u001b[0;34m,\u001b[0m \u001b[0mkey\u001b[0m\u001b[0;34m,\u001b[0m \u001b[0mdefault\u001b[0m\u001b[0;34m=\u001b[0m\u001b[0;32mNone\u001b[0m\u001b[0;34m)\u001b[0m\u001b[0;34m:\u001b[0m\u001b[0;34m\u001b[0m\u001b[0;34m\u001b[0m\u001b[0m\n",
      "\u001b[0;31mTraitError\u001b[0m: The 'data' trait of a KeplerGl instance expected a dict, not the GeoDataFrame      index  TOTAL_VIV    COMUNA  \\\n0    10525        193  Comuna 8   \n1    15423        369  Comuna 8   \n2    15561        310  Comuna 8   \n3    19394        234  Comuna 8   \n4    20274        374  Comuna 8   \n..     ...        ...       ...   \n186  38657        260  Comuna 8   \n187  38686        236  Comuna 8   \n188  38700        364  Comuna 8   \n189  38715        270  Comuna 8   \n190  38731        310  Comuna 8   \n\n                                              geometry      area    m2_hab  \n0    POLYGON ((-58.49171 -34.67420, -58.49128 -34.6...     0.000  0.000000  \n1    POLYGON ((-58.47987 -34.67288, -58.48108 -34.6...     0.000  0.000000  \n2    POLYGON ((-58.47849 -34.67172, -58.47946 -34.6...  2135.738  6.889477  \n3    POLYGON ((-58.46650 -34.67597, -58.46677 -34.6...     0.000  0.000000  \n4    POLYGON ((-58.47223 -34.68096, -58.47288 -34.6...     0.000  0.000000  \n..                                                 ...       ...       ...  \n186  POLYGON ((-58.45356 -34.65832, -58.45393 -34.6...     0.000  0.000000  \n187  POLYGON ((-58.45306 -34.65875, -58.45327 -34.6...     0.000  0.000000  \n188  POLYGON ((-58.45448 -34.66241, -58.45441 -34.6...     0.000  0.000000  \n189  POLYGON ((-58.45531 -34.66494, -58.45511 -34.6...     0.000  0.000000  \n190  POLYGON ((-58.45618 -34.66109, -58.45604 -34.6...     0.000  0.000000  \n\n[191 rows x 6 columns]."
     ]
    }
   ],
   "source": [
    "map_1 = KeplerGl(height=500, data=public_sp_cens)\n"
   ]
  },
  {
   "cell_type": "code",
   "execution_count": 211,
   "id": "bac9d9d9-0bd7-4a0c-8184-cd1615eb1859",
   "metadata": {
    "tags": []
   },
   "outputs": [
    {
     "ename": "TypeError",
     "evalue": "plot_kepler() missing 1 required positional argument: 'self'",
     "output_type": "error",
     "traceback": [
      "\u001b[0;31m---------------------------------------------------------------------------\u001b[0m",
      "\u001b[0;31mTypeError\u001b[0m                                 Traceback (most recent call last)",
      "\u001b[0;32m<ipython-input-211-191fed389e81>\u001b[0m in \u001b[0;36m<module>\u001b[0;34m\u001b[0m\n\u001b[0;32m----> 1\u001b[0;31m \u001b[0mplot_kepler\u001b[0m\u001b[0;34m(\u001b[0m\u001b[0mdata\u001b[0m\u001b[0;34m=\u001b[0m\u001b[0mpublic_sp_cens\u001b[0m\u001b[0;34m)\u001b[0m\u001b[0;34m\u001b[0m\u001b[0;34m\u001b[0m\u001b[0m\n\u001b[0m",
      "\u001b[0;31mTypeError\u001b[0m: plot_kepler() missing 1 required positional argument: 'self'"
     ]
    }
   ],
   "source": [
    "plot_kepler(data=public_sp_cens)"
   ]
  },
  {
   "cell_type": "code",
   "execution_count": 216,
   "id": "a07186b6-93f5-4d61-9105-1e83e3c827e1",
   "metadata": {
    "tags": []
   },
   "outputs": [
    {
     "data": {
      "text/html": [
       "<div>\n",
       "<style scoped>\n",
       "    .dataframe tbody tr th:only-of-type {\n",
       "        vertical-align: middle;\n",
       "    }\n",
       "\n",
       "    .dataframe tbody tr th {\n",
       "        vertical-align: top;\n",
       "    }\n",
       "\n",
       "    .dataframe thead th {\n",
       "        text-align: right;\n",
       "    }\n",
       "</style>\n",
       "<table border=\"1\" class=\"dataframe\">\n",
       "  <thead>\n",
       "    <tr style=\"text-align: right;\">\n",
       "      <th></th>\n",
       "      <th>index</th>\n",
       "      <th>TOTAL_VIV</th>\n",
       "      <th>COMUNA</th>\n",
       "      <th>geometry</th>\n",
       "      <th>area</th>\n",
       "      <th>m2_hab</th>\n",
       "    </tr>\n",
       "  </thead>\n",
       "  <tbody>\n",
       "    <tr>\n",
       "      <th>0</th>\n",
       "      <td>10525</td>\n",
       "      <td>193</td>\n",
       "      <td>Comuna 8</td>\n",
       "      <td>POLYGON ((-58.49171 -34.67420, -58.49128 -34.6...</td>\n",
       "      <td>0.000</td>\n",
       "      <td>0.000000</td>\n",
       "    </tr>\n",
       "    <tr>\n",
       "      <th>1</th>\n",
       "      <td>15423</td>\n",
       "      <td>369</td>\n",
       "      <td>Comuna 8</td>\n",
       "      <td>POLYGON ((-58.47987 -34.67288, -58.48108 -34.6...</td>\n",
       "      <td>0.000</td>\n",
       "      <td>0.000000</td>\n",
       "    </tr>\n",
       "    <tr>\n",
       "      <th>2</th>\n",
       "      <td>15561</td>\n",
       "      <td>310</td>\n",
       "      <td>Comuna 8</td>\n",
       "      <td>POLYGON ((-58.47849 -34.67172, -58.47946 -34.6...</td>\n",
       "      <td>2135.738</td>\n",
       "      <td>6.889477</td>\n",
       "    </tr>\n",
       "    <tr>\n",
       "      <th>3</th>\n",
       "      <td>19394</td>\n",
       "      <td>234</td>\n",
       "      <td>Comuna 8</td>\n",
       "      <td>POLYGON ((-58.46650 -34.67597, -58.46677 -34.6...</td>\n",
       "      <td>0.000</td>\n",
       "      <td>0.000000</td>\n",
       "    </tr>\n",
       "    <tr>\n",
       "      <th>4</th>\n",
       "      <td>20274</td>\n",
       "      <td>374</td>\n",
       "      <td>Comuna 8</td>\n",
       "      <td>POLYGON ((-58.47223 -34.68096, -58.47288 -34.6...</td>\n",
       "      <td>0.000</td>\n",
       "      <td>0.000000</td>\n",
       "    </tr>\n",
       "    <tr>\n",
       "      <th>...</th>\n",
       "      <td>...</td>\n",
       "      <td>...</td>\n",
       "      <td>...</td>\n",
       "      <td>...</td>\n",
       "      <td>...</td>\n",
       "      <td>...</td>\n",
       "    </tr>\n",
       "    <tr>\n",
       "      <th>186</th>\n",
       "      <td>38657</td>\n",
       "      <td>260</td>\n",
       "      <td>Comuna 8</td>\n",
       "      <td>POLYGON ((-58.45356 -34.65832, -58.45393 -34.6...</td>\n",
       "      <td>0.000</td>\n",
       "      <td>0.000000</td>\n",
       "    </tr>\n",
       "    <tr>\n",
       "      <th>187</th>\n",
       "      <td>38686</td>\n",
       "      <td>236</td>\n",
       "      <td>Comuna 8</td>\n",
       "      <td>POLYGON ((-58.45306 -34.65875, -58.45327 -34.6...</td>\n",
       "      <td>0.000</td>\n",
       "      <td>0.000000</td>\n",
       "    </tr>\n",
       "    <tr>\n",
       "      <th>188</th>\n",
       "      <td>38700</td>\n",
       "      <td>364</td>\n",
       "      <td>Comuna 8</td>\n",
       "      <td>POLYGON ((-58.45448 -34.66241, -58.45441 -34.6...</td>\n",
       "      <td>0.000</td>\n",
       "      <td>0.000000</td>\n",
       "    </tr>\n",
       "    <tr>\n",
       "      <th>189</th>\n",
       "      <td>38715</td>\n",
       "      <td>270</td>\n",
       "      <td>Comuna 8</td>\n",
       "      <td>POLYGON ((-58.45531 -34.66494, -58.45511 -34.6...</td>\n",
       "      <td>0.000</td>\n",
       "      <td>0.000000</td>\n",
       "    </tr>\n",
       "    <tr>\n",
       "      <th>190</th>\n",
       "      <td>38731</td>\n",
       "      <td>310</td>\n",
       "      <td>Comuna 8</td>\n",
       "      <td>POLYGON ((-58.45618 -34.66109, -58.45604 -34.6...</td>\n",
       "      <td>0.000</td>\n",
       "      <td>0.000000</td>\n",
       "    </tr>\n",
       "  </tbody>\n",
       "</table>\n",
       "<p>191 rows × 6 columns</p>\n",
       "</div>"
      ],
      "text/plain": [
       "     index  TOTAL_VIV    COMUNA  \\\n",
       "0    10525        193  Comuna 8   \n",
       "1    15423        369  Comuna 8   \n",
       "2    15561        310  Comuna 8   \n",
       "3    19394        234  Comuna 8   \n",
       "4    20274        374  Comuna 8   \n",
       "..     ...        ...       ...   \n",
       "186  38657        260  Comuna 8   \n",
       "187  38686        236  Comuna 8   \n",
       "188  38700        364  Comuna 8   \n",
       "189  38715        270  Comuna 8   \n",
       "190  38731        310  Comuna 8   \n",
       "\n",
       "                                              geometry      area    m2_hab  \n",
       "0    POLYGON ((-58.49171 -34.67420, -58.49128 -34.6...     0.000  0.000000  \n",
       "1    POLYGON ((-58.47987 -34.67288, -58.48108 -34.6...     0.000  0.000000  \n",
       "2    POLYGON ((-58.47849 -34.67172, -58.47946 -34.6...  2135.738  6.889477  \n",
       "3    POLYGON ((-58.46650 -34.67597, -58.46677 -34.6...     0.000  0.000000  \n",
       "4    POLYGON ((-58.47223 -34.68096, -58.47288 -34.6...     0.000  0.000000  \n",
       "..                                                 ...       ...       ...  \n",
       "186  POLYGON ((-58.45356 -34.65832, -58.45393 -34.6...     0.000  0.000000  \n",
       "187  POLYGON ((-58.45306 -34.65875, -58.45327 -34.6...     0.000  0.000000  \n",
       "188  POLYGON ((-58.45448 -34.66241, -58.45441 -34.6...     0.000  0.000000  \n",
       "189  POLYGON ((-58.45531 -34.66494, -58.45511 -34.6...     0.000  0.000000  \n",
       "190  POLYGON ((-58.45618 -34.66109, -58.45604 -34.6...     0.000  0.000000  \n",
       "\n",
       "[191 rows x 6 columns]"
      ]
     },
     "execution_count": 216,
     "metadata": {},
     "output_type": "execute_result"
    }
   ],
   "source": [
    "public_sp_cens"
   ]
  },
  {
   "cell_type": "code",
   "execution_count": 212,
   "id": "923c439e-cb1f-4074-9590-4e904bdc616d",
   "metadata": {
    "tags": []
   },
   "outputs": [
    {
     "ename": "NameError",
     "evalue": "name 'self' is not defined",
     "output_type": "error",
     "traceback": [
      "\u001b[0;31m---------------------------------------------------------------------------\u001b[0m",
      "\u001b[0;31mNameError\u001b[0m                                 Traceback (most recent call last)",
      "\u001b[0;32m<ipython-input-212-a30ad51facd4>\u001b[0m in \u001b[0;36m<module>\u001b[0;34m\u001b[0m\n\u001b[0;32m----> 1\u001b[0;31m \u001b[0mself\u001b[0m\u001b[0;34m.\u001b[0m\u001b[0mplot_kepler\u001b[0m\u001b[0;34m(\u001b[0m\u001b[0mpublic_sp_cens\u001b[0m\u001b[0;34m)\u001b[0m\u001b[0;34m\u001b[0m\u001b[0;34m\u001b[0m\u001b[0m\n\u001b[0m",
      "\u001b[0;31mNameError\u001b[0m: name 'self' is not defined"
     ]
    }
   ],
   "source": [
    "self.plot_kepler(public_sp_cens)"
   ]
  },
  {
   "cell_type": "code",
   "execution_count": 183,
   "id": "14f7aadb-2e8a-4cd9-9009-77df8c4aafaa",
   "metadata": {
    "tags": []
   },
   "outputs": [
    {
     "data": {
      "text/plain": [
       "<Axes: >"
      ]
     },
     "execution_count": 183,
     "metadata": {},
     "output_type": "execute_result"
    },
    {
     "data": {
      "image/png": "[encoded data removed]",
      "text/plain": [
       "<Figure size 432x288 with 1 Axes>"
      ]
     },
     "metadata": {
      "needs_background": "light"
     },
     "output_type": "display_data"
    }
   ],
   "source": [
    "joined_gdf.plot()"
   ]
  },
  {
   "cell_type": "code",
   "execution_count": 178,
   "id": "9e84b6e4-f83a-45c7-9d3e-e02363e61d5b",
   "metadata": {
    "tags": []
   },
   "outputs": [
    {
     "data": {
      "text/plain": [
       "<Axes: >"
      ]
     },
     "execution_count": 178,
     "metadata": {},
     "output_type": "execute_result"
    },
    {
     "data": {
      "image/png": "[encoded data removed]",
      "text/plain": [
       "<Figure size 432x288 with 1 Axes>"
      ]
     },
     "metadata": {
      "needs_background": "light"
     },
     "output_type": "display_data"
    }
   ],
   "source": [
    "intersection_gdf.plot()"
   ]
  },
  {
   "cell_type": "code",
   "execution_count": 176,
   "id": "65847f61-8431-43b6-8dac-8a5b2f5566b8",
   "metadata": {
    "tags": []
   },
   "outputs": [
    {
     "data": {
      "text/plain": [
       "Gral. Paz                                 14\n",
       "Barrio Municipal Soldati                  10\n",
       "Parque Indoamericano                       7\n",
       "Boulevard Olímpico (no oficial)            4\n",
       "Cantero Av 27 de Febrero (y Pergamino)     2\n",
       "                                          ..\n",
       "Mayor Bernardo Alberte                     1\n",
       "Irene Bernasconi                           1\n",
       "Plaza Nicolás Granada                      1\n",
       "Plaza Unidad Nacional                      1\n",
       "Cancha de Lorenza                          1\n",
       "Name: nombre, Length: 78, dtype: int64"
      ]
     },
     "execution_count": 176,
     "metadata": {},
     "output_type": "execute_result"
    }
   ],
   "source": [
    "intersection_gdf.nombre.value_counts()"
   ]
  },
  {
   "cell_type": "code",
   "execution_count": 120,
   "id": "ddd93cef-6c55-4d9d-8232-1e4e8e42a4b3",
   "metadata": {
    "tags": []
   },
   "outputs": [],
   "source": [
    "from shapely import wkt"
   ]
  },
  {
   "cell_type": "code",
   "execution_count": 125,
   "id": "f4e31473-2fe4-4750-895d-28086d4d74fc",
   "metadata": {
    "tags": []
   },
   "outputs": [
    {
     "ename": "TypeError",
     "evalue": "Expected bytes or string, got Polygon",
     "output_type": "error",
     "traceback": [
      "\u001b[0;31m---------------------------------------------------------------------------\u001b[0m",
      "\u001b[0;31mTypeError\u001b[0m                                 Traceback (most recent call last)",
      "\u001b[0;32m<ipython-input-125-f809a566eff1>\u001b[0m in \u001b[0;36m<module>\u001b[0;34m\u001b[0m\n\u001b[1;32m      1\u001b[0m \u001b[0;32mimport\u001b[0m \u001b[0mshapely\u001b[0m\u001b[0;34m.\u001b[0m\u001b[0mgeometry\u001b[0m \u001b[0;32mas\u001b[0m \u001b[0mgeom\u001b[0m\u001b[0;34m\u001b[0m\u001b[0;34m\u001b[0m\u001b[0m\n\u001b[0;32m----> 2\u001b[0;31m \u001b[0mpolygons\u001b[0m \u001b[0;34m=\u001b[0m \u001b[0;34m[\u001b[0m\u001b[0mwkt\u001b[0m\u001b[0;34m.\u001b[0m\u001b[0mloads\u001b[0m\u001b[0;34m(\u001b[0m\u001b[0mwkt_string\u001b[0m\u001b[0;34m)\u001b[0m \u001b[0;32mfor\u001b[0m \u001b[0;34m(\u001b[0m\u001b[0mwkt_string\u001b[0m\u001b[0;34m)\u001b[0m \u001b[0;32min\u001b[0m \u001b[0mlist\u001b[0m\u001b[0;34m(\u001b[0m\u001b[0mradios\u001b[0m\u001b[0;34m.\u001b[0m\u001b[0miloc\u001b[0m\u001b[0;34m[\u001b[0m\u001b[0;34m:\u001b[0m\u001b[0;36m3\u001b[0m\u001b[0;34m,\u001b[0m\u001b[0;34m-\u001b[0m\u001b[0;36m1\u001b[0m\u001b[0;34m]\u001b[0m\u001b[0;34m)\u001b[0m\u001b[0;34m]\u001b[0m\u001b[0;34m\u001b[0m\u001b[0;34m\u001b[0m\u001b[0m\n\u001b[0m\u001b[1;32m      3\u001b[0m \u001b[0mmulti_polygon\u001b[0m \u001b[0;34m=\u001b[0m \u001b[0mgeom\u001b[0m\u001b[0;34m.\u001b[0m\u001b[0mMultiPolygon\u001b[0m\u001b[0;34m(\u001b[0m\u001b[0mpolygons\u001b[0m\u001b[0;34m)\u001b[0m\u001b[0;34m\u001b[0m\u001b[0;34m\u001b[0m\u001b[0m\n",
      "\u001b[0;32m<ipython-input-125-f809a566eff1>\u001b[0m in \u001b[0;36m<listcomp>\u001b[0;34m(.0)\u001b[0m\n\u001b[1;32m      1\u001b[0m \u001b[0;32mimport\u001b[0m \u001b[0mshapely\u001b[0m\u001b[0;34m.\u001b[0m\u001b[0mgeometry\u001b[0m \u001b[0;32mas\u001b[0m \u001b[0mgeom\u001b[0m\u001b[0;34m\u001b[0m\u001b[0;34m\u001b[0m\u001b[0m\n\u001b[0;32m----> 2\u001b[0;31m \u001b[0mpolygons\u001b[0m \u001b[0;34m=\u001b[0m \u001b[0;34m[\u001b[0m\u001b[0mwkt\u001b[0m\u001b[0;34m.\u001b[0m\u001b[0mloads\u001b[0m\u001b[0;34m(\u001b[0m\u001b[0mwkt_string\u001b[0m\u001b[0;34m)\u001b[0m \u001b[0;32mfor\u001b[0m \u001b[0;34m(\u001b[0m\u001b[0mwkt_string\u001b[0m\u001b[0;34m)\u001b[0m \u001b[0;32min\u001b[0m \u001b[0mlist\u001b[0m\u001b[0;34m(\u001b[0m\u001b[0mradios\u001b[0m\u001b[0;34m.\u001b[0m\u001b[0miloc\u001b[0m\u001b[0;34m[\u001b[0m\u001b[0;34m:\u001b[0m\u001b[0;36m3\u001b[0m\u001b[0;34m,\u001b[0m\u001b[0;34m-\u001b[0m\u001b[0;36m1\u001b[0m\u001b[0;34m]\u001b[0m\u001b[0;34m)\u001b[0m\u001b[0;34m]\u001b[0m\u001b[0;34m\u001b[0m\u001b[0;34m\u001b[0m\u001b[0m\n\u001b[0m\u001b[1;32m      3\u001b[0m \u001b[0mmulti_polygon\u001b[0m \u001b[0;34m=\u001b[0m \u001b[0mgeom\u001b[0m\u001b[0;34m.\u001b[0m\u001b[0mMultiPolygon\u001b[0m\u001b[0;34m(\u001b[0m\u001b[0mpolygons\u001b[0m\u001b[0;34m)\u001b[0m\u001b[0;34m\u001b[0m\u001b[0;34m\u001b[0m\u001b[0m\n",
      "\u001b[0;32m~/opt/anaconda3/lib/python3.8/site-packages/shapely/wkt.py\u001b[0m in \u001b[0;36mloads\u001b[0;34m(data)\u001b[0m\n\u001b[1;32m     20\u001b[0m     \u001b[0mShapely\u001b[0m \u001b[0mgeometry\u001b[0m \u001b[0mobject\u001b[0m\u001b[0;34m\u001b[0m\u001b[0;34m\u001b[0m\u001b[0m\n\u001b[1;32m     21\u001b[0m     \"\"\"\n\u001b[0;32m---> 22\u001b[0;31m     \u001b[0;32mreturn\u001b[0m \u001b[0mshapely\u001b[0m\u001b[0;34m.\u001b[0m\u001b[0mfrom_wkt\u001b[0m\u001b[0;34m(\u001b[0m\u001b[0mdata\u001b[0m\u001b[0;34m)\u001b[0m\u001b[0;34m\u001b[0m\u001b[0;34m\u001b[0m\u001b[0m\n\u001b[0m\u001b[1;32m     23\u001b[0m \u001b[0;34m\u001b[0m\u001b[0m\n\u001b[1;32m     24\u001b[0m \u001b[0;34m\u001b[0m\u001b[0m\n",
      "\u001b[0;32m~/opt/anaconda3/lib/python3.8/site-packages/shapely/io.py\u001b[0m in \u001b[0;36mfrom_wkt\u001b[0;34m(geometry, on_invalid, **kwargs)\u001b[0m\n\u001b[1;32m    284\u001b[0m     \u001b[0minvalid_handler\u001b[0m \u001b[0;34m=\u001b[0m \u001b[0mnp\u001b[0m\u001b[0;34m.\u001b[0m\u001b[0muint8\u001b[0m\u001b[0;34m(\u001b[0m\u001b[0mDecodingErrorOptions\u001b[0m\u001b[0;34m.\u001b[0m\u001b[0mget_value\u001b[0m\u001b[0;34m(\u001b[0m\u001b[0mon_invalid\u001b[0m\u001b[0;34m)\u001b[0m\u001b[0;34m)\u001b[0m\u001b[0;34m\u001b[0m\u001b[0;34m\u001b[0m\u001b[0m\n\u001b[1;32m    285\u001b[0m \u001b[0;34m\u001b[0m\u001b[0m\n\u001b[0;32m--> 286\u001b[0;31m     \u001b[0;32mreturn\u001b[0m \u001b[0mlib\u001b[0m\u001b[0;34m.\u001b[0m\u001b[0mfrom_wkt\u001b[0m\u001b[0;34m(\u001b[0m\u001b[0mgeometry\u001b[0m\u001b[0;34m,\u001b[0m \u001b[0minvalid_handler\u001b[0m\u001b[0;34m,\u001b[0m \u001b[0;34m**\u001b[0m\u001b[0mkwargs\u001b[0m\u001b[0;34m)\u001b[0m\u001b[0;34m\u001b[0m\u001b[0;34m\u001b[0m\u001b[0m\n\u001b[0m\u001b[1;32m    287\u001b[0m \u001b[0;34m\u001b[0m\u001b[0m\n\u001b[1;32m    288\u001b[0m \u001b[0;34m\u001b[0m\u001b[0m\n",
      "\u001b[0;31mTypeError\u001b[0m: Expected bytes or string, got Polygon"
     ]
    }
   ],
   "source": [
    "import shapely.geometry as geom\n",
    "polygons = [wkt.loads(wkt_string) for (wkt_string) in list(radios.iloc[:3,-1])]\n",
    "multi_polygon = geom.MultiPolygon(polygons)"
   ]
  },
  {
   "cell_type": "code",
   "execution_count": 128,
   "id": "8904d77a-d2f0-4fc9-85c4-27cdc04e20dc",
   "metadata": {
    "tags": []
   },
   "outputs": [
    {
     "data": {
      "text/plain": [
       "'POLYGON ((-58.491708755912356 -34.674196840495604, -58.4912797013874 -34.67463244528904, -58.49106726121297 -34.67484806380959, -58.48997111094575 -34.675921507871294, -58.49035897324257 -34.67616227174277, -58.490711903633205 -34.676196135397184, -58.490867832786826 -34.67623673412301, -58.491105804541974 -34.67638583760362, -58.491204318032636 -34.67654173402954, -58.49121262164754 -34.67664342419107, -58.491188038940514 -34.6767993493538, -58.49099117655861 -34.67696890637153, -58.49088447103675 -34.67703667894656, -58.49065474420936 -34.67707743680857, -58.49036491034835 -34.67735060820174, -58.490880634631644 -34.67779078258652, -58.4911239165138 -34.67799847679003, -58.49126794165991 -34.67811964394026, -58.492019364269936 -34.67752684583121, -58.49178725397091 -34.67733478422959, -58.49241074625683 -34.67683976243788, -58.492385998802845 -34.67652786022575, -58.49332415504501 -34.67565591657867, -58.491708755912356 -34.674196840495604))'"
      ]
     },
     "execution_count": 128,
     "metadata": {},
     "output_type": "execute_result"
    }
   ],
   "source": [
    "str(list(radios.iloc[:,-1])[0])"
   ]
  },
  {
   "cell_type": "code",
   "execution_count": 135,
   "id": "02eeab44-69a7-40bf-9d8d-34d3816a9330",
   "metadata": {
    "collapsed": true,
    "jupyter": {
     "outputs_hidden": true
    },
    "tags": []
   },
   "outputs": [
    {
     "name": "stdout",
     "output_type": "stream",
     "text": [
      "MULTIPOLYGON (((-58.491708755912356 -34.674196840495604, -58.4912797013874 -34.67463244528904, -58.49106726121297 -34.67484806380959, -58.48997111094575 -34.675921507871294, -58.49035897324257 -34.67616227174277, -58.490711903633205 -34.676196135397184, -58.490867832786826 -34.67623673412301, -58.491105804541974 -34.67638583760362, -58.491204318032636 -34.67654173402954, -58.49121262164754 -34.67664342419107, -58.491188038940514 -34.6767993493538, -58.49099117655861 -34.67696890637153, -58.49088447103675 -34.67703667894656, -58.49065474420936 -34.67707743680857, -58.49036491034835 -34.67735060820174, -58.490880634631644 -34.67779078258652, -58.4911239165138 -34.67799847679003, -58.49126794165991 -34.67811964394026, -58.492019364269936 -34.67752684583121, -58.49178725397091 -34.67733478422959, -58.49241074625683 -34.67683976243788, -58.492385998802845 -34.67652786022575, -58.49332415504501 -34.67565591657867, -58.491708755912356 -34.674196840495604)), ((-58.47986945854245 -34.672884614516505, -58.48108084891263 -34.67291387499439, -58.481538608923465 -34.672569430743465, -58.482576332878665 -34.671788472089645, -58.482690706593495 -34.67170239471184, -58.483600653002604 -34.671002929339345, -58.48449788660026 -34.67031324800811, -58.48458728513279 -34.67024442758091, -58.48385601767637 -34.669596864189295, -58.48367927820315 -34.66944379300219, -58.48248048478149 -34.6684053051131, -58.48163166720665 -34.66907989327873, -58.481515676639226 -34.669169773086345, -58.48049792380026 -34.669957902730545, -58.48002270414407 -34.67032593794884, -58.47943122990338 -34.67078384913087, -58.480549447975626 -34.67173124920084, -58.47968812609813 -34.672363923209254, -58.4794567285876 -34.672534804256514, -58.47986945854245 -34.672884614516505)), ((-58.47849410347293 -34.67171892630688, -58.4794567285876 -34.672534804256514, -58.47968812609813 -34.672363923209254, -58.480549447975626 -34.67173124920084, -58.47943122990338 -34.67078384913087, -58.48002270414407 -34.67032593794884, -58.48049792380026 -34.669957902730545, -58.481515676639226 -34.669169773086345, -58.48163166720665 -34.66907989327873, -58.48248048478149 -34.6684053051131, -58.48206409750622 -34.668044025190696, -58.48170798927542 -34.66773512922659, -58.48127899175581 -34.66736300342809, -58.48078180259909 -34.66774576367357, -58.48043698848036 -34.66801131374768, -58.48027847211606 -34.66813542411038, -58.47926668689709 -34.6689276280343, -58.4788743937722 -34.66923480095191, -58.47879982140818 -34.66929305227687, -58.47821303619822 -34.66975158981126, -58.477629653650425 -34.67020751983743, -58.4771475170691 -34.670584276841545, -58.47836460102653 -34.671609786080495, -58.47849410347293 -34.67171892630688)), ((-58.466499563537205 -34.675970277361245, -58.46676935812478 -34.676236473538985, -58.467229496708505 -34.67586856120673, -58.467426063006954 -34.6757113686909, -58.467558783435884 -34.67560523360968, -58.46784766523521 -34.675374230304094, -58.46756596470425 -34.67514679123385, -58.46737964375887 -34.67499635615396, -58.46706115311483 -34.674690445110194, -58.466861545745175 -34.6748332710756, -58.466555534646105 -34.67502125906721, -58.466256609082706 -34.675260012817816, -58.46601864914043 -34.67549577594101, -58.466499563537205 -34.675970277361245)), ((-58.47223051134286 -34.68095733241851, -58.47288462625597 -34.681527996875325, -58.47298777051868 -34.68144890222823, -58.47366238285192 -34.68093115534045, -58.473797064778985 -34.680826703561486, -58.474936822605386 -34.679943053119175, -58.474280831230615 -34.67937106198359, -58.47347649775325 -34.67866985152607, -58.472550681483185 -34.67780490986851, -58.47242919038991 -34.67769139537128, -58.47155284421467 -34.67688080907238, -58.47041019332745 -34.677766400828745, -58.47051829838673 -34.67787808649116, -58.471303077962865 -34.67858896594483, -58.471410927615814 -34.67868874924384, -58.4722233474025 -34.67944067810617, -58.47234918827229 -34.67955581139874, -58.47144365805859 -34.68027089711274, -58.47223051134286 -34.68095733241851)), ((-58.474472631424796 -34.682913307917964, -58.474621161454095 -34.68304702947791, -58.47553615889991 -34.682339666368634, -58.475797255138836 -34.682137732911436, -58.47650952994559 -34.681587078532885, -58.47667361780548 -34.681457267557136, -58.47617107465156 -34.68101914481349, -58.47559086292311 -34.680513280384645, -58.474936822605386 -34.679943053119175, -58.473797064778985 -34.680826703561486, -58.47366238285192 -34.68093115534045, -58.47298777051868 -34.68144890222823, -58.47288462625597 -34.681527996875325, -58.473537385955225 -34.68209746079034, -58.474117254695365 -34.68260333489451, -58.474472631424796 -34.682913307917964)), ((-58.454190355130386 -34.67550840643183, -58.455025433373066 -34.676263057920806, -58.45590446190439 -34.675580135358786, -58.45504764263252 -34.6748514757735, -58.454271470805466 -34.67419133880354, -58.453451181855435 -34.67484037937367, -58.454190355130386 -34.67550840643183)), ((-58.455165004170276 -34.66087543189745, -58.455290740800386 -34.66105225499433, -58.45551754349911 -34.661230771062385, -58.45570671064874 -34.66115938723209, -58.455856617753746 -34.66107015665194, -58.456044073742085 -34.66097347060722, -58.45617504982885 -34.66109000418365, -58.45643969946874 -34.66096191643099, -58.456721226029096 -34.660818546952044, -58.456867917155364 -34.66067671910492, -58.45707333604088 -34.66047813241567, -58.457269976881626 -34.66023623296424, -58.457314021765306 -34.66016320988633, -58.456728219669365 -34.659562246326615, -58.45656721202199 -34.659700692941186, -58.455916187013116 -34.660260602985545, -58.45556552653403 -34.66054770177078, -58.455165004170276 -34.66087543189745)), ((-58.45466823630104 -34.66128196453248, -58.45415517970247 -34.66093706387637, -58.45448949505401 -34.66066516716663, -58.45470948164531 -34.66048617011007, -58.45492237969476 -34.660312941855565, -58.45506786646074 -34.660194564337154, -58.45544200712172 -34.65989013768228, -58.455161366774405 -34.659653495783374, -58.45470244540557 -34.65926655462474, -58.45438238293934 -34.65953606781576, -58.45413297889124 -34.6597460806875, -58.453927495308186 -34.6599191095391, -58.45379041340362 -34.66003454243305, -58.453370964022696 -34.66038775714019, -58.45286915896487 -34.66080416318417, -58.45255139272235 -34.66106785203848, -58.45261096811464 -34.661108982346875, -58.453249628502185 -34.66161651164305, -58.45364975397436 -34.66193443765476, -58.45376642190611 -34.66204867595236, -58.45399767714949 -34.661852066460526, -58.45426063783847 -34.661628487423556, -58.45445434834373 -34.66146380182068, -58.45466823630104 -34.66128196453248)), ((-58.45178863274194 -34.662497913358514, -58.452040230521696 -34.66270242620677, -58.45241891043554 -34.66240036604296, -58.45218148731404 -34.662178531136554, -58.45253676336103 -34.661878594357525, -58.45206578555172 -34.66147627028872, -58.45194306541936 -34.66137146894052, -58.45122687046434 -34.66078934619144, -58.45110295397348 -34.660688627361395, -58.45091794201104 -34.66053881592358, -58.45075900775463 -34.660410064216016, -58.45023141397476 -34.65997957747921, -58.449896248287125 -34.659706085125904, -58.44910939869344 -34.66032031166653, -58.45013978406405 -34.661157839178664, -58.44947925036737 -34.661675317581086, -58.4493595710325 -34.661770941079496, -58.450495225474484 -34.66270967611994, -58.45078463931234 -34.662948935763055, -58.45087361210805 -34.66302246791515, -58.451007947001266 -34.663133512940185, -58.45178863274194 -34.662497913358514)), ((-58.4706740358916 -34.66175605537663, -58.469641093280195 -34.66247698292939, -58.46968260369377 -34.662517404374235, -58.46982350467968 -34.662658033129496, -58.46991531709595 -34.66285366730492, -58.46998003258708 -34.663127895265745, -58.470042267438686 -34.66330120623185, -58.47009102853898 -34.66339655764714, -58.470152489502574 -34.6634876832549, -58.47018420768034 -34.66360944491814, -58.47039381028772 -34.66376859137246, -58.470425099120426 -34.663855563137034, -58.47045792849947 -34.66401281852621, -58.470419007040725 -34.66433782949826, -58.470162141311604 -34.66466679773827, -58.47058427634449 -34.66433894571225, -58.47093958880226 -34.66406109825864, -58.47100231584144 -34.66401200834085, -58.47202664172702 -34.66315670086063, -58.471838735488355 -34.66266529317767, -58.47164682943208 -34.66222114122907, -58.4715702085405 -34.662240091322545, -58.47099223019292 -34.662024422024, -58.47086326682427 -34.661940695803025, -58.47076967413834 -34.661849502349625, -58.4706740358916 -34.66175605537663)), ((-58.46240172568074 -34.67494460166034, -58.46142305697495 -34.67416111008057, -58.4609423741602 -34.67455821385384, -58.46086716470161 -34.674616838159416, -58.46182921749006 -34.675417567565674, -58.46240172568074 -34.67494460166034)), ((-58.49227320591657 -34.67362620033638, -58.49313921214597 -34.67414318294135, -58.49414965707529 -34.67471240429305, -58.49487251932194 -34.67535487960838, -58.494965081288136 -34.67527136239047, -58.495968260811985 -34.675784033164405, -58.496215138499466 -34.67558565015292, -58.495244824037364 -34.675018857242705, -58.494390389509164 -34.674503999564806, -58.49334089329876 -34.67389545037788, -58.49321473318437 -34.6738968905079, -58.492488878707306 -34.67340818474021, -58.492402217719864 -34.673495743557524, -58.4923875606352 -34.673510606304895, -58.49227320591657 -34.67362620033638)), ((-58.45415517864035 -34.66093706466938, -58.4546682352389 -34.661281965325465, -58.45494450060448 -34.661055913292714, -58.45496359369668 -34.66104028006575, -58.455165006825986 -34.66087542884414, -58.455565531902785 -34.66054769849005, -58.45591619239656 -34.66026059874911, -58.456567217419924 -34.65970068865024, -58.45672822506737 -34.65956224203569, -58.456733254532764 -34.65955844004009, -58.456044310425405 -34.65896233217357, -58.45561998964624 -34.65859835489423, -58.455748777615895 -34.658498922575745, -58.455551404938404 -34.65831193477992, -58.454476007655565 -34.659079002632865, -58.45470244546292 -34.65926655530998, -58.45516136683176 -34.659653495567014, -58.455442006039476 -34.65989013853416, -58.4550678653984 -34.660194565130176, -58.45492237863262 -34.660312942648865, -58.45470948058318 -34.66048617090313, -58.454489493991886 -34.66066516795965, -58.45415517864035 -34.66093706466938)), ((-58.49611524966523 -34.67817129932015, -58.49681999042551 -34.678782808777015, -58.49784588686031 -34.67800764034228, -58.497440124250424 -34.677641550865836, -58.497133556226125 -34.67739120896416, -58.49639956565586 -34.67673407528484, -58.495639831749216 -34.67604792884473, -58.49514870324078 -34.6764148298519, -58.49461836767365 -34.67681110591202, -58.49491448781035 -34.677077992755095, -58.49539037845522 -34.6775069033431, -58.49611524966523 -34.67817129932015)), ((-58.492488880840426 -34.67340818315168, -58.493214735317615 -34.67389688891937, -58.493340895432056 -34.67389544878932, -58.49439039164267 -34.67450399797626, -58.495244826171024 -34.675018855654166, -58.496215140633325 -34.67558564856435, -58.49596826294574 -34.67578403157591, -58.494965083421675 -34.67527136080199, -58.49487252145544 -34.67535487801996, -58.4941496592087 -34.67471240270454, -58.49313921427917 -34.67414318135287, -58.49227320804959 -34.67362619874792, -58.49216269373376 -34.67373790894368, -58.49170875484594 -34.67419684128971, -58.49332415397843 -34.67565591737272, -58.493848249643634 -34.676129247136274, -58.494462147185736 -34.67668374933697, -58.49461836769778 -34.676811105804305, -58.495148703264874 -34.67641482974433, -58.49563983177316 -34.67604792873713, -58.49639956568007 -34.67673407607863, -58.49713355515918 -34.67739120975824, -58.49744012318347 -34.67764155165997, -58.497845885793325 -34.67800764113644, -58.502522513197306 -34.6744736544804, -58.5016417948968 -34.67398371604584, -58.50068137397072 -34.67346858396065, -58.50011803712748 -34.67316677902538, -58.499741855039055 -34.672965198873605, -58.499127451558586 -34.672635939156784, -58.49892818737305 -34.672514516366036, -58.49872372166961 -34.672388658845016, -58.498252785346665 -34.67205062004973, -58.49791631936981 -34.671809232590405, -58.497407871202284 -34.67144436934452, -58.497039861877006 -34.67118024171682, -58.49587311856384 -34.67019554081057, -58.49573795947543 -34.67006226401358, -58.49474854980677 -34.67108466583725, -58.494549846289836 -34.67128993490616, -58.493450145953354 -34.67242601973196, -58.49328499215801 -34.672596647975816, -58.492984472728395 -34.67290713326743, -58.49269228171227 -34.67320256547318, -58.492488880840426 -34.67340818315168)), ((-58.492333295806574 -34.67335941661485, -58.49248888183884 -34.67340818213211, -58.492692282778876 -34.67320256467897, -58.49275659440799 -34.67313754038724, -58.49298447379506 -34.67290713247309, -58.4932849932248 -34.672596647181464, -58.49345014702014 -34.67242601893756, -58.49305009610776 -34.672165055911975, -58.49271066835691 -34.67194513501061, -58.492643308206745 -34.6718924737771, -58.49260382847061 -34.671857059952025, -58.492543707780975 -34.67178594640615, -58.49248920935148 -34.67170504192018, -58.49248486015408 -34.67169863471296, -58.49244443514993 -34.671640333743866, -58.49238098153982 -34.67154492376828, -58.49228119781181 -34.671399451714734, -58.49218345615334 -34.671273306656225, -58.49197560000585 -34.6712604771081, -58.4913828533047 -34.67119787303106, -58.49135690544115 -34.67129375799992, -58.4914080593019 -34.67170956778564, -58.491444676279265 -34.67197482943391, -58.49155702472373 -34.67230401342331, -58.49170835131944 -34.672548138962235, -58.491739903119004 -34.67259936334767, -58.49175671125547 -34.672626650148835, -58.49183620293623 -34.67275895845699, -58.49188839793432 -34.67283317335605, -58.491973341888794 -34.67295505702513, -58.4920508608097 -34.67304827963919, -58.492333295806574 -34.67335941661485)), ((-58.4914558964729 -34.670706982649456, -58.491409967144655 -34.6708986385428, -58.491382851123156 -34.67119787483445, -58.49197559782431 -34.6712604789115, -58.4921834539718 -34.67127330845962, -58.4922811956303 -34.67139945351812, -58.49238097935829 -34.67154492557169, -58.49244443296805 -34.67164033464581, -58.49248485797254 -34.67169863651636, -58.49248920716995 -34.67170504372355, -58.49254370559943 -34.67178594820955, -58.49260382628906 -34.67185706175543, -58.4926433060252 -34.671892475580485, -58.49271066617504 -34.67194513591257, -58.49305009392622 -34.6721650577154, -58.49345014483828 -34.67242601983955, -58.494549845175015 -34.67128993501359, -58.49397878310145 -34.67053171285009, -58.49367097715802 -34.670280910638276, -58.493150899158586 -34.669964483497154, -58.49310325605121 -34.669933107567005, -58.49294050328982 -34.67011498106469, -58.49280043370418 -34.67027109666702, -58.49267779387662 -34.67040707436394, -58.49240249014318 -34.67075013704497, -58.49200921533755 -34.67049565377041, -58.49202823893883 -34.67046673219842, -58.49217875119663 -34.67023789924678, -58.49224378580878 -34.670137125175756, -58.49231649417329 -34.67002834900595, -58.492349388840765 -34.669982548324796, -58.492450441910854 -34.6698620294475, -58.49249136068348 -34.6698208078399, -58.49265237697386 -34.66963616616393, -58.49274586857576 -34.66952595405057, -58.49288735922073 -34.66938341098541, -58.49303475652175 -34.669244279100745, -58.49316616627516 -34.66909971269833, -58.49330005582956 -34.66894703625555, -58.4934368332263 -34.66879817559281, -58.49357187966953 -34.668655039298365, -58.493689610051185 -34.66852478599911, -58.49393557104955 -34.66828470729681, -58.493608574038895 -34.667962206311884, -58.493437055991706 -34.667776609850904, -58.49290836063018 -34.66841448286597, -58.49249672510094 -34.66889958921028, -58.49238210271953 -34.66904457358111, -58.49233955735419 -34.66912518177508, -58.492264232292726 -34.669233768407196, -58.49218082352373 -34.66934893198307, -58.49210706575807 -34.669450921463856, -58.49199829333917 -34.66960529064956, -58.49184866973762 -34.669833786955806, -58.4917942948938 -34.66992601181194, -58.49168230127281 -34.670117236471036, -58.49157910093252 -34.67029517815912, -58.4914558964729 -34.670706982649456)), ((-58.49245499953245 -34.669856592707234, -58.492349387750025 -34.6699825492265, -58.49231649417359 -34.67002834990739, -58.49224378580846 -34.67013712427433, -58.4921787522874 -34.67023789834508, -58.49200921642833 -34.670495652868716, -58.492402491234245 -34.670750137044706, -58.49267779278554 -34.67040707436419, -58.49280043261344 -34.67027109756873, -58.49294050219908 -34.6701149819664, -58.49310325496047 -34.669933108468705, -58.493150898067846 -34.66996448439885, -58.49367097606696 -34.670280910638525, -58.49397878419217 -34.670531711948385, -58.494549845175015 -34.67128993501359, -58.49474854978307 -34.671084665944306, -58.49573796054268 -34.67006226321884, -58.495093385680626 -34.669426574990794, -58.49474070285466 -34.66907877354982, -58.49435297616897 -34.66869640037698, -58.49393556995886 -34.66828470819852, -58.493689608960466 -34.668524786900825, -58.49357187857883 -34.668655040200065, -58.493436832135565 -34.66879817649452, -58.49330005473883 -34.66894703715727, -58.493166165184434 -34.66909971360003, -58.49303475543101 -34.66924428000245, -58.492887358130005 -34.669383411887125, -58.49274586748502 -34.669525954952256, -58.49265237588313 -34.66963616706567, -58.492491359592755 -34.66982080874158, -58.49245499953245 -34.669856592707234)), ((-58.491382374824596 -34.669736910806584, -58.49179429598456 -34.66992601091026, -58.491848670828695 -34.66983378695554, -58.49199829333917 -34.66960529064956, -58.49210706575807 -34.669450921463856, -58.49211172879515 -34.66944430383619, -58.49218082352373 -34.66934893198307, -58.492264232292726 -34.669233768407196, -58.49233955735419 -34.66912518177508, -58.49238210271953 -34.66904457358111, -58.49249672510094 -34.66889958921028, -58.492908359539136 -34.66841448286626, -58.49313662917615 -34.668139074956144, -58.49343705490101 -34.66777661075259, -58.492896047335854 -34.667191379976316, -58.49242389806665 -34.66761883659219, -58.49215863856473 -34.667858983642226, -58.49197405676168 -34.668011907216616, -58.4917002275576 -34.66823876821781, -58.491653417364624 -34.668273257279665, -58.49095359827809 -34.66873053264682, -58.49074474591359 -34.66885667574261, -58.49053361210991 -34.66902046365774, -58.49043690791372 -34.66913292118125, -58.4904710478593 -34.66914507731826, -58.490696307591996 -34.66929145513948, -58.49109046885696 -34.66958550088872, -58.49118656479322 -34.6696318778237, -58.491382374824596 -34.669736910806584)), ((-58.49019200533751 -34.668516419487794, -58.49053361101915 -34.669020464559416, -58.490744744822834 -34.6688566766443, -58.49095359827809 -34.66873053264682, -58.491653417364624 -34.668273257279665, -58.4917002275576 -34.66823876821781, -58.491856772157035 -34.66810907534145, -58.49197405676168 -34.668011907216616, -58.49215863965576 -34.667858983641956, -58.49242389915737 -34.6676188356905, -58.492896048426545 -34.6671913790746, -58.49259803090824 -34.66686897991537, -58.49253556400087 -34.666804624010574, -58.49226598736763 -34.66652695959923, -58.492241084404064 -34.666501310900216, -58.49214916283529 -34.66640662786072, -58.49117799625583 -34.66729362357911, -58.490360452021534 -34.66803625756004, -58.49002137557577 -34.66836812736666, -58.490130189944814 -34.66846389801053, -58.49019200533751 -34.668516419487794)), ((-58.48816973586683 -34.66880496331592, -58.488887641863876 -34.66943630596969, -58.48945706495263 -34.66899067802467, -58.49013019212631 -34.66846389620718, -58.49002148471061 -34.66836821928816, -58.490360455293754 -34.668036254855004, -58.4911779995283 -34.66729362177551, -58.492149165017 -34.66640662695875, -58.49193533265456 -34.66618637671029, -58.491761644462876 -34.666007399370194, -58.491135037701376 -34.665389714119094, -58.49099998254378 -34.66526333419687, -58.48986988873253 -34.66615431823987, -58.48871079796009 -34.667068186114314, -58.488622087968416 -34.66713644605877, -58.4873691379316 -34.668101660163714, -58.487483300530506 -34.668201286612124, -58.48816973586683 -34.66880496331592)), ((-58.486317874814226 -34.67342009866577, -58.48734780075868 -34.67262015791633, -58.4867281452904 -34.672113330045434, -58.486520979169576 -34.67194388122021, -58.487392137170154 -34.67121197543587, -58.487585509484056 -34.6714265439378, -58.48817116192548 -34.67207638303576, -58.488214138092914 -34.67212299490829, -58.48883148988768 -34.67271091431696, -58.48890126404422 -34.6727685424057, -58.48900790782495 -34.672357535595715, -58.48911003898857 -34.671913892516486, -58.48918104336706 -34.67161002920894, -58.489237574079525 -34.671374890461806, -58.48928072702984 -34.67118858870125, -58.48936099883891 -34.67084370362829, -58.48943248870404 -34.670535208464045, -58.48947600687256 -34.6703473164049, -58.48955175704357 -34.67002019124064, -58.48961554646136 -34.66990584509614, -58.48968634414976 -34.66974604181249, -58.48946330725161 -34.669558316618925, -58.489467917602546 -34.669529695175896, -58.48935125546973 -34.66941619272486, -58.48985172530752 -34.668939398394, -58.48999678656987 -34.6687004110659, -58.49013019215071 -34.66846389700157, -58.48945706497724 -34.668990678818965, -58.488887640797536 -34.66943630676411, -58.48878938435624 -34.669513231605414, -58.488271966570565 -34.67001624050003, -58.48780175150682 -34.67047339158146, -58.48771057086124 -34.67056193442756, -58.487337055400346 -34.6708715248362, -58.486280405419805 -34.671747107683174, -58.485334267497265 -34.672531038489204, -58.485514939698376 -34.67269030469705, -58.48588592431951 -34.67302981976304, -58.486317874814226 -34.67342009866577)), ((-58.49029610054858 -34.67088328559115, -58.49041429182772 -34.67071318494717, -58.4905405954853 -34.67050609662816, -58.490655902121816 -34.67035901803879, -58.49076896648572 -34.67018367368784, -58.49084184964579 -34.67002779859769, -58.490856991445696 -34.669995414805, -58.49098498965288 -34.6697662486673, -58.49109046779033 -34.66958550168329, -58.490696306525386 -34.66929145593403, -58.490471046792656 -34.66914507811278, -58.49043700282316 -34.66913281107794, -58.49053361104334 -34.66902046445226, -58.490192006452766 -34.66851641938045, -58.49013019215071 -34.66846389700157, -58.48999678656987 -34.6687004110659, -58.48985172530752 -34.668939398394, -58.48935125546973 -34.66941619272486, -58.489467917602546 -34.669529695175896, -58.48946330725161 -34.669558316618925, -58.48968634414976 -34.66974604181249, -58.48961554646136 -34.66990584509614, -58.48955175704357 -34.67002019124064, -58.48947600687256 -34.6703473164049, -58.48943248870404 -34.670535208464045, -58.48936099883891 -34.67084370362829, -58.48928072702984 -34.67118858870125, -58.489237574079525 -34.671374890461806, -58.48918104336706 -34.67161002920894, -58.48956844369351 -34.671807273903504, -58.489716703478734 -34.67188139732101, -58.489878000687156 -34.67160378846146, -58.49011294161596 -34.67121298281383, -58.490190577333344 -34.67107318949453, -58.49029610054858 -34.67088328559115)), ((-58.48988614730507 -34.671966207809895, -58.49026663115597 -34.67215664871954, -58.49039242532971 -34.67201089855798, -58.49079960491576 -34.67217752856158, -58.490909776217556 -34.67222261340346, -58.491147122981104 -34.672319533239204, -58.49170835131944 -34.672548138962235, -58.49155702472373 -34.67230401342331, -58.491444676279265 -34.67197482943391, -58.4914080593019 -34.67170956778564, -58.49135690544115 -34.67129375799992, -58.4913828533047 -34.67119787303106, -58.491409969326504 -34.67089863764086, -58.49145589865444 -34.670706980846084, -58.491579103114354 -34.67029517725715, -58.49168230236358 -34.67011723556936, -58.49172478161136 -34.670043988717346, -58.49179429598456 -34.66992601091026, -58.491382374824596 -34.669736910806584, -58.49118656479322 -34.6696318778237, -58.49109046885696 -34.66958550088872, -58.49098499071956 -34.6697662478728, -58.49085699251233 -34.669995414010494, -58.49084185071242 -34.6700277978032, -58.49076896755226 -34.67018367289339, -58.49065590318832 -34.67035901724432, -58.4905405965518 -34.67050609583375, -58.49041429289417 -34.67071318415277, -58.49029610161502 -34.67088328479682, -58.49019057839972 -34.6710731887002, -58.4901129426824 -34.6712129820195, -58.49009890157691 -34.671236339441094, -58.48987800175352 -34.671603787667244, -58.48986834887077 -34.67162044104461, -58.489716704545046 -34.671881396526786, -58.48988614730507 -34.671966207809895)), ((-58.489109919110255 -34.6719144172825, -58.489007908891075 -34.672357534801584, -58.488833422069405 -34.67303000697848, -58.48878493194514 -34.6731720485353, -58.48870095043144 -34.67345868526583, -58.48850067850898 -34.67342621863417, -58.48846422196312 -34.673682541740455, -58.48841400419111 -34.67373120704277, -58.48834828005586 -34.674047476875025, -58.488343965936174 -34.674101140825265, -58.48839095909431 -34.67414589325085, -58.48836158330254 -34.67425717017981, -58.48821790601234 -34.67439854188919, -58.488097920718275 -34.67452476716993, -58.48800520642924 -34.6746284509185, -58.48791794346078 -34.674718612015354, -58.487855138509474 -34.67478517577482, -58.48801961906977 -34.67492937053993, -58.486978521155585 -34.675792278823636, -58.486154984981205 -34.676474780147316, -58.48783638061037 -34.67787567523489, -58.48796404432047 -34.677753322132034, -58.4887491211506 -34.67703856289599, -58.48935411312957 -34.67648785500129, -58.48997111094575 -34.675921507871294, -58.49106726121297 -34.67484806380959, -58.4912797013874 -34.67463244528904, -58.491669499180304 -34.67423669574985, -58.491708755912356 -34.674196840495604, -58.49216269480027 -34.673737908149484, -58.492273209252424 -34.67362619778459, -58.49238756383489 -34.67351060392215, -58.49240222091949 -34.67349574117481, -58.49248888183884 -34.67340818213211, -58.492333295806574 -34.67335941661485, -58.4920508608097 -34.67304827963919, -58.491973341888794 -34.67295505702513, -58.49188839793432 -34.67283317335605, -58.49183620293623 -34.67275895845699, -58.49175671125547 -34.672626650148835, -58.49170835131944 -34.672548138962235, -58.491147122981104 -34.672319533239204, -58.490909776217556 -34.67222261340346, -58.49079960491576 -34.67217752856158, -58.49039242532971 -34.67201089855798, -58.49026663115597 -34.67215664871954, -58.48975649335076 -34.6719013120217, -58.489716704545046 -34.671881396526786, -58.48956844475982 -34.671807273109266, -58.48918104443336 -34.671610028414776, -58.489110040054776 -34.671913891722305, -58.489109919110255 -34.6719144172825)), ((-58.49528483250939 -34.67878653965892, -58.49597031701793 -34.67942481984761, -58.496819989358684 -34.678782809571, -58.49611524859851 -34.67817130011413, -58.49539037847971 -34.677506904136855, -58.49461836769778 -34.676811105804305, -58.493586828207704 -34.67758181272732, -58.49406585067621 -34.67795540718299, -58.49401078680585 -34.67876681666453, -58.49528483250939 -34.67878653965892)), ((-58.49358682714128 -34.677581813521236, -58.493069515905994 -34.67796829084576, -58.49293300596744 -34.67807839260113, -58.49291211551071 -34.678650912739776, -58.492908511291844 -34.67874975761632, -58.4940107857394 -34.67876681745827, -58.49406585067621 -34.67795540718299, -58.49358682714128 -34.677581813521236)), ((-58.49241074625683 -34.67683976243788, -58.49178725397091 -34.67733478422959, -58.492019364269936 -34.67752684583121, -58.49231986244496 -34.67728972511218, -58.4930695180386 -34.677968289258125, -58.49358682927416 -34.67758181193347, -58.49461836876447 -34.676811105010295, -58.49446214825233 -34.67668374854297, -58.4938482507102 -34.6761292463423, -58.49332415504501 -34.67565591657867, -58.492385998802845 -34.67652786022575, -58.49241074625683 -34.67683976243788)), ((-58.49231986137863 -34.677289725906036, -58.49201936320367 -34.67752684662499, -58.491267940593815 -34.67811964473397, -58.4916442505637 -34.678436111892324, -58.49189907506795 -34.678650452280586, -58.49291211551071 -34.678650912739776, -58.49293300703376 -34.67807839180733, -58.49306951697229 -34.67796829005188, -58.49231986137863 -34.677289725906036)), ((-58.48997110987973 -34.67592150866515, -58.48935411206363 -34.676487855794996, -58.49025879382453 -34.677260039467555, -58.49036490928239 -34.67735060899543, -58.49065474314323 -34.677077437602286, -58.4908844699706 -34.67703667974027, -58.490991175492525 -34.67696890716536, -58.49118803787435 -34.676799350147654, -58.49121262058139 -34.676643424984924, -58.49120431696644 -34.6765417348234, -58.49110580347576 -34.676385838397486, -58.49086783172068 -34.67623673491679, -58.49071190256709 -34.67619613619103, -58.49035897217649 -34.67616227253662, -58.48997110987973 -34.67592150866515)), ((-58.48851647665945 -34.67839448962691, -58.48979460877798 -34.678670134410936, -58.489932486318146 -34.67824403759102, -58.48981107962643 -34.6782030775507, -58.48958364664218 -34.67813906684905, -58.490258794890515 -34.67726003867388, -58.48935411206363 -34.676487855794996, -58.48874912008475 -34.677038563689564, -58.48796404325482 -34.677753322925525, -58.48783637954475 -34.67787567602839, -58.4877422931831 -34.67796590867058, -58.48765817341542 -34.67803437868718, -58.48783116764924 -34.67811976712346, -58.4878595598816 -34.67813377579302, -58.48828825145474 -34.678345311580536, -58.48851647665945 -34.67839448962691)), ((-58.49379248073344 -34.679964493536126, -58.49451493199521 -34.6805243903739, -58.4959703148846 -34.679424821435376, -58.49528483037621 -34.67878654124676, -58.49401078467296 -34.67876681825201, -58.49290851022558 -34.67874975841009, -58.492912114444465 -34.67865091353356, -58.491899074001864 -34.67865045307427, -58.49164424843145 -34.67843611347967, -58.491267938461625 -34.678119646321306, -58.49112391331556 -34.67799847917105, -58.49088063143348 -34.6777907849675, -58.490364907150415 -34.677350610582785, -58.49025879382453 -34.677260039467555, -58.48958364664218 -34.67813906684905, -58.489811077494615 -34.678203079137894, -58.48993248418635 -34.6782440391782, -58.48979460664634 -34.678670135997976, -58.49042796311077 -34.67880668724802, -58.49051620255929 -34.67882568099691, -58.49197568807564 -34.67914499512154, -58.49223426840886 -34.67920155333127, -58.492293534111944 -34.67925055418363, -58.49286658004357 -34.67972359384253, -58.49299302506234 -34.67977905718055, -58.49359357188212 -34.67990947218668, -58.49379248073344 -34.679964493536126)), ((-58.49155293423913 -34.68158543117963, -58.492332513679884 -34.68217328598996, -58.4945149351943 -34.680524387993, -58.493792483932346 -34.67996449115508, -58.493593575081 -34.67990946980573, -58.49299302826117 -34.67977905479974, -58.492866583242204 -34.67972359146165, -58.49229353731044 -34.67925055180273, -58.49223427160724 -34.67920155095036, -58.49197569127406 -34.67914499274073, -58.490516205757096 -34.67882567861619, -58.49042796630857 -34.67880668486735, -58.48979460984382 -34.67867013361741, -58.48955717908143 -34.67942217576434, -58.48933785995364 -34.68004068918112, -58.49010891491572 -34.68020347953647, -58.49003397194979 -34.68043829075191, -58.48983187878821 -34.68107109685551, -58.49054983146019 -34.681230375217744, -58.49061105772928 -34.68127698132651, -58.49073078067543 -34.68136822355425, -58.4908012100156 -34.68140377232278, -58.491368005872644 -34.68153357232845, -58.49145096304857 -34.681553975567276, -58.49155293423913 -34.68158543117963)), ((-58.49083736272893 -34.68217673941438, -58.49153936511126 -34.682772503725324, -58.492332513679884 -34.68217328598996, -58.49155293423913 -34.68158543117963, -58.49145096304857 -34.681553975567276, -58.491368005872644 -34.68153357232845, -58.4908012100156 -34.68140377232278, -58.49073078067543 -34.68136822355425, -58.49061105772928 -34.68127698132651, -58.49054983146019 -34.681230375217744, -58.48983187878821 -34.68107109685551, -58.49003397194979 -34.68043829075191, -58.49010891491572 -34.68020347953647, -58.48933785995364 -34.68004068918112, -58.48955717908143 -34.67942217576434, -58.48979460984382 -34.67867013361741, -58.48851647772513 -34.67839448883339, -58.488288252520405 -34.67834531078707, -58.48785956094717 -34.67813377499951, -58.48783116871485 -34.67811976632997, -58.48765817448106 -34.67803437789371, -58.4875827503695 -34.67809995789627, -58.48702068213205 -34.67858881564375, -58.48681528484322 -34.67876576199975, -58.48788508532439 -34.67966070748694, -58.488111566103974 -34.67985017158756, -58.488315110435316 -34.68002041439831, -58.489671987733416 -34.68119240250892, -58.48975521624277 -34.68126428746239, -58.489851346172195 -34.681345654322534, -58.49025970345009 -34.681691296800786, -58.49083736272893 -34.68217673941438)), ((-58.48436560882816 -34.67167724889867, -58.48533426856288 -34.67253103769529, -58.4862804064856 -34.6717471068892, -58.48733705646634 -34.670871524042035, -58.487710571927295 -34.67056193363325, -58.487801752572985 -34.67047339078729, -58.48827196763684 -34.670016239705724, -58.48878938542255 -34.669513230811134, -58.488887641863876 -34.66943630596969, -58.48816973586683 -34.66880496331592, -58.487483300530506 -34.668201286612124, -58.4873691379316 -34.668101660163714, -58.48662671111921 -34.66867351194309, -58.48617487538315 -34.669021496262, -58.48556026457815 -34.66949493461656, -58.485184437238345 -34.66978444856025, -58.48458728513279 -34.67024442758091, -58.48449788660026 -34.67031324800811, -58.483600653002604 -34.671002929339345, -58.48436560882816 -34.67167724889867)), ((-58.481538608923465 -34.672569430743465, -58.48108084891263 -34.67291387499439, -58.47986945854245 -34.672884614516505, -58.480457398183084 -34.67338299334757, -58.481206059843394 -34.67401740418691, -58.48235853047281 -34.67499421904575, -58.482567850371176 -34.6748210825841, -58.48339157119201 -34.6741396608497, -58.48422592985534 -34.67344935881887, -58.48431354156908 -34.67337673670949, -58.484764890111286 -34.673002773184685, -58.48533426856288 -34.67253103769529, -58.48436560882816 -34.67167724889867, -58.483600653002604 -34.671002929339345, -58.482690706593495 -34.67170239471184, -58.482576332878665 -34.671788472089645, -58.481538608923465 -34.672569430743465)), ((-58.48590103274044 -34.677990780303844, -58.48681528484322 -34.67876576199975, -58.48702068213205 -34.67858881564375, -58.4875827503695 -34.67809995789627, -58.48765817448106 -34.67803437789371, -58.48774229424869 -34.67796590787708, -58.48783638061037 -34.67787567523489, -58.486154984981205 -34.676474780147316, -58.486978521155585 -34.675792278823636, -58.48801961906977 -34.67492937053993, -58.487855138509474 -34.67478517577482, -58.48722007266737 -34.67422824927319, -58.48664782930762 -34.673726496252854, -58.486570452273135 -34.67365636122267, -58.4864506360766 -34.67354669498094, -58.48631787587998 -34.67342009775921, -58.48588592538518 -34.67302981896915, -58.48551494076399 -34.67269030390323, -58.48533426856288 -34.67253103769529, -58.484764890111286 -34.673002773184685, -58.48431354156908 -34.67337673670949, -58.48422592985534 -34.67344935881887, -58.48339157119201 -34.6741396608497, -58.482567850371176 -34.6748210825841, -58.48235853047281 -34.67499421904575, -58.48260519411955 -34.675203268430515, -58.48353123676375 -34.6759863716448, -58.48432794889498 -34.67666019326831, -58.4851170853027 -34.677327460311005, -58.48571685414119 -34.67783468489815, -58.48590103274044 -34.677990780303844)), ((-58.48227696324959 -34.679030313799615, -58.482664243517505 -34.679360751089504, -58.484191839894784 -34.67809447589732, -58.4851170853027 -34.677327460311005, -58.48432794889498 -34.67666019326831, -58.48353123676375 -34.6759863716448, -58.48260519411955 -34.675203268430515, -58.48235853047281 -34.67499421904575, -58.481438739834104 -34.67575480488365, -58.47991480952449 -34.677014988836525, -58.48110670130357 -34.67803195103558, -58.48188738431675 -34.67869797360627, -58.48227696324959 -34.679030313799615)), ((-58.47895246633416 -34.6761824251001, -58.47991480952449 -34.677014988836525, -58.481438739834104 -34.67575480488365, -58.48235853047281 -34.67499421904575, -58.481206059843394 -34.67401740418691, -58.480457398183084 -34.67338299334757, -58.47986945854245 -34.672884614516505, -58.4794567285876 -34.672534804256514, -58.47849410347293 -34.67171892630688, -58.47836460102653 -34.671609786080495, -58.4771475170691 -34.670584276841545, -58.47635969852522 -34.66989484339931, -58.47617606192514 -34.66970457808828, -58.475260309106496 -34.66896888286417, -58.47540296272843 -34.669293312023036, -58.47667264359016 -34.67210331315147, -58.476773693559736 -34.672331054258656, -58.477101065728476 -34.67306885036907, -58.477103112361 -34.6730734979024, -58.47751090900314 -34.67400720465463, -58.47826709283663 -34.67575180049748, -58.47895246633416 -34.6761824251001)), ((-58.48093874178267 -34.68182621961343, -58.48182801473191 -34.68298533542938, -58.48220229825537 -34.682718720877624, -58.48311286528376 -34.681955174091875, -58.48333003918541 -34.681759287637654, -58.48343623876561 -34.681665957282085, -58.48349240832437 -34.681618129603336, -58.48440235168541 -34.68084351712805, -58.48388903085919 -34.68040556870727, -58.48344409905167 -34.68002598844673, -58.483056046431884 -34.67969499040738, -58.482664243517505 -34.679360751089504, -58.48227696324959 -34.679030313799615, -58.48188738431675 -34.67869797360627, -58.48110670130357 -34.67803195103558, -58.47991480952449 -34.677014988836525, -58.47895246633416 -34.6761824251001, -58.47826709283663 -34.67575180049748, -58.47834487041688 -34.67593052697859, -58.47840422700493 -34.67606580415161, -58.478426485101544 -34.676116577028054, -58.47909443128863 -34.677638215253594, -58.47973980349408 -34.67912295077385, -58.47974543231273 -34.679135908035825, -58.48006228536787 -34.6798648943743, -58.48051782674718 -34.68090548640375, -58.48054298776125 -34.68096083588618, -58.48070137382224 -34.681308496543, -58.480878610877035 -34.68169573231071, -58.48093874178267 -34.68182621961343)), ((-58.48388903085919 -34.68040556870727, -58.48440235168541 -34.68084351712805, -58.4845209943003 -34.680742507927725, -58.48590010480952 -34.67955426763985, -58.486316020533025 -34.67919593987728, -58.48681528484322 -34.67876576199975, -58.48590103274044 -34.677990780303844, -58.48571685414119 -34.67783468489815, -58.4851170853027 -34.677327460311005, -58.484191839894784 -34.67809447589732, -58.482664243517505 -34.679360751089504, -58.483056046431884 -34.67969499040738, -58.48344409905167 -34.68002598844673, -58.48388903085919 -34.68040556870727)), ((-58.486922042935916 -34.682669284563254, -58.487711634880895 -34.68287381660109, -58.48834473538557 -34.683062643432386, -58.48929355493236 -34.683337257517316, -58.48945473456895 -34.683244969892854, -58.4886225399799 -34.68276350544026, -58.4883054436062 -34.682580048742224, -58.488034847913625 -34.682424479883004, -58.487825450437114 -34.68208465654375, -58.4876737740672 -34.68175672258106, -58.48767877781505 -34.681667523344075, -58.48801075956138 -34.681296750244066, -58.488938858319344 -34.6805591812954, -58.488315107187766 -34.680020416994935, -58.488111562856794 -34.679850174184395, -58.48810486556041 -34.679844574098276, -58.48788507880385 -34.67966071188707, -58.48681527832305 -34.67876576640006, -58.486316014012736 -34.67919594427736, -58.48590009828907 -34.67955427203971, -58.48452098778019 -34.680742512327306, -58.48440234516521 -34.68084352152781, -58.48349240289531 -34.68161813310105, -58.483436235518596 -34.68166595897683, -58.48333003702961 -34.681759289332, -58.48554273173665 -34.682329118938014, -58.4859377343705 -34.68243207490356, -58.486922042935916 -34.682669284563254)), ((-58.48220229612653 -34.68271872246258, -58.48182801260296 -34.68298533701436, -58.48187039594556 -34.683040613188425, -58.48231629418313 -34.68350541181834, -58.482349721784104 -34.68354019617894, -58.48299875135936 -34.68421672480172, -58.48411565285732 -34.685485224175814, -58.484311537582556 -34.68536103133925, -58.48472600568051 -34.68519461562937, -58.485142446102934 -34.68507629747168, -58.48557210577081 -34.684980933894764, -58.48519715289898 -34.68497748269786, -58.48487768732174 -34.68491986333427, -58.484554028604194 -34.68480463808723, -58.484266249575896 -34.684635952717905, -58.484661394262346 -34.684311528226424, -58.48497353110725 -34.68407736435883, -58.48512546026863 -34.68396123764734, -58.485088490355444 -34.683909726894406, -58.485282613366095 -34.68350711516119, -58.48532857336624 -34.68339833022645, -58.48543707468105 -34.683180794814724, -58.485596377714586 -34.682915549057164, -58.485759427071564 -34.68287929535536, -58.48601148702094 -34.68296941752, -58.48625008356054 -34.6830547137487, -58.48677666101513 -34.68317770566062, -58.48688742006478 -34.68291696464534, -58.48684838243794 -34.682906724941944, -58.486922037283065 -34.68266928836816, -58.48593773002908 -34.68243207767854, -58.48554272848957 -34.68232912063252, -58.48333003705588 -34.68175928922329, -58.48311286315445 -34.68195517567748, -58.48220229612653 -34.68271872246258)), ((-58.48645954109318 -34.68413799789936, -58.48692771949245 -34.684012340380114, -58.48690667285543 -34.684129771657716, -58.486903988867 -34.68414474649064, -58.48669155491561 -34.684387108037846, -58.48684212633819 -34.6847313777725, -58.48667839892056 -34.68476487058279, -58.48615411204436 -34.68487215809543, -58.485693758041144 -34.684953937779184, -58.48557210615348 -34.684980933102246, -58.48514244498565 -34.685076298482414, -58.4847260034721 -34.68519461664051, -58.48431153537323 -34.68536103144869, -58.484115651739955 -34.68548522518649, -58.48522902696499 -34.686828152857196, -58.485607598648144 -34.68725330135229, -58.49043655334277 -34.68360559870087, -58.489293557118266 -34.68333725468986, -58.489245483564034 -34.683364801115694, -58.488870881582635 -34.683638831751665, -58.48873574525802 -34.68360181647496, -58.48821182027317 -34.68346621985576, -58.48781246169598 -34.683364540486586, -58.487473384063335 -34.683280382164895, -58.48729255355696 -34.68325196788564, -58.487219901049315 -34.68324150882048, -58.48677666494766 -34.68317770299851, -58.48657038229965 -34.683698845161, -58.486475774371485 -34.68403086077277, -58.48645954109318 -34.68413799789936)), ((-58.48929356036641 -34.68333725389619, -58.49043655659031 -34.68360559610469, -58.491539364020326 -34.68277250462703, -58.490837361637695 -34.68217673941462, -58.49033316097284 -34.68175303166806, -58.4902596979952 -34.681691300407756, -58.48985133962637 -34.68134565883115, -58.48975520969693 -34.681264291971004, -58.48967198118758 -34.68119240701751, -58.48940082533634 -34.680958197891385, -58.488938860475876 -34.680559179600266, -58.48801075953607 -34.68129675035273, -58.487678778879385 -34.681667519846506, -58.487673776223644 -34.6817567208862, -58.48782545259339 -34.68208465484884, -58.4880348500699 -34.682424478188146, -58.48824904851961 -34.68254762276317, -58.48830544794449 -34.68258004614551, -58.489454739998216 -34.68324496549312, -58.48929356036641 -34.68333725389619)), ((-58.48642804916822 -34.667279995032935, -58.4873691379316 -34.668101660163714, -58.488622087968416 -34.66713644605877, -58.48871079796009 -34.667068186114314, -58.48986988873253 -34.66615431823987, -58.49099998254378 -34.66526333419687, -58.49007703167144 -34.664400213262276, -58.488952378692304 -34.663348320316445, -58.488712249453734 -34.66352985524615, -58.487737751663055 -34.66428796683728, -58.48648926871359 -34.66525922724333, -58.48638922490157 -34.66533706550429, -58.485869404927705 -34.66574492252683, -58.485237605255264 -34.666240687620096, -58.48642804916822 -34.667279995032935)), ((-58.48576801229119 -34.664648786573515, -58.48648926871359 -34.66525922724333, -58.487737751663055 -34.66428796683728, -58.488712249453734 -34.66352985524615, -58.488952378692304 -34.663348320316445, -58.48713224130306 -34.66280347299926, -58.485945281609105 -34.662448062241374, -58.48536083032124 -34.662077035597065, -58.48522682379617 -34.661991917472236, -58.48503732177535 -34.66187159764055, -58.483715046638075 -34.662902845530766, -58.48450234313252 -34.663572865066435, -58.4852876073048 -34.66424112022388, -58.48576801229119 -34.664648786573515)), ((-58.48483102135299 -34.66588596410643, -58.485237605255264 -34.666240687620096, -58.485869404927705 -34.66574492252683, -58.48638922490157 -34.66533706550429, -58.48648926871359 -34.66525922724333, -58.48576801229119 -34.664648786573515, -58.4852876073048 -34.66424112022388, -58.48450234313252 -34.663572865066435, -58.483715046638075 -34.662902845530766, -58.48246372603 -34.66387871321179, -58.48261189171061 -34.664005242006354, -58.48325042484588 -34.66454845957471, -58.48391650377074 -34.665115120601854, -58.48404233437458 -34.66521165097311, -58.48417856676101 -34.66531599569365, -58.484522909456004 -34.665616646685635, -58.48483102135299 -34.66588596410643)), ((-58.48167916932104 -34.663208327656676, -58.48246372603 -34.66387871321179, -58.483715046638075 -34.662902845530766, -58.48503732177535 -34.66187159764055, -58.48413159060562 -34.66129653386632, -58.48323234792431 -34.66071751844861, -58.48214415684053 -34.661565536151144, -58.48171500910103 -34.661899908029646, -58.480894966939154 -34.662538923090736, -58.481094021360825 -34.662708404793385, -58.48167916932104 -34.663208327656676)), ((-58.48115818784159 -34.6672582303963, -58.48127899175581 -34.66736300342809, -58.4815102844228 -34.66718493529026, -58.48286452749815 -34.66612962139018, -58.48207952121945 -34.66546085861026, -58.48129358910755 -34.66479124529849, -58.48246372603 -34.66387871321179, -58.48167916932104 -34.663208327656676, -58.48050758563548 -34.664121626855014, -58.47975492208164 -34.664708298758576, -58.479634249501515 -34.664802402504904, -58.478930830877296 -34.665346526557585, -58.4797165789215 -34.666020943471274, -58.48049816247474 -34.66669169423822, -58.48115818784159 -34.6672582303963)), ((-58.48206409750622 -34.668044025190696, -58.48248048478149 -34.6684053051131, -58.482614879488295 -34.668298449227066, -58.4830985964994 -34.66791892354003, -58.48346692084867 -34.667629980610826, -58.48407138736263 -34.66715570890122, -58.485237605255264 -34.666240687620096, -58.48483102135299 -34.66588596410643, -58.484522909456004 -34.665616646685635, -58.48417856676101 -34.66531599569365, -58.48404233437458 -34.66521165097311, -58.48391650377074 -34.665115120601854, -58.48325042484588 -34.66454845957471, -58.48261189171061 -34.664005242006354, -58.48246372603 -34.66387871321179, -58.48129358910755 -34.66479124529849, -58.48207952121945 -34.66546085861026, -58.48286452749815 -34.66612962139018, -58.4815102844228 -34.66718493529026, -58.48127899175581 -34.66736300342809, -58.48170798927542 -34.66773512922659, -58.48206409750622 -34.668044025190696)), ((-58.48385601767637 -34.669596864189295, -58.48458728513279 -34.67024442758091, -58.485184437238345 -34.66978444856025, -58.48556026457815 -34.66949493461656, -58.48617487538315 -34.669021496262, -58.48662671111921 -34.66867351194309, -58.4873691379316 -34.668101660163714, -58.48642804916822 -34.667279995032935, -58.485237605255264 -34.666240687620096, -58.48407138736263 -34.66715570890122, -58.48346692084867 -34.667629980610826, -58.4830985964994 -34.66791892354003, -58.482614879488295 -34.668298449227066, -58.48248048478149 -34.6684053051131, -58.48367927820315 -34.66944379300219, -58.48385601767637 -34.669596864189295)), ((-58.47912218535955 -34.66881067338964, -58.47926668689709 -34.6689276280343, -58.48027847211606 -34.66813542411038, -58.48043698848036 -34.66801131374768, -58.48078180259909 -34.66774576367357, -58.48127899175581 -34.66736300342809, -58.48115818784159 -34.6672582303963, -58.48049816247474 -34.66669169423822, -58.4797165789215 -34.666020943471274, -58.478930830877296 -34.665346526557585, -58.478410206355115 -34.665749351648856, -58.47789818479099 -34.66614548299485, -58.47776770755234 -34.666246417141146, -58.47689731015679 -34.66693055295851, -58.477683396356234 -34.667594841660474, -58.47846727775436 -34.668257294698336, -58.47912218535955 -34.66881067338964)), ((-58.47635969852522 -34.66989484339931, -58.4771475170691 -34.670584276841545, -58.477629653650425 -34.67020751983743, -58.47821303619822 -34.66975158981126, -58.47879982140818 -34.66929305227687, -58.4788743937722 -34.66923480095191, -58.47926668689709 -34.6689276280343, -58.47912218535955 -34.66881067338964, -58.47846727775436 -34.668257294698336, -58.477683396356234 -34.667594841660474, -58.47689731015679 -34.66693055295851, -58.47583769187765 -34.66773864981361, -58.47558465601099 -34.66795671048275, -58.475010646357795 -34.66840086524704, -58.475260309106496 -34.66896888286417, -58.47617606192514 -34.66970457808828, -58.47635969852522 -34.66989484339931)), ((-58.480110095584706 -34.66187078091412, -58.480894966939154 -34.662538923090736, -58.48171500910103 -34.661899908029646, -58.48214415684053 -34.661565536151144, -58.48323234792431 -34.66071751844861, -58.48233328906183 -34.6601386369351, -58.48143372986918 -34.65955932603991, -58.480841561331445 -34.65917799699582, -58.48053350238358 -34.658979656989814, -58.479911093434254 -34.659460041359054, -58.4797859980838 -34.65955808972642, -58.48044169783086 -34.660115757343185, -58.480572294669194 -34.660230318427736, -58.47932472616582 -34.66120214059419, -58.480110095584706 -34.66187078091412)), ((-58.47854064707365 -34.660534621762714, -58.47932472616582 -34.66120214059419, -58.480572294669194 -34.660230318427736, -58.48044169783086 -34.660115757343185, -58.4797859980838 -34.65955808972642, -58.479911093434254 -34.659460041359054, -58.48053350238358 -34.658979656989814, -58.48030011550499 -34.658829334667914, -58.48016918722721 -34.65874505603633, -58.479822433419656 -34.65852052142301, -58.4796327753498 -34.65839779803559, -58.47946255389666 -34.65828753759119, -58.479356515531045 -34.658214732596015, -58.478817805260995 -34.65784437298255, -58.47839803962365 -34.65817816875362, -58.478277375473 -34.65827494760899, -58.47790115023788 -34.65857683437856, -58.477700126330184 -34.65873813096264, -58.477043020240195 -34.65925104037707, -58.47721657193743 -34.65940384057865, -58.47775683659492 -34.65986526697177, -58.47854064707365 -34.660534621762714)), ((-58.47728940476315 -34.66259208482996, -58.47741377761758 -34.66269693255966, -58.47756734459012 -34.662578248528476, -58.47801321506307 -34.66223135296919, -58.47815484923966 -34.6621169659123, -58.47828054646732 -34.662015468500115, -58.47932472616582 -34.66120214059419, -58.47854064707365 -34.660534621762714, -58.47775683659492 -34.65986526697177, -58.47721657193743 -34.65940384057865, -58.477043020240195 -34.65925104037707, -58.4758698216852 -34.6601666899972, -58.47570790570803 -34.66029311973712, -58.475131990253715 -34.660744881212445, -58.475846571876744 -34.66135665334542, -58.47662969940675 -34.66202728864596, -58.47728940476315 -34.66259208482996)), ((-58.47819914576008 -34.663365373188796, -58.478342020800504 -34.66349394959976, -58.47897651643933 -34.66403923276498, -58.47972287255221 -34.66345298925483, -58.48050758563548 -34.664121626855014, -58.48167916932104 -34.663208327656676, -58.481094021360825 -34.662708404793385, -58.480894966939154 -34.662538923090736, -58.480110095584706 -34.66187078091412, -58.47932472616582 -34.66120214059419, -58.47828054646732 -34.662015468500115, -58.47815484923966 -34.6621169659123, -58.47801321506307 -34.66223135296919, -58.47756734459012 -34.662578248528476, -58.47741377761758 -34.66269693255966, -58.47808423325769 -34.66326200522979, -58.47819914576008 -34.663365373188796)), ((-58.47556830648716 -34.667510433460805, -58.475439697694064 -34.66759777311663, -58.47564076460575 -34.66758938846115, -58.47583769187765 -34.66773864981361, -58.47689731015679 -34.66693055295851, -58.47776770755234 -34.666246417141146, -58.47789818479099 -34.66614548299485, -58.478410206355115 -34.665749351648856, -58.478930830877296 -34.665346526557585, -58.479634249501515 -34.664802402504904, -58.47975492208164 -34.664708298758576, -58.48050758563548 -34.664121626855014, -58.47972287255221 -34.66345298925483, -58.47897651643933 -34.66403923276498, -58.478873314716644 -34.66412023473059, -58.47815183029295 -34.664677948530986, -58.47775026268735 -34.66498835896372, -58.47762899062983 -34.665082320172, -58.47710861788051 -34.66548535062738, -58.47662301057469 -34.66586147254989, -58.47687670822051 -34.66607835025501, -58.47713194145913 -34.66629064977392, -58.477005296052305 -34.66638024444442, -58.476923649579106 -34.666438002395765, -58.47682325612556 -34.666522452946396, -58.47661036422652 -34.66668804422066, -58.476388948284544 -34.6668596936946, -58.47563478339792 -34.66745507314021, -58.47556830648716 -34.667510433460805)), ((-58.4763615588441 -34.665648187382594, -58.47662301057469 -34.66586147254989, -58.47710861788051 -34.66548535062738, -58.47762899062983 -34.665082320172, -58.47775026268735 -34.66498835896372, -58.47815183029295 -34.664677948530986, -58.478873314716644 -34.66412023473059, -58.47897651643933 -34.66403923276498, -58.478342020800504 -34.66349394959976, -58.47819914576008 -34.663365373188796, -58.47808423325769 -34.66326200522979, -58.47741377761758 -34.66269693255966, -58.476585342272955 -34.663337397917665, -58.47552244454062 -34.66415908466529, -58.475045872283864 -34.66452745343496, -58.47539699726099 -34.66482665031021, -58.47560295082071 -34.665002549375004, -58.47583609783845 -34.665201613753766, -58.47589525905003 -34.66525210195515, -58.4763615588441 -34.665648187382594)), ((-58.475315463891 -34.662252014486185, -58.47424234385167 -34.66310460858805, -58.47383736656345 -34.662828582737376, -58.473211435211034 -34.662273482424126, -58.472973660158985 -34.66245076117862, -58.47252716908624 -34.66278362378614, -58.47330070459861 -34.6645345190262, -58.47330513857318 -34.6645443785001, -58.47376561715787 -34.66423700526056, -58.47426401146032 -34.663856315935824, -58.47447379669248 -34.66403608912386, -58.47497196554146 -34.664472460043484, -58.475045872283864 -34.66452745343496, -58.47552244454062 -34.66415908466529, -58.476585342272955 -34.663337397917665, -58.47741377761758 -34.66269693255966, -58.47728940476315 -34.66259208482996, -58.47662969940675 -34.66202728864596, -58.475846571876744 -34.66135665334542, -58.475131990253715 -34.660744881212445, -58.47444221297474 -34.66128602073955, -58.47431932666427 -34.66140195037483, -58.47496946389988 -34.66195612679122, -58.47502009749873 -34.661999292167096, -58.475315463891 -34.662252014486185)), ((-58.47431932666427 -34.66140195037483, -58.47421603977139 -34.66149942752201, -58.474011166706674 -34.66165895871635, -58.4736287735046 -34.661956747420724, -58.473211435211034 -34.662273482424126, -58.47383736656345 -34.662828582737376, -58.47424234385167 -34.66310460858805, -58.475315463891 -34.662252014486185, -58.47502009749873 -34.661999292167096, -58.47496946389988 -34.66195612679122, -58.47431932666427 -34.66140195037483)), ((-58.47332133796254 -34.66458071560293, -58.47367345884396 -34.66537070537964, -58.47420251206977 -34.665368966429064, -58.47452495648798 -34.66537231594941, -58.47454519867024 -34.66507075628203, -58.474745926931085 -34.665070736614645, -58.47472969249804 -34.66538567586816, -58.475112909638156 -34.66539063769434, -58.47510584554943 -34.66546507682607, -58.4753055517895 -34.665467662379704, -58.475306219781736 -34.66537596959698, -58.47539870011498 -34.66537595999948, -58.4754088712726 -34.66500242823575, -58.47560295082071 -34.665002549375004, -58.47539699726099 -34.66482665031021, -58.475045872283864 -34.66452745343496, -58.47497196554146 -34.664472460043484, -58.47447379669248 -34.66403608912386, -58.47426401146032 -34.663856315935824, -58.47376561715787 -34.66423700526056, -58.47330513857318 -34.6645443785001, -58.47332133796254 -34.66458071560293)), ((-58.4754088712726 -34.66500242823575, -58.47539870011498 -34.66537595999948, -58.475306219781736 -34.66537596959698, -58.4753055517895 -34.665467662379704, -58.47510584554943 -34.66546507682607, -58.475112909638156 -34.66539063769434, -58.47472969249804 -34.66538567586816, -58.474745926931085 -34.665070736614645, -58.47454519867024 -34.66507075628203, -58.47452495648798 -34.66537231594941, -58.47420251206977 -34.665368966429064, -58.47367345884396 -34.66537070537964, -58.474045708720894 -34.6662056222108, -58.47405619556348 -34.66622942443229, -58.47454348999987 -34.66623501201451, -58.475576040235126 -34.66625835897495, -58.47573630066639 -34.66636700589302, -58.47661852312728 -34.6663762111382, -58.47661845213034 -34.6665127293224, -58.47661036422652 -34.66668804422066, -58.47682325612556 -34.666522452946396, -58.476923649579106 -34.666438002395765, -58.477005296052305 -34.66638024444442, -58.47713194145913 -34.66629064977392, -58.47687670822051 -34.66607835025501, -58.47662301057469 -34.66586147254989, -58.4763615588441 -34.665648187382594, -58.47589525905003 -34.66525210195515, -58.47583609783845 -34.665201613753766, -58.47560295082071 -34.665002549375004, -58.4754088712726 -34.66500242823575)), ((-58.47405619556348 -34.66622942443229, -58.475010646357795 -34.66840086524704, -58.47558465601099 -34.66795671048275, -58.47583769187765 -34.66773864981361, -58.47564076460575 -34.66758938846115, -58.475439697694064 -34.66759777311663, -58.47556830648716 -34.667510433460805, -58.47563478339792 -34.66745507314021, -58.476388948284544 -34.6668596936946, -58.47661036422652 -34.66668804422066, -58.47661845213034 -34.6665127293224, -58.47661852312728 -34.6663762111382, -58.47573630066639 -34.66636700589302, -58.475576040235126 -34.66625835897495, -58.47454348999987 -34.66623501201451, -58.47405619556348 -34.66622942443229)), ((-58.47150251016307 -34.66443134993361, -58.471974409607554 -34.66482702902067, -58.472037733208424 -34.664776318658326, -58.4725111714878 -34.66517523617362, -58.47285275815105 -34.664894778247785, -58.47330513857318 -34.6645443785001, -58.47330070459861 -34.6645345190262, -58.47252716908624 -34.66278362378614, -58.47202664172702 -34.66315670086063, -58.47100231584144 -34.66401200834085, -58.47150251016307 -34.66443134993361)), ((-58.47100231584144 -34.66401200834085, -58.47093958880226 -34.66406109825864, -58.47058427634449 -34.66433894571225, -58.470162141311604 -34.66466679773827, -58.47067111712995 -34.66510072011068, -58.470862228912075 -34.66526303545983, -58.47114591488889 -34.66550379751571, -58.47161568830882 -34.665902647501504, -58.472030405877405 -34.66556303010011, -58.472401045979716 -34.66588167072369, -58.47259734388514 -34.66588566992177, -58.472980863938616 -34.6655695737692, -58.4725111714878 -34.66517523617362, -58.472037733208424 -34.664776318658326, -58.471974409607554 -34.66482702902067, -58.47150251016307 -34.66443134993361, -58.47100231584144 -34.66401200834085)), ((-58.472980863938616 -34.6655695737692, -58.47259734388514 -34.66588566992177, -58.472401045979716 -34.66588167072369, -58.472030405877405 -34.66556303010011, -58.47161568830882 -34.665902647501504, -58.472431729109296 -34.66659541896523, -58.47322144205813 -34.66726586321673, -58.474012957239154 -34.66793778135905, -58.47440935904456 -34.66827423104509, -58.475260309106496 -34.66896888286417, -58.475010646357795 -34.66840086524704, -58.47405619556348 -34.66622942443229, -58.474045708720894 -34.6662056222108, -58.47367345884396 -34.66537070537964, -58.47332133796254 -34.66458071560293, -58.47330513857318 -34.6645443785001, -58.47285275815105 -34.664894778247785, -58.4725111714878 -34.66517523617362, -58.472980863938616 -34.6655695737692)), ((-58.47461071062908 -34.67257516319168, -58.476073405428686 -34.67270924081098, -58.476364665156446 -34.67262617775189, -58.47631457732976 -34.67284154139937, -58.47633740596317 -34.67299788023504, -58.476378003864454 -34.67305748998338, -58.47643964816973 -34.673096950378124, -58.47655841529716 -34.67310320998841, -58.47668986648959 -34.67314136514226, -58.476697879535266 -34.673147491244734, -58.47677759214945 -34.673208680174014, -58.47677801929786 -34.67321177924233, -58.477103112361 -34.6730734979024, -58.477101065728476 -34.67306885036907, -58.476773693559736 -34.672331054258656, -58.47667264359016 -34.67210331315147, -58.47540296272843 -34.669293312023036, -58.475260309106496 -34.66896888286417, -58.47440935904456 -34.66827423104509, -58.47461135653398 -34.66874858957828, -58.47350873674898 -34.66959906624768, -58.47232793794745 -34.67050975099777, -58.473073706158395 -34.67121062252008, -58.473811559144536 -34.67190402537348, -58.47461071062908 -34.67257516319168)), ((-58.471589171273706 -34.669815424118056, -58.47232793794745 -34.67050975099777, -58.47350873674898 -34.66959906624768, -58.47461135653398 -34.66874858957828, -58.47440935904456 -34.66827423104509, -58.474012957239154 -34.66793778135905, -58.47322144205813 -34.66726586321673, -58.472431729109296 -34.66659541896523, -58.47127184146135 -34.66749644424343, -58.470094883342824 -34.66841055898845, -58.47023639116393 -34.66854407480181, -58.47084223434436 -34.669113415739574, -58.471589171273706 -34.669815424118056)), ((-58.469352404403466 -34.66770713301226, -58.470094883342824 -34.66841055898845, -58.47127184146135 -34.66749644424343, -58.472431729109296 -34.66659541896523, -58.47161568830882 -34.665902647501504, -58.47114591488889 -34.66550379751571, -58.470862228912075 -34.66526303545983, -58.47067111712995 -34.66510072011068, -58.470162141311604 -34.66466679773827, -58.46913078507885 -34.66547553888992, -58.46794053395054 -34.666378436259734, -58.468609425542276 -34.6670080689897, -58.469352404403466 -34.66770713301226)), ((-58.46422259940253 -34.66957221082, -58.46415313057236 -34.66964650940684, -58.464175375857046 -34.66956199999117, -58.46415278554956 -34.669444884552874, -58.46409797523429 -34.669327699170275, -58.46400779126228 -34.669239880963644, -58.46390149751051 -34.669191993537005, -58.46368865568177 -34.6691479803769, -58.46366768660891 -34.669143614914866, -58.46363427319464 -34.66916150227052, -58.46341435747319 -34.669279323490116, -58.46337207913567 -34.66930200102927, -58.463081245475855 -34.669559895368444, -58.46304459246444 -34.66959243172525, -58.46295321630334 -34.66970426617239, -58.46282893778374 -34.66985638283005, -58.462705084326124 -34.670004907155274, -58.462513379793776 -34.67026885768067, -58.46237759204948 -34.67042731180589, -58.46215392052227 -34.67064506333253, -58.46184577474312 -34.67081753050541, -58.46197610685303 -34.67087753238145, -58.46210149440718 -34.67093302784124, -58.461963363607964 -34.67106031000269, -58.46284767077501 -34.671354438152605, -58.4635139196687 -34.6714924463601, -58.46347204732092 -34.671644709082464, -58.463651012578595 -34.671677526202046, -58.46442457544598 -34.67181937855091, -58.46578478440525 -34.672093161255496, -58.46579603803225 -34.672094990874214, -58.46631133003524 -34.67217786503964, -58.46680531118854 -34.67227158465881, -58.466851598183375 -34.67228045587188, -58.46784663996695 -34.67247021141302, -58.46784791875411 -34.67247049350678, -58.4689867647465 -34.672731614250466, -58.46928345700226 -34.672874376156486, -58.469347951061934 -34.672818383910716, -58.46968839105692 -34.67255807952937, -58.46912688617335 -34.67238852881395, -58.46843734666898 -34.67215665669327, -58.46925937779992 -34.67162005220462, -58.47044576675086 -34.670701086693214, -58.471589171273706 -34.669815424118056, -58.47084223434436 -34.669113415739574, -58.47023639116393 -34.66854407480181, -58.470094883342824 -34.66841055898845, -58.469352404403466 -34.66770713301226, -58.468609425542276 -34.6670080689897, -58.46794053395054 -34.666378436259734, -58.4677520014438 -34.666525701147215, -58.465909847976086 -34.667964039517926, -58.46529146404557 -34.6684468832768, -58.46500950323497 -34.668673162566165, -58.46482172689578 -34.6688452825177, -58.46479572995397 -34.6688717625038, -58.46465440811889 -34.66901585319042, -58.464456232905064 -34.66925910194943, -58.464352585244434 -34.669404176992515, -58.46430357401535 -34.66947572872803, -58.46422259940253 -34.66957221082)), ((-58.474208873719554 -34.67254013073641, -58.47461071062908 -34.67257516319168, -58.473811559144536 -34.67190402537348, -58.473073706158395 -34.67121062252008, -58.47232793794745 -34.67050975099777, -58.471589171273706 -34.669815424118056, -58.47044576675086 -34.670701086693214, -58.46925937779992 -34.67162005220462, -58.46843734666898 -34.67215665669327, -58.46856103399266 -34.6721658057379, -58.469415417781455 -34.67222879149254, -58.46994178983897 -34.67226017080535, -58.4715851810688 -34.67235809267204, -58.47182028061301 -34.67237216016171, -58.472259281355875 -34.67240304288987, -58.473096110785534 -34.672461918937756, -58.474208873719554 -34.67254013073641)), ((-58.46968839105692 -34.67255807952937, -58.469347951061934 -34.672818383910716, -58.46928345700226 -34.672874376156486, -58.4704121634025 -34.67326361703363, -58.47130162838742 -34.673645115855265, -58.47152506240366 -34.67374496123586, -58.47252161053005 -34.67418179745259, -58.474128215326594 -34.67488491358828, -58.474404121631174 -34.674671008685415, -58.47454885160067 -34.67455887932646, -58.47512495168638 -34.67411233276892, -58.47569277702002 -34.67367219260702, -58.47636783175603 -34.673152263909756, -58.47643964816973 -34.673096950378124, -58.476378003864454 -34.67305748998338, -58.47633740596317 -34.67299788023504, -58.47631457732976 -34.67284154139937, -58.476364665156446 -34.67262617775189, -58.476073405428686 -34.67270924081098, -58.47461071062908 -34.67257516319168, -58.474208873719554 -34.67254013073641, -58.473096110785534 -34.672461918937756, -58.472259281355875 -34.67240304288987, -58.47182028061301 -34.67237216016171, -58.4715851810688 -34.67235809267204, -58.46994178983897 -34.67226017080535, -58.469415417781455 -34.67222879149254, -58.46856103399266 -34.6721658057379, -58.46843734666898 -34.67215665669327, -58.46912688617335 -34.67238852881395, -58.46968839105692 -34.67255807952937)), ((-58.47103192075891 -34.67537595085958, -58.47215667947681 -34.6764128657323, -58.472693339976935 -34.675996968049084, -58.47329545711781 -34.67553028565131, -58.47342569901061 -34.67542935646384, -58.474128215326594 -34.67488491358828, -58.47252161053005 -34.67418179745259, -58.47152506240366 -34.67374496123586, -58.47130162838742 -34.673645115855265, -58.4704121634025 -34.67326361703363, -58.46928345700226 -34.672874376156486, -58.470003111963756 -34.673605622363596, -58.470774290296674 -34.67428988550038, -58.471537979077574 -34.67496759533417, -58.47142716956768 -34.675055774901224, -58.47103192075891 -34.67537595085958)), ((-58.470902523311835 -34.67627922043234, -58.47155284421467 -34.67688080907238, -58.47215667947681 -34.6764128657323, -58.47103192075891 -34.67537595085958, -58.47142716956768 -34.675055774901224, -58.471537979077574 -34.67496759533417, -58.470774290296674 -34.67428988550038, -58.470003111963756 -34.673605622363596, -58.46991165240692 -34.67368013643279, -58.469531236349354 -34.67399248951608, -58.46905492453407 -34.674383792789925, -58.46894701123896 -34.67447246214093, -58.469698924632034 -34.67516624125363, -58.469827398566046 -34.6752847574427, -58.47044232484754 -34.67585353671079, -58.470902523311835 -34.67627922043234)), ((-58.46833601921125 -34.67755967862179, -58.46943723855853 -34.678520419655136, -58.47041019332745 -34.677766400828745, -58.47155284421467 -34.67688080907238, -58.470902523311835 -34.67627922043234, -58.470442323756494 -34.67585353761229, -58.469827396383934 -34.67528475924569, -58.4696989224499 -34.6751662430566, -58.46956697154616 -34.67527378756435, -58.46888275127164 -34.67582002678774, -58.46858252675283 -34.67605970753773, -58.46933079065714 -34.676753907179176, -58.468758054509394 -34.67721781908483, -58.46833601921125 -34.67755967862179)), ((-58.468061256436556 -34.67557346778647, -58.46858252675283 -34.67605970753773, -58.46888275127164 -34.67582002678774, -58.46956697154616 -34.67527378756435, -58.4696989224499 -34.6751662430566, -58.469341919077486 -34.674836846212095, -58.46894700687473 -34.674472465746895, -58.4690549212609 -34.6743837954944, -58.46953123307622 -34.67399249222054, -58.46985380768655 -34.67372763169681, -58.46991165022486 -34.67368013823577, -58.47000310978169 -34.673605624166605, -58.4692834548202 -34.67287437795948, -58.46908193392225 -34.673042275584315, -58.46818956826513 -34.67377360981719, -58.46770822245009 -34.67416561118559, -58.467324043456536 -34.67447690193653, -58.467061161843525 -34.67469043879989, -58.467379652487594 -34.67499634984364, -58.46784766632629 -34.67537422940263, -58.468061256436556 -34.67557346778647)), ((-58.467247312194054 -34.673749117887375, -58.46770821643244 -34.67416561547154, -58.467817165759605 -34.67407688904585, -58.46818956297728 -34.67377361457299, -58.46908192863334 -34.67304228034095, -58.46928344953104 -34.67287438181492, -58.468986757275474 -34.67273161990884, -58.46784791128375 -34.67247049916498, -58.467846631978794 -34.67247021713144, -58.46685159074187 -34.67228046142082, -58.46680530640473 -34.67227158811333, -58.46667293046665 -34.67238568008221, -58.46727451300646 -34.672938420158594, -58.46694289284311 -34.673225098694225, -58.46681626488941 -34.67333027853629, -58.46702034527525 -34.673539292439486, -58.46714233452699 -34.67365034697557, -58.467247312194054 -34.673749117887375)), ((-58.46434793519922 -34.67270389503883, -58.46449542569422 -34.67278130690181, -58.46471859329111 -34.672900813255325, -58.46478269685927 -34.67294419351613, -58.464858308526246 -34.67299236283957, -58.464926162281415 -34.67303222106945, -58.46501626445702 -34.67309567197836, -58.465116085804816 -34.67313954536279, -58.46527949929534 -34.67325306545288, -58.46538460699095 -34.673317923802976, -58.46551017173851 -34.67337158492558, -58.46561587589639 -34.673447428792784, -58.465722944426254 -34.67353116095083, -58.46580375699071 -34.67359693538983, -58.46585140961193 -34.673634892496736, -58.465934609278996 -34.67368876520177, -58.46602693029588 -34.673757496778094, -58.46612069535405 -34.6736752386677, -58.46625904013958 -34.673547132443964, -58.466345045832455 -34.67346508712182, -58.46653020106034 -34.673650721105794, -58.46655384580931 -34.67368004298735, -58.46660300454914 -34.67374100064808, -58.46671587411396 -34.673877620461674, -58.46683308897858 -34.67397205488695, -58.46685613756936 -34.673982934772326, -58.466924555833906 -34.674015223464735, -58.46684280546212 -34.67410053027418, -58.46683790133517 -34.67411230864369, -58.46683426688819 -34.67413427072352, -58.466940905585254 -34.674174344430504, -58.467087167315086 -34.67427765087624, -58.4671197786417 -34.67429811110183, -58.467152089597754 -34.67436247767738, -58.467239894494924 -34.67442501115958, -58.46726580573181 -34.674428322508525, -58.46732403518342 -34.67447690939789, -58.46770821643244 -34.67416561547154, -58.46724731325705 -34.67374911709475, -58.46714233561811 -34.67365034607399, -58.4670203463662 -34.673539291538134, -58.466899985855356 -34.673416029652, -58.4668162616163 -34.67333028124067, -58.46667492230308 -34.673193767005216, -58.46645071236494 -34.67297720816014, -58.46621919398829 -34.67275359631433, -58.46609721026767 -34.672715641439666, -58.46567457822237 -34.67272706098856, -58.46553055801782 -34.67276037137131, -58.465444685496124 -34.67278023274908, -58.465364641839464 -34.67273896613766, -58.465139337514934 -34.67260264608181, -58.46502750391051 -34.672493190083074, -58.464758581280975 -34.67231826095716, -58.464439145682555 -34.67190586454677, -58.464424567978256 -34.67181938420805, -58.46397041166021 -34.67251926586405, -58.46410108841976 -34.67258095563012, -58.46429416507796 -34.672675673769184, -58.46434793519922 -34.67270389503883)), ((-58.46259060518237 -34.67251577239754, -58.463147685009396 -34.67325532505555, -58.46327058117269 -34.67341844640611, -58.46373915517771 -34.6728026536719, -58.463970410583315 -34.67251926626035, -58.46389061686404 -34.67248152471364, -58.463851064028475 -34.67244976375356, -58.46367094637426 -34.67237398881971, -58.463507195522645 -34.67229835435999, -58.46343849015027 -34.67226638218179, -58.46332972202698 -34.672216521623504, -58.46327155543139 -34.67218747303934, -58.46316941782889 -34.67213687186837, -58.462744524374905 -34.67188331365491, -58.46274298240338 -34.67188202728773, -58.46306631618291 -34.67156475010036, -58.46292729604528 -34.67153256020778, -58.462675749099716 -34.671480023912856, -58.46259762730471 -34.67145035761125, -58.462471170416066 -34.671402345731465, -58.46237714957648 -34.67137037290038, -58.462331262065426 -34.67135492261653, -58.46219949471026 -34.671541947249985, -58.46199725294979 -34.67172556277309, -58.462200700704884 -34.67199122968511, -58.46233112094782 -34.67217130503634, -58.46259060518237 -34.67251577239754)), ((-58.4632705854227 -34.67341844323671, -58.46377438076092 -34.67410655477142, -58.4639424807391 -34.67400380454744, -58.464344398214166 -34.67366991812163, -58.46443391193747 -34.673600471590824, -58.464503025248106 -34.67354494878989, -58.46468781894052 -34.67337705451467, -58.46472628745219 -34.67334273823033, -58.465016270833736 -34.673095668124844, -58.464926167566944 -34.67303221721592, -58.464858313811874 -34.67299235898615, -58.46478270214469 -34.672944189662644, -58.46471859857647 -34.6729008094017, -58.46449543097938 -34.67278130304817, -58.46429417145414 -34.67267566901403, -58.46410109479573 -34.672580950875115, -58.46397041803609 -34.67251926110911, -58.46373915942803 -34.672802650502156, -58.4632705854227 -34.67341844323671)), ((-58.46416442587621 -34.67470313164349, -58.46434663970015 -34.67495480951597, -58.46471169231913 -34.67476944295887, -58.464950251001206 -34.67462422650222, -58.46506814104839 -34.67455246231388, -58.46515619816179 -34.674509783260646, -58.4652220903482 -34.67447731600533, -58.46534995455391 -34.67439076247202, -58.46548676785648 -34.67430301059833, -58.46558317444105 -34.67415370897407, -58.46571342331147 -34.67404659067003, -58.465870437749686 -34.67393017508134, -58.4658900429434 -34.67390059683956, -58.466026937764234 -34.67375749112162, -58.46593461674713 -34.673688759545286, -58.465851417079925 -34.67363488684023, -58.465803764458734 -34.67359692973336, -58.46572295189422 -34.67353115529429, -58.46561588336431 -34.673447423136416, -58.465510179206504 -34.673371579269, -58.465436614293075 -34.673340141755915, -58.465384613367775 -34.67331791904794, -58.46527950567224 -34.67325306069775, -58.46511609218148 -34.67313954060759, -58.465016270833736 -34.673095668124844, -58.46472628963438 -34.67334273732885, -58.464687822213804 -34.673377051810334, -58.46450302852138 -34.67354494608557, -58.464433913028564 -34.67360047068937, -58.464344398214166 -34.67366991812163, -58.4639424807391 -34.67400380454744, -58.46377438076092 -34.67410655477142, -58.46394724137024 -34.67437255707373, -58.46414136648011 -34.67467128258775, -58.46416442587621 -34.67470313164349)), ((-58.46732403837234 -34.67447690702024, -58.46726580892074 -34.674428320131014, -58.467239897683854 -34.674425008782094, -58.46715209278666 -34.6743624752999, -58.46711978183062 -34.67429810872435, -58.467087170504016 -34.67427764849867, -58.46694090877416 -34.67417434205296, -58.46683427007712 -34.67413426834602, -58.46683790452407 -34.67411230626604, -58.46684280865104 -34.6741005278966, -58.466924559022814 -34.67401522108718, -58.466856141024024 -34.67398293219656, -58.46683308564914 -34.67397205780911, -58.46671587078451 -34.67387762248242, -58.46660300121971 -34.67374100357022, -58.46655384357092 -34.673680045008105, -58.466530201004154 -34.67365072132363, -58.466345043594075 -34.673465088241024, -58.46625903681016 -34.67354713536606, -58.46612069202429 -34.673675240688375, -58.46602692805728 -34.673757498798885, -58.46589003214557 -34.673900604516795, -58.46587042695183 -34.67393018366002, -58.46571341251363 -34.67404659834712, -58.46558316364331 -34.67415371665123, -58.46548676033218 -34.67430301557099, -58.46534995139409 -34.6743907647399, -58.46522208718847 -34.674477319174684, -58.46515619500203 -34.67450978552863, -58.46506813788879 -34.674552464581836, -58.464950247841664 -34.674624228770014, -58.46471168806879 -34.674769446128224, -58.464346637632154 -34.674954809980726, -58.46460919983432 -34.67531735051959, -58.46484737316666 -34.675224245055325, -58.464961770133634 -34.6751851578795, -58.46506883668249 -34.67514388747507, -58.46524665560666 -34.67506754357732, -58.46526830617323 -34.67500578163907, -58.46541986803022 -34.67490915585931, -58.46543546677424 -34.67487338045256, -58.46550732453465 -34.674781545623084, -58.46568053797066 -34.67468189111165, -58.465791776287624 -34.674589846010505, -58.46615723185765 -34.67507976708179, -58.4662566048315 -34.67526001598718, -58.46655552930358 -34.67502126313818, -58.466861540402455 -34.67483327604835, -58.467061152136296 -34.6746904455757, -58.46732403837234 -34.67447690702024)), ((-58.46520397530028 -34.67613871859946, -58.46564869364196 -34.6758176963389, -58.46636052435035 -34.67656338410914, -58.46676935378863 -34.676236476134285, -58.46601864698655 -34.675495776733406, -58.46625660911102 -34.67526001361016, -58.466157236136816 -34.6750797638033, -58.465791777293745 -34.674589845436195, -58.465680536794444 -34.674681892340246, -58.46550732335845 -34.67478154685187, -58.46543546450671 -34.674873381681465, -58.465419865762804 -34.674909157088194, -58.46526830390563 -34.67500578286782, -58.46524665333924 -34.675067545707634, -58.465068835505996 -34.67514388870381, -58.46496176895713 -34.67518515910843, -58.46484737089895 -34.67522424718596, -58.464609198657605 -34.675317351748724, -58.46520397530028 -34.67613871859946)), ((-58.46676935398692 -34.67623647649717, -58.467592107132084 -34.67689765581727, -58.46833601495946 -34.677559681790875, -58.46875805025746 -34.677217822254136, -58.46933078858683 -34.676753908545805, -58.468582530138285 -34.67605970529849, -58.46784766752978 -34.67537422896654, -58.467558784639486 -34.67560523227203, -58.46742605875518 -34.67571137186044, -58.46722949354813 -34.67586856347481, -58.46676935398692 -34.67623647649717)), ((-58.46583782549197 -34.67954756670038, -58.46588428806801 -34.67959327157381, -58.465885820573966 -34.67954855161922, -58.465885818030564 -34.67948214150888, -58.46590414415264 -34.67941368917963, -58.46591752726934 -34.67937650486159, -58.46595887072278 -34.67933122045373, -58.465992969428164 -34.67930607866911, -58.46605630880446 -34.67928290749958, -58.466128174148736 -34.67927283472942, -58.466222803143836 -34.67927135008131, -58.46651511544083 -34.67903457361258, -58.46670308136093 -34.6788823098267, -58.466998114399985 -34.67864335063578, -58.467337815476554 -34.67836826153386, -58.46748238870931 -34.67825114040749, -58.467924460641704 -34.677893017610195, -58.468010351043326 -34.677823450569264, -58.468336017057254 -34.6775596803155, -58.467592107397834 -34.67689765561923, -58.4667693529241 -34.67623647728947, -58.46636052351428 -34.67656338526215, -58.46582289603615 -34.67699328194575, -58.46567707761899 -34.677109879230734, -58.465449099678096 -34.67729217081605, -58.46516770827765 -34.677517179333265, -58.46504435989483 -34.67760964704362, -58.46497573788688 -34.67766584707897, -58.464738068684674 -34.67786064663885, -58.464561630338835 -34.67799179756459, -58.46462545800728 -34.678065022409506, -58.465055123493904 -34.67862305569086, -58.465111815787424 -34.67869756404687, -58.46545998672999 -34.679152848888585, -58.46583782549197 -34.67954756670038)), ((-58.46588429567743 -34.67959326537319, -58.466294532538235 -34.67998009428434, -58.46666785848007 -34.68031290754911, -58.46672369790982 -34.680320651700875, -58.46678072882973 -34.68030381921789, -58.46688106637704 -34.6802668427919, -58.46693127744774 -34.680233178082005, -58.46697603189685 -34.68018838720031, -58.46701404891459 -34.680116623069786, -58.46700312781791 -34.679940915039516, -58.467179599578266 -34.68001971344127, -58.467384199780334 -34.680025128749655, -58.467565779534226 -34.67998420485577, -58.46769117870778 -34.679924269154405, -58.46808339156079 -34.67959030081038, -58.468225665161505 -34.679466066649056, -58.46842812171576 -34.67930802499906, -58.468459491734684 -34.679283516357586, -58.46902551176499 -34.67884185814833, -58.46904486166717 -34.67882671673196, -58.4694372374674 -34.678520420556616, -58.46833601812014 -34.67755967952326, -58.468010354288495 -34.677823448875465, -58.4679244649779 -34.677893015014945, -58.4674823908632 -34.67825113961534, -58.467337816539334 -34.67836826074176, -58.46699811655381 -34.67864334984362, -58.46670308351481 -34.678882309034684, -58.46651511650336 -34.67903457282057, -58.46622280747988 -34.67927134748641, -58.46612818175819 -34.67927282943016, -58.46605631641391 -34.67928290129887, -58.46599297703765 -34.679306073369844, -58.46595887833227 -34.67933121515442, -58.46591753487879 -34.679376499562316, -58.465904151762075 -34.679413683880384, -58.46588582563998 -34.6794821362096, -58.46588582818335 -34.67954854631997, -58.46588429567743 -34.67959326537319)), ((-58.482444592838426 -34.68813380208508, -58.48334290981326 -34.688963882944385, -58.48560760298659 -34.687253299657804, -58.485228006792546 -34.6868289247777, -58.48522903021157 -34.686828150261576, -58.48411565498645 -34.68548522259093, -58.48299875348816 -34.68421672321665, -58.48234972391285 -34.68354019459373, -58.482316296312 -34.68350541023345, -58.48190076453759 -34.683851329395836, -58.480842344983174 -34.68466629837006, -58.480678852837926 -34.68478970564374, -58.47962125855639 -34.685589452164514, -58.480385722727995 -34.68627942950938, -58.48114781135682 -34.68696721907948, -58.48190914527806 -34.68765444053105, -58.482444592838426 -34.68813380208508)), ((-58.48017386911714 -34.68144963254544, -58.4804379726103 -34.681824673647256, -58.48003824178304 -34.68148711801248, -58.478559938894946 -34.682605865691734, -58.47838349086809 -34.68273920175474, -58.47733945442681 -34.68352984240038, -58.47810055512274 -34.68421680682138, -58.47886371488032 -34.68490566634913, -58.47962125855639 -34.685589452164514, -58.480678852837926 -34.68478970564374, -58.480842344983174 -34.68466629837006, -58.48190076453759 -34.683851329395836, -58.482316296312 -34.68350541023345, -58.48187039807432 -34.68304061160329, -58.48182801473191 -34.68298533542938, -58.48093874178267 -34.68182621961343, -58.480878610877035 -34.68169573231071, -58.48070137382224 -34.681308496543, -58.48036084805992 -34.68115572616662, -58.48003429757049 -34.68097133161276, -58.48017386911714 -34.68144963254544)), ((-58.47781420644639 -34.68057640717533, -58.47700307026173 -34.68120032202976, -58.476836084912115 -34.68132872485663, -58.47667361780548 -34.681457267557136, -58.47650952994559 -34.681587078532885, -58.475797255138836 -34.682137732911436, -58.47657819604743 -34.682842732542774, -58.47733945442681 -34.68352984240038, -58.47838349086809 -34.68273920175474, -58.478559938894946 -34.682605865691734, -58.48003824178304 -34.68148711801248, -58.4804379726103 -34.681824673647256, -58.48017386911714 -34.68144963254544, -58.48003429757049 -34.68097133161276, -58.48036084805992 -34.68115572616662, -58.48070137382224 -34.681308496543, -58.48054298776125 -34.68096083588618, -58.48051782674718 -34.68090548640375, -58.48006228536787 -34.6798648943743, -58.47974543231273 -34.679135908035825, -58.47930986609643 -34.6794144251381, -58.47905364527294 -34.679612562422655, -58.47905654427384 -34.679616577000324, -58.47889519351619 -34.679749840628816, -58.47862541521131 -34.67994488059038, -58.47853335921778 -34.68001778216143, -58.47842544922688 -34.68010336070658, -58.47830534991944 -34.68019858961582, -58.47781420644639 -34.68057640717533)), ((-58.47589431627625 -34.67811854463618, -58.47541400004515 -34.678491351251246, -58.474280831230615 -34.67937106198359, -58.474936822605386 -34.679943053119175, -58.47559086292311 -34.680513280384645, -58.47617107465156 -34.68101914481349, -58.47667361780548 -34.681457267557136, -58.476836084912115 -34.68132872485663, -58.47700307026173 -34.68120032202976, -58.47781420644639 -34.68057640717533, -58.47830534991944 -34.68019858961582, -58.47842544922688 -34.68010336070658, -58.47853335921778 -34.68001778216143, -58.47862541521131 -34.67994488059038, -58.47889519351619 -34.679749840628816, -58.47854225741602 -34.679293045275266, -58.478493395861 -34.679216993503715, -58.47844487416802 -34.679143124929965, -58.47826256982615 -34.67891793158675, -58.478090835253234 -34.678684638185146, -58.4780385662811 -34.678618094031464, -58.47798578439564 -34.67855077559093, -58.477970431093595 -34.67850105736362, -58.47784960768944 -34.67835522383473, -58.47783835155575 -34.678339732362396, -58.47772383672826 -34.6781940385443, -58.4776769402098 -34.67813355027362, -58.47758399699798 -34.678010319096906, -58.4775276358924 -34.67793778882181, -58.47722351241252 -34.678171211884006, -58.476564534493576 -34.677596485670044, -58.4761347699797 -34.67793126078261, -58.47602183139283 -34.67801923288195, -58.47589431627625 -34.67811854463618)), ((-58.477103112361 -34.6730734979024, -58.47677801929786 -34.67321177924233, -58.47677759214945 -34.673208680174014, -58.476697879535266 -34.673147491244734, -58.47668986648959 -34.67314136514226, -58.47655841529716 -34.67310320998841, -58.47643964816973 -34.673096950378124, -58.476360233591514 -34.67315421996393, -58.47569277702002 -34.67367219260702, -58.47512495168638 -34.67411233276892, -58.47454885160067 -34.67455887932646, -58.475544052880544 -34.67549161806907, -58.47647336687204 -34.676340833114565, -58.47630076672871 -34.6764830386382, -58.47637170223041 -34.67654725758238, -58.476581019647654 -34.67677125367062, -58.47675179939471 -34.67695574507213, -58.476951741445134 -34.67717354425913, -58.47705866154962 -34.67729599905989, -58.477227650662066 -34.67746182859093, -58.47760980340403 -34.67787728475502, -58.4775276358924 -34.67793778882181, -58.47758399699798 -34.678010319096906, -58.4776769402098 -34.67813355027362, -58.47772383672826 -34.6781940385443, -58.47783835155575 -34.678339732362396, -58.47784960768944 -34.67835522383473, -58.477970431093595 -34.67850105736362, -58.47798578439564 -34.67855077559093, -58.4780385662811 -34.678618094031464, -58.478090835253234 -34.678684638185146, -58.47826256982615 -34.67891793158675, -58.47844487416802 -34.679143124929965, -58.478493395861 -34.679216993503715, -58.47854225741602 -34.679293045275266, -58.47889519351619 -34.679749840628816, -58.47905654427384 -34.679616577000324, -58.47905364527294 -34.679612562422655, -58.47930986609643 -34.6794144251381, -58.47974543231273 -34.679135908035825, -58.47973980349408 -34.67912295077385, -58.47909443128863 -34.677638215253594, -58.478426485101544 -34.676116577028054, -58.47840422700493 -34.67606580415161, -58.47834487041688 -34.67593052697859, -58.47826709283663 -34.67575180049748, -58.47751090900314 -34.67400720465463, -58.477103112361 -34.6730734979024)), ((-58.47155284421467 -34.67688080907238, -58.47242919038991 -34.67769139537128, -58.472550681483185 -34.67780490986851, -58.47347649775325 -34.67866985152607, -58.474280831230615 -34.67937106198359, -58.47541400004515 -34.678491351251246, -58.47589431627625 -34.67811854463618, -58.47602183139283 -34.67801923288195, -58.4761347699797 -34.67793126078261, -58.476564534493576 -34.677596485670044, -58.47722351241252 -34.678171211884006, -58.4775276358924 -34.67793778882181, -58.47760980340403 -34.67787728475502, -58.477227650662066 -34.67746182859093, -58.47705866154962 -34.67729599905989, -58.476951741445134 -34.67717354425913, -58.47675179939471 -34.67695574507213, -58.476581019647654 -34.67677125367062, -58.47637170223041 -34.67654725758238, -58.47630076672871 -34.6764830386382, -58.47647336687204 -34.676340833114565, -58.475544052880544 -34.67549161806907, -58.47454885160067 -34.67455887932646, -58.474404121631174 -34.674671008685415, -58.474128215326594 -34.67488491358828, -58.47342569901061 -34.67542935646384, -58.47329545711781 -34.67553028565131, -58.472693339976935 -34.675996968049084, -58.47215667947681 -34.6764128657323, -58.47155284421467 -34.67688080907238)), ((-58.472747371589726 -34.683650732915346, -58.47325818288236 -34.68409478404516, -58.4734463202082 -34.68395018654011, -58.474621161454095 -34.68304702947791, -58.474472631424796 -34.682913307917964, -58.474117254695365 -34.68260333489451, -58.473537385955225 -34.68209746079034, -58.47288462625597 -34.681527996875325, -58.47223051134286 -34.68095733241851, -58.47144365805859 -34.68027089711274, -58.470071650006425 -34.6813224906141, -58.47086063206804 -34.68200970974466, -58.47109032139267 -34.68220969872381, -58.471364602470416 -34.682448558228145, -58.47151432010948 -34.682578761617194, -58.47209937997117 -34.68308739156021, -58.472747371589726 -34.683650732915346)), ((-58.467565779534226 -34.67998420485577, -58.467384199780334 -34.680025128749655, -58.467179599578266 -34.68001971344127, -58.46700312781791 -34.679940915039516, -58.46708003399548 -34.680140635696155, -58.46746504922079 -34.68058253255648, -58.46818861349906 -34.68123209457144, -58.46911527243316 -34.682066153417935, -58.469964921984726 -34.68140425935231, -58.470071650006425 -34.6813224906141, -58.47144365805859 -34.68027089711274, -58.47234918827229 -34.67955581139874, -58.4722233474025 -34.67944067810617, -58.471410927615814 -34.67868874924384, -58.471303077962865 -34.67858896594483, -58.47051829838673 -34.67787808649116, -58.47041019332745 -34.677766400828745, -58.46943723855853 -34.678520419655136, -58.469044862758295 -34.67882671583047, -58.46902551285618 -34.678841858148274, -58.468459491734684 -34.679283516357586, -58.46842812171576 -34.67930802499906, -58.468225665161505 -34.679466066649056, -58.46808339156079 -34.67959030081038, -58.46769117870778 -34.679924269154405, -58.467565779534226 -34.67998420485577)), ((-58.4723049155355 -34.68474596575704, -58.472301887053945 -34.68482903444999, -58.47237639292235 -34.68477205556208, -58.47250920823828 -34.68467049359696, -58.47325818288236 -34.68409478404516, -58.472747371589726 -34.683650732915346, -58.47209937997117 -34.68308739156021, -58.47151432010948 -34.682578761617194, -58.471364602470416 -34.682448558228145, -58.47109032139267 -34.68220969872381, -58.47086063206804 -34.68200970974466, -58.470071650006425 -34.6813224906141, -58.469964921984726 -34.68140425935231, -58.46911527243316 -34.682066153417935, -58.47022831408752 -34.6829052633716, -58.47059509864042 -34.68318172554436, -58.47124103609063 -34.683758455842025, -58.472283703614224 -34.68468930812733, -58.4723049155355 -34.68474596575704)), ((-58.479122556427214 -34.6909862579642, -58.479841010185645 -34.69160863722519, -58.48334290981326 -34.688963882944385, -58.482444592838426 -34.68813380208508, -58.48190914527806 -34.68765444053105, -58.48114781135682 -34.68696721907948, -58.479962157641374 -34.687864666351935, -58.47877528352201 -34.68876301707263, -58.47953516471399 -34.689448774099425, -58.47939885411871 -34.689546752830864, -58.47857766592343 -34.69016772104743, -58.47838133946083 -34.69031767915715, -58.47910678054668 -34.69097259805009, -58.479122556427214 -34.6909862579642)), ((-58.47381739057739 -34.686197316556886, -58.47457840040463 -34.68688437299079, -58.475340447685625 -34.68757240974773, -58.47551963763676 -34.687436754023416, -58.47649000240024 -34.68670001259069, -58.47714223387102 -34.68728917551283, -58.47725129545641 -34.687387614735094, -58.47830714437255 -34.68658669213458, -58.478438421728185 -34.68648899737412, -58.47767627444726 -34.68579943032266, -58.4775553612572 -34.685690075698965, -58.47691507772047 -34.68511288621358, -58.476154490638415 -34.68442732336739, -58.47496856288808 -34.68532549679796, -58.47381739057739 -34.686197316556886)), ((-58.47919938745223 -34.68717693987323, -58.479962157641374 -34.687864666351935, -58.48114781135682 -34.68696721907948, -58.480385722727995 -34.68627942950938, -58.47962125855639 -34.685589452164514, -58.47886371488032 -34.68490566634913, -58.47810055512274 -34.68421680682138, -58.47733945442681 -34.68352984240038, -58.476154490638415 -34.68442732336739, -58.47691507772047 -34.68511288621358, -58.4775553612572 -34.685690075698965, -58.47767627444726 -34.68579943032266, -58.478438421728185 -34.68648899737412, -58.479084270491676 -34.687073220835195, -58.47919938745223 -34.68717693987323)), ((-58.473055284469865 -34.68550927012443, -58.47381739057739 -34.686197316556886, -58.47496856288808 -34.68532549679796, -58.476154490638415 -34.68442732336739, -58.47733945442681 -34.68352984240038, -58.47657819604743 -34.682842732542774, -58.475797255138836 -34.682137732911436, -58.47553615889991 -34.682339666368634, -58.474621161454095 -34.68304702947791, -58.4734463202082 -34.68395018654011, -58.47325818288236 -34.68409478404516, -58.47250920823828 -34.68467049359696, -58.47237639292235 -34.68477205556208, -58.472301887053945 -34.68482903444999, -58.473055284469865 -34.68550927012443)), ((-58.47830714437255 -34.68658669213458, -58.47725129545641 -34.687387614735094, -58.47714223387102 -34.68728917551283, -58.47649000240024 -34.68670001259069, -58.47551963763676 -34.687436754023416, -58.475340447685625 -34.68757240974773, -58.47610156782486 -34.6882595971247, -58.47686270162302 -34.68894670935663, -58.47762410342063 -34.68963409796885, -58.47781156411609 -34.68949231090187, -58.47877528352201 -34.68876301707263, -58.479962157641374 -34.687864666351935, -58.47919938745223 -34.68717693987323, -58.479084270491676 -34.687073220835195, -58.478438421728185 -34.68648899737412, -58.47830714437255 -34.68658669213458)), ((-58.47877528352201 -34.68876301707263, -58.47781156411609 -34.68949231090187, -58.47762410342063 -34.68963409796885, -58.47838133946083 -34.69031767915715, -58.47857766592343 -34.69016772104743, -58.47939885411871 -34.689546752830864, -58.47953516471399 -34.689448774099425, -58.47877528352201 -34.68876301707263)), ((-58.4767069864076 -34.69280371137459, -58.47742671791443 -34.69343187907931, -58.479841010185645 -34.69160863722519, -58.479122556427214 -34.6909862579642, -58.47910678054668 -34.69097259805009, -58.47838133946083 -34.69031767915715, -58.47762410342063 -34.68963409796885, -58.47686270162302 -34.68894670935663, -58.47564244686533 -34.68987080872069, -58.47445345147274 -34.69077123024075, -58.4752120365397 -34.691458423053646, -58.47597404514725 -34.69214877921103, -58.4767069864076 -34.69280371137459)), ((-58.47369436813626 -34.690083539591285, -58.47445345147274 -34.69077123024075, -58.47564244686533 -34.68987080872069, -58.47686270162302 -34.68894670935663, -58.47610156782486 -34.6882595971247, -58.475340447685625 -34.68757240974773, -58.47457840040463 -34.68688437299079, -58.47351671535272 -34.68768948966907, -58.47335994129198 -34.68780809718179, -58.47217359351374 -34.688705749882295, -58.472934017087 -34.68939464714527, -58.47369436813626 -34.690083539591285)), ((-58.468609780439834 -34.68639754411946, -58.46740234362607 -34.687310081065085, -58.46701099398263 -34.686967341839306, -58.46689665986894 -34.68686720254816, -58.466407010069794 -34.68644432230804, -58.46577715237519 -34.686935829242664, -58.465177298287855 -34.68740395193142, -58.46468272871601 -34.687789884951314, -58.46410775688602 -34.688238564408174, -58.463585468105784 -34.68864618430422, -58.46435340758833 -34.68931689466257, -58.46539556394661 -34.6902271073458, -58.46587803782855 -34.68984955247896, -58.466423682919384 -34.68942248553779, -58.466604511742005 -34.6892809980511, -58.46690495472187 -34.689046264312076, -58.467099593044225 -34.68889421176953, -58.46758273462448 -34.68851679067101, -58.46805811302383 -34.68814542467149, -58.46867210848505 -34.687665808382654, -58.46876179402091 -34.687595590807575, -58.469562824393996 -34.68696870411206, -58.46913314583395 -34.68659754097896, -58.46898366689102 -34.686654292793, -58.468609780439834 -34.68639754411946)), ((-58.471558221059 -34.68814817812994, -58.47217359351374 -34.688705749882295, -58.47335994129198 -34.68780809718179, -58.47351671535272 -34.68768948966907, -58.47457840040463 -34.68688437299079, -58.47381739057739 -34.686197316556886, -58.473055284469865 -34.68550927012443, -58.472301887053945 -34.68482903444999, -58.472129090780854 -34.684961093715636, -58.47174112808658 -34.68526507312208, -58.47121335450973 -34.68567857117073, -58.47109613695791 -34.68577020139864, -58.47051558751629 -34.686223841526825, -58.46992923412614 -34.686681986342734, -58.470649887408534 -34.68733456116222, -58.471270704737485 -34.68789671464584, -58.471411137715776 -34.68801952428149, -58.471558221059 -34.68814817812994)), ((-58.46683523719862 -34.68611007508868, -58.466407010069794 -34.68644432230804, -58.46689665986894 -34.68686720254816, -58.46701099398263 -34.686967341839306, -58.46740234362607 -34.687310081065085, -58.468609780439834 -34.68639754411946, -58.46898366689102 -34.686654292793, -58.46913314583395 -34.68659754097896, -58.469562824393996 -34.68696870411206, -58.46980877392761 -34.68677615032654, -58.46992923412614 -34.686681986342734, -58.47051558751629 -34.686223841526825, -58.47109613695791 -34.68577020139864, -58.47121335450973 -34.68567857117073, -58.47174112808658 -34.68526507312208, -58.472129090780854 -34.684961093715636, -58.472301887053945 -34.68482903444999, -58.4723049155355 -34.68474596575704, -58.472283703614224 -34.68468930812733, -58.47124103609063 -34.683758455842025, -58.47059509864042 -34.68318172554436, -58.47042238788825 -34.68331047237371, -58.46993860742033 -34.68368804570966, -58.469632055540735 -34.6839272937219, -58.46929907336656 -34.68418717789482, -58.46887308334739 -34.68451967237017, -58.46823617941206 -34.68501675614045, -58.46803600996349 -34.68517296552113, -58.467605235753204 -34.68550918853713, -58.46683523719862 -34.68611007508868)), ((-58.46678072882973 -34.68030381921789, -58.46672369790982 -34.680320651700875, -58.46666785848007 -34.68031290754911, -58.466294532538235 -34.67998009428434, -58.46578279286763 -34.68038941311458, -58.46702119874704 -34.68152947255193, -58.46638567740761 -34.68217859269095, -58.46655183926243 -34.682285844088575, -58.46755066544674 -34.682474826380485, -58.4680501447429 -34.683572084267496, -58.468280534192054 -34.684078141480015, -58.467588567400824 -34.684780511272464, -58.46803600996349 -34.68517296552113, -58.46823617941206 -34.68501675614045, -58.46887308334739 -34.68451967237017, -58.46929907336656 -34.68418717789482, -58.469632055540735 -34.6839272937219, -58.46993860742033 -34.68368804570966, -58.47042238788825 -34.68331047237371, -58.47059509864042 -34.68318172554436, -58.47022831408752 -34.6829052633716, -58.46911527243316 -34.682066153417935, -58.46818861349906 -34.68123209457144, -58.46746504922079 -34.68058253255648, -58.46708003399548 -34.680140635696155, -58.46700312781791 -34.679940915039516, -58.46701404891459 -34.680116623069786, -58.46697603189685 -34.68018838720031, -58.46693127744774 -34.680233178082005, -58.46688106637704 -34.6802668427919, -58.46678072882973 -34.68030381921789)), ((-58.46655183926243 -34.682285844088575, -58.46523882351609 -34.683618725031145, -58.465387762902346 -34.68363682072616, -58.46574975075694 -34.683680828075126, -58.46593074591772 -34.683702795739855, -58.46651107144104 -34.68377334372624, -58.46675490973331 -34.684039116731185, -58.46672064993263 -34.68428870095438, -58.46655599892371 -34.685602397001105, -58.466478523077285 -34.68606205765841, -58.46683523719862 -34.68611007508868, -58.467605235753204 -34.68550918853713, -58.46803600996349 -34.68517296552113, -58.467588567400824 -34.684780511272464, -58.468280534192054 -34.684078141480015, -58.4680501447429 -34.683572084267496, -58.46755066544674 -34.682474826380485, -58.46655183926243 -34.682285844088575)), ((-58.46523882351609 -34.683618725031145, -58.46501972799022 -34.68383641093792, -58.46466695604538 -34.68418705851546, -58.46457616246349 -34.684277273133425, -58.46454785904171 -34.68434741644035, -58.464569686966875 -34.68447199626162, -58.46469544450766 -34.68474045055063, -58.465239319757735 -34.68589715630521, -58.466478523077285 -34.68606205765841, -58.46655599892371 -34.685602397001105, -58.46672064993263 -34.68428870095438, -58.46675490973331 -34.684039116731185, -58.46651107144104 -34.68377334372624, -58.46593074591772 -34.683702795739855, -58.46574975075694 -34.683680828075126, -58.465387762902346 -34.68363682072616, -58.46523882351609 -34.683618725031145)), ((-58.464387837441265 -34.68435791139174, -58.464569686966875 -34.68447199626162, -58.46454785904171 -34.68434741644035, -58.46457616246349 -34.684277273133425, -58.46466695604538 -34.68418705851546, -58.46501972799022 -34.68383641093792, -58.46523882351609 -34.683618725031145, -58.46655183926243 -34.682285844088575, -58.46638567740761 -34.68217859269095, -58.46702119874704 -34.68152947255193, -58.46578279286763 -34.68038941311458, -58.4656567960828 -34.68048744667383, -58.46503934007768 -34.68093183677504, -58.464603971599885 -34.68125593610058, -58.4642987760385 -34.68148312948367, -58.46351924243079 -34.68206343220896, -58.46256220198203 -34.6827804225123, -58.463863161680656 -34.682974857969704, -58.46393605349369 -34.68299999900676, -58.46397978874397 -34.68303844990792, -58.4640112478361 -34.68309253530903, -58.46443531621367 -34.68401050909565, -58.464490393169264 -34.684129806087554, -58.4643118741616 -34.6843102358541, -58.464387837441265 -34.68435791139174)), ((-58.46289247914766 -34.686298952882176, -58.46297543464884 -34.686486491302524, -58.46334578632431 -34.686108805806874, -58.46396925506314 -34.685472941343065, -58.46421623565277 -34.68522103159806, -58.46424462554464 -34.685192580351874, -58.46469544450766 -34.68474045055063, -58.464569686966875 -34.68447199626162, -58.464387837441265 -34.68435791139174, -58.4643118741616 -34.6843102358541, -58.464490393169264 -34.684129806087554, -58.46443531621367 -34.68401050909565, -58.4640112478361 -34.68309253530903, -58.46397978874397 -34.68303844990792, -58.46393605349369 -34.68299999900676, -58.463863161680656 -34.682974857969704, -58.46256220198203 -34.6827804225123, -58.46028752354192 -34.68446888761477, -58.46125547217324 -34.68461362009706, -58.46205928009242 -34.68473004288207, -58.462124755687505 -34.68474159231289, -58.46218869683334 -34.684778142826325, -58.462346928362024 -34.685118292078364, -58.46271199089649 -34.68590338007721, -58.46289247914766 -34.686298952882176)), ((-58.459003640436556 -34.673755788494745, -58.45869855159938 -34.67378761107028, -58.4584507452429 -34.67386013897702, -58.45841980037498 -34.67387457520189, -58.4583549285082 -34.67390478524422, -58.457936022948026 -34.67422498826878, -58.45772716598757 -34.67438202619934, -58.45652020822988 -34.67532959942124, -58.45586301055119 -34.6758455627134, -58.455051413105366 -34.67648271278329, -58.45382521419231 -34.67743765221045, -58.45379162312845 -34.67746384711168, -58.4535193200062 -34.67767587473101, -58.45308520092928 -34.67801394770894, -58.4530719005131 -34.67802429867741, -58.452930120132095 -34.67813471252952, -58.45221226115361 -34.67869910286061, -58.4514784484648 -34.67927602272168, -58.450939783902584 -34.6796995734715, -58.45077582939134 -34.67983829293727, -58.45071221711281 -34.6799432897001, -58.45064119032968 -34.68003828433583, -58.45082427874369 -34.680241969455665, -58.4511978823377 -34.680589829894394, -58.451373305437784 -34.680753160065684, -58.45173114518274 -34.68107925687419, -58.451791580202446 -34.68113482639409, -58.452171756382214 -34.681484586401204, -58.452657976705126 -34.681931821006245, -58.45281362941305 -34.682075005907805, -58.45329849272545 -34.68252111101879, -58.454023495708064 -34.68318801037158, -58.45466096276409 -34.68377440561092, -58.45542341143956 -34.68447573714795, -58.45622645333706 -34.68518460104013, -58.45631272803707 -34.68523876161949, -58.456469760657484 -34.68533729318844, -58.4569052225445 -34.68567140663012, -58.45700027730081 -34.6857442997219, -58.457507690962174 -34.686208910526034, -58.45777435813074 -34.686454420221466, -58.457790476027895 -34.6863866722155, -58.45781179384132 -34.68631920746381, -58.45787215841398 -34.68625758822124, -58.45918992193225 -34.685277682233064, -58.45928029567297 -34.685216204667285, -58.45935421385525 -34.685160008053494, -58.46028752354192 -34.68446888761477, -58.46256220198203 -34.6827804225123, -58.46351924243079 -34.68206343220896, -58.4642987760385 -34.68148312948367, -58.464603971599885 -34.68125593610058, -58.46503934007768 -34.68093183677504, -58.4656567960828 -34.68048744667383, -58.46578279286763 -34.68038941311458, -58.466294532538235 -34.67998009428434, -58.46588429567743 -34.67959326537319, -58.465837833101354 -34.67954756140108, -58.465459994339376 -34.67915284358933, -58.4651118233967 -34.67869755784617, -58.46505513110322 -34.67862305039161, -58.46462546561655 -34.67806501711023, -58.46448446175786 -34.67790325499618, -58.46436127709905 -34.67778874631992, -58.46433152470991 -34.67776107012544, -58.4642964026024 -34.677728534386446, -58.46391823905957 -34.677414236344184, -58.46323881479528 -34.6768494386791, -58.46318434174855 -34.676804156480706, -58.462361458088495 -34.67612146444498, -58.46197870674313 -34.67580384933759, -58.46119727156178 -34.67515551659173, -58.46108551707133 -34.67506248487199, -58.460320548512435 -34.67442773931033, -58.4599633844068 -34.67413955538995, -58.45961150647266 -34.673896653893976, -58.45942516593952 -34.67384876054665, -58.459003640436556 -34.673755788494745)), ((-58.4643017948312 -34.68774087539295, -58.46468272871601 -34.687789884951314, -58.465177298287855 -34.68740395193142, -58.46577715237519 -34.686935829242664, -58.466407010069794 -34.68644432230804, -58.46683523719862 -34.68611007508868, -58.466478523077285 -34.68606205765841, -58.465239319757735 -34.68589715630521, -58.46469544450766 -34.68474045055063, -58.46424462554464 -34.685192580351874, -58.46421623565277 -34.68522103159806, -58.46396925506314 -34.685472941343065, -58.46334578632431 -34.686108805806874, -58.46297543464884 -34.686486491302524, -58.46301976846334 -34.68658790189047, -58.463477691523906 -34.68763475468488, -58.4643017948312 -34.68774087539295)), ((-58.46092880598292 -34.68854849590137, -58.46089367879699 -34.688601313664435, -58.460732626605335 -34.68849356256739, -58.46069442979726 -34.68853236572106, -58.4605385734212 -34.68868814065018, -58.46040949040547 -34.68873898514681, -58.460243405432614 -34.68874236226771, -58.46007808872244 -34.68874602042438, -58.4606414667447 -34.68926322558271, -58.461002021443804 -34.68959422467715, -58.46203723829188 -34.69054460651931, -58.46269195564145 -34.69114567765573, -58.46339604911242 -34.69179202816104, -58.46409535987846 -34.691244686094954, -58.465262134196976 -34.690331548753804, -58.46539556394661 -34.6902271073458, -58.46435340758833 -34.68931689466257, -58.463585468105784 -34.68864618430422, -58.46410775688602 -34.688238564408174, -58.46468272871601 -34.687789884951314, -58.4643017948312 -34.68774087539295, -58.463477691523906 -34.68763475468488, -58.46301976846334 -34.68658790189047, -58.46297543464884 -34.686486491302524, -58.46295522849213 -34.6865071259444, -58.462680276005266 -34.686786075930975, -58.4625740454808 -34.686893824501475, -58.462197889823784 -34.68727545222992, -58.46129056421402 -34.688195816862304, -58.46092880598292 -34.68854849590137)), ((-58.45969439504027 -34.685627727642405, -58.45969068889483 -34.685662922926966, -58.45967127110389 -34.685713805382576, -58.46032432003588 -34.685640182163496, -58.46122394816068 -34.68650289588455, -58.46124092182152 -34.68688626817345, -58.462027377339886 -34.68699044501262, -58.46219200827138 -34.687010727947666, -58.46093068739975 -34.68829222351656, -58.460732626605335 -34.68849356256739, -58.46089367879699 -34.688601313664435, -58.46092880598292 -34.68854849590137, -58.46129056421402 -34.688195816862304, -58.462197889823784 -34.68727545222992, -58.4625740454808 -34.686893824501475, -58.462680276005266 -34.686786075930975, -58.46295522849213 -34.6865071259444, -58.46297543464884 -34.686486491302524, -58.46289247914766 -34.686298952882176, -58.46271199089649 -34.68590338007721, -58.462346928362024 -34.685118292078364, -58.46218869683334 -34.684778142826325, -58.462124755687505 -34.68474159231289, -58.46205928009242 -34.68473004288207, -58.46125547217324 -34.68461362009706, -58.461139981241004 -34.684594538132366, -58.46028752354192 -34.68446888761477, -58.45935421385525 -34.685160008053494, -58.45928029567297 -34.685216204667285, -58.459681681899816 -34.68559241476634, -58.45969439504027 -34.685627727642405)), ((-58.45967127110389 -34.685713805382576, -58.45914733467191 -34.686362549317025, -58.45912452861292 -34.686423404083556, -58.459118746408144 -34.686487671253154, -58.45931756838288 -34.68692201848175, -58.45936104545566 -34.687001598676495, -58.45938892231573 -34.68706068536016, -58.459526431418105 -34.68735231459825, -58.4598846573273 -34.68811205883291, -58.459917992184586 -34.68814959506756, -58.45996948812034 -34.688168400023734, -58.46076068286015 -34.68827031893027, -58.46093068739975 -34.68829222351656, -58.46219200827138 -34.687010727947666, -58.462027377339886 -34.68699044501262, -58.46124092182152 -34.68688626817345, -58.46122394816068 -34.68650289588455, -58.46032432003588 -34.685640182163496, -58.45967127110389 -34.685713805382576)), ((-58.45928029567297 -34.685216204667285, -58.45918992193225 -34.685277682233064, -58.45787215841398 -34.68625758822124, -58.45781179384132 -34.68631920746381, -58.457790476027895 -34.6863866722155, -58.45777435813074 -34.686454420221466, -58.45828817337949 -34.68693670408969, -58.45836473048489 -34.68702382087197, -58.45849721217483 -34.687174744445514, -58.45861852531056 -34.6873403157076, -58.458776923858515 -34.6875425788784, -58.45900651341567 -34.68776216856394, -58.45939936747147 -34.688122891739425, -58.45946194398329 -34.688180289152484, -58.46007808872244 -34.68874602042438, -58.460243405432614 -34.68874236226771, -58.46040949040547 -34.68873898514681, -58.4605385734212 -34.68868814065018, -58.46069442979726 -34.68853236572106, -58.460732626605335 -34.68849356256739, -58.46093068739975 -34.68829222351656, -58.46076068286015 -34.68827031893027, -58.45996948812034 -34.688168400023734, -58.459917992184586 -34.68814959506756, -58.4598846573273 -34.68811205883291, -58.459526431418105 -34.68735231459825, -58.45938892231573 -34.68706068536016, -58.45936104545566 -34.687001598676495, -58.45931756838288 -34.68692201848175, -58.459118746408144 -34.686487671253154, -58.45912452861292 -34.686423404083556, -58.45914733467191 -34.686362549317025, -58.45967127110389 -34.685713805382576, -58.45969068889481 -34.6856629238284, -58.45969439504027 -34.685627727642405, -58.459681681899816 -34.68559241476634, -58.45928029567297 -34.685216204667285)), ((-58.47433709393545 -34.69459273058984, -58.47506756563208 -34.69521330477451, -58.47742671791443 -34.69343187907931, -58.4767069864076 -34.69280371137459, -58.47597404514725 -34.69214877921103, -58.4752120365397 -34.691458423053646, -58.47445345147274 -34.69077123024075, -58.47327048456938 -34.69166706205862, -58.47208382550953 -34.692565698608725, -58.47284709721667 -34.69325466606619, -58.473606714105046 -34.693940390163135, -58.47433709393545 -34.69459273058984)), ((-58.47132295456325 -34.691878909379845, -58.47208382550953 -34.692565698608725, -58.47327048456938 -34.69166706205862, -58.47445345147274 -34.69077123024075, -58.47369436813626 -34.690083539591285, -58.472934017087 -34.68939464714527, -58.47217359351374 -34.688705749882295, -58.47113078712818 -34.68949478783677, -58.47098747657678 -34.689603320578044, -58.46980031160682 -34.69050271046116, -58.47056124266079 -34.69119112921473, -58.47065998420004 -34.69128049125052, -58.47132295456325 -34.691878909379845)), ((-58.46904007418969 -34.689814921447336, -58.46980031160682 -34.69050271046116, -58.47098747657678 -34.689603320578044, -58.47113078712818 -34.68949478783677, -58.47217359351374 -34.688705749882295, -58.471558221059 -34.68814817812994, -58.471411137715776 -34.68801952428149, -58.471270704737485 -34.68789671464584, -58.470649887408534 -34.68733456116222, -58.46992923412614 -34.686681986342734, -58.46980877392761 -34.68677615032654, -58.469562824393996 -34.68696870411206, -58.46876179402091 -34.687595590807575, -58.46867210848505 -34.687665808382654, -58.46805811302383 -34.68814542467149, -58.46758273462448 -34.68851679067101, -58.46827950883853 -34.68912684457962, -58.46904007418969 -34.689814921447336)), ((-58.46409535987846 -34.691244686094954, -58.46339604911242 -34.69179202816104, -58.46401429371229 -34.692359569985925, -58.464766838386105 -34.69305041898963, -58.465483714173644 -34.69250764712165, -58.46666123525809 -34.69161611617071, -58.46742547683074 -34.69230187883263, -58.46860919777123 -34.69140511763788, -58.46980031160682 -34.69050271046116, -58.46904007418969 -34.689814921447336, -58.46827950883853 -34.68912684457962, -58.46758273462448 -34.68851679067101, -58.467099593044225 -34.68889421176953, -58.46690495472187 -34.689046264312076, -58.466604511742005 -34.6892809980511, -58.466423682919384 -34.68942248553779, -58.46587803782855 -34.68984955247896, -58.46539556394661 -34.6902271073458, -58.465262134196976 -34.690331548753804, -58.46409535987846 -34.691244686094954)), ((-58.46960588762145 -34.694259280295974, -58.46971742269933 -34.694359910165254, -58.470896628991504 -34.6934648174925, -58.471021105145915 -34.69337037101687, -58.47208382550953 -34.692565698608725, -58.47132295456325 -34.691878909379845, -58.47065998420004 -34.69128049125052, -58.47056124266079 -34.69119112921473, -58.46980031160682 -34.69050271046116, -58.46860919777123 -34.69140511763788, -58.46742547683074 -34.69230187883263, -58.46818913290225 -34.69298707235725, -58.468301090183814 -34.693087562000805, -58.468953143225804 -34.69367310653975, -58.46960588762145 -34.694259280295974)), ((-58.46991290408605 -34.6979412402187, -58.470630666860515 -34.6985634612721, -58.4726956081583 -34.697004334215436, -58.47506756563208 -34.69521330477451, -58.47433709393545 -34.69459273058984, -58.473606714105046 -34.693940390163135, -58.47284709721667 -34.69325466606619, -58.47208382550953 -34.692565698608725, -58.471021105145915 -34.69337037101687, -58.470896628991504 -34.6934648174925, -58.46971742269933 -34.694359910165254, -58.47047523275198 -34.69504410330654, -58.46929395362015 -34.69594531878309, -58.47005390720963 -34.69662881023495, -58.46929746393799 -34.69720118928591, -58.47001538903451 -34.69785813338283, -58.46991290408605 -34.6979412402187)), ((-58.4497833170899 -34.680610181298285, -58.44929570710552 -34.68099422224762, -58.44441296591217 -34.68483944930399, -58.44418196976231 -34.685020122924406, -58.444253571203895 -34.68507795231446, -58.44428306003889 -34.6851193656997, -58.44435977035249 -34.68520959043763, -58.44439812852072 -34.685238822321075, -58.44447483532351 -34.685341160381476, -58.44454259755668 -34.68541673544872, -58.444592792729125 -34.685506885771396, -58.44465466581362 -34.685611686015214, -58.44477118604337 -34.68572501548023, -58.444853778376775 -34.6858201003646, -58.44490390105722 -34.68585905210859, -58.44495409843595 -34.68594194848135, -58.444968835674985 -34.68600040285443, -58.44507207314284 -34.68603457385542, -58.44511629802125 -34.686144230001645, -58.44525788501386 -34.68625875970236, -58.44534636662214 -34.68632947857565, -58.44540091527673 -34.68640378386333, -58.44544216623446 -34.68646470644028, -58.44547164453976 -34.68656217755634, -58.44553062105921 -34.68666697692817, -58.44561321971063 -34.686740088967994, -58.4457164484093 -34.686822992437875, -58.445810894336546 -34.686918007095144, -58.44589195542792 -34.68700942944367, -58.44598341463368 -34.68711662725758, -58.44602176543895 -34.6871898032499, -58.446104355316216 -34.68731164796555, -58.446201703616495 -34.687392085711146, -58.44626955842087 -34.68744082789221, -58.446325561126876 -34.687504147242606, -58.44637866084206 -34.68757971929204, -58.44643908632405 -34.687695504106884, -58.44655706280738 -34.68780031082004, -58.446642643494 -34.687897789049494, -58.44671338810262 -34.687995265272235, -58.4467783374263 -34.68809027619085, -58.446846096859325 -34.68819754055185, -58.446916934189424 -34.68826332605604, -58.446992117329295 -34.688340097783204, -58.44705110619589 -34.68839616338376, -58.447124837813426 -34.68848631563992, -58.44718680096711 -34.68859357906378, -58.44726940615039 -34.688649647560005, -58.4473283916376 -34.68872029001656, -58.44743162068167 -34.68882995360375, -58.44747440893935 -34.68888967856516, -58.44753041465673 -34.68894088395747, -58.447583516592054 -34.689021314161806, -58.447607121408765 -34.6890895578931, -58.447651360072456 -34.689150480967264, -58.447730987283634 -34.68917971597047, -58.447769345407856 -34.68922599007358, -58.447757569368704 -34.68928451023741, -58.447816570102866 -34.68927479916142, -58.447869681658986 -34.68930403173398, -58.447860805550015 -34.68935515874757, -58.44787256065623 -34.689413682685455, -58.44794630055126 -34.68946728423121, -58.4480628310898 -34.68957821628771, -58.44810417136629 -34.68964153213582, -58.4481837962194 -34.68968788044995, -58.44823689817208 -34.689768311261325, -58.44829588298668 -34.68985846103821, -58.44841386823015 -34.68994375811752, -58.44845810084694 -34.69004608978251, -58.44848758561659 -34.690133841819375, -58.448543686636015 -34.690133848348495, -58.44861000531962 -34.690220406629635, -58.44866013132009 -34.690259357703205, -58.448701471145064 -34.69033006775424, -58.4487633502745 -34.69044458412461, -58.44879880199462 -34.69054452046095, -58.448896158708244 -34.69061277231541, -58.44896393650216 -34.69064447056868, -58.44905250917568 -34.690719975096215, -58.44910995892547 -34.69082357539847, -58.4491601635042 -34.69090639966178, -58.449189653180134 -34.69097710822275, -58.44926339531042 -34.69103070985982, -58.44933415191612 -34.69108923922982, -58.44936952572677 -34.69115016068816, -58.449440367961415 -34.69121347929017, -58.449481623418244 -34.69128658414985, -58.449552467380016 -34.69134025470493, -58.449618786230936 -34.69143160170552, -58.44970437276679 -34.69153154223175, -58.4497663453064 -34.69161443870287, -58.44982235503375 -34.69166071311216, -58.44987545942332 -34.69175086147543, -58.44994033205844 -34.691826433159456, -58.45001407059089 -34.69191172402222, -58.450073060328165 -34.69199215461729, -58.45013060105348 -34.69206406383838, -58.45020136171169 -34.69211280409354, -58.45023384159723 -34.69214935760398, -58.45026921688651 -34.6922078133865, -58.45027808126697 -34.69222732118274, -58.45035770509955 -34.69229803544687, -58.45039904739177 -34.69236867458762, -58.450484552855535 -34.69245396724674, -58.450499296561205 -34.6925027016984, -58.4505524064923 -34.69256362367225, -58.45062324834617 -34.6926440551733, -58.45075742419834 -34.69283294539763, -58.45087839622448 -34.69295239633063, -58.45097575402836 -34.69304501388414, -58.45103473962618 -34.693159528772405, -58.45114684640348 -34.693261864984414, -58.45119995593983 -34.6933325761701, -58.45127369776769 -34.69341300755665, -58.45137693684304 -34.69352999091586, -58.451517001432286 -34.6937042335309, -58.45156721808517 -34.69373592870802, -58.4515937245971 -34.69381628435892, -58.45166158812236 -34.693862630198865, -58.45171470331894 -34.693896719767864, -58.451747180066924 -34.69396742884625, -58.451784007983726 -34.694014968017775, -58.45181938866792 -34.694046591448306, -58.451840101117426 -34.69409539747063, -58.45190199732531 -34.694141671429975, -58.45194922409603 -34.69421477594852, -58.45203183839156 -34.69426837576338, -58.45207019906866 -34.69433176026854, -58.45209968684851 -34.694446272942386, -58.45215867961355 -34.694524307403036, -58.45223831141172 -34.69457058272113, -58.45226780575096 -34.69462664320488, -58.45233123753714 -34.69466932488628, -58.452387245307506 -34.69475947235801, -58.45242560859683 -34.69480574495426, -58.45247284298833 -34.694832579907214, -58.45252885698425 -34.694873994356485, -58.45255247148337 -34.69490082730471, -58.45253771383764 -34.69496174271982, -58.45259671123915 -34.69500801697954, -58.45264095670727 -34.695068937283274, -58.45268230494752 -34.695117743954405, -58.45276192770549 -34.695246837542065, -58.45283422148215 -34.69534311312689, -58.45287258672143 -34.69537727220089, -58.45294633541792 -34.69542840616887, -58.45299646174829 -34.69550883369191, -58.45306134039423 -34.695591728665356, -58.4531085735092 -34.69562581715199, -58.453146934791675 -34.69569652630044, -58.453191183816465 -34.69573307902205, -58.45323244761154 -34.69577202748859, -58.45327669891724 -34.69578914360915, -58.453359323300305 -34.69577450178055, -58.45340664583034 -34.69578204042701, -58.45343188145248 -34.69581028225496, -58.45346427840387 -34.69584303265704, -58.45348047562689 -34.695875710613166, -58.45344985945864 -34.69592479369871, -58.453406540838095 -34.69595972069981, -58.45340943525935 -34.69599873558285, -58.45338734745851 -34.69603648115274, -58.45342861393876 -34.696053526677986, -58.453464080964324 -34.696087685341304, -58.45351710942644 -34.696155859764495, -58.453564341973006 -34.69619973756828, -58.453602705772944 -34.69625340328718, -58.453676452255905 -34.696336227372065, -58.45367346515786 -34.696365453215556, -58.45371183384832 -34.696375244646646, -58.45373544972303 -34.69640693695189, -58.453747212068556 -34.69644588306618, -58.453813631023884 -34.69648856418287, -58.4538372435432 -34.696542158437616, -58.45389326143722 -34.69656406446854, -58.453908009925044 -34.69659336190834, -58.453969992735956 -34.696654282992206, -58.4539758729204 -34.69667865078545, -58.45401125633005 -34.69670301978394, -58.45402898832355 -34.6967371058008, -58.45407323955413 -34.69676147631311, -58.454117486026725 -34.69683218465798, -58.45427384824841 -34.69700522716148, -58.45431519669828 -34.69707100622937, -58.454321076387025 -34.69711241638015, -58.454384511610044 -34.69715023828528, -58.45444052618172 -34.69721115871691, -58.454449384581466 -34.69730616068951, -58.45450250143365 -34.69735736261254, -58.45456738599038 -34.697398776704226, -58.454632265882196 -34.6974889236959, -58.4547237495114 -34.69757914270713, -58.45482410076286 -34.69767415150214, -58.45485948116511 -34.69773753490149, -58.45491259877641 -34.69778627214149, -58.45494653044168 -34.69784352842432, -58.45502028416966 -34.6978776890547, -58.455067432463686 -34.69793128453982, -58.455073396828254 -34.6979824129352, -58.45517366736018 -34.69803847619182, -58.45517954512828 -34.69809453447838, -58.45520017806973 -34.69811404262359, -58.45526804842573 -34.69815792102144, -58.45530641358389 -34.698218839967474, -58.45537427849586 -34.69832610031832, -58.45544513099416 -34.69839427494788, -58.45544069380809 -34.69842476814438, -58.455546842581185 -34.69855639623186, -58.455573441902786 -34.698609991208805, -58.4556118083281 -34.698661120561255, -58.45567959497366 -34.69868309675885, -58.4556795933261 -34.698702604531974, -58.45574456145953 -34.698795215417725, -58.45582121302675 -34.698856136374545, -58.45582419341278 -34.69890001077729, -58.455871429029294 -34.69895360594734, -58.455874325515154 -34.69898283216181, -58.45593776386899 -34.69900840015586, -58.45598499753897 -34.6990742492734, -58.45606463037829 -34.69918876275064, -58.456117747883624 -34.69925947082399, -58.456173850279995 -34.69932039044273, -58.45622398474029 -34.69936666243871, -58.45625638138219 -34.69944955302726, -58.45632135395215 -34.699486106585454, -58.45635673738493 -34.69953484135115, -58.456398005454815 -34.69957625322195, -58.45643347429033 -34.69962252346913, -58.45647329107234 -34.69967492092353, -58.456544061927374 -34.69972365743636, -58.456585411175375 -34.699806548384494, -58.456668032780485 -34.699877188277846, -58.456842054993544 -34.700096566998916, -58.456983677286686 -34.700262281134705, -58.45707960172861 -34.70034390705017, -58.45714150501572 -34.70039750239093, -58.45713561733001 -34.700451094623205, -58.457194621182154 -34.70049743692727, -58.45726547861273 -34.70054131342915, -58.45730086368395 -34.70058026022532, -58.45732737744172 -34.70066800893975, -58.45735687847141 -34.70070702577053, -58.45743660622767 -34.700721606205065, -58.457454253961295 -34.70077766486508, -58.45751325977149 -34.70081668202239, -58.457528007383885 -34.70087513473558, -58.45757822750564 -34.70095802570741, -58.45770945784697 -34.700990918788435, -58.457747825518524 -34.701061626426956, -58.457777323939425 -34.70116881261194, -58.45784818239372 -34.70121022517235, -58.457939588058004 -34.70130769548843, -58.45801342806445 -34.70139791128341, -58.45802519202316 -34.70145636381609, -58.45811958455971 -34.70151242439149, -58.45811958308106 -34.701539256243436, -58.45820519529049 -34.70156602007049, -58.45818012019799 -34.70165496466684, -58.458227272668054 -34.70170862920782, -58.45832175275613 -34.701747576953366, -58.45838954086764 -34.70180363725968, -58.458395505908356 -34.701886526308684, -58.458427905612545 -34.70194983821184, -58.45848401470981 -34.701969347928745, -58.45856365534104 -34.70203026723241, -58.45863152971538 -34.70209365149159, -58.458702302723324 -34.70216675318072, -58.458798229615596 -34.70225570180501, -58.45883361397923 -34.702340986853905, -58.45888673742144 -34.70237753865056, -58.45897234680273 -34.702492120664, -58.45904610652685 -34.70252134893323, -58.45913461430434 -34.70263346641807, -58.459211271453114 -34.7027309353252, -58.45926149419232 -34.70279185331944, -58.459298328122344 -34.70289298263143, -58.45940755987931 -34.70300503017672, -58.45948421753942 -34.70307820277234, -58.459572729335996 -34.703143981226596, -58.45962883814604 -34.70317081449843, -58.459675990907336 -34.70326581695751, -58.45976160358633 -34.70334377887336, -58.459761601432625 -34.70340469543396, -58.45985309705821 -34.70349730469488, -58.45995781024919 -34.703581393004974, -58.46006405874971 -34.703686186108015, -58.46010831392972 -34.703759287286445, -58.46018207443971 -34.70381288130432, -58.460235198691024 -34.70387386925763, -58.460235197245716 -34.70392260304275, -58.46024696334037 -34.70397373125197, -58.46032660959728 -34.70398838099898, -58.46041810662844 -34.70407613024029, -58.4605833650434 -34.70421500958639, -58.460712127241635 -34.704339380568925, -58.46087295401748 -34.70442811673473, -58.46094577664635 -34.70449403456328, -58.46108426059539 -34.704634954561485, -58.46123187047526 -34.704757917207736, -58.461279964306925 -34.70481094684929, -58.46133257812269 -34.704869117352956, -58.46171546064392 -34.70529293173289, -58.46175221499142 -34.70526581894404, -58.470630666860515 -34.6985634612721, -58.46991290408605 -34.6979412402187, -58.47001538903451 -34.69785813338283, -58.46929746393799 -34.69720118928591, -58.47005390720963 -34.69662881023495, -58.46929395362015 -34.69594531878309, -58.47047523275198 -34.69504410330654, -58.46971742269933 -34.694359910165254, -58.46960588762145 -34.694259280295974, -58.468953143225804 -34.69367310653975, -58.468301090183814 -34.693087562000805, -58.46818913290225 -34.69298707235725, -58.46742547683074 -34.69230187883263, -58.46666123525809 -34.69161611617071, -58.465483714173644 -34.69250764712165, -58.464766838386105 -34.69305041898963, -58.46401429371229 -34.692359569985925, -58.46339604911242 -34.69179202816104, -58.46269195564145 -34.69114567765573, -58.46203723829188 -34.69054460651931, -58.461002021443804 -34.68959422467715, -58.4606414667447 -34.68926322558271, -58.46007808872244 -34.68874602042438, -58.45946194398329 -34.688180289152484, -58.45939936747147 -34.688122891739425, -58.45900651341567 -34.68776216856394, -58.458776923858515 -34.6875425788784, -58.45861852531056 -34.6873403157076, -58.45849721217483 -34.687174744445514, -58.45836473048489 -34.68702382087197, -58.45828817337949 -34.68693670408969, -58.45777435813074 -34.686454420221466, -58.457507690962174 -34.686208910526034, -58.45700027730081 -34.6857442997219, -58.4569052225445 -34.68567140663012, -58.456469760657484 -34.68533729318844, -58.45631272803707 -34.68523876161949, -58.45622645333706 -34.68518460104013, -58.45542341143956 -34.68447573714795, -58.45466096276409 -34.68377440561092, -58.454023495708064 -34.68318801037158, -58.45329849272545 -34.68252111101879, -58.45281362941305 -34.682075005907805, -58.452657976705126 -34.681931821006245, -58.452171756382214 -34.681484586401204, -58.451791580202446 -34.68113482639409, -58.45173114518274 -34.68107925687419, -58.451373305437784 -34.680753160065684, -58.4511978823377 -34.680589829894394, -58.451163682318104 -34.680695744602424, -58.451115585675595 -34.68080151735616, -58.45104763439551 -34.68084446939163, -58.45093151745819 -34.680884177912866, -58.45080807399827 -34.680885856112006, -58.450318887912374 -34.680428332048756, -58.45013329702715 -34.68043465100588, -58.44993507928166 -34.680501110820295, -58.4497833170899 -34.680610181298285)), ((-58.448965407264794 -34.665730082338825, -58.446974351052 -34.66731572726744, -58.446334462641765 -34.66782530414007, -58.4455729111703 -34.668431763519095, -58.44448295390424 -34.66929289490909, -58.444321664897736 -34.66937181622014, -58.44391152413232 -34.66961556281934, -58.4434383217136 -34.669048502433085, -58.443415143001815 -34.669021667675494, -58.44308842706703 -34.66864435225376, -58.442685419439194 -34.66829441882492, -58.442617840046225 -34.66823574437875, -58.44244586550782 -34.66808648671278, -58.44198372228872 -34.66768463849019, -58.4414615889798 -34.66723059329801, -58.44133717103463 -34.66711993529639, -58.440947133289995 -34.6667730262163, -58.44035692678048 -34.66624797724229, -58.44015523050394 -34.6660371593074, -58.43993247539484 -34.666165431264794, -58.43975199855748 -34.66628265382028, -58.437848268308606 -34.6673817455583, -58.436856272112685 -34.66795444118484, -58.4354876953954 -34.66874444422865, -58.43414475409233 -34.66951964983364, -58.43408558607797 -34.669553792078084, -58.43403025494334 -34.66958575102896, -58.43229168918169 -34.670589298328366, -58.43209771744095 -34.67072361975774, -58.43211841086545 -34.67077989405783, -58.432180369206165 -34.670811600282235, -58.43222203372669 -34.670860625999474, -58.432260456226814 -34.67091690470532, -58.43230186291018 -34.670973113831074, -58.43236695949135 -34.67104651191032, -58.43242906892988 -34.67113455746026, -58.432507544101945 -34.671221409931746, -58.432557812396766 -34.671285015597704, -58.43262879260717 -34.67135834467649, -58.43266727776443 -34.671478216489696, -58.43275310171638 -34.67151732273181, -58.43280038556982 -34.67158585748542, -58.43290545162451 -34.67168736446015, -58.43295282453966 -34.67174850473968, -58.43300607589494 -34.67181696965398, -58.43306520766236 -34.671890365897475, -58.433115476150654 -34.671958830938706, -58.43317469560298 -34.67202243851476, -58.43321610083357 -34.67208604175423, -58.43325461510449 -34.67213006611173, -58.433298930496136 -34.67215944361042, -58.43329891494369 -34.672203458654806, -58.433367014773225 -34.67222791193902, -58.43341285789483 -34.6722756005208, -58.43344837787977 -34.67234899089826, -58.43354604961613 -34.672393029342395, -58.43357561903871 -34.672422403211904, -58.433655578494694 -34.67241502785458, -58.433714733412266 -34.67242483146878, -58.43376210539356 -34.67248843593732, -58.433733953175846 -34.672553219564556, -58.433727971450615 -34.6725948380878, -58.43375761506713 -34.672655973830935, -58.43381674956915 -34.67272197526709, -58.43386113361656 -34.6728002975418, -58.43390850194577 -34.67287855019259, -58.43395877425485 -34.67293968985296, -58.434009045546375 -34.67300083039314, -58.43400902951927 -34.67304730994216, -58.434041591693294 -34.673049783013525, -58.434083014083576 -34.67306690549844, -58.43417335207256 -34.673121928346504, -58.434229502702365 -34.673195323312406, -58.43427985638369 -34.67326864658869, -58.43433012059401 -34.67335182966739, -58.43436855759972 -34.673376275481026, -58.434430754909926 -34.673464319998885, -58.43452542879643 -34.67355730191638, -58.43460236898091 -34.6736599988941, -58.434668911696704 -34.67375417130949, -58.43474287404456 -34.673842218367525, -58.43482570080335 -34.67393026740669, -58.43489079402292 -34.67403056638668, -58.43499143723455 -34.6741210847853, -58.43505355308642 -34.674201804836066, -58.435103829191625 -34.67425315538175, -58.43512904238411 -34.67431062726127, -58.435173440135834 -34.674357117739056, -58.43524441850992 -34.67444762832058, -58.4353006614426 -34.67450144553828, -58.435368668199956 -34.674557659566126, -58.43540717322051 -34.67463351452525, -58.43546341747525 -34.67468733166656, -58.43551369201935 -34.674748470668554, -58.43553439644635 -34.674777842074604, -58.435534382879695 -34.674819392591175, -58.4355906401008 -34.674834053354196, -58.43563503253347 -34.67489519189796, -58.43566306080698 -34.67494780467651, -58.43567489354251 -34.67499668193821, -58.43574299316228 -34.675030993726836, -58.43579327445098 -34.67507255445196, -58.43584951184268 -34.67514594956941, -58.4359087217994 -34.675255965007686, -58.43597383070853 -34.67531471287556, -58.43602999430841 -34.67535381118241, -58.4360714096447 -34.675397835261776, -58.436098070926214 -34.675461434266495, -58.436139489477334 -34.67549566879276, -58.43617800344683 -34.6755470163215, -58.436186850247466 -34.675605752720415, -58.436192727138724 -34.675622866745464, -58.43621787273041 -34.675628999230405, -58.436288952407004 -34.675675494184254, -58.436336250081766 -34.675717054936136, -58.43641916890663 -34.675797778767816, -58.43646945330535 -34.675832015992654, -58.43651683396355 -34.67588090080972, -58.43660264506962 -34.6759812032926, -58.43664993694491 -34.6760423411748, -58.436720996932024 -34.676157288654736, -58.436806816941775 -34.67623068961881, -58.436873371793986 -34.67630042303041, -58.43690293316671 -34.67636402246427, -58.43693547672539 -34.676427552209134, -58.43696504195956 -34.67647896790139, -58.43706868265197 -34.6765401184008, -58.43709236528426 -34.67658899800343, -58.43716923231626 -34.67667218455146, -58.437269874485374 -34.676784673382826, -58.437314261714214 -34.6768703184672, -58.437371957409006 -34.6769253312084, -58.43743118587397 -34.67698161255131, -58.43744591470272 -34.677045138459405, -58.43749329694852 -34.67709655770833, -58.43754656285004 -34.67714058372424, -58.437584991871375 -34.677196790385274, -58.43767081077056 -34.67727997935442, -58.43771223381422 -34.67730442471172, -58.437774441248116 -34.677380284647555, -58.43785130971406 -34.67746340044373, -58.43793566406746 -34.67759673095186, -58.43797119795496 -34.67764807729132, -58.43804218581108 -34.67772633306449, -58.438148711824965 -34.67783889265293, -58.438199060963136 -34.67794890514624, -58.43829374848129 -34.6780271655304, -58.43838843187621 -34.67812014438216, -58.438459421943556 -34.67819354029982, -58.438469800931856 -34.678265656732336, -58.438543783001336 -34.6783096864204, -58.43860300866448 -34.67838554533025, -58.43866802623392 -34.678480912288464, -58.4387420979304 -34.67851029364185, -58.43877754018384 -34.67858361206633, -58.43884563632549 -34.67864475405377, -58.43886334628898 -34.6787206038002, -58.438958036013695 -34.67879639915084, -58.43902168400725 -34.67891014669658, -58.439089773659866 -34.67899572539559, -58.4391311868809 -34.67905932655654, -58.43919630380764 -34.679108283145084, -58.439258426091975 -34.679193860596406, -58.439258397832276 -34.6792941446188, -58.43930868305501 -34.679333240259844, -58.43940047429791 -34.679413963719334, -58.43943301928967 -34.67948735170022, -58.43957066627625 -34.67959864854089, -58.43964165593468 -34.67968183237449, -58.43975117940888 -34.679760094410504, -58.4398221738467 -34.67983102500823, -58.439899141358005 -34.679875054423114, -58.43991684652525 -34.67997287724258, -58.4399079711575 -34.68000710195453, -58.44001749373252 -34.68009515236826, -58.440076636896784 -34.68017100962362, -58.440162469979605 -34.680222365529666, -58.44041248882248 -34.68029403276384, -58.44058915792447 -34.680499069791956, -58.44055538843988 -34.68053983891362, -58.44051556419541 -34.68058736764333, -58.440527317458034 -34.680628779639406, -58.44057751445614 -34.68068484594125, -58.44059224637924 -34.68074823080883, -58.440589250060135 -34.680796963332945, -58.44061573666601 -34.68089683026748, -58.440671807561905 -34.68098705364638, -58.44072046774378 -34.68105403591597, -58.44075881563928 -34.68111010000213, -58.44081481051855 -34.681171026850144, -58.440817775946776 -34.6812392682755, -58.44083250239302 -34.68132455513166, -58.44087374044599 -34.68141231034081, -58.44096520039051 -34.68146838475901, -58.441041917711466 -34.681504948661626, -58.44116867670777 -34.681543915561306, -58.44122475682131 -34.68160244803611, -58.44122773078187 -34.68163899880638, -58.44119525249372 -34.68163166896919, -58.44115687834911 -34.68167067694633, -58.44119523548833 -34.68169744444543, -58.441239470702286 -34.681734072798896, -58.44134569523633 -34.681731626947595, -58.44139725701964 -34.681793749843116, -58.44144446815869 -34.681864464379586, -58.441524083109854 -34.681905887184456, -58.441588950380904 -34.68194244868102, -58.44159490406437 -34.68199850778274, -58.441597789995235 -34.68204724134007, -58.441674502105826 -34.682103312666364, -58.44175999467474 -34.68216670866209, -58.441883922302125 -34.682283704728256, -58.441967951929264 -34.68239942557597, -58.44202394867851 -34.682455493154, -58.44210065058721 -34.68255543765674, -58.44218912498121 -34.682628553057974, -58.44222159164264 -34.68268947528345, -58.44227170651497 -34.682743076348544, -58.442348412455644 -34.68283330238604, -58.44239553097145 -34.68294049555266, -58.442427994335304 -34.68301606684082, -58.44251501895917 -34.68309037795513, -58.442582862115664 -34.68316834924916, -58.44265071016498 -34.683222023391224, -58.44271258671905 -34.683295134026785, -58.44277156629398 -34.683358454639006, -58.44277743867675 -34.683402329944386, -58.442747936586954 -34.68342183294059, -58.44273317855842 -34.683458380759504, -58.44273615667193 -34.68348521227688, -58.442801021040246 -34.68354128094025, -58.44290723399254 -34.68359242547424, -58.442992730766726 -34.68364849738326, -58.443096044458095 -34.68370457119726, -58.443153492255 -34.68376430008181, -58.44319772716798 -34.68381057660631, -58.44324196264506 -34.683859316719406, -58.44328031062836 -34.68393249361239, -58.44330391279588 -34.68398609001536, -58.44336877680824 -34.6840470170731, -58.44340124488708 -34.684107938970655, -58.443454353840245 -34.68412745518754, -58.44350745438421 -34.68418352070976, -58.443551687435836 -34.6842444453193, -58.44355167172476 -34.684312686175765, -58.44365933057225 -34.684384535191434, -58.44367407329539 -34.68441383392663, -58.44370355547791 -34.684482079382136, -58.44373594440947 -34.68451863465501, -58.44376551680032 -34.68456490778426, -58.44379500188061 -34.684620970407835, -58.44381562658961 -34.684655058426095, -58.443842131533614 -34.68469654267132, -58.4438893546811 -34.684730634789, -58.44394535264319 -34.68479402557132, -58.4440103132872 -34.68480861345364, -58.44405454320325 -34.68488664969394, -58.444055225163765 -34.68488700225684, -58.44411353310167 -34.68491827901726, -58.44412230142197 -34.68497194420321, -58.44418196976231 -34.685020122924406, -58.44441296591217 -34.68483944930399, -58.44929570710552 -34.68099422224762, -58.4497833170899 -34.680610181298285, -58.44993507928166 -34.680501110820295, -58.45013329702715 -34.68043465100588, -58.450318887912374 -34.680428332048756, -58.45080807399827 -34.680885856112006, -58.45093151745819 -34.680884177912866, -58.45104763439551 -34.68084446939163, -58.451115585675595 -34.68080151735616, -58.451163682318104 -34.680695744602424, -58.4511978823377 -34.680589829894394, -58.45082427874369 -34.680241969455665, -58.45064119032968 -34.68003828433583, -58.45071221711281 -34.6799432897001, -58.45077582939134 -34.67983829293727, -58.450939783902584 -34.6796995734715, -58.4514784484648 -34.67927602272168, -58.45221226115361 -34.67869910286061, -58.452930120132095 -34.67813471252952, -58.4530719005131 -34.67802429867741, -58.45308520092928 -34.67801394770894, -58.4535193200062 -34.67767587473101, -58.45379162312845 -34.67746384711168, -58.45382521419231 -34.67743765221045, -58.455051413105366 -34.67648271278329, -58.45586301055119 -34.6758455627134, -58.45652020822988 -34.67532959942124, -58.45772716598757 -34.67438202619934, -58.457936022948026 -34.67422498826878, -58.4583549285082 -34.67390478524422, -58.45841980037498 -34.67387457520189, -58.4584507452429 -34.67386013897702, -58.45869855159938 -34.67378761107028, -58.459003640436556 -34.673755788494745, -58.45878269119732 -34.67371303396698, -58.45861229437339 -34.67361006790307, -58.458457159111965 -34.673448227912765, -58.45840116020313 -34.6733368857805, -58.45839724340888 -34.673246742605244, -58.4583159406824 -34.6728891954517, -58.45821093408128 -34.67266038334263, -58.45815365591821 -34.6725736185372, -58.45734049409172 -34.671806172446196, -58.454057481942364 -34.6687077373418, -58.45356100671427 -34.66836057986087, -58.45252985235819 -34.66790295159097, -58.45230066924897 -34.66773884383848, -58.45210976243633 -34.66754311857756, -58.45199523046167 -34.667334863537235, -58.45194172748651 -34.667139220299376, -58.45194268243235 -34.66700189273568, -58.45216505239477 -34.66709860508272, -58.45207755169214 -34.666808730535706, -58.45200863136264 -34.66653005512345, -58.451957165562874 -34.666395470500454, -58.45191414259411 -34.66623285659039, -58.45183882758495 -34.66598058972714, -58.45181598911862 -34.66594072729306, -58.45180022429701 -34.665913119546325, -58.45172395335625 -34.66579958912899, -58.451635921093576 -34.66568105735461, -58.451551124214646 -34.66559294822222, -58.451452004350486 -34.665523923718524, -58.45117219663807 -34.665388682853866, -58.45099875281133 -34.665325213663166, -58.45067615624105 -34.665197221361346, -58.45024651191581 -34.665036681044235, -58.449958179603925 -34.66492890223139, -58.449700309588984 -34.66515810635595, -58.44943758435228 -34.66535935059774, -58.4491490282273 -34.66558045083572, -58.448965407264794 -34.665730082338825), (-58.45336998054752 -34.67754874737764, -58.45300287196994 -34.67783562667783, -58.45211289848337 -34.677067083768236, -58.45138949257846 -34.67644235584929, -58.451922250142566 -34.67602838095589, -58.45193768161132 -34.67601633921501, -58.45195763085959 -34.676000918409386, -58.45282056858535 -34.67533041220353, -58.453451181855435 -34.67484037937367, -58.454271470805466 -34.67419133880354, -58.45504764263252 -34.6748514757735, -58.45590446190439 -34.675580135358786, -58.455025433373066 -34.676263057920806, -58.45420947862416 -34.676896680180015, -58.453866332264475 -34.67716321219801, -58.45336998054752 -34.67754874737764)), ((-58.42618820976416 -34.6638318893147, -58.42622970780662 -34.663856409860394, -58.426241540925474 -34.66388817444404, -58.42630654689674 -34.66395178716755, -58.42634802264271 -34.66402757569135, -58.42642198137364 -34.66408140237448, -58.426518100948336 -34.66413650300388, -58.426538796410654 -34.66417312980508, -58.42660985881056 -34.66422695461251, -58.42669267056711 -34.66430768517454, -58.42677258057784 -34.6643982043717, -58.426849433408854 -34.66446428480522, -58.4269737632375 -34.6645278442855, -58.42705070349178 -34.66458660048471, -58.42708611379065 -34.66469668464507, -58.42718376594554 -34.66476023521171, -58.42726224108965 -34.664820189724956, -58.42731548018925 -34.664896051639595, -58.4273805614051 -34.6649841016114, -58.42746038364766 -34.66508680316978, -58.427543202260665 -34.6651552790852, -58.427694087719836 -34.665309411400386, -58.42778286427436 -34.665402396980284, -58.42781684497436 -34.66546966160855, -58.427896770633936 -34.6655283478077, -58.427955970384645 -34.665621254499946, -58.42806247031288 -34.665726498980156, -58.42816010100141 -34.665843853387145, -58.4282340443612 -34.6659441585576, -58.42830542824399 -34.66604742145736, -58.428386360726485 -34.66614843252163, -58.42847513687346 -34.66624381178674, -58.42850168623506 -34.66635142760427, -58.42852832989447 -34.66643946525359, -58.42860526202094 -34.666525052456535, -58.42864367517182 -34.66659598059716, -58.42867621666708 -34.66664247018533, -58.428778283508585 -34.66675376860137, -58.42887591847485 -34.666868728215775, -58.42897056369098 -34.66699594097919, -58.42905336281983 -34.667123079184684, -58.429118440680995 -34.66722831127858, -58.42918948963404 -34.66732615053728, -58.42930787130409 -34.66735547953319, -58.42938327558671 -34.66743254458537, -58.429421773829134 -34.66750347159239, -58.42948388532289 -34.667571941410934, -58.42955485464083 -34.66765513217351, -58.429614074272926 -34.66770648746756, -58.42973828511716 -34.66787039858927, -58.42981820283367 -34.667958450327326, -58.429920254655585 -34.66811862245235, -58.42998236589966 -34.66818716232185, -58.43010071184753 -34.66831430932647, -58.430162828177316 -34.668370595049566, -58.430260462044984 -34.66849534306647, -58.43025744098537 -34.66859316105, -58.430349220010044 -34.668649454565724, -58.43042905685895 -34.668730181744216, -58.43050310576732 -34.668791330062774, -58.43054297743586 -34.668841482684776, -58.43056664570114 -34.6689148005038, -58.43062287728758 -34.66898333848843, -58.43066129973801 -34.6690346877892, -58.430708661968964 -34.6691154062409, -58.430773763203426 -34.66916922701526, -58.430832898618306 -34.66922304709658, -58.430868411308964 -34.669306156586316, -58.43090980968649 -34.66937955017442, -58.431006016024945 -34.669454154207465, -58.43105927172801 -34.66950311303393, -58.431065133186266 -34.669556918259985, -58.43106809569793 -34.66961072363453, -58.43110950186223 -34.66966446776342, -58.43111544456929 -34.66972566834538, -58.43112667998859 -34.66976975663275, -58.43118012687043 -34.66976406620872, -58.43124558860162 -34.669769787370626, -58.431317958345254 -34.66976558101506, -58.431390662749166 -34.66977954304112, -58.431470618932764 -34.66977463452558, -58.43148237085358 -34.669806468861346, -58.4314794480606 -34.66986999104239, -58.43147055560877 -34.66994337064249, -58.431420175176896 -34.66995314726496, -58.431420154952534 -34.67000695096076, -58.4314586673114 -34.67005097589968, -58.43150008493077 -34.67007542429556, -58.431541494152974 -34.67011944994917, -58.43160217070596 -34.67015742379132, -58.43165842226877 -34.67017694599114, -58.43170570994197 -34.67023076172176, -58.43176492453943 -34.67030415863551, -58.431809225727214 -34.67036776310508, -58.43186255764768 -34.670443553580576, -58.43190396742379 -34.67049004362027, -58.43193352835204 -34.67053899606887, -58.431980905126295 -34.670583023075885, -58.43202520844485 -34.670641697540084, -58.43206073732187 -34.670685722435046, -58.43209771744095 -34.67072361975774, -58.43229168918169 -34.670589298328366, -58.43403025494334 -34.66958575102896, -58.43408558607797 -34.669553792078084, -58.43414475409233 -34.66951964983364, -58.4354876953954 -34.66874444422865, -58.436856272112685 -34.66795444118484, -58.437848268308606 -34.6673817455583, -58.43975199855748 -34.66628265382028, -58.43993247539484 -34.666165431264794, -58.439800735522866 -34.666040615131465, -58.4396637922171 -34.66593044522963, -58.43947391901566 -34.66581547669613, -58.43922549729025 -34.665676974652925, -58.43884071286618 -34.66549048753214, -58.437807713731964 -34.66503907214972, -58.436573854846166 -34.664507250589644, -58.43635900812083 -34.66441466699368, -58.43526655129295 -34.66393835746245, -58.435155508744266 -34.66388755657988, -58.43471064292152 -34.6649978360566, -58.433553980264456 -34.664354168220754, -58.43243448911937 -34.663731202665616, -58.43231143635391 -34.66366377651232, -58.431059536325684 -34.662978580817786, -58.43035560519034 -34.66384517955413, -58.430199746351065 -34.66375957240427, -58.429289143867386 -34.663259383193214, -58.42822142035224 -34.662672803666474, -58.42715609722749 -34.66208762347395, -58.42612708957253 -34.66152230426981, -58.42594653452947 -34.66140999374047, -58.42579767762121 -34.66131741046522, -58.425028783436275 -34.66081251486439, -58.42494205590459 -34.66091939157917, -58.424697988541 -34.661221084573185, -58.424694320689 -34.66122601336198, -58.42469150650871 -34.66122974441355, -58.42461244973552 -34.661334159663454, -58.424124733103355 -34.66194395129578, -58.42401122278924 -34.66208722949071, -58.4240862110841 -34.662120634189776, -58.424126074498545 -34.66217571889175, -58.42419116494157 -34.662231937439145, -58.42425624976532 -34.662302875431465, -58.42438057663273 -34.66235918375342, -58.42443671927767 -34.66241300605387, -58.42451960994916 -34.66250106227355, -58.42454618102593 -34.66254755022282, -58.42462014284555 -34.66259158936335, -58.42473562635522 -34.66260380822951, -58.424806618977655 -34.6626160843797, -58.424877603845225 -34.662645473268945, -58.42497234096817 -34.66273599826828, -58.42508915803394 -34.66281793755762, -58.425177934565745 -34.66289620649147, -58.42527557873519 -34.6629671539484, -58.425376211281694 -34.66302831269161, -58.42543235063908 -34.6630919231751, -58.425556671844866 -34.66316534307077, -58.425630621669754 -34.66323874843558, -58.42568088317375 -34.66329742708486, -58.42577853367826 -34.66335612007299, -58.42584660781202 -34.66341726856024, -58.425924993452085 -34.663482153849955, -58.42598122621224 -34.66352858011096, -58.426022622777964 -34.663589791674035, -58.426072885855106 -34.66364600474318, -58.42614097547499 -34.66367292750814, -58.42619719665551 -34.663746326304654, -58.426203063152464 -34.66378055452179, -58.42618820976416 -34.6638318893147)), ((-58.43574536928957 -34.661642277456316, -58.43486836210042 -34.66234343688301, -58.43374748525013 -34.66183316277223, -58.43253910497462 -34.661282996276924, -58.43180685039675 -34.662070509497234, -58.43173019695311 -34.66215295665368, -58.431059536325684 -34.662978580817786, -58.43231143635391 -34.66366377651232, -58.43243448911937 -34.663731202665616, -58.433553980264456 -34.664354168220754, -58.43471064292152 -34.6649978360566, -58.435155508744266 -34.66388755657988, -58.43526655129295 -34.66393835746245, -58.43635900812083 -34.66441466699368, -58.436573854846166 -34.664507250589644, -58.437807713731964 -34.66503907214972, -58.43884071286618 -34.66549048753214, -58.43922549729025 -34.665676974652925, -58.43947391901566 -34.66581547669613, -58.4396637922171 -34.66593044522963, -58.439800735522866 -34.666040615131465, -58.43993247539484 -34.666165431264794, -58.44015523050394 -34.6660371593074, -58.44035692678048 -34.66624797724229, -58.440947133289995 -34.6667730262163, -58.44215849466406 -34.66580983154163, -58.44133607063292 -34.66509931980263, -58.44038422010151 -34.664277086021514, -58.44026287540472 -34.664172202005005, -58.43943076915304 -34.663451675863655, -58.4386989704789 -34.66281799597905, -58.43753645051404 -34.6618112569093, -58.436575217580355 -34.66097884901318, -58.43574536928957 -34.661642277456316)), ((-58.4386989704789 -34.66281799597905, -58.43943076915304 -34.663451675863655, -58.44026287540472 -34.664172202005005, -58.44038422010151 -34.664277086021514, -58.44133607063292 -34.66509931980263, -58.44215849466406 -34.66580983154163, -58.443130274795564 -34.665037084187205, -58.44433936948132 -34.66407548706879, -58.44456314637361 -34.66389755810781, -58.44344218004395 -34.66342659993123, -58.44216560402462 -34.66295625253312, -58.44210634514373 -34.662944457217726, -58.44205351281119 -34.66294748700928, -58.440713028889895 -34.66242730941347, -58.440718009841035 -34.66237929643971, -58.44071224966846 -34.66232920913667, -58.440686287321455 -34.662269578332385, -58.440645889637615 -34.662217100478834, -58.439901435701216 -34.66186066623193, -58.4401692909104 -34.6616422602758, -58.440073940737186 -34.66163170577891, -58.43844575010022 -34.66104663194058, -58.43715671753669 -34.66051396031304, -58.435577447778 -34.659861277931505, -58.434373474669 -34.659430710838265, -58.43424379715475 -34.65956103677775, -58.43542448286487 -34.66005603792176, -58.43693659901906 -34.66068990421718, -58.43825204918242 -34.66124131701932, -58.43753645051404 -34.6618112569093, -58.4386989704789 -34.66281799597905)), ((-58.43297982479911 -34.66082879712782, -58.43271517455524 -34.6610936686482, -58.43253910497462 -34.661282996276924, -58.43374748525013 -34.66183316277223, -58.43486836210042 -34.66234343688301, -58.43574536928957 -34.661642277456316, -58.436575217580355 -34.66097884901318, -58.43753645051404 -34.6618112569093, -58.43825204918242 -34.66124131701932, -58.43693659901906 -34.66068990421718, -58.43542448286487 -34.66005603792176, -58.43424379715475 -34.65956103677775, -58.433658153468244 -34.660149506049294, -58.433589945832765 -34.66021801215767, -58.43297982479911 -34.66082879712782)), ((-58.43091613312738 -34.65951528373812, -58.43079651118073 -34.65963567845008, -58.43065855492837 -34.65955979485499, -58.429724904633346 -34.65904425111322, -58.42907340746883 -34.65970423086722, -58.42925576487267 -34.65978491684936, -58.43013432160518 -34.66018587016918, -58.430213912196 -34.66022215962682, -58.431262312336784 -34.66070054599454, -58.431350084577986 -34.66074063995941, -58.43230731582101 -34.661177513528145, -58.43253910497462 -34.661282996276924, -58.43271517455524 -34.6610936686482, -58.43297982479911 -34.66082879712782, -58.433589945832765 -34.66021801215767, -58.433658153468244 -34.660149506049294, -58.43424379715475 -34.65956103677775, -58.43413592422702 -34.65948319270022, -58.433697680252266 -34.65922920892369, -58.43326209312201 -34.658941420486684, -58.4332793151742 -34.65892388907798, -58.43321626740147 -34.65886556288698, -58.43313115220596 -34.65878673724593, -58.43263172899425 -34.65851069202966, -58.43235780006324 -34.65806054160274, -58.43216707525325 -34.65825296426732, -58.43147936897842 -34.658946963450944, -58.43091613312738 -34.65951528373812)), ((-58.427828967452555 -34.65789587552431, -58.427280620137886 -34.65828460088263, -58.427137393055446 -34.65838892885255, -58.42687838962379 -34.658577448939575, -58.42678143602277 -34.65869221243425, -58.42774220495448 -34.65911503813663, -58.42907340746883 -34.65970423086722, -58.429724904633346 -34.65904425111322, -58.43065855492837 -34.65955979485499, -58.43079651118073 -34.65963567845008, -58.43091613312738 -34.65951528373812, -58.43147936897842 -34.658946963450944, -58.43216707525325 -34.65825296426732, -58.43235780006324 -34.65806054160274, -58.43263172899425 -34.65851069202966, -58.43313115220596 -34.65878673724593, -58.43321626740147 -34.65886556288698, -58.4332793151742 -34.65892388907798, -58.43326209312201 -34.658941420486684, -58.433697680252266 -34.65922920892369, -58.43413592422702 -34.65948319270022, -58.43424379715475 -34.65956103677775, -58.434373474669 -34.659430710838265, -58.434281188044935 -34.6593843503297, -58.43424838060118 -34.65936821605301, -58.43412508258739 -34.659286072136254, -58.433854963715945 -34.65912163773939, -58.43360930982282 -34.65895108154315, -58.433476130410206 -34.65885956872352, -58.43340293936196 -34.65880067680152, -58.433344836294545 -34.658737421028164, -58.4332949126985 -34.658681281304595, -58.43320826298701 -34.658604708926205, -58.43313576047841 -34.6585280696047, -58.43302296079022 -34.65841148968091, -58.43277318842212 -34.658088392162625, -58.432636851790384 -34.65777701191598, -58.43201746585671 -34.65672950550852, -58.43163086905784 -34.65607551635554, -58.431313862399776 -34.65553936473451, -58.431277663918515 -34.65547829685027, -58.431288336584956 -34.655427523684175, -58.43095850974548 -34.655668360648754, -58.42978498465154 -34.65647377544762, -58.429633577405994 -34.65659000488991, -58.42948387419075 -34.65670503840478, -58.42890595778075 -34.6571220734904, -58.428794790030516 -34.65720162200913, -58.428665548174585 -34.657294124378005, -58.42796954928961 -34.6577947866298, -58.427828967452555 -34.65789587552431)), ((-58.430199746351065 -34.66375957240427, -58.43035560519034 -34.66384517955413, -58.431059536325684 -34.662978580817786, -58.43173019695311 -34.66215295665368, -58.43180685039675 -34.662070509497234, -58.43253910497462 -34.661282996276924, -58.43230731582101 -34.661177513528145, -58.431350084577986 -34.66074063995941, -58.431262312336784 -34.66070054599454, -58.430213912196 -34.66022215962682, -58.43013432160518 -34.66018587016918, -58.42925576487267 -34.65978491684936, -58.42907340746883 -34.65970423086722, -58.42774220495448 -34.65911503813663, -58.42678143602277 -34.65869221243425, -58.42644120989699 -34.65907268569211, -58.42571816172426 -34.65996326667443, -58.425028783436275 -34.66081251486439, -58.42579767762121 -34.66131741046522, -58.42594653452947 -34.66140999374047, -58.42612708957253 -34.66152230426981, -58.42715609722749 -34.66208762347395, -58.42822142035224 -34.662672803666474, -58.429289143867386 -34.663259383193214, -58.430199746351065 -34.66375957240427)), ((-58.452994682717765 -34.676423410046056, -58.453866332264475 -34.67716321219801, -58.45420947862416 -34.676896680180015, -58.455025433373066 -34.676263057920806, -58.454190355130386 -34.67550840643183, -58.453451181855435 -34.67484037937367, -58.45282056858535 -34.67533041220353, -58.45195763085959 -34.676000918409386, -58.45193768161132 -34.67601633921501, -58.452994682717765 -34.676423410046056)), ((-58.45211289848337 -34.677067083768236, -58.45300287196994 -34.67783562667783, -58.45336998054752 -34.67754874737764, -58.453866332264475 -34.67716321219801, -58.452994682717765 -34.676423410046056, -58.45193768161132 -34.67601633921501, -58.451922250142566 -34.67602838095589, -58.45138949257846 -34.67644235584929, -58.45211289848337 -34.677067083768236)), ((-58.458107516409044 -34.657548160258216, -58.458032001726885 -34.657607736683204, -58.457499447474156 -34.657141223695895, -58.45723199484915 -34.6573249492292, -58.45698576148691 -34.65752205603361, -58.4561252001451 -34.65676537254408, -58.45584453180739 -34.6569870536665, -58.45612354414127 -34.657221441553524, -58.45587602987673 -34.65741910854501, -58.45562859952742 -34.65761677593387, -58.45533241514304 -34.657853314161244, -58.455180614184904 -34.657973026868056, -58.45548638652616 -34.658250306182765, -58.45555140952921 -34.658311931042824, -58.45574878186575 -34.65849891940193, -58.45561999389609 -34.658598351720656, -58.45604431467534 -34.658962329000204, -58.45673325878292 -34.659558436866625, -58.457002766684546 -34.65935266896248, -58.45712183780149 -34.65926175689366, -58.457407281878545 -34.6590437356416, -58.4576629791033 -34.65884852954787, -58.457715738500966 -34.658808179089654, -58.45802240201489 -34.6585739594053, -58.458230196642766 -34.658415371859526, -58.458349690546655 -34.65832424675636, -58.45865481770501 -34.658091222510336, -58.45870740485879 -34.65805108254751, -58.45895133449189 -34.65786488766054, -58.45924691146396 -34.657639116351405, -58.45951981720005 -34.65743080808567, -58.46035539700062 -34.65684130441244, -58.4597007092941 -34.65629120419266, -58.459266385248846 -34.656633455976056, -58.459021181072565 -34.65682704504455, -58.45890356522682 -34.65691986107329, -58.458779044571195 -34.657018098883476, -58.45853077039696 -34.657214081961484, -58.45828607445599 -34.65740724767996, -58.458107516409044 -34.657548160258216)), ((-58.4561252001451 -34.65676537254408, -58.45698576148691 -34.65752205603361, -58.45723199484915 -34.6573249492292, -58.457499447474156 -34.657141223695895, -58.458032001726885 -34.657607736683204, -58.458107516409044 -34.657548160258216, -58.45828607445599 -34.65740724767996, -58.45853077039696 -34.657214081961484, -58.458779044571195 -34.657018098883476, -58.45824052349567 -34.65655757531129, -58.4573529442782 -34.65579554756838, -58.45711361938152 -34.65598462592037, -58.456857418631365 -34.65618694323569, -58.45661936898783 -34.656375035400266, -58.45637168839295 -34.656570661671914, -58.4561252001451 -34.65676537254408)), ((-58.45612424372534 -34.6548279262397, -58.45483334364285 -34.655836538923836, -58.454691822652045 -34.65594710127904, -58.4537161116979 -34.656709376881416, -58.45459923894934 -34.65744227564834, -58.45460170962642 -34.657444529394255, -58.45491438044989 -34.65773152897085, -58.45518060872994 -34.65797303137489, -58.45533240859717 -34.65785331866801, -58.45562859407243 -34.657616781342156, -58.455876023330866 -34.65741911395326, -58.45612353759552 -34.65722144606034, -58.45584452198879 -34.656987059976, -58.45612519905412 -34.65676537344545, -58.456371687302 -34.65657066257328, -58.45661936789686 -34.65637503630165, -58.45685741754043 -34.656186944137055, -58.45711361829057 -34.65598462682173, -58.4573529442782 -34.65579554756838, -58.45824052349567 -34.65655757531129, -58.458779044571195 -34.657018098883476, -58.45890356522682 -34.65691986107329, -58.459021181072565 -34.65682704504455, -58.459266385248846 -34.656633455976056, -58.4597007092941 -34.65629120419266, -58.45915673391631 -34.65581878285843, -58.45907193849135 -34.65574511616458, -58.458926040545116 -34.65558151607322, -58.45827750592758 -34.65505633832203, -58.45801681754599 -34.65483202679636, -58.457112982285174 -34.65405034792651, -58.45698335040532 -34.654156471255476, -58.45673687087681 -34.65434921110643, -58.4566872676338 -34.65438794235245, -58.456419223414024 -34.654597441736364, -58.45618475684603 -34.654780673660355, -58.45612424372534 -34.6548279262397)), ((-58.45197473739096 -34.6510784433433, -58.44882821700797 -34.65117503011155, -58.44580479286841 -34.65104661626536, -58.44495072264727 -34.65101029697071, -58.444620252873996 -34.65094799360946, -58.444619996516415 -34.65094806388329, -58.44479063825581 -34.65120365902435, -58.44700730803626 -34.65300908501305, -58.44765617945321 -34.65353706868302, -58.4489541193542 -34.654592884928896, -58.44889759832767 -34.65470464182823, -58.44622924104279 -34.65681824207447, -58.44516074830962 -34.65768867966202, -58.445050360949686 -34.657774299835765, -58.444891726464455 -34.65789730790275, -58.44401321785262 -34.65859395586939, -58.444735216595646 -34.65923365867724, -58.44487036333897 -34.65935340045993, -58.44566966494801 -34.66006198377439, -58.44453088541433 -34.66097071640111, -58.44553771926176 -34.661766024570774, -58.446256787575635 -34.662334096154254, -58.44639092200673 -34.66244003242746, -58.447426129389825 -34.66161922965706, -58.44831367783164 -34.66091558683655, -58.44857204054885 -34.660743076613606, -58.44910940081624 -34.66032031008106, -58.44989625041025 -34.659706083540065, -58.450003824506425 -34.659610105762006, -58.451003075406675 -34.658826805032895, -58.451117122032535 -34.6587441374318, -58.4525811406767 -34.65759480052605, -58.45273592712055 -34.65747586652449, -58.45371611824374 -34.65670937237475, -58.454833344733736 -34.6558365389239, -58.45612424481628 -34.65482792533831, -58.456184757936896 -34.65478067366041, -58.456419223414024 -34.654597441736364, -58.4566872676338 -34.65438794235245, -58.45673687087681 -34.65434921110643, -58.45698335040532 -34.654156471255476, -58.457112982285174 -34.65405034792651, -58.456995211498516 -34.65393111350629, -58.45532811320638 -34.652536197549495, -58.455061816374055 -34.652299272728, -58.454942008214104 -34.65216461353747, -58.4548605523852 -34.65199037835796, -58.454798276729505 -34.651772551036935, -58.4547648117919 -34.651491414267845, -58.45469990517087 -34.6511541476522, -58.45463627801002 -34.650823007211386, -58.453821054152264 -34.65090295281678, -58.4533386184733 -34.65094883306174, -58.45197473739096 -34.6510784433433)), ((-58.44353659689802 -34.66018519134361, -58.44453088541433 -34.66097071640111, -58.44566966494801 -34.66006198377439, -58.44487036333897 -34.65935340045993, -58.444735216595646 -34.65923365867724, -58.44401321785262 -34.65859395586939, -58.444891726464455 -34.65789730790275, -58.445050360949686 -34.657774299835765, -58.44516074830962 -34.65768867966202, -58.44622924104279 -34.65681824207447, -58.44889759832767 -34.65470464182823, -58.4489541193542 -34.654592884928896, -58.44765617945321 -34.65353706868302, -58.44700730803626 -34.65300908501305, -58.44479063825581 -34.65120365902435, -58.444619996516415 -34.65094806388329, -58.4444062390127 -34.651065640248206, -58.4436387245143 -34.651153764928694, -58.44352154324296 -34.651167197747625, -58.44332399679682 -34.65118984298229, -58.44329541324801 -34.65134287121584, -58.44326616152921 -34.65143251683275, -58.443243052487894 -34.65149286683035, -58.443204769371356 -34.65157462344519, -58.44315719644398 -34.65165743503857, -58.44311175750463 -34.65172454217988, -58.44306018446504 -34.65178826793986, -58.443005457648326 -34.651847838460924, -58.442951672280174 -34.651897620442746, -58.4429084556368 -34.65193479756857, -58.44282296302109 -34.65200253179935, -58.44274812403909 -34.65206280294219, -58.4426522316554 -34.652137507036244, -58.44163159030154 -34.6529324280866, -58.44153322357587 -34.65300903288644, -58.44040353759419 -34.65388899642138, -58.439486166671735 -34.65460349225524, -58.438845735486645 -34.65510225596559, -58.4384181361742 -34.65549161856647, -58.43800197552186 -34.655806121560985, -58.43807439987913 -34.65586275701425, -58.438784082198985 -34.656417772583154, -58.43886409088947 -34.65648032515298, -58.43898798195456 -34.65657718302592, -58.439624652564724 -34.657073797226474, -58.440030841099066 -34.65739000858131, -58.44018847718211 -34.657512717367645, -58.44056058334346 -34.657813004943904, -58.441158667848384 -34.65829558945293, -58.44155199829865 -34.65861299050929, -58.4418133393583 -34.65882381661955, -58.44277018674703 -34.659579771084815, -58.44353659689802 -34.66018519134361)), ((-58.44220380841207 -34.66282532597952, -58.44205351281119 -34.66294748700928, -58.44210634514373 -34.662944457217726, -58.44216560402462 -34.66295625253312, -58.44344218004395 -34.66342659993123, -58.44456314637361 -34.66389755810781, -58.44474267973216 -34.66374920090295, -58.44498163014884 -34.66355740036265, -58.44536993056533 -34.663249560418045, -58.44584935664463 -34.66286947667424, -58.44639092200673 -34.66244003242746, -58.446256787575635 -34.662334096154254, -58.44553771926176 -34.661766024570774, -58.44453088541433 -34.66097071640111, -58.44353659689802 -34.66018519134361, -58.44248628021393 -34.661018917764416, -58.441483084836364 -34.66181517610685, -58.442322961249104 -34.662482449360354, -58.44248001416843 -34.66260726794293, -58.44229434172202 -34.66275442371456, -58.44220380841207 -34.66282532597952)), ((-58.440713028889895 -34.66242730941347, -58.44205351281119 -34.66294748700928, -58.44220380841207 -34.66282532597952, -58.44229434172202 -34.66275442371456, -58.44233859143947 -34.66271935369241, -58.44248001416843 -34.66260726794293, -58.442322961249104 -34.662482449360354, -58.441483084836364 -34.66181517610685, -58.44248628021393 -34.661018917764416, -58.44353659689802 -34.66018519134361, -58.44277018674703 -34.659579771084815, -58.4418133393583 -34.65882381661955, -58.44155199829865 -34.65861299050929, -58.441158667848384 -34.65829558945293, -58.44056058334346 -34.657813004943904, -58.44018847718211 -34.657512717367645, -58.440030841099066 -34.65739000858131, -58.439624652564724 -34.657073797226474, -58.43898798195456 -34.65657718302592, -58.43886409088947 -34.65648032515298, -58.438784082198985 -34.656417772583154, -58.43807439987913 -34.65586275701425, -58.43800197552186 -34.655806121560985, -58.437644006283044 -34.65616725539549, -58.437022948347284 -34.6567855226335, -58.438345867141315 -34.65781687801849, -58.439051905065796 -34.658362665865766, -58.4394645748229 -34.658681626962725, -58.44034394625227 -34.659361386709925, -58.44048019801273 -34.65946676652828, -58.4395053896256 -34.66024308420493, -58.438928423808356 -34.660702633211706, -58.43844575010022 -34.66104663194058, -58.440073940737186 -34.66163170577891, -58.4401692909104 -34.6616422602758, -58.439901435701216 -34.66186066623193, -58.440645889637615 -34.662217100478834, -58.440686287321455 -34.662269578332385, -58.44071224966846 -34.66232920913667, -58.440718009841035 -34.66237929643971, -58.440713028889895 -34.66242730941347)), ((-58.43715671753669 -34.66051396031304, -58.43844575010022 -34.66104663194058, -58.438928423808356 -34.660702633211706, -58.4395053896256 -34.66024308420493, -58.44048019801273 -34.65946676652828, -58.44034394625227 -34.659361386709925, -58.4394645748229 -34.658681626962725, -58.439051905065796 -34.658362665865766, -58.438345867141315 -34.65781687801849, -58.437022948347284 -34.6567855226335, -58.436202130351575 -34.657602482256756, -58.43536688925344 -34.65843379913881, -58.435228262446756 -34.6585717286256, -58.434573148738544 -34.65923004773147, -58.434373474669 -34.659430710838265, -58.435577447778 -34.659861277931505, -58.43715671753669 -34.66051396031304)), ((-58.4351804904616 -34.65690054647852, -58.436202130351575 -34.657602482256756, -58.437022948347284 -34.6567855226335, -58.437644006283044 -34.65616725539549, -58.43800197552186 -34.655806121560985, -58.43709795356228 -34.65510154905575, -58.43602129125143 -34.65437073557124, -58.435061073616865 -34.653610148380785, -58.43443357526722 -34.653113019124405, -58.43308278969321 -34.65410040162271, -58.43211780168447 -34.654805675451385, -58.431992659715846 -34.65489649132519, -58.43313953199017 -34.655587146232136, -58.43418638984635 -34.656217553019644, -58.4351804904616 -34.65690054647852)), ((-58.434281188044935 -34.6593843503297, -58.434373474669 -34.659430710838265, -58.434573148738544 -34.65923004773147, -58.435228262446756 -34.6585717286256, -58.43536688925344 -34.65843379913881, -58.436202130351575 -34.657602482256756, -58.4351804904616 -34.65690054647852, -58.43418638984635 -34.656217553019644, -58.43313953199017 -34.655587146232136, -58.431992659715846 -34.65489649132519, -58.43138885112294 -34.65533458926113, -58.431288336584956 -34.655427523684175, -58.431277663918515 -34.65547829685027, -58.431313862399776 -34.65553936473451, -58.43163086905784 -34.65607551635554, -58.43201746585671 -34.65672950550852, -58.432636851790384 -34.65777701191598, -58.43277318842212 -34.658088392162625, -58.43302296079022 -34.65841148968091, -58.43313576047841 -34.6585280696047, -58.43320826298701 -34.658604708926205, -58.4332949126985 -34.658681281304595, -58.433344836294545 -34.658737421028164, -58.43340293936196 -34.65880067680152, -58.433476130410206 -34.65885956872352, -58.43360930982282 -34.65895108154315, -58.433854963715945 -34.65912163773939, -58.43412508258739 -34.659286072136254, -58.43424838060118 -34.65936821605301, -58.434281188044935 -34.6593843503297)), ((-58.45397500199967 -34.66349168671486, -58.454124484855484 -34.663647898450755, -58.454575839032806 -34.66406561622125, -58.4548010892296 -34.66427760991085, -58.454830544285386 -34.6643107635704, -58.45459760594237 -34.66451812330961, -58.45510695043239 -34.66479566768197, -58.45530604324272 -34.66494343041579, -58.455776142649775 -34.66457809696198, -58.456116161533146 -34.66426263904777, -58.45637069393468 -34.6640264945429, -58.45680272770215 -34.6636926700497, -58.45653649683041 -34.6637060016778, -58.456355548058745 -34.66367859788395, -58.45623144812335 -34.66368337976832, -58.45612465252473 -34.66367140213982, -58.45600345081573 -34.66366907165184, -58.45586196491184 -34.66364758448166, -58.45570317784663 -34.663630884561506, -58.4555271732779 -34.66359749341265, -58.455397281463334 -34.663564033567326, -58.455296198462925 -34.66352825234658, -58.4551594015599 -34.66348782105572, -58.454863301438806 -34.66325380419924, -58.45473481086134 -34.66312174421749, -58.45458133568775 -34.66286119323417, -58.45454416031182 -34.66289889404423, -58.454508617787525 -34.662928609167, -58.4543237320972 -34.66308317865286, -58.45415887202569 -34.663288102340594, -58.45397500199967 -34.66349168671486)), ((-58.45392749418819 -34.65991911054873, -58.45354246475603 -34.65967045207057, -58.45347821930904 -34.65972755913471, -58.453241192161805 -34.65953273144659, -58.453603142073305 -34.65921359476454, -58.45327120726351 -34.65899230489102, -58.4530552864 -34.658752973313845, -58.45263481113963 -34.65911013285497, -58.45214639711363 -34.65952496411693, -58.45245847879878 -34.659744856399925, -58.45276941783733 -34.65996393108539, -58.45337095526556 -34.660387763557765, -58.453790409010416 -34.66003454614665, -58.45392749418819 -34.65991911054873)), ((-58.453562352196464 -34.65832229979574, -58.45388056927125 -34.65858588825216, -58.45415949777488 -34.658816929941096, -58.45447600765532 -34.659079002632865, -58.45555140493856 -34.65831193477998, -58.455486380094584 -34.658250311159, -58.45518060775333 -34.65797303094291, -58.454914380564176 -34.65773152944073, -58.454601708649875 -34.657444529864016, -58.45392647838942 -34.658014784536604, -58.453562352196464 -34.65832229979574)), ((-58.45164837308808 -34.65920398762102, -58.45214640908587 -34.659524956113486, -58.452634820929646 -34.65911012665388, -58.45305529400823 -34.658752968014014, -58.45356236409161 -34.65832229177949, -58.453105579199466 -34.65798365787085, -58.45301780446968 -34.657918581017476, -58.45258113522174 -34.65759480413133, -58.45214334292404 -34.657938495006775, -58.451117119850444 -34.658744139234464, -58.451003073224726 -34.658826805934105, -58.4513493167503 -34.65910473406826, -58.4513720709683 -34.659122975768874, -58.45146376641993 -34.65919650778905, -58.45160822938993 -34.659202365003054, -58.45164837308808 -34.65920398762102)), ((-58.45075900987791 -34.66041006263027, -58.450917945225534 -34.66053881343648, -58.45108995824625 -34.66040150304215, -58.45135454176351 -34.6601811701219, -58.451373635357605 -34.66016532561857, -58.45193399546988 -34.659698885148195, -58.45214640908587 -34.659524956113486, -58.45164837308808 -34.65920398762102, -58.45160823048099 -34.6592023641017, -58.45146376860203 -34.659196505986394, -58.45137207315039 -34.6591229739662, -58.451349318932394 -34.6591047322656, -58.451003075406675 -34.658826805032895, -58.450003824506425 -34.659610105762006, -58.44989625041025 -34.659706083540065, -58.45023141609803 -34.65997957589346, -58.45075900987791 -34.66041006263027)), ((-58.45194306754287 -34.66137146735477, -58.452065786584136 -34.66147626960436, -58.452327131833854 -34.661256427413406, -58.452551397028174 -34.66106784955135, -58.4528691621797 -34.66080416159819, -58.45305608891218 -34.66064904544921, -58.45337095850956 -34.66038776096212, -58.45245848422493 -34.65974485110004, -58.452146407994825 -34.65952495701483, -58.45193399437882 -34.65969888604954, -58.451373634266545 -34.66016532651991, -58.45135453849044 -34.66018117192445, -58.45108995279103 -34.66040150664736, -58.450917939770186 -34.66053881794312, -58.451102953914514 -34.660688628479754, -58.45122687258774 -34.66078934460569, -58.45194306754287 -34.66137146735477)), ((-58.44772762676256 -34.66521485323497, -58.448965407264794 -34.665730082338825, -58.4491490282273 -34.66558045083572, -58.44943758435228 -34.66535935059774, -58.449700309588984 -34.66515810635595, -58.449958179603925 -34.66492890223139, -58.45073603779407 -34.664281921687675, -58.45086808072747 -34.66417418554029, -58.451291312846045 -34.66382865390857, -58.45168596144449 -34.66369396851588, -58.45100794912434 -34.66313351135497, -58.45087361423099 -34.66302246632993, -58.45078464143525 -34.66294893417785, -58.45049522759734 -34.662709674534604, -58.44935957315518 -34.66177093949417, -58.44947925249012 -34.66167531599572, -58.45013978727822 -34.66115783669175, -58.44910940081624 -34.66032031008106, -58.44857204054885 -34.660743076613606, -58.44831367783164 -34.66091558683655, -58.447426129389825 -34.66161922965706, -58.44639092200673 -34.66244003242746, -58.44584935664463 -34.66286947667424, -58.44536993056533 -34.663249560418045, -58.44498163014884 -34.66355740036265, -58.44474267973216 -34.66374920090295, -58.44456314637361 -34.66389755810781, -58.445278277987114 -34.664195276387844, -58.44772762676256 -34.66521485323497)), ((-58.45523672681847 -34.66224998232542, -58.45518589401229 -34.66232598885064, -58.45487995850204 -34.6620807764995, -58.45477711833527 -34.661936220725494, -58.45459561300313 -34.66184397246486, -58.45453749681241 -34.662051282634515, -58.454481396095666 -34.662361507593104, -58.45447929734783 -34.66241396177866, -58.454474257712505 -34.66253996720512, -58.45449567381436 -34.66264704253824, -58.45458133456765 -34.66286119334264, -58.45473480974124 -34.66312174432592, -58.45486330031872 -34.6632538043078, -58.45515939607563 -34.66348782476956, -58.45529618970546 -34.663528258764586, -58.455397272705866 -34.663564039985395, -58.45552716561147 -34.66359749983079, -58.45570316908929 -34.66363089097948, -58.455861957245595 -34.66364758999843, -58.45600344205845 -34.66366907806995, -58.456124643767495 -34.663671408557946, -58.45623144045717 -34.66368338618654, -58.45635554039253 -34.66367860340047, -58.45653648807339 -34.66370600809587, -58.45680272112709 -34.66369267466516, -58.45708829037939 -34.66394325642918, -58.457409678118594 -34.66366955825159, -58.4577098444783 -34.66389998678489, -58.45821665948872 -34.664289054495114, -58.457872860880315 -34.66456059405659, -58.457490808758266 -34.664862346995825, -58.45714675556018 -34.665134088196645, -58.45677279936429 -34.665429447174716, -58.45635571893593 -34.6657589417681, -58.45575715432759 -34.66624607515686, -58.455699476561875 -34.66609000162765, -58.45571851275833 -34.66582826127925, -58.45576124042991 -34.66560200711867, -58.455088673460644 -34.66513053902175, -58.454436839004295 -34.66472203538859, -58.454024846791846 -34.66442326690906, -58.45360552875987 -34.6641199181049, -58.45291680670843 -34.66368527642229, -58.45229901260507 -34.66319394493926, -58.451685951624825 -34.66369397482503, -58.45129129975282 -34.663828663823075, -58.45086806654316 -34.664174195454656, -58.4507360236096 -34.664281932503464, -58.4499581665104 -34.664928912145776, -58.4502464988223 -34.66503669095867, -58.45067614314756 -34.66519723127582, -58.45099873862684 -34.66532522357754, -58.451172182453604 -34.665388692768246, -58.45145199125702 -34.665523933633075, -58.45155111003006 -34.66559295903812, -58.451635906909104 -34.66568106726908, -58.451723940262774 -34.665799599043574, -58.45180021011241 -34.665913130362235, -58.45181597602504 -34.66594073810907, -58.45183881340035 -34.665980600543065, -58.45191412950061 -34.66623286650497, -58.45195715246935 -34.666395480415055, -58.45200861717795 -34.66653006593936, -58.45207754296302 -34.66680873774641, -58.45216505130372 -34.667098605082636, -58.45194268243235 -34.66700189273568, -58.45194172748651 -34.667139220299376, -58.45199523046167 -34.667334863537235, -58.45210976243633 -34.66754311857756, -58.45230066924897 -34.66773884383848, -58.45252985235819 -34.66790295159097, -58.45356100671427 -34.66836057986087, -58.454057481942364 -34.6687077373418, -58.45734049409172 -34.671806172446196, -58.45815365591821 -34.6725736185372, -58.45821093408128 -34.67266038334263, -58.4583159406824 -34.6728891954517, -58.45839724340888 -34.673246742605244, -58.45840116020313 -34.6733368857805, -58.458457159111965 -34.673448227912765, -58.45861229437339 -34.67361006790307, -58.45878269119732 -34.67371303396698, -58.459003640436556 -34.673755788494745, -58.45922697911433 -34.673728188759156, -58.459405312086815 -34.673652346461495, -58.45954656477826 -34.673534672073885, -58.45963692759053 -34.67338671269948, -58.45966523440333 -34.6732348782791, -58.45976600101579 -34.672945648688945, -58.459809563545 -34.67284867564688, -58.45986514543177 -34.672755927872316, -58.459932148682434 -34.672668533024925, -58.460029754392636 -34.672566631191536, -58.46060588462466 -34.672126531622695, -58.46165116459085 -34.67132803443185, -58.46186870046657 -34.671147539039445, -58.461963362516855 -34.671060310904096, -58.46210149331609 -34.67093302874266, -58.46197610467085 -34.6708775341843, -58.46184577037879 -34.67081753320966, -58.46215390633822 -34.67064507324821, -58.462377577865475 -34.6704273217216, -58.46251336560983 -34.67026886759638, -58.4627050712333 -34.67000491797245, -58.4628289235999 -34.669856392745814, -58.46295320211954 -34.66970427608813, -58.463044578280694 -34.669592442542466, -58.463081231292094 -34.66955990618566, -58.463372069316186 -34.66930200824077, -58.4634143509269 -34.66927932980017, -58.4636342655573 -34.66916150767919, -58.463667682244704 -34.66914361761919, -58.46368865568177 -34.6691479803769, -58.46390149751051 -34.669191993537005, -58.46400779126228 -34.669239880963644, -58.46409797523429 -34.669327699170275, -58.46415278554956 -34.669444884552874, -58.464175375857046 -34.66956199999117, -58.46415313057236 -34.66964650940684, -58.46422259940253 -34.66957221082, -58.46430357401535 -34.66947572872803, -58.464352585244434 -34.669404176992515, -58.464456232905064 -34.66925910194943, -58.46465440811889 -34.66901585319042, -58.46479572995397 -34.6688717625038, -58.46482172689578 -34.6688452825177, -58.46500950323497 -34.668673162566165, -58.46529146404557 -34.6684468832768, -58.465909847976086 -34.667964039517926, -58.4677520014438 -34.666525701147215, -58.46794053395054 -34.666378436259734, -58.46913078507885 -34.66547553888992, -58.470162141311604 -34.66466679773827, -58.470419007040725 -34.66433782949826, -58.47045792849947 -34.66401281852621, -58.470425099120426 -34.663855563137034, -58.47039381028772 -34.66376859137246, -58.47018420768034 -34.66360944491814, -58.46997896409206 -34.66358459765817, -58.46965533836925 -34.663642575910494, -58.46964127632824 -34.66365159102987, -58.46938260627923 -34.663818017902464, -58.469268312055235 -34.66385640527538, -58.46889021333601 -34.66381853698003, -58.46865564724976 -34.66376432213406, -58.4684820217663 -34.66367904603047, -58.46847298024001 -34.66367137437292, -58.468299090214366 -34.66352398846682, -58.46735602655498 -34.66271773968305, -58.467169784538 -34.66255696725093, -58.46683054692116 -34.662264155346655, -58.465718133142474 -34.66130606031408, -58.46561536107696 -34.661217543078905, -58.4645410033863 -34.660116689911526, -58.46442509010743 -34.6600653523314, -58.464084529481546 -34.65977987124603, -58.4640612409925 -34.65976034828592, -58.463179881469614 -34.65908301320791, -58.4624728271248 -34.65857462042661, -58.461934275197194 -34.658152282646604, -58.461580328964644 -34.65787846974789, -58.4607513394745 -34.65717851124505, -58.46047188783678 -34.656939556461836, -58.46035538609147 -34.65684131162368, -58.45951980629071 -34.65743081619825, -58.45924690164549 -34.65763912356259, -58.45895132358242 -34.65786489577307, -58.45870739394928 -34.658051090660045, -58.458654806795494 -34.65809123062287, -58.458349680727984 -34.6583242548689, -58.45823018573322 -34.65841537907059, -58.45802239219616 -34.65857396751782, -58.45771572759127 -34.65880818720209, -58.457662969284506 -34.65884853766036, -58.45740727205971 -34.65904374375408, -58.45712182689168 -34.65926176500604, -58.45700275577472 -34.65935267707486, -58.45673324787309 -34.659558444077554, -58.456728219498494 -34.659562246974666, -58.45731402050383 -34.660163210534655, -58.45726997561999 -34.660236233612316, -58.457073334779 -34.66047813306412, -58.45686791698393 -34.66067671975362, -58.45672122585763 -34.66081854760088, -58.45643969929695 -34.660961917080186, -58.45617505216541 -34.66109000212654, -58.455521907844144 -34.661602288969746, -58.455460508681405 -34.66172828931988, -58.45537746606443 -34.66199956132501, -58.45534864729401 -34.662121816310034, -58.45523672681847 -34.66224998232542)), ((-58.4574096770275 -34.663669560054416, -58.45708828819729 -34.66394325823191, -58.456802727673306 -34.663692670158326, -58.45637068954171 -34.66402649735534, -58.456116162595386 -34.664262638254776, -58.4557761393476 -34.6645780988733, -58.455306043213746 -34.66494343052446, -58.455088677824975 -34.66513053541632, -58.45576124042998 -34.66560200621722, -58.455718511667314 -34.66582826127919, -58.455699475470794 -34.66609000252903, -58.45575715432759 -34.66624607515686, -58.456355727664594 -34.665758934557104, -58.45677280700186 -34.665429439963624, -58.45714675556018 -34.665134088196645, -58.457490808758266 -34.664862346995825, -58.45787286197137 -34.66456059315521, -58.45821666057975 -34.66428905359373, -58.45770984120518 -34.66389998948908, -58.4574096770275 -34.663669560054416)), ((-58.446643838488015 -34.66536176134142, -58.44670616238586 -34.66571318719771, -58.44686257334929 -34.665694756215345, -58.44692396311899 -34.66603625165123, -58.44671726152879 -34.66606397168962, -58.44680514102802 -34.66650223388355, -58.446974351052 -34.66731572726744, -58.448965407264794 -34.665730082338825, -58.44772762676256 -34.66521485323497, -58.446643838488015 -34.66536176134142)), ((-58.445278277987114 -34.664195276387844, -58.445385269165406 -34.664904323511585, -58.445260139948374 -34.66493085554146, -58.44527444263816 -34.665010648705035, -58.445349450299325 -34.66500474330721, -58.44542085751907 -34.66550392116742, -58.4461590916025 -34.665440501484994, -58.44618054791759 -34.6655586757553, -58.44633073486802 -34.66554390712744, -58.4463021226315 -34.665408054848804, -58.446643838488015 -34.66536176134142, -58.44772762676256 -34.66521485323497, -58.445278277987114 -34.664195276387844)), ((-58.44456314637361 -34.66389755810781, -58.44433936948132 -34.66407548706879, -58.443130274795564 -34.665037084187205, -58.44348495403724 -34.66532693732585, -58.44412313243819 -34.66559824002054, -58.44542085751907 -34.66550392116742, -58.445349450299325 -34.66500474330721, -58.44527444263816 -34.665010648705035, -58.445260139948374 -34.66493085554146, -58.445385269165406 -34.664904323511585, -58.445278277987114 -34.664195276387844, -58.44456314637361 -34.66389755810781)), ((-58.44542085751907 -34.66550392116742, -58.44412313243819 -34.66559824002054, -58.44522290878415 -34.66606699375244, -58.445273937616506 -34.666338856543184, -58.446133432596255 -34.66631537959592, -58.44617250597781 -34.66656461625071, -58.44680514102802 -34.66650223388355, -58.44671726152879 -34.66606397168962, -58.44692396311899 -34.66603625165123, -58.44686257334929 -34.665694756215345, -58.44670616238586 -34.66571318719771, -58.446643838488015 -34.66536176134142, -58.4463021226315 -34.665408054848804, -58.44633073486802 -34.66554390712744, -58.44618054791759 -34.6655586757553, -58.4461590916025 -34.665440501484994, -58.44542085751907 -34.66550392116742)), ((-58.445273937616506 -34.666338856543184, -58.44475984714474 -34.66701545673365, -58.44499429640282 -34.66711689481542, -58.44525627886434 -34.66708605134917, -58.44528419884901 -34.66726598913356, -58.44570314621114 -34.667224568000904, -58.44577567736032 -34.667667618015884, -58.4460717999271 -34.66763075597437, -58.446334462641765 -34.66782530414007, -58.446974351052 -34.66731572726744, -58.44680514102802 -34.66650223388355, -58.44617250597781 -34.66656461625071, -58.446133432596255 -34.66631537959592, -58.445273937616506 -34.666338856543184)), ((-58.44465288631015 -34.66735589620949, -58.444664297571954 -34.66745088621374, -58.444680889950924 -34.667546975826006, -58.44470615604455 -34.667764489495305, -58.4455729111703 -34.668431763519095, -58.446334462641765 -34.66782530414007, -58.4460717999271 -34.66763075597437, -58.44577567736032 -34.667667618015884, -58.44570314621114 -34.667224568000904, -58.44528419884901 -34.66726598913356, -58.44525627886434 -34.66708605134917, -58.44499429640282 -34.66711689481542, -58.44475984714474 -34.66701545673365, -58.44465288631015 -34.66735589620949)), ((-58.442617840046225 -34.66823574437875, -58.442685419439194 -34.66829441882492, -58.44308842706703 -34.66864435225376, -58.443415143001815 -34.669021667675494, -58.4434383217136 -34.669048502433085, -58.44391152413232 -34.66961556281934, -58.444321664897736 -34.66937181622014, -58.44448295390424 -34.66929289490909, -58.4455729111703 -34.668431763519095, -58.44470615604455 -34.667764489495305, -58.44405793966435 -34.6678265962578, -58.4440825426256 -34.667967941717905, -58.44393456669703 -34.667983200992765, -58.44389600154213 -34.66777121810568, -58.44316975937927 -34.66785413475136, -58.442617840046225 -34.66823574437875)), ((-58.44198372228872 -34.66768463849019, -58.44244586550782 -34.66808648671278, -58.442617840046225 -34.66823574437875, -58.44316975937927 -34.66785413475136, -58.44389600154213 -34.66777121810568, -58.44393456669703 -34.667983200992765, -58.4440825426256 -34.667967941717905, -58.44405793966435 -34.6678265962578, -58.44470615604455 -34.667764489495305, -58.444680889950924 -34.667546975826006, -58.444664297571954 -34.66745088621374, -58.44465288631015 -34.66735589620949, -58.44403484382627 -34.66743087885322, -58.44404693153431 -34.66750327734859, -58.44383681676776 -34.6675269779005, -58.44382899023461 -34.66746197448457, -58.44361111734686 -34.66748961720808, -58.44358881038861 -34.6673788368306, -58.44285148857947 -34.66747104540756, -58.442873796778606 -34.66757260067143, -58.44198372228872 -34.66768463849019)), ((-58.44133717103463 -34.66711993529639, -58.4414615889798 -34.66723059329801, -58.44198372228872 -34.66768463849019, -58.442873796778606 -34.66757260067143, -58.44285148857947 -34.66747104540756, -58.44358881038861 -34.6673788368306, -58.44361111734686 -34.66748961720808, -58.44382899023461 -34.66746197448457, -58.44383681676776 -34.6675269779005, -58.44404693153431 -34.66750327734859, -58.44403484382627 -34.66743087885322, -58.44465288631015 -34.66735589620949, -58.44475984714474 -34.66701545673365, -58.4439185767018 -34.666695842047474, -58.4428013440893 -34.66686179590274, -58.4428292763124 -34.66696793047219, -58.44276219441929 -34.66697256729989, -58.44275665971298 -34.666949467217854, -58.44133717103463 -34.66711993529639)), ((-58.443130274795564 -34.665037084187205, -58.44215849466406 -34.66580983154163, -58.440947133289995 -34.6667730262163, -58.44133717103463 -34.66711993529639, -58.44275665971298 -34.666949467217854, -58.44276219441929 -34.66697256729989, -58.4428292763124 -34.66696793047219, -58.4428013440893 -34.66686179590274, -58.4439185767018 -34.666695842047474, -58.44475984714474 -34.66701545673365, -58.445273937616506 -34.666338856543184, -58.44522290878415 -34.66606699375244, -58.44412313243819 -34.66559824002054, -58.44348495403724 -34.66532693732585, -58.443130274795564 -34.665037084187205)), ((-58.47099223019292 -34.662024422024, -58.4715702085405 -34.662240091322545, -58.47164682943208 -34.66222114122907, -58.471838735488355 -34.66266529317767, -58.47202664172702 -34.66315670086063, -58.47252716908624 -34.66278362378614, -58.47123867368767 -34.65991082777008, -58.47056760614076 -34.6584079461282, -58.470111495100426 -34.65872530690766, -58.46986963111475 -34.658885114705534, -58.4696794127249 -34.65901865043021, -58.469549021008724 -34.65911020910945, -58.46909324280768 -34.659430172066145, -58.46862928060761 -34.65975597858823, -58.46902025558826 -34.660138574611345, -58.46938898807044 -34.66049941000398, -58.46952894663641 -34.66063644789214, -58.46987424358003 -34.66097432452138, -58.47000056566346 -34.661097841176414, -58.4706740358916 -34.66175605537663, -58.47076967413834 -34.661849502349625, -58.47086326682427 -34.661940695803025, -58.47099223019292 -34.662024422024)), ((-58.46987424358003 -34.66097432452138, -58.46914070454226 -34.66148564607701, -58.46883857641476 -34.66169623079309, -58.46913060037374 -34.661983406587815, -58.469595490350116 -34.66243254762506, -58.469641093280195 -34.66247698292939, -58.4706740358916 -34.66175605537663, -58.47000056566346 -34.661097841176414, -58.46987424358003 -34.66097432452138)), ((-58.467600266041764 -34.66047843755701, -58.46883857641476 -34.66169623079309, -58.46914070454226 -34.66148564607701, -58.46987424358003 -34.66097432452138, -58.46952894663641 -34.66063644789214, -58.46938898807044 -34.66049941000398, -58.46902025558826 -34.660138574611345, -58.46862928060761 -34.65975597858823, -58.46847357484849 -34.659865284735055, -58.46788722283515 -34.66027701236161, -58.467600266041764 -34.66047843755701)), ((-58.468299100032674 -34.663523980353474, -58.46847298569469 -34.66367137076695, -58.4684820217663 -34.66367904603047, -58.46865564724976 -34.66376432213406, -58.46889021333601 -34.66381853698003, -58.469268312055235 -34.66385640527538, -58.46938260627923 -34.663818017902464, -58.46964127632824 -34.66365159102987, -58.46965533836925 -34.663642575910494, -58.46997896409206 -34.66358459765817, -58.47018420768034 -34.66360944491814, -58.470152489502574 -34.6634876832549, -58.47009102853898 -34.66339655764714, -58.470042267438686 -34.66330120623185, -58.46998003258708 -34.663127895265745, -58.46991531709595 -34.66285366730492, -58.46982350467968 -34.662658033129496, -58.46968260369377 -34.662517404374235, -58.469641093280195 -34.66247698292939, -58.469595490350116 -34.66243254762506, -58.46913060037374 -34.661983406587815, -58.46883857641476 -34.66169623079309, -58.467600266041764 -34.66047843755701, -58.46788722283515 -34.66027701236161, -58.46847357484849 -34.659865284735055, -58.46862928060761 -34.65975597858823, -58.46909324280768 -34.659430172066145, -58.46955600907017 -34.659105278782526, -58.46765497614209 -34.65749737016528, -58.467023471016574 -34.65799501297202, -58.46468930645136 -34.659834207531794, -58.46452899432455 -34.66001689071626, -58.46442510101665 -34.66006534421837, -58.464541014295506 -34.66011668179846, -58.46561537198622 -34.66121753496577, -58.46571814405173 -34.66130605220091, -58.46683055783043 -34.66226414723341, -58.46716979544731 -34.6625569600391, -58.46735603637329 -34.662717731569785, -58.468299100032674 -34.663523980353474)), ((-58.46448445196621 -34.67790326209832, -58.46456162706534 -34.67799180026893, -58.46473806322895 -34.677860652047485, -58.46465289839855 -34.67776705979861, -58.463808772002814 -34.67706470337254, -58.462816830485 -34.67623936727923, -58.4618292120633 -34.67541757196345, -58.46086715927498 -34.67461684165571, -58.46016975263223 -34.67403632614329, -58.460067121120765 -34.67395413876958, -58.45998554591053 -34.67388152947578, -58.45991224069743 -34.6738008191618, -58.46046259478922 -34.6733661635055, -58.46088293692606 -34.67297120786906, -58.4612417832158 -34.672674514071566, -58.461589345106034 -34.67236841537795, -58.46220070438055 -34.67199122662437, -58.46199726381563 -34.67172555528195, -58.46179666375826 -34.67146360615076, -58.46205040338856 -34.67122818022015, -58.461868699404114 -34.67114753893049, -58.461651159164106 -34.67132803792857, -58.460605879197985 -34.67212653602066, -58.46002974896605 -34.67256663558934, -58.4599321432558 -34.6726685374228, -58.45986514000516 -34.67275593227014, -58.4598095581184 -34.672848679143264, -58.45976599668033 -34.672945653086785, -58.45966522570338 -34.67323488447959, -58.45963691670826 -34.673386720702744, -58.459546553896004 -34.67353467917579, -58.45940530120455 -34.67365235446472, -58.45922696823207 -34.67372819676237, -58.45900362955425 -34.673755796497986, -58.45942515505724 -34.673848768549874, -58.45961149559038 -34.67389666189729, -58.4599633735244 -34.67413956339329, -58.46032053763003 -34.67442774731363, -58.46108550728002 -34.6750624928754, -58.46119726177045 -34.6751555245951, -58.46197869586062 -34.675803857340966, -58.462361448297095 -34.6761214724484, -58.463184330865936 -34.6768041644842, -58.463238803912645 -34.67684944668261, -58.463918228176894 -34.67741424344634, -58.464296391719664 -34.677728542390035, -58.4643315138272 -34.677761078128995, -58.46436126621628 -34.67778875432352, -58.46448445196621 -34.67790326209832)), ((-58.4601697580588 -34.67403632174554, -58.460867163610466 -34.67461683906082, -58.46094237306907 -34.674558213853814, -58.46142305588383 -34.67416111008056, -58.461804136258806 -34.67382482319682, -58.46088319003853 -34.67297099975151, -58.4608829379883 -34.67297120707676, -58.46046259476019 -34.673366162713194, -58.45991224394171 -34.67380081746836, -58.45998555133715 -34.67388152597943, -58.46006712654737 -34.673954134371805, -58.4601697580588 -34.67403632174554)), ((-58.461423058095036 -34.67416110997131, -58.46240172680073 -34.674944601551104, -58.462806155887755 -34.67462470233795, -58.46280878659635 -34.674622621834835, -58.46326941082735 -34.67428933837177, -58.463230183337984 -34.674214026757305, -58.462989710001914 -34.67402134685024, -58.4627961209796 -34.67385549840869, -58.46256655978991 -34.67364084528241, -58.462513182402894 -34.673582073293446, -58.46239769393076 -34.67345485376129, -58.46238501421584 -34.67342491542445, -58.462276479241154 -34.67316864925847, -58.46212057054646 -34.67301836394353, -58.46193431701217 -34.67282159687956, -58.46183910193493 -34.67269638214626, -58.461589346197094 -34.67236841447653, -58.461241784306985 -34.67267451317014, -58.46088319006748 -34.67297099964234, -58.4618041362877 -34.673824823087635, -58.461423058095036 -34.67416110997131)), ((-58.46182921533674 -34.675417569259146, -58.46281683484962 -34.6762393645749, -58.46339224267179 -34.67581714458781, -58.463833275527804 -34.67549352159777, -58.46380807102706 -34.67531044949739, -58.46377311565138 -34.67516538356826, -58.4635623859468 -34.674769177856135, -58.46330597763585 -34.674355823064516, -58.46326941191846 -34.674289337470334, -58.46280878768749 -34.674622620933405, -58.462401724618516 -34.674944602452534, -58.46182921533674 -34.675417569259146)), ((-58.46465290273441 -34.67776705630222, -58.46473806647363 -34.677860648551174, -58.464975732402436 -34.67766585079425, -58.465044355501654 -34.67760965166027, -58.46460063315825 -34.67722612896756, -58.46457139224032 -34.6771804242252, -58.464783569797575 -34.677005133249764, -58.464804467323646 -34.67699056488344, -58.46484195235187 -34.676964434484155, -58.46474750848198 -34.676623514435306, -58.464758578844844 -34.676559420781324, -58.46483784649147 -34.67629174341163, -58.46480110788723 -34.67622255389452, -58.46478354936997 -34.676189479829986, -58.46472293652037 -34.67607497130282, -58.464597366486615 -34.6759461670923, -58.46448475510221 -34.67586032200987, -58.464194577503235 -34.67576018244869, -58.46392211049228 -34.67563004423056, -58.46383327549914 -34.675493522608505, -58.463392242642946 -34.67581714469714, -58.462816834820714 -34.67623936468432, -58.46380877742981 -34.677064699876176, -58.46425401173799 -34.677435157415104, -58.46465290273441 -34.67776705630222)), ((-58.48631787268285 -34.673420100253495, -58.48645063287944 -34.67354669736256, -58.486570449076055 -34.673656363604266, -58.48662994583357 -34.67371082086442, -58.48664782611048 -34.67372649863443, -58.48722006947007 -34.674228251654675, -58.48785513531203 -34.674785178156284, -58.4879179402633 -34.67471861439681, -58.488005203231694 -34.674628453300016, -58.488097917520534 -34.67452476955151, -58.488217902814604 -34.67439854427089, -58.48836158010471 -34.6742571725615, -58.48839095589647 -34.67414589563263, -58.48834396273832 -34.67410114320697, -58.48834827685804 -34.674047479256714, -58.48841400099319 -34.67373120942465, -58.48846421876519 -34.673682544122364, -58.488500675310966 -34.67342622101617, -58.48870094723332 -34.6734586876478, -58.488784928746966 -34.67317205091746, -58.48883341887121 -34.67303000936064, -58.4888994271644 -34.67277561514039, -58.48890126191202 -34.67276854399388, -58.4888314877555 -34.67271091590516, -58.48821413596081 -34.672122996496526, -58.48817115979339 -34.672076384623985, -58.48758550735202 -34.671426545526096, -58.48739213503818 -34.67121197702417, -58.48652097703795 -34.67194388280828, -58.486728143158714 -34.6721133316335, -58.48734779862689 -34.672620159504326, -58.48631787268285 -34.673420100253495)), ((-58.452418905126926 -34.66240037000703, -58.4520402252133 -34.66270243017041, -58.45178862743358 -34.66249791732214, -58.451007944878334 -34.663133514525484, -58.45168595401368 -34.663693974064145, -58.45229901390186 -34.66319394417901, -58.45247179750513 -34.66305325069016, -58.45314552996544 -34.66258125069479, -58.453252254135876 -34.66248970579677, -58.453447456401854 -34.66232232016175, -58.45352136007445 -34.66225887304824, -58.453635325448886 -34.66216113299192, -58.45376642190619 -34.66204867595248, -58.45364975397441 -34.6619344376547, -58.45324962850226 -34.66161651164309, -58.45261096811453 -34.66110898234679, -58.45255139272251 -34.661067852038485, -58.45232713189233 -34.661256427196506, -58.45206578664276 -34.66147626938743, -58.45253676070655 -34.66187859633963, -58.45218148200549 -34.662178535100665, -58.452418905126926 -34.66240037000703)), ((-58.467274512474965 -34.67293842055487, -58.46667293046665 -34.67238568008221, -58.46680530640473 -34.67227158811333, -58.46631132259431 -34.67217787058852, -58.46579603168266 -34.672094995521434, -58.46578477914669 -34.672093165001236, -58.46442457018866 -34.67181938229634, -58.46443914789297 -34.671905862635064, -58.46475857915537 -34.672318262542305, -58.46502750178486 -34.672493191668224, -58.46513933538927 -34.67260264766693, -58.465364642958804 -34.67273896512714, -58.465444687706544 -34.672780231738706, -58.46567458479712 -34.672727056372395, -58.466097216842385 -34.67271563682374, -58.466219199471794 -34.67275359169815, -58.46645071130197 -34.67297720895278, -58.4666749212401 -34.67319376779786, -58.466816263826445 -34.67333027932886, -58.466942891780306 -34.67322509948692, -58.467274512474965 -34.67293842055487)), ((-58.46330597551101 -34.67435582464914, -58.46356238278817 -34.674769181025205, -58.463773111401686 -34.67516538583572, -58.46380541298416 -34.675299439017756, -58.46383327127806 -34.675493524766594, -58.463922107362464 -34.675630046388655, -58.464194573282086 -34.675760184606865, -58.46448475197209 -34.67586032416806, -58.4645973633564 -34.675946170151875, -58.46472293339008 -34.67607497346088, -58.464783546239694 -34.676189481987976, -58.4648011058481 -34.67622255515113, -58.46483784554342 -34.67629174466813, -58.46520397432332 -34.67613871906406, -58.46460919768073 -34.67531735131194, -58.46434663547863 -34.674954810773144, -58.46416442056364 -34.67470313650639, -58.46394723605765 -34.67437256193682, -58.46377437707073 -34.67410655743546, -58.46351396327203 -34.674242725921665, -58.46342827669167 -34.67428752948374, -58.46330597551101 -34.67435582464914)), ((-58.465203973175136 -34.67613872018398, -58.46483783784826 -34.67629175029545, -58.464758570201774 -34.676559427664955, -58.46474750093 -34.67662351951612, -58.46484195243789 -34.67696443415621, -58.464783563336816 -34.67700513833046, -58.46457138796201 -34.67718042750284, -58.46460062887991 -34.67722613224523, -58.46504435122313 -34.67760965493797, -58.4651677006397 -34.67751718474214, -58.46544909307403 -34.67729217464085, -58.465677078653215 -34.67710987854779, -58.46582289270578 -34.676993283967334, -58.46636052222495 -34.67656338569368, -58.46564869151666 -34.67581769792348, -58.465203973175136 -34.67613872018398)), ((-58.46205118592213 -34.67122853902392, -58.46179665525897 -34.67146361249073, -58.46199725294988 -34.67172556277312, -58.462199494710376 -34.671541947249985, -58.462331262065476 -34.6713549226166, -58.46237714957648 -34.67137037290038, -58.462471170416094 -34.67140234573153, -58.462597627304774 -34.671450357611256, -58.46267574909968 -34.67148002391286, -58.46292729604538 -34.67153256020775, -58.463066318308094 -34.67156474851527, -58.46274298165353 -34.671882028398905, -58.4627445233124 -34.67188331444742, -58.46316941676638 -34.67213687266092, -58.46327155436891 -34.67218747383185, -58.46332972096443 -34.67221652241608, -58.46343848908769 -34.67226638297428, -58.463507194460085 -34.67229835515258, -58.463670945311684 -34.672373989612296, -58.4638510629659 -34.672449764546094, -58.463890615801404 -34.672481525506264, -58.463970409520705 -34.67251926705293, -58.46442456794996 -34.671819383415475, -58.463651006174196 -34.67167753106625, -58.46347203187896 -34.67164471859302, -58.46351390355834 -34.67149245800062, -58.4628476546653 -34.67135444979282, -58.461963347499214 -34.671060322544164, -58.461868683266815 -34.671147551580646, -58.46205118592213 -34.67122853902392)), ((-58.462397688676376 -34.67345485840616, -58.462513182402894 -34.673582073293446, -58.462647333994546 -34.673503988352635, -58.46277795517511 -34.67343701204098, -58.462880921231125 -34.67339821208085, -58.46314768889509 -34.6732553221204, -58.46266741211634 -34.67261774534362, -58.46233112082048 -34.67217130493322, -58.46220070176733 -34.671991228892715, -58.46181988727277 -34.672226179580775, -58.46158934094288 -34.672368418220444, -58.46183909668066 -34.67269638588991, -58.46193431175808 -34.672821601524646, -58.462120565292196 -34.673018367687014, -58.462276473986826 -34.67316865390338, -58.462397688676376 -34.67345485840616)), ((-58.46251318346525 -34.673582072501205, -58.46256655559784 -34.67364084823349, -58.46279611678753 -34.67385550135965, -58.46298970580972 -34.67402134980122, -58.463230179145725 -34.6742140297081, -58.46329385797439 -34.674336285888906, -58.463305973386156 -34.674355826233636, -58.46342827456671 -34.67428753106832, -58.4635139611471 -34.674242727506325, -58.46377437494569 -34.6741065590202, -58.46327058016763 -34.67341844698051, -58.46314768995755 -34.67325532132803, -58.462880922293536 -34.67339821128851, -58.46277795623751 -34.67343701124865, -58.46264733505702 -34.67350398756031, -58.46251318346525 -34.673582072501205)), ((-58.48929355280149 -34.68333725910345, -58.48834473325493 -34.68306264501841, -58.48771163275041 -34.68287381818708, -58.48692204080562 -34.682669286149206, -58.4868483866985 -34.68290672177008, -58.48688742432531 -34.68291696147342, -58.4867766628175 -34.68317770458436, -58.487292551426634 -34.683251969471485, -58.48747338193296 -34.68328038375081, -58.48758576639999 -34.683308277207544, -58.48781245956553 -34.683364542072454, -58.48821181814263 -34.68346622144169, -58.488735743127336 -34.68360181806092, -58.48887088163414 -34.68363883243566, -58.48924548361543 -34.68336480180015, -58.48929355280149 -34.68333725910345)), ((-58.48677666208043 -34.68317770486778, -58.4862500846254 -34.68305471295579, -58.486011488085765 -34.682969416727154, -58.48575942680537 -34.68287929555347, -58.48559637345478 -34.682915552228344, -58.485437070421206 -34.6831807979859, -58.48532856910678 -34.683398333397626, -58.48528260910665 -34.68350711833196, -58.48508848609638 -34.68390973006517, -58.485125456009186 -34.6839612408185, -58.48497352684827 -34.684077367529994, -58.48466139000376 -34.684311531397185, -58.48477979809469 -34.684423606331386, -58.484807130937575 -34.68442817883182, -58.48485223247849 -34.684435916620146, -58.48489818449674 -34.68443281004965, -58.48549588833989 -34.684378473384946, -58.48577261236217 -34.684275832419736, -58.48620429892796 -34.684187629873264, -58.48645953563151 -34.68413800180728, -58.4864757690464 -34.684030864736826, -58.48657037697454 -34.68369884912509, -58.48659394391478 -34.68363930964211, -58.48677666208043 -34.68317770486778)), ((-58.48645953576828 -34.68413800186332, -58.48620429892796 -34.684187629873385, -58.48578862161109 -34.68426989438187, -58.48549588834001 -34.684378473385124, -58.484898184496885 -34.684432810049636, -58.484852232478715 -34.68443591662011, -58.48477979809451 -34.68442360633135, -58.484661390010984 -34.68431153145786, -58.48426624531757 -34.68463595588842, -58.4845540243457 -34.6848046412577, -58.48487768306306 -34.684919866504785, -58.48519714864011 -34.68497748586845, -58.48557210082951 -34.68498093706543, -58.48569375271703 -34.68495394174244, -58.48615410671991 -34.684872162058866, -58.486678393595724 -34.684764874546474, -58.48684212101323 -34.684731381736285, -58.48669154959062 -34.68438711200171, -58.4869039835418 -34.68414475045472, -58.48690666753019 -34.68412977562185, -58.48692771416715 -34.68401234434429, -58.48645953576828 -34.68413800186332)), ((-58.45356235432078 -34.65832229820917, -58.45392648051388 -34.6580147829499, -58.4546017107746 -34.65744452827709, -58.45459923900659 -34.65744227543226, -58.45416098948752 -34.65707857420776, -58.453716115028094 -34.656709374863006, -58.45273592390545 -34.65747586811101, -58.452581137461365 -34.65759480301392, -58.45301780343642 -34.65791858170269, -58.45310557162014 -34.65798366396422, -58.45356235432078 -34.65832229820917)), ((-58.45305528427588 -34.658752974900274, -58.45327120513937 -34.65899230647743, -58.45360313994909 -34.65921359635097, -58.45324119003775 -34.659532733032876, -58.453478217184944 -34.65972756072103, -58.45354246263191 -34.65967045365687, -58.45392749206399 -34.659919112135064, -58.454132977829076 -34.659746081480634, -58.45470243997931 -34.659266559023536, -58.454476005990315 -34.65907900364222, -58.45419066164311 -34.65884273933949, -58.454159494473075 -34.65881693275333, -58.453880570333375 -34.65858588745891, -58.453562354359164 -34.65832229866607, -58.45321378856338 -34.658618351175726, -58.45305528427588 -34.658752974900274)), ((-58.454479298468016 -34.66241395986745, -58.454411671202834 -34.66241162015039, -58.45428044990191 -34.66241680913705, -58.454272213742094 -34.66229316640157, -58.454393566253174 -34.6617756336329, -58.45426063671854 -34.661628489334475, -58.45399767493839 -34.66185206837178, -58.453766421331494 -34.662048676511695, -58.453635323237556 -34.66216113400169, -58.45352135786318 -34.66225887495947, -58.45344745528169 -34.66232232027018, -58.45325225130608 -34.66248970752838, -58.4531455254257 -34.66258125495147, -58.45247179296437 -34.6630532549472, -58.45261973308591 -34.66318532343178, -58.45287516428783 -34.66341336146844, -58.453060867429016 -34.663577746974894, -58.453637875212856 -34.66351203628499, -58.453975003090626 -34.66349168581355, -58.454158873116846 -34.66328810143931, -58.4543237320972 -34.66308317865286, -58.454508616696366 -34.66292861006829, -58.45454415922087 -34.662898894945535, -58.45458133459659 -34.662861193234164, -58.45449567384339 -34.66264704242974, -58.454474258832484 -34.6625399661952, -58.454479298468016 -34.66241395986745)), ((-58.455306038994955 -34.66494343358671, -58.45510694618468 -34.664795670852925, -58.45459760169484 -34.66451812648054, -58.45483054003767 -34.66431076674148, -58.454801084981916 -34.66427761308192, -58.4545758347852 -34.66406561939234, -58.45412448060801 -34.66364790162189, -58.45397499775222 -34.663491689886, -58.45363787096561 -34.663512039456066, -58.45306086536443 -34.66357774834316, -58.45287516222331 -34.66341336283674, -58.45261973211235 -34.663185323898745, -58.45247179853736 -34.66305325000605, -58.452299014934255 -34.663193943495, -58.45291680903753 -34.663685274977716, -58.45360553108855 -34.66411991666051, -58.454024849120266 -34.664423265464414, -58.45443684133265 -34.66472203394386, -58.455088675788694 -34.66513053757706, -58.455306038994955 -34.66494343358671)), ((-58.456175051953515 -34.661090002597284, -58.456044075866735 -34.66097346902086, -58.45585661987832 -34.66107015506557, -58.455706712773264 -34.6611593856458, -58.45551754562359 -34.661230769476134, -58.455290742924795 -34.66105225340807, -58.45516500629468 -34.66087543031113, -58.45496359045224 -34.661040282661666, -58.454944496269384 -34.661055915888355, -58.454668241353225 -34.66128196096335, -58.454454352765545 -34.66146379980145, -58.45426063353243 -34.66162849171354, -58.4543935630671 -34.661775636011676, -58.454272210556 -34.66229316878035, -58.45428044671579 -34.662416811515826, -58.4544116680167 -34.66241162252923, -58.454479295281885 -34.66241396224623, -58.45448139402969 -34.662361508962064, -58.45453749365523 -34.66205128580648, -58.45459560875503 -34.66184397563686, -58.45477711517779 -34.66193622299612, -58.45487995643569 -34.66208077786869, -58.45518589303681 -34.662325991121364, -58.45523673020739 -34.66224997918799, -58.45534865068284 -34.66212181317264, -58.455377470543745 -34.66199955818753, -58.45546050661453 -34.66172829068954, -58.45552190359538 -34.66160229214217, -58.456175051953515 -34.661090002597284)))\n"
     ]
    }
   ],
   "source": [
    "import shapely.wkt\n",
    "import shapely.geometry\n",
    "\n",
    "list_wkt = list(radios.iloc[:,-1])\n",
    "list_polygons =  [shapely.wkt.loads(str(poly)) for poly in list_wkt]\n",
    "\n",
    "print( shapely.geometry.MultiPolygon(list_polygons) )"
   ]
  },
  {
   "cell_type": "code",
   "execution_count": 155,
   "id": "b2d61d0b-634b-4d93-93a7-b6f7a91b7e94",
   "metadata": {
    "tags": []
   },
   "outputs": [
    {
     "data": {
      "text/plain": [
       "geopandas.geoseries.GeoSeries"
      ]
     },
     "execution_count": 155,
     "metadata": {},
     "output_type": "execute_result"
    }
   ],
   "source": [
    "type(gpd.GeoSeries(list_polygons))"
   ]
  },
  {
   "cell_type": "code",
   "execution_count": 160,
   "id": "b50c7588-b71f-4668-a6e8-5a40f08cba7c",
   "metadata": {
    "tags": []
   },
   "outputs": [
    {
     "ename": "TypeError",
     "evalue": "'Polygon' object is not iterable",
     "output_type": "error",
     "traceback": [
      "\u001b[0;31m---------------------------------------------------------------------------\u001b[0m",
      "\u001b[0;31mTypeError\u001b[0m                                 Traceback (most recent call last)",
      "\u001b[0;32m<ipython-input-160-fd1991aaad24>\u001b[0m in \u001b[0;36m<module>\u001b[0;34m\u001b[0m\n\u001b[0;32m----> 1\u001b[0;31m \u001b[0mshapely\u001b[0m\u001b[0;34m.\u001b[0m\u001b[0mgeometry\u001b[0m\u001b[0;34m.\u001b[0m\u001b[0mMultiPolygon\u001b[0m\u001b[0;34m(\u001b[0m\u001b[0;34m(\u001b[0m\u001b[0mlist_polygons\u001b[0m\u001b[0;34m[\u001b[0m\u001b[0;36m0\u001b[0m\u001b[0;34m]\u001b[0m\u001b[0;34m)\u001b[0m\u001b[0;34m)\u001b[0m\u001b[0;34m\u001b[0m\u001b[0;34m\u001b[0m\u001b[0m\n\u001b[0m",
      "\u001b[0;32m~/opt/anaconda3/lib/python3.8/site-packages/shapely/geometry/multipolygon.py\u001b[0m in \u001b[0;36m__new__\u001b[0;34m(self, polygons)\u001b[0m\n\u001b[1;32m     56\u001b[0m \u001b[0;34m\u001b[0m\u001b[0m\n\u001b[1;32m     57\u001b[0m         \u001b[0mpolygons\u001b[0m \u001b[0;34m=\u001b[0m \u001b[0mgetattr\u001b[0m\u001b[0;34m(\u001b[0m\u001b[0mpolygons\u001b[0m\u001b[0;34m,\u001b[0m \u001b[0;34m\"geoms\"\u001b[0m\u001b[0;34m,\u001b[0m \u001b[0mpolygons\u001b[0m\u001b[0;34m)\u001b[0m\u001b[0;34m\u001b[0m\u001b[0;34m\u001b[0m\u001b[0m\n\u001b[0;32m---> 58\u001b[0;31m         polygons = [\n\u001b[0m\u001b[1;32m     59\u001b[0m             \u001b[0mp\u001b[0m\u001b[0;34m\u001b[0m\u001b[0;34m\u001b[0m\u001b[0m\n\u001b[1;32m     60\u001b[0m             \u001b[0;32mfor\u001b[0m \u001b[0mp\u001b[0m \u001b[0;32min\u001b[0m \u001b[0mpolygons\u001b[0m\u001b[0;34m\u001b[0m\u001b[0;34m\u001b[0m\u001b[0m\n",
      "\u001b[0;31mTypeError\u001b[0m: 'Polygon' object is not iterable"
     ]
    }
   ],
   "source": [
    "shapely.geometry.MultiPolygon((list_polygons[0]))"
   ]
  },
  {
   "cell_type": "code",
   "execution_count": 154,
   "id": "3cf14632-9f06-4cf8-9e17-0b3f2e1904d6",
   "metadata": {
    "tags": []
   },
   "outputs": [
    {
     "ename": "TypeError",
     "evalue": "'Polygon' object is not iterable",
     "output_type": "error",
     "traceback": [
      "\u001b[0;31m---------------------------------------------------------------------------\u001b[0m",
      "\u001b[0;31mTypeError\u001b[0m                                 Traceback (most recent call last)",
      "\u001b[0;32m<ipython-input-154-7131bfb9f6f0>\u001b[0m in \u001b[0;36m<module>\u001b[0;34m\u001b[0m\n\u001b[0;32m----> 1\u001b[0;31m \u001b[0mgpd\u001b[0m\u001b[0;34m.\u001b[0m\u001b[0mGeoSeries\u001b[0m\u001b[0;34m(\u001b[0m\u001b[0mlist_polygons\u001b[0m\u001b[0;34m)\u001b[0m\u001b[0;34m.\u001b[0m\u001b[0mapply\u001b[0m\u001b[0;34m(\u001b[0m\u001b[0;32mlambda\u001b[0m \u001b[0mx\u001b[0m\u001b[0;34m:\u001b[0m \u001b[0mshapely\u001b[0m\u001b[0;34m.\u001b[0m\u001b[0mgeometry\u001b[0m\u001b[0;34m.\u001b[0m\u001b[0mMultiPolygon\u001b[0m\u001b[0;34m(\u001b[0m\u001b[0mx\u001b[0m\u001b[0;34m)\u001b[0m\u001b[0;34m)\u001b[0m\u001b[0;34m\u001b[0m\u001b[0;34m\u001b[0m\u001b[0m\n\u001b[0m",
      "\u001b[0;32m~/opt/anaconda3/lib/python3.8/site-packages/geopandas/geoseries.py\u001b[0m in \u001b[0;36mapply\u001b[0;34m(self, func, convert_dtype, args, **kwargs)\u001b[0m\n\u001b[1;32m    643\u001b[0m     \u001b[0;34m@\u001b[0m\u001b[0mdoc\u001b[0m\u001b[0;34m(\u001b[0m\u001b[0mpd\u001b[0m\u001b[0;34m.\u001b[0m\u001b[0mSeries\u001b[0m\u001b[0;34m)\u001b[0m\u001b[0;34m\u001b[0m\u001b[0;34m\u001b[0m\u001b[0m\n\u001b[1;32m    644\u001b[0m     \u001b[0;32mdef\u001b[0m \u001b[0mapply\u001b[0m\u001b[0;34m(\u001b[0m\u001b[0mself\u001b[0m\u001b[0;34m,\u001b[0m \u001b[0mfunc\u001b[0m\u001b[0;34m,\u001b[0m \u001b[0mconvert_dtype\u001b[0m\u001b[0;34m=\u001b[0m\u001b[0;32mTrue\u001b[0m\u001b[0;34m,\u001b[0m \u001b[0margs\u001b[0m\u001b[0;34m=\u001b[0m\u001b[0;34m(\u001b[0m\u001b[0;34m)\u001b[0m\u001b[0;34m,\u001b[0m \u001b[0;34m**\u001b[0m\u001b[0mkwargs\u001b[0m\u001b[0;34m)\u001b[0m\u001b[0;34m:\u001b[0m\u001b[0;34m\u001b[0m\u001b[0;34m\u001b[0m\u001b[0m\n\u001b[0;32m--> 645\u001b[0;31m         \u001b[0mresult\u001b[0m \u001b[0;34m=\u001b[0m \u001b[0msuper\u001b[0m\u001b[0;34m(\u001b[0m\u001b[0;34m)\u001b[0m\u001b[0;34m.\u001b[0m\u001b[0mapply\u001b[0m\u001b[0;34m(\u001b[0m\u001b[0mfunc\u001b[0m\u001b[0;34m,\u001b[0m \u001b[0mconvert_dtype\u001b[0m\u001b[0;34m=\u001b[0m\u001b[0mconvert_dtype\u001b[0m\u001b[0;34m,\u001b[0m \u001b[0margs\u001b[0m\u001b[0;34m=\u001b[0m\u001b[0margs\u001b[0m\u001b[0;34m,\u001b[0m \u001b[0;34m**\u001b[0m\u001b[0mkwargs\u001b[0m\u001b[0;34m)\u001b[0m\u001b[0;34m\u001b[0m\u001b[0;34m\u001b[0m\u001b[0m\n\u001b[0m\u001b[1;32m    646\u001b[0m         \u001b[0;32mif\u001b[0m \u001b[0misinstance\u001b[0m\u001b[0;34m(\u001b[0m\u001b[0mresult\u001b[0m\u001b[0;34m,\u001b[0m \u001b[0mGeoSeries\u001b[0m\u001b[0;34m)\u001b[0m\u001b[0;34m:\u001b[0m\u001b[0;34m\u001b[0m\u001b[0;34m\u001b[0m\u001b[0m\n\u001b[1;32m    647\u001b[0m             \u001b[0;32mif\u001b[0m \u001b[0mself\u001b[0m\u001b[0;34m.\u001b[0m\u001b[0mcrs\u001b[0m \u001b[0;32mis\u001b[0m \u001b[0;32mnot\u001b[0m \u001b[0;32mNone\u001b[0m\u001b[0;34m:\u001b[0m\u001b[0;34m\u001b[0m\u001b[0;34m\u001b[0m\u001b[0m\n",
      "\u001b[0;32m~/opt/anaconda3/lib/python3.8/site-packages/pandas/core/series.py\u001b[0m in \u001b[0;36mapply\u001b[0;34m(self, func, convert_dtype, args, **kwargs)\u001b[0m\n\u001b[1;32m   4769\u001b[0m         \u001b[0mdtype\u001b[0m\u001b[0;34m:\u001b[0m \u001b[0mfloat64\u001b[0m\u001b[0;34m\u001b[0m\u001b[0;34m\u001b[0m\u001b[0m\n\u001b[1;32m   4770\u001b[0m         \"\"\"\n\u001b[0;32m-> 4771\u001b[0;31m         \u001b[0;32mreturn\u001b[0m \u001b[0mSeriesApply\u001b[0m\u001b[0;34m(\u001b[0m\u001b[0mself\u001b[0m\u001b[0;34m,\u001b[0m \u001b[0mfunc\u001b[0m\u001b[0;34m,\u001b[0m \u001b[0mconvert_dtype\u001b[0m\u001b[0;34m,\u001b[0m \u001b[0margs\u001b[0m\u001b[0;34m,\u001b[0m \u001b[0mkwargs\u001b[0m\u001b[0;34m)\u001b[0m\u001b[0;34m.\u001b[0m\u001b[0mapply\u001b[0m\u001b[0;34m(\u001b[0m\u001b[0;34m)\u001b[0m\u001b[0;34m\u001b[0m\u001b[0;34m\u001b[0m\u001b[0m\n\u001b[0m\u001b[1;32m   4772\u001b[0m \u001b[0;34m\u001b[0m\u001b[0m\n\u001b[1;32m   4773\u001b[0m     def _reduce(\n",
      "\u001b[0;32m~/opt/anaconda3/lib/python3.8/site-packages/pandas/core/apply.py\u001b[0m in \u001b[0;36mapply\u001b[0;34m(self)\u001b[0m\n\u001b[1;32m   1121\u001b[0m \u001b[0;34m\u001b[0m\u001b[0m\n\u001b[1;32m   1122\u001b[0m         \u001b[0;31m# self.f is Callable\u001b[0m\u001b[0;34m\u001b[0m\u001b[0;34m\u001b[0m\u001b[0;34m\u001b[0m\u001b[0m\n\u001b[0;32m-> 1123\u001b[0;31m         \u001b[0;32mreturn\u001b[0m \u001b[0mself\u001b[0m\u001b[0;34m.\u001b[0m\u001b[0mapply_standard\u001b[0m\u001b[0;34m(\u001b[0m\u001b[0;34m)\u001b[0m\u001b[0;34m\u001b[0m\u001b[0;34m\u001b[0m\u001b[0m\n\u001b[0m\u001b[1;32m   1124\u001b[0m \u001b[0;34m\u001b[0m\u001b[0m\n\u001b[1;32m   1125\u001b[0m     \u001b[0;32mdef\u001b[0m \u001b[0magg\u001b[0m\u001b[0;34m(\u001b[0m\u001b[0mself\u001b[0m\u001b[0;34m)\u001b[0m\u001b[0;34m:\u001b[0m\u001b[0;34m\u001b[0m\u001b[0;34m\u001b[0m\u001b[0m\n",
      "\u001b[0;32m~/opt/anaconda3/lib/python3.8/site-packages/pandas/core/apply.py\u001b[0m in \u001b[0;36mapply_standard\u001b[0;34m(self)\u001b[0m\n\u001b[1;32m   1172\u001b[0m             \u001b[0;32melse\u001b[0m\u001b[0;34m:\u001b[0m\u001b[0;34m\u001b[0m\u001b[0;34m\u001b[0m\u001b[0m\n\u001b[1;32m   1173\u001b[0m                 \u001b[0mvalues\u001b[0m \u001b[0;34m=\u001b[0m \u001b[0mobj\u001b[0m\u001b[0;34m.\u001b[0m\u001b[0mastype\u001b[0m\u001b[0;34m(\u001b[0m\u001b[0mobject\u001b[0m\u001b[0;34m)\u001b[0m\u001b[0;34m.\u001b[0m\u001b[0m_values\u001b[0m\u001b[0;34m\u001b[0m\u001b[0;34m\u001b[0m\u001b[0m\n\u001b[0;32m-> 1174\u001b[0;31m                 mapped = lib.map_infer(\n\u001b[0m\u001b[1;32m   1175\u001b[0m                     \u001b[0mvalues\u001b[0m\u001b[0;34m,\u001b[0m\u001b[0;34m\u001b[0m\u001b[0;34m\u001b[0m\u001b[0m\n\u001b[1;32m   1176\u001b[0m                     \u001b[0mf\u001b[0m\u001b[0;34m,\u001b[0m\u001b[0;34m\u001b[0m\u001b[0;34m\u001b[0m\u001b[0m\n",
      "\u001b[0;32m~/opt/anaconda3/lib/python3.8/site-packages/pandas/_libs/lib.pyx\u001b[0m in \u001b[0;36mpandas._libs.lib.map_infer\u001b[0;34m()\u001b[0m\n",
      "\u001b[0;32m<ipython-input-154-7131bfb9f6f0>\u001b[0m in \u001b[0;36m<lambda>\u001b[0;34m(x)\u001b[0m\n\u001b[0;32m----> 1\u001b[0;31m \u001b[0mgpd\u001b[0m\u001b[0;34m.\u001b[0m\u001b[0mGeoSeries\u001b[0m\u001b[0;34m(\u001b[0m\u001b[0mlist_polygons\u001b[0m\u001b[0;34m)\u001b[0m\u001b[0;34m.\u001b[0m\u001b[0mapply\u001b[0m\u001b[0;34m(\u001b[0m\u001b[0;32mlambda\u001b[0m \u001b[0mx\u001b[0m\u001b[0;34m:\u001b[0m \u001b[0mshapely\u001b[0m\u001b[0;34m.\u001b[0m\u001b[0mgeometry\u001b[0m\u001b[0;34m.\u001b[0m\u001b[0mMultiPolygon\u001b[0m\u001b[0;34m(\u001b[0m\u001b[0mx\u001b[0m\u001b[0;34m)\u001b[0m\u001b[0;34m)\u001b[0m\u001b[0;34m\u001b[0m\u001b[0;34m\u001b[0m\u001b[0m\n\u001b[0m",
      "\u001b[0;32m~/opt/anaconda3/lib/python3.8/site-packages/shapely/geometry/multipolygon.py\u001b[0m in \u001b[0;36m__new__\u001b[0;34m(self, polygons)\u001b[0m\n\u001b[1;32m     56\u001b[0m \u001b[0;34m\u001b[0m\u001b[0m\n\u001b[1;32m     57\u001b[0m         \u001b[0mpolygons\u001b[0m \u001b[0;34m=\u001b[0m \u001b[0mgetattr\u001b[0m\u001b[0;34m(\u001b[0m\u001b[0mpolygons\u001b[0m\u001b[0;34m,\u001b[0m \u001b[0;34m\"geoms\"\u001b[0m\u001b[0;34m,\u001b[0m \u001b[0mpolygons\u001b[0m\u001b[0;34m)\u001b[0m\u001b[0;34m\u001b[0m\u001b[0;34m\u001b[0m\u001b[0m\n\u001b[0;32m---> 58\u001b[0;31m         polygons = [\n\u001b[0m\u001b[1;32m     59\u001b[0m             \u001b[0mp\u001b[0m\u001b[0;34m\u001b[0m\u001b[0;34m\u001b[0m\u001b[0m\n\u001b[1;32m     60\u001b[0m             \u001b[0;32mfor\u001b[0m \u001b[0mp\u001b[0m \u001b[0;32min\u001b[0m \u001b[0mpolygons\u001b[0m\u001b[0;34m\u001b[0m\u001b[0;34m\u001b[0m\u001b[0m\n",
      "\u001b[0;31mTypeError\u001b[0m: 'Polygon' object is not iterable"
     ]
    }
   ],
   "source": [
    "gpd.GeoSeries(list_polygons).apply(lambda x: shapely.geometry.MultiPolygon(x))"
   ]
  },
  {
   "cell_type": "code",
   "execution_count": 145,
   "id": "8c8d03ae-beda-4fa9-ba1c-783285804275",
   "metadata": {
    "tags": []
   },
   "outputs": [
    {
     "ename": "ValueError",
     "evalue": "The truth value of a GeoSeries is ambiguous. Use a.empty, a.bool(), a.item(), a.any() or a.all().",
     "output_type": "error",
     "traceback": [
      "\u001b[0;31m---------------------------------------------------------------------------\u001b[0m",
      "\u001b[0;31mValueError\u001b[0m                                Traceback (most recent call last)",
      "\u001b[0;32m<ipython-input-152-a0ad01a4734c>\u001b[0m in \u001b[0;36m<module>\u001b[0;34m\u001b[0m\n\u001b[0;32m----> 1\u001b[0;31m \u001b[0mlist_multipol\u001b[0m\u001b[0;34m=\u001b[0m\u001b[0mshapely\u001b[0m\u001b[0;34m.\u001b[0m\u001b[0mgeometry\u001b[0m\u001b[0;34m.\u001b[0m\u001b[0mMultiPolygon\u001b[0m\u001b[0;34m(\u001b[0m\u001b[0mgpd\u001b[0m\u001b[0;34m.\u001b[0m\u001b[0mGeoSeries\u001b[0m\u001b[0;34m(\u001b[0m\u001b[0mlist_polygons\u001b[0m\u001b[0;34m)\u001b[0m\u001b[0;34m)\u001b[0m\u001b[0;34m\u001b[0m\u001b[0;34m\u001b[0m\u001b[0m\n\u001b[0m",
      "\u001b[0;32m~/opt/anaconda3/lib/python3.8/site-packages/shapely/geometry/multipolygon.py\u001b[0m in \u001b[0;36m__new__\u001b[0;34m(self, polygons)\u001b[0m\n\u001b[1;32m     48\u001b[0m \u001b[0;34m\u001b[0m\u001b[0m\n\u001b[1;32m     49\u001b[0m     \u001b[0;32mdef\u001b[0m \u001b[0m__new__\u001b[0m\u001b[0;34m(\u001b[0m\u001b[0mself\u001b[0m\u001b[0;34m,\u001b[0m \u001b[0mpolygons\u001b[0m\u001b[0;34m=\u001b[0m\u001b[0;32mNone\u001b[0m\u001b[0;34m)\u001b[0m\u001b[0;34m:\u001b[0m\u001b[0;34m\u001b[0m\u001b[0;34m\u001b[0m\u001b[0m\n\u001b[0;32m---> 50\u001b[0;31m         \u001b[0;32mif\u001b[0m \u001b[0;32mnot\u001b[0m \u001b[0mpolygons\u001b[0m\u001b[0;34m:\u001b[0m\u001b[0;34m\u001b[0m\u001b[0;34m\u001b[0m\u001b[0m\n\u001b[0m\u001b[1;32m     51\u001b[0m             \u001b[0;31m# allow creation of empty multipolygons, to support unpickling\u001b[0m\u001b[0;34m\u001b[0m\u001b[0;34m\u001b[0m\u001b[0;34m\u001b[0m\u001b[0m\n\u001b[1;32m     52\u001b[0m             \u001b[0;31m# TODO better empty constructor\u001b[0m\u001b[0;34m\u001b[0m\u001b[0;34m\u001b[0m\u001b[0;34m\u001b[0m\u001b[0m\n",
      "\u001b[0;32m~/opt/anaconda3/lib/python3.8/site-packages/pandas/core/generic.py\u001b[0m in \u001b[0;36m__nonzero__\u001b[0;34m(self)\u001b[0m\n\u001b[1;32m   1525\u001b[0m     \u001b[0;34m@\u001b[0m\u001b[0mfinal\u001b[0m\u001b[0;34m\u001b[0m\u001b[0;34m\u001b[0m\u001b[0m\n\u001b[1;32m   1526\u001b[0m     \u001b[0;32mdef\u001b[0m \u001b[0m__nonzero__\u001b[0m\u001b[0;34m(\u001b[0m\u001b[0mself\u001b[0m\u001b[0;34m)\u001b[0m \u001b[0;34m->\u001b[0m \u001b[0mNoReturn\u001b[0m\u001b[0;34m:\u001b[0m\u001b[0;34m\u001b[0m\u001b[0;34m\u001b[0m\u001b[0m\n\u001b[0;32m-> 1527\u001b[0;31m         raise ValueError(\n\u001b[0m\u001b[1;32m   1528\u001b[0m             \u001b[0;34mf\"The truth value of a {type(self).__name__} is ambiguous. \"\u001b[0m\u001b[0;34m\u001b[0m\u001b[0;34m\u001b[0m\u001b[0m\n\u001b[1;32m   1529\u001b[0m             \u001b[0;34m\"Use a.empty, a.bool(), a.item(), a.any() or a.all().\"\u001b[0m\u001b[0;34m\u001b[0m\u001b[0;34m\u001b[0m\u001b[0m\n",
      "\u001b[0;31mValueError\u001b[0m: The truth value of a GeoSeries is ambiguous. Use a.empty, a.bool(), a.item(), a.any() or a.all()."
     ]
    }
   ],
   "source": [
    "list_multipol=shapely.geometry.MultiPolygon(list_polygons)"
   ]
  },
  {
   "cell_type": "code",
   "execution_count": 139,
   "id": "c276d30b-d2a3-4d90-9068-ffc082ec51fa",
   "metadata": {
    "tags": []
   },
   "outputs": [],
   "source": [
    "radios_mult = gpd.GeoDataFrame(gpd.GeoSeries(list_multipol), columns=[\"geometry\"])"
   ]
  },
  {
   "cell_type": "code",
   "execution_count": 146,
   "id": "0b1bbdce-1bc6-4116-a6e0-f8dea34b71e7",
   "metadata": {
    "tags": []
   },
   "outputs": [
    {
     "name": "stderr",
     "output_type": "stream",
     "text": [
      "/Users/fabriciodiana/opt/anaconda3/lib/python3.8/site-packages/geopandas/geodataframe.py:1442: UserWarning: Geometry column does not contain geometry.\n",
      "  warnings.warn(\"Geometry column does not contain geometry.\")\n"
     ]
    }
   ],
   "source": [
    "radios['geometry']=radios_mult"
   ]
  },
  {
   "cell_type": "code",
   "execution_count": 147,
   "id": "f4372c63-282b-4dc4-96af-9f6c1df14098",
   "metadata": {
    "tags": []
   },
   "outputs": [
    {
     "data": {
      "text/html": [
       "<div>\n",
       "<style scoped>\n",
       "    .dataframe tbody tr th:only-of-type {\n",
       "        vertical-align: middle;\n",
       "    }\n",
       "\n",
       "    .dataframe tbody tr th {\n",
       "        vertical-align: top;\n",
       "    }\n",
       "\n",
       "    .dataframe thead th {\n",
       "        text-align: right;\n",
       "    }\n",
       "</style>\n",
       "<table border=\"1\" class=\"dataframe\">\n",
       "  <thead>\n",
       "    <tr style=\"text-align: right;\">\n",
       "      <th></th>\n",
       "      <th>geometry</th>\n",
       "    </tr>\n",
       "  </thead>\n",
       "  <tbody>\n",
       "    <tr>\n",
       "      <th>0</th>\n",
       "      <td>MULTIPOLYGON (((-58.49171 -34.67420, -58.49128...</td>\n",
       "    </tr>\n",
       "  </tbody>\n",
       "</table>\n",
       "</div>"
      ],
      "text/plain": [
       "                                            geometry\n",
       "0  MULTIPOLYGON (((-58.49171 -34.67420, -58.49128..."
      ]
     },
     "execution_count": 147,
     "metadata": {},
     "output_type": "execute_result"
    }
   ],
   "source": [
    "radios_mult"
   ]
  },
  {
   "cell_type": "code",
   "execution_count": 143,
   "id": "0e3628d7-c7f2-45f4-8dde-0fbde3537af3",
   "metadata": {
    "tags": []
   },
   "outputs": [
    {
     "data": {
      "text/html": [
       "<div>\n",
       "<style scoped>\n",
       "    .dataframe tbody tr th:only-of-type {\n",
       "        vertical-align: middle;\n",
       "    }\n",
       "\n",
       "    .dataframe tbody tr th {\n",
       "        vertical-align: top;\n",
       "    }\n",
       "\n",
       "    .dataframe thead th {\n",
       "        text-align: right;\n",
       "    }\n",
       "</style>\n",
       "<table border=\"1\" class=\"dataframe\">\n",
       "  <thead>\n",
       "    <tr style=\"text-align: right;\">\n",
       "      <th></th>\n",
       "      <th>TOTAL_VIV</th>\n",
       "      <th>COMUNA</th>\n",
       "      <th>geometry</th>\n",
       "    </tr>\n",
       "  </thead>\n",
       "  <tbody>\n",
       "    <tr>\n",
       "      <th>10525</th>\n",
       "      <td>193</td>\n",
       "      <td>Comuna 8</td>\n",
       "      <td>None</td>\n",
       "    </tr>\n",
       "    <tr>\n",
       "      <th>15423</th>\n",
       "      <td>369</td>\n",
       "      <td>Comuna 8</td>\n",
       "      <td>None</td>\n",
       "    </tr>\n",
       "    <tr>\n",
       "      <th>15561</th>\n",
       "      <td>310</td>\n",
       "      <td>Comuna 8</td>\n",
       "      <td>None</td>\n",
       "    </tr>\n",
       "    <tr>\n",
       "      <th>19394</th>\n",
       "      <td>234</td>\n",
       "      <td>Comuna 8</td>\n",
       "      <td>None</td>\n",
       "    </tr>\n",
       "    <tr>\n",
       "      <th>20274</th>\n",
       "      <td>374</td>\n",
       "      <td>Comuna 8</td>\n",
       "      <td>None</td>\n",
       "    </tr>\n",
       "    <tr>\n",
       "      <th>...</th>\n",
       "      <td>...</td>\n",
       "      <td>...</td>\n",
       "      <td>...</td>\n",
       "    </tr>\n",
       "    <tr>\n",
       "      <th>38657</th>\n",
       "      <td>260</td>\n",
       "      <td>Comuna 8</td>\n",
       "      <td>None</td>\n",
       "    </tr>\n",
       "    <tr>\n",
       "      <th>38686</th>\n",
       "      <td>236</td>\n",
       "      <td>Comuna 8</td>\n",
       "      <td>None</td>\n",
       "    </tr>\n",
       "    <tr>\n",
       "      <th>38700</th>\n",
       "      <td>364</td>\n",
       "      <td>Comuna 8</td>\n",
       "      <td>None</td>\n",
       "    </tr>\n",
       "    <tr>\n",
       "      <th>38715</th>\n",
       "      <td>270</td>\n",
       "      <td>Comuna 8</td>\n",
       "      <td>None</td>\n",
       "    </tr>\n",
       "    <tr>\n",
       "      <th>38731</th>\n",
       "      <td>310</td>\n",
       "      <td>Comuna 8</td>\n",
       "      <td>None</td>\n",
       "    </tr>\n",
       "  </tbody>\n",
       "</table>\n",
       "<p>191 rows × 3 columns</p>\n",
       "</div>"
      ],
      "text/plain": [
       "       TOTAL_VIV    COMUNA geometry\n",
       "10525        193  Comuna 8     None\n",
       "15423        369  Comuna 8     None\n",
       "15561        310  Comuna 8     None\n",
       "19394        234  Comuna 8     None\n",
       "20274        374  Comuna 8     None\n",
       "...          ...       ...      ...\n",
       "38657        260  Comuna 8     None\n",
       "38686        236  Comuna 8     None\n",
       "38700        364  Comuna 8     None\n",
       "38715        270  Comuna 8     None\n",
       "38731        310  Comuna 8     None\n",
       "\n",
       "[191 rows x 3 columns]"
      ]
     },
     "execution_count": 143,
     "metadata": {},
     "output_type": "execute_result"
    }
   ],
   "source": [
    "radios"
   ]
  },
  {
   "cell_type": "code",
   "execution_count": 140,
   "id": "aebaf9e4-a81e-48ce-915c-ba1d8fed1e66",
   "metadata": {
    "tags": []
   },
   "outputs": [
    {
     "data": {
      "text/html": [
       "<div>\n",
       "<style scoped>\n",
       "    .dataframe tbody tr th:only-of-type {\n",
       "        vertical-align: middle;\n",
       "    }\n",
       "\n",
       "    .dataframe tbody tr th {\n",
       "        vertical-align: top;\n",
       "    }\n",
       "\n",
       "    .dataframe thead th {\n",
       "        text-align: right;\n",
       "    }\n",
       "</style>\n",
       "<table border=\"1\" class=\"dataframe\">\n",
       "  <thead>\n",
       "    <tr style=\"text-align: right;\">\n",
       "      <th></th>\n",
       "      <th>geometry</th>\n",
       "    </tr>\n",
       "  </thead>\n",
       "  <tbody>\n",
       "    <tr>\n",
       "      <th>0</th>\n",
       "      <td>MULTIPOLYGON (((-58.49171 -34.67420, -58.49128...</td>\n",
       "    </tr>\n",
       "  </tbody>\n",
       "</table>\n",
       "</div>"
      ],
      "text/plain": [
       "                                            geometry\n",
       "0  MULTIPOLYGON (((-58.49171 -34.67420, -58.49128..."
      ]
     },
     "execution_count": 140,
     "metadata": {},
     "output_type": "execute_result"
    }
   ],
   "source": [
    "radios_mult"
   ]
  },
  {
   "cell_type": "code",
   "execution_count": 161,
   "id": "4946bc74-04af-462d-aceb-5245897bb63f",
   "metadata": {
    "tags": []
   },
   "outputs": [
    {
     "ename": "AttributeError",
     "evalue": "'MultiPolygon' object has no attribute 'crs'",
     "output_type": "error",
     "traceback": [
      "\u001b[0;31m---------------------------------------------------------------------------\u001b[0m",
      "\u001b[0;31mAttributeError\u001b[0m                            Traceback (most recent call last)",
      "\u001b[0;32m<ipython-input-161-35edd00029be>\u001b[0m in \u001b[0;36m<module>\u001b[0;34m\u001b[0m\n\u001b[0;32m----> 1\u001b[0;31m \u001b[0mgpd\u001b[0m\u001b[0;34m.\u001b[0m\u001b[0moverlay\u001b[0m\u001b[0;34m(\u001b[0m\u001b[0mlist_multipol\u001b[0m\u001b[0;34m,\u001b[0m\u001b[0mget_public_space\u001b[0m\u001b[0;34m(\u001b[0m\u001b[0;34m)\u001b[0m\u001b[0;34m.\u001b[0m\u001b[0miloc\u001b[0m\u001b[0;34m[\u001b[0m\u001b[0;36m1\u001b[0m\u001b[0;34m,\u001b[0m\u001b[0;34m-\u001b[0m\u001b[0;36m1\u001b[0m\u001b[0;34m]\u001b[0m\u001b[0;34m,\u001b[0m\u001b[0mhow\u001b[0m\u001b[0;34m=\u001b[0m\u001b[0;34m\"intersection\"\u001b[0m\u001b[0;34m)\u001b[0m\u001b[0;34m\u001b[0m\u001b[0;34m\u001b[0m\u001b[0m\n\u001b[0m",
      "\u001b[0;32m~/opt/anaconda3/lib/python3.8/site-packages/geopandas/tools/overlay.py\u001b[0m in \u001b[0;36moverlay\u001b[0;34m(df1, df2, how, keep_geom_type, make_valid)\u001b[0m\n\u001b[1;32m    251\u001b[0m         )\n\u001b[1;32m    252\u001b[0m \u001b[0;34m\u001b[0m\u001b[0m\n\u001b[0;32m--> 253\u001b[0;31m     \u001b[0;32mif\u001b[0m \u001b[0;32mnot\u001b[0m \u001b[0m_check_crs\u001b[0m\u001b[0;34m(\u001b[0m\u001b[0mdf1\u001b[0m\u001b[0;34m,\u001b[0m \u001b[0mdf2\u001b[0m\u001b[0;34m)\u001b[0m\u001b[0;34m:\u001b[0m\u001b[0;34m\u001b[0m\u001b[0;34m\u001b[0m\u001b[0m\n\u001b[0m\u001b[1;32m    254\u001b[0m         \u001b[0m_crs_mismatch_warn\u001b[0m\u001b[0;34m(\u001b[0m\u001b[0mdf1\u001b[0m\u001b[0;34m,\u001b[0m \u001b[0mdf2\u001b[0m\u001b[0;34m,\u001b[0m \u001b[0mstacklevel\u001b[0m\u001b[0;34m=\u001b[0m\u001b[0;36m3\u001b[0m\u001b[0;34m)\u001b[0m\u001b[0;34m\u001b[0m\u001b[0;34m\u001b[0m\u001b[0m\n\u001b[1;32m    255\u001b[0m \u001b[0;34m\u001b[0m\u001b[0m\n",
      "\u001b[0;32m~/opt/anaconda3/lib/python3.8/site-packages/geopandas/array.py\u001b[0m in \u001b[0;36m_check_crs\u001b[0;34m(left, right, allow_none)\u001b[0m\n\u001b[1;32m     65\u001b[0m         \u001b[0;32mif\u001b[0m \u001b[0;32mnot\u001b[0m \u001b[0mleft\u001b[0m\u001b[0;34m.\u001b[0m\u001b[0mcrs\u001b[0m \u001b[0;32mor\u001b[0m \u001b[0;32mnot\u001b[0m \u001b[0mright\u001b[0m\u001b[0;34m.\u001b[0m\u001b[0mcrs\u001b[0m\u001b[0;34m:\u001b[0m\u001b[0;34m\u001b[0m\u001b[0;34m\u001b[0m\u001b[0m\n\u001b[1;32m     66\u001b[0m             \u001b[0;32mreturn\u001b[0m \u001b[0;32mTrue\u001b[0m\u001b[0;34m\u001b[0m\u001b[0;34m\u001b[0m\u001b[0m\n\u001b[0;32m---> 67\u001b[0;31m     \u001b[0;32mif\u001b[0m \u001b[0;32mnot\u001b[0m \u001b[0mleft\u001b[0m\u001b[0;34m.\u001b[0m\u001b[0mcrs\u001b[0m \u001b[0;34m==\u001b[0m \u001b[0mright\u001b[0m\u001b[0;34m.\u001b[0m\u001b[0mcrs\u001b[0m\u001b[0;34m:\u001b[0m\u001b[0;34m\u001b[0m\u001b[0;34m\u001b[0m\u001b[0m\n\u001b[0m\u001b[1;32m     68\u001b[0m         \u001b[0;32mreturn\u001b[0m \u001b[0;32mFalse\u001b[0m\u001b[0;34m\u001b[0m\u001b[0;34m\u001b[0m\u001b[0m\n\u001b[1;32m     69\u001b[0m     \u001b[0;32mreturn\u001b[0m \u001b[0;32mTrue\u001b[0m\u001b[0;34m\u001b[0m\u001b[0;34m\u001b[0m\u001b[0m\n",
      "\u001b[0;31mAttributeError\u001b[0m: 'MultiPolygon' object has no attribute 'crs'"
     ]
    }
   ],
   "source": [
    "gpd.overlay(list_multipol,get_public_space().iloc[1,-1],how=\"intersection\")"
   ]
  },
  {
   "cell_type": "code",
   "execution_count": 104,
   "id": "bb6f27cc-cedf-4023-9cd3-5c601c52e3e7",
   "metadata": {
    "tags": []
   },
   "outputs": [],
   "source": [
    "gdf2 = gpd.GeoDataFrame(gpd.GeoSeries(get_public_space().geometry), columns=[\"geometry\"])"
   ]
  },
  {
   "cell_type": "code",
   "execution_count": null,
   "id": "bdc8c61e-494c-4524-bf6a-b8a04933b62b",
   "metadata": {},
   "outputs": [],
   "source": [
    "get_public_space("
   ]
  },
  {
   "cell_type": "code",
   "execution_count": 105,
   "id": "10839a3c-d8e5-459f-ba2f-40f73c3aa170",
   "metadata": {
    "tags": []
   },
   "outputs": [
    {
     "ename": "AttributeError",
     "evalue": "'str' object has no attribute 'crs'",
     "output_type": "error",
     "traceback": [
      "\u001b[0;31m---------------------------------------------------------------------------\u001b[0m",
      "\u001b[0;31mAttributeError\u001b[0m                            Traceback (most recent call last)",
      "\u001b[0;32m<ipython-input-105-f8296b4af590>\u001b[0m in \u001b[0;36m<module>\u001b[0;34m\u001b[0m\n\u001b[1;32m      1\u001b[0m \u001b[0mgdf2\u001b[0m \u001b[0;34m=\u001b[0m \u001b[0mgpd\u001b[0m\u001b[0;34m.\u001b[0m\u001b[0mGeoDataFrame\u001b[0m\u001b[0;34m(\u001b[0m\u001b[0mgpd\u001b[0m\u001b[0;34m.\u001b[0m\u001b[0mGeoSeries\u001b[0m\u001b[0;34m(\u001b[0m\u001b[0mget_public_space\u001b[0m\u001b[0;34m(\u001b[0m\u001b[0;34m)\u001b[0m\u001b[0;34m.\u001b[0m\u001b[0mgeometry\u001b[0m\u001b[0;34m)\u001b[0m\u001b[0;34m,\u001b[0m \u001b[0mcolumns\u001b[0m\u001b[0;34m=\u001b[0m\u001b[0;34m[\u001b[0m\u001b[0;34m\"geometry\"\u001b[0m\u001b[0;34m]\u001b[0m\u001b[0;34m)\u001b[0m\u001b[0;34m\u001b[0m\u001b[0;34m\u001b[0m\u001b[0m\n\u001b[1;32m      2\u001b[0m \u001b[0;32mfor\u001b[0m \u001b[0mi\u001b[0m \u001b[0;32min\u001b[0m \u001b[0mgdf2\u001b[0m\u001b[0;34m:\u001b[0m\u001b[0;34m\u001b[0m\u001b[0;34m\u001b[0m\u001b[0m\n\u001b[0;32m----> 3\u001b[0;31m     \u001b[0mgpd\u001b[0m\u001b[0;34m.\u001b[0m\u001b[0moverlay\u001b[0m\u001b[0;34m(\u001b[0m\u001b[0mradios\u001b[0m\u001b[0;34m,\u001b[0m \u001b[0mi\u001b[0m\u001b[0;34m,\u001b[0m \u001b[0mhow\u001b[0m\u001b[0;34m=\u001b[0m\u001b[0;34m\"intersection\"\u001b[0m\u001b[0;34m)\u001b[0m\u001b[0;34m\u001b[0m\u001b[0;34m\u001b[0m\u001b[0m\n\u001b[0m\u001b[1;32m      4\u001b[0m     \u001b[0mprint\u001b[0m\u001b[0;34m(\u001b[0m\u001b[0mi\u001b[0m\u001b[0;34m)\u001b[0m\u001b[0;34m\u001b[0m\u001b[0;34m\u001b[0m\u001b[0m\n\u001b[1;32m      5\u001b[0m \u001b[0;34m\u001b[0m\u001b[0m\n",
      "\u001b[0;32m~/opt/anaconda3/lib/python3.8/site-packages/geopandas/tools/overlay.py\u001b[0m in \u001b[0;36moverlay\u001b[0;34m(df1, df2, how, keep_geom_type, make_valid)\u001b[0m\n\u001b[1;32m    251\u001b[0m         )\n\u001b[1;32m    252\u001b[0m \u001b[0;34m\u001b[0m\u001b[0m\n\u001b[0;32m--> 253\u001b[0;31m     \u001b[0;32mif\u001b[0m \u001b[0;32mnot\u001b[0m \u001b[0m_check_crs\u001b[0m\u001b[0;34m(\u001b[0m\u001b[0mdf1\u001b[0m\u001b[0;34m,\u001b[0m \u001b[0mdf2\u001b[0m\u001b[0;34m)\u001b[0m\u001b[0;34m:\u001b[0m\u001b[0;34m\u001b[0m\u001b[0;34m\u001b[0m\u001b[0m\n\u001b[0m\u001b[1;32m    254\u001b[0m         \u001b[0m_crs_mismatch_warn\u001b[0m\u001b[0;34m(\u001b[0m\u001b[0mdf1\u001b[0m\u001b[0;34m,\u001b[0m \u001b[0mdf2\u001b[0m\u001b[0;34m,\u001b[0m \u001b[0mstacklevel\u001b[0m\u001b[0;34m=\u001b[0m\u001b[0;36m3\u001b[0m\u001b[0;34m)\u001b[0m\u001b[0;34m\u001b[0m\u001b[0;34m\u001b[0m\u001b[0m\n\u001b[1;32m    255\u001b[0m \u001b[0;34m\u001b[0m\u001b[0m\n",
      "\u001b[0;32m~/opt/anaconda3/lib/python3.8/site-packages/geopandas/array.py\u001b[0m in \u001b[0;36m_check_crs\u001b[0;34m(left, right, allow_none)\u001b[0m\n\u001b[1;32m     65\u001b[0m         \u001b[0;32mif\u001b[0m \u001b[0;32mnot\u001b[0m \u001b[0mleft\u001b[0m\u001b[0;34m.\u001b[0m\u001b[0mcrs\u001b[0m \u001b[0;32mor\u001b[0m \u001b[0;32mnot\u001b[0m \u001b[0mright\u001b[0m\u001b[0;34m.\u001b[0m\u001b[0mcrs\u001b[0m\u001b[0;34m:\u001b[0m\u001b[0;34m\u001b[0m\u001b[0;34m\u001b[0m\u001b[0m\n\u001b[1;32m     66\u001b[0m             \u001b[0;32mreturn\u001b[0m \u001b[0;32mTrue\u001b[0m\u001b[0;34m\u001b[0m\u001b[0;34m\u001b[0m\u001b[0m\n\u001b[0;32m---> 67\u001b[0;31m     \u001b[0;32mif\u001b[0m \u001b[0;32mnot\u001b[0m \u001b[0mleft\u001b[0m\u001b[0;34m.\u001b[0m\u001b[0mcrs\u001b[0m \u001b[0;34m==\u001b[0m \u001b[0mright\u001b[0m\u001b[0;34m.\u001b[0m\u001b[0mcrs\u001b[0m\u001b[0;34m:\u001b[0m\u001b[0;34m\u001b[0m\u001b[0;34m\u001b[0m\u001b[0m\n\u001b[0m\u001b[1;32m     68\u001b[0m         \u001b[0;32mreturn\u001b[0m \u001b[0;32mFalse\u001b[0m\u001b[0;34m\u001b[0m\u001b[0;34m\u001b[0m\u001b[0m\n\u001b[1;32m     69\u001b[0m     \u001b[0;32mreturn\u001b[0m \u001b[0;32mTrue\u001b[0m\u001b[0;34m\u001b[0m\u001b[0;34m\u001b[0m\u001b[0m\n",
      "\u001b[0;31mAttributeError\u001b[0m: 'str' object has no attribute 'crs'"
     ]
    }
   ],
   "source": [
    "gdf2 = gpd.GeoDataFrame(gpd.GeoSeries(get_public_space().geometry), columns=[\"geometry\"])\n",
    "for i in gdf2:\n",
    "    gpd.overlay(radios, i, how=\"intersection\")\n",
    "    print(i)\n",
    "\n",
    "    "
   ]
  },
  {
   "cell_type": "code",
   "execution_count": 115,
   "id": "b12ea8ee-e5f6-41e0-b301-3524ffba4916",
   "metadata": {
    "tags": []
   },
   "outputs": [
    {
     "data": {
      "text/plain": [
       "shapely.geometry.polygon.Polygon"
      ]
     },
     "execution_count": 115,
     "metadata": {},
     "output_type": "execute_result"
    }
   ],
   "source": [
    "type(radios.iloc[0,-1])"
   ]
  },
  {
   "cell_type": "code",
   "execution_count": null,
   "id": "ef47b5be-4e17-4542-a78f-ee5ae21ad472",
   "metadata": {},
   "outputs": [],
   "source": [
    "#leemos la informacion censal de poblacion por radio\n",
    "radios = gpd.read_file('../data/informacion_censal_por_radio_2010.shp')\n",
    "#calculamos la densidad poblaciona l como parametro de interes\n",
    "radios['densidad'] = radios.TOTAL_POB / (radios.geometry.area / 1000)\n",
    "#seleccionamos los atributos de interes\n",
    "radios = radios.reindex(columns=[ 'CO_FRAC_RA', 'COMUNA','TOTAL_POB','densidad','geometry'])\n",
    "#radios.to_file('radios')"
   ]
  },
  {
   "cell_type": "code",
   "execution_count": null,
   "id": "c7c72c4b-ecc0-4c0b-9e36-2e4ad1c114bb",
   "metadata": {},
   "outputs": [],
   "source": [
    "MOVILITY_TYPES = {\"Walk\": 5, \"Car\": 25, \"Bike\": 10, \"Public Transport\": 15}\n",
    "def availability(self) -> None:  # TODO: Cache\n",
    "    with st.container():\n",
    "        col1, col2 = st.columns([1, 3])\n",
    "        with col1:\n",
    "            st.markdown(\n",
    "                \"<h3 style='text-align: left'>Typology</h3>\",\n",
    "                unsafe_allow_html=True,\n",
    "            )\n",
    "            st.write(parques_p.columns)\n",
    "            st.write(get_public_space())\n",
    "            print(parques_p.columns)\n",
    "            park_types = parques_p.clasificac.unique()\n",
    "            mask_dict = {}\n",
    "            for park_type in park_types:\n",
    "                mask_dict[park_type] = st.checkbox(\n",
    "                    park_type.replace(\"/\", \" / \"), True\n",
    "                )\n",
    "                    # bool_mask = parques_p.clasificac.map(mask_dict)\n",
    "            st.markdown(\"----\")\n",
    "            st.markdown(\n",
    "                \"<h3 style='text-align: left'>Mode</h3>\",\n",
    "                unsafe_allow_html=True,\n",
    "            )\n",
    "            movility_type = st.radio(\n",
    "                \"Mode\", MOVILITY_TYPES.keys(), label_visibility=\"collapsed\"\n",
    "            )\n",
    "            speed = MOVILITY_TYPES[movility_type]\n",
    "        with col2:\n",
    "            st.markdown(\n",
    "                \"<h1 style='text-align: center'>Radios Censales</h1>\",\n",
    "                unsafe_allow_html=True,\n",
    "            )\n",
    "            self.plot_kepler(radios)\n",
    "        \n",
    "    with st.container():\n",
    "    col1, col2 = st.columns(2)\n",
    "    # Curva de población según minutos de caminata\n",
    "    with col1:\n",
    "        fig, _ = self.plot_curva_pob_min_cam(radios_p.distancia, speed=speed)\n",
    "        st.pyplot(fig)\n",
    "    # Curva de poblacion segun area del espacio\n",
    "    with col2:\n",
    "        fig, _ = self.plot_curva_caminata_area(\n",
    "            radios_p.geometry, parques_p, speed=speed\n",
    "        )\n",
    "        st.pyplot(fig)\n",
    "\n",
    "\n"
   ]
  }
 ],
 "metadata": {
  "kernelspec": {
   "display_name": "venv",
   "language": "python",
   "name": "venv"
  },
  "language_info": {
   "codemirror_mode": {
    "name": "ipython",
    "version": 3
   },
   "file_extension": ".py",
   "mimetype": "text/x-python",
   "name": "python",
   "nbconvert_exporter": "python",
   "pygments_lexer": "ipython3",
   "version": "3.8.5"
  }
 },
 "nbformat": 4,
 "nbformat_minor": 5
}
